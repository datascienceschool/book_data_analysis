{
 "cells": [
  {
   "cell_type": "markdown",
   "id": "3dec1ad7-097d-455a-95a7-6133e27d0193",
   "metadata": {},
   "source": [
    "# 딥러닝을 사용한 회귀분석과 분류"
   ]
  },
  {
   "cell_type": "markdown",
   "id": "2771cbe3-9068-4499-99b0-e1849a0cfc37",
   "metadata": {},
   "source": [
    "```{tableofcontents}\n",
    "```"
   ]
  }
 ],
 "metadata": {
  "kernelspec": {
   "display_name": "Python 3 (ipykernel)",
   "language": "python",
   "name": "python3"
  },
  "language_info": {
   "codemirror_mode": {
    "name": "ipython",
    "version": 3
   },
   "file_extension": ".py",
   "mimetype": "text/x-python",
   "name": "python",
   "nbconvert_exporter": "python",
   "pygments_lexer": "ipython3",
   "version": "3.9.12"
  }
 },
 "nbformat": 4,
 "nbformat_minor": 5
}
