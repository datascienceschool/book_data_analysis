{
 "cells": [
  {
   "cell_type": "code",
   "execution_count": 1,
   "metadata": {
    "tags": [
     "remove-cell"
    ]
   },
   "outputs": [],
   "source": [
    "%load_ext tikzmagic\n",
    "%matplotlib inline"
   ]
  },
  {
   "cell_type": "markdown",
   "metadata": {},
   "source": [
    "# 카테고리분포와 다항분포"
   ]
  },
  {
   "cell_type": "markdown",
   "metadata": {},
   "source": [
    "## 카테고리분포"
   ]
  },
  {
   "cell_type": "markdown",
   "metadata": {},
   "source": [
    "카테고리분포는 베르누이분포의 확장판이다. 베르누이분포는 두 가지의 값만 가질 수 있지만 카테고리분포는 $1,2,\\ldots,K$까지 $K$($K>0$)개의 값을 가질 수 있다. 예를 들어 주사위를 던져 나오는 숫자는 $K=6$인 카테고리분포를 따른다고 할 수 있다. \n",
    "\n",
    "확률변수 $x$가 카테고리분포를 따르는 경우 다음과 같이 표시한다.\n",
    "\n",
    "$$ x \\sim \\text{Cat}(x) $$\n",
    "\n",
    "위 식에서 $\\text{Cat}(x)$은 카테고리분포의 확률질량함수를 가리키는 기호다."
   ]
  },
  {
   "cell_type": "markdown",
   "metadata": {},
   "source": [
    "### 카테고리분포의 확률분포함수"
   ]
  },
  {
   "cell_type": "markdown",
   "metadata": {},
   "source": [
    "카테고리분포의 확률질량함수 $\\text{Cat}(x)$의 수식은 다음과 같다.\n",
    "\n",
    "$$\n",
    "\\begin{split}\n",
    "\\begin{align}\n",
    "\\text{Cat}(x;\\mu_1,\\mu_2,\\ldots,\\mu_K) = \n",
    "\\begin{cases} \n",
    "\\mu_1 & \\text{if }x=1, \\\\\n",
    "\\mu_2 & \\text{if }x=2, \\\\\n",
    "\\vdots & \\vdots \\\\\n",
    "\\mu_K & \\text{if }x=K, \\\\\n",
    "\\end{cases}\n",
    "\\end{align}\n",
    "\\end{split}\n",
    "$$\n",
    "\n",
    "카테고리분포는 각각 $1,2,\\ldots,K$값이 나올 확률을 나타내는 $\\mu_1,\\mu_2,\\ldots,\\mu_K$라는 $K$개의 모수를 가진다. 예를 들어 공정한 주사위의 경우에는 모든 모수값이 $\\frac{1}{6}$이 된다.\n",
    "\n",
    "$$ \\text{공정한 주사위의 카테고리모수}: \\mu_1 = \\mu_2 = \\mu_3 = \\mu_4 = \\mu_5 = \\mu_6 = \\dfrac{1}{6} $$\n",
    "\n",
    "어떤 경우에도 $\\mu_1,\\mu_2,\\ldots,\\mu_K$를 모두 더하면 1이 되어야 한다. 이 제한조건을 수식으로 표현하면 다음과 같다.\n",
    "\n",
    "$$ \\sum_{i=1}^{K}\\mu_i = 1 $$\n",
    "\n",
    "카테고리분포의 확률질량함수 $\\text{Cat}(x)$도 베르누이분포처럼 하나의 수식으로 표현하는 방법이 있는데 이렇게 하려면 카테고리분포가 생성하는 값이 $1,2,\\ldots,K$와 같은 정수값이 아니라 다음과 같이 0과 1로 이루어진 벡터값\n",
    "\n",
    "$$ x = (x_1, x_2, \\ldots, x_K) $$\n",
    "\n",
    "으로 풀어써야 한다. 예를 들어 주사위와 같이 $K=6$인 카테고리분포는 다음과 같은 값을 가진다고 가정한다.\n",
    "\n",
    "\\begin{split} \n",
    "\\begin{align}\n",
    "\\begin{aligned}\n",
    "x = 1  \\;\\; & \\rightarrow & \\;\\; x = (1, 0, 0, 0, 0, 0) \\\\\n",
    "x = 2  \\;\\; & \\rightarrow & \\;\\; x = (0, 1, 0, 0, 0, 0) \\\\\n",
    "x = 3  \\;\\; & \\rightarrow & \\;\\; x = (0, 0, 1, 0, 0, 0) \\\\\n",
    "x = 4  \\;\\; & \\rightarrow & \\;\\; x = (0, 0, 0, 1, 0, 0) \\\\\n",
    "x = 5  \\;\\; & \\rightarrow & \\;\\; x = (0, 0, 0, 0, 1, 0) \\\\\n",
    "x = 6  \\;\\; & \\rightarrow & \\;\\; x = (0, 0, 0, 0, 0, 1) \\\\\n",
    "\\end{aligned}\n",
    "\\end{align}\n",
    "\\end{split}\n",
    "\n",
    "이렇게 정수 범주값을 0과 1로 이루어진 벡터값으로 바꾸는 작업을 <b>원핫인코딩(one-hot encoding)</b>이라고 한다. 원핫인코딩을 하게되면 카테고리분포의 확률질량함수 $\\text{Cat}$은 다음과 같이 표시한다. \n",
    "\n",
    "$$ \\text{Cat}(x_1, x_2, \\dots, x_K;\\mu_1, \\dots, \\mu_K) $$\n",
    "\n",
    "이렇게 원핫인코딩을 한 경우에는 카테고리분포의 확률질량함수를 다음과 같은 간단한 수식으로 표현할 수 있다.\n",
    "\n",
    "$$ \\text{Cat}(x_1, x_2, \\dots, x_K;\\mu_1, \\dots, \\mu_K) = \\mu_1^{x_1} \\mu_2^{x_2}  \\cdots \\mu_K^{x_K}  =  \\prod_{k=1}^K \\mu_k^{x_k} $$"
   ]
  },
  {
   "cell_type": "markdown",
   "metadata": {},
   "source": [
    "### 카테고리분포의 시뮬레이션"
   ]
  },
  {
   "cell_type": "markdown",
   "metadata": {},
   "source": [
    "scipy 패키지의 stats 서브패키지는 카테고리분포를 시뮬레이션할 수 있는 별도의 클래스를 제공하지 않지만 다음에 설명할 다항분포를 시뮬레이션할 수 있는 클래스 `multinomial`를 제공한다. 이 클래스에서 인수 `n`을 1로 설정하면 카테고리분포를 시뮬레이션할 수 있다. \n",
    "\n",
    "예를 들어 공정한 주사위의 눈금을 나타내는 카테고리분포를 시뮬레이션해보자. 이 카테고리분포의 모수는 다음과 같다. \n",
    "\n",
    "$$K=6$$\n",
    "\n",
    "$$ \\mu_1 = \\mu_2 = \\mu_3 = \\mu_4 = \\mu_5 = \\mu_6 = \\dfrac{1}{6} $$"
   ]
  },
  {
   "cell_type": "code",
   "execution_count": 2,
   "metadata": {},
   "outputs": [
    {
     "data": {
      "text/plain": [
       "<scipy.stats._multivariate.multinomial_frozen at 0x1359402b0>"
      ]
     },
     "execution_count": 2,
     "metadata": {},
     "output_type": "execute_result"
    }
   ],
   "source": [
    "from scipy.stats import multinomial\n",
    "\n",
    "K = 6\n",
    "mu = np.ones(K) / float(K)\n",
    "x = multinomial(n=1, p=mu)\n",
    "x"
   ]
  },
  {
   "cell_type": "markdown",
   "metadata": {},
   "source": [
    "`multinomial` 클래스의 `pmf` 메소드는 확률질량함수를 계산한다. 다만 확률질량함수의 입력값으로는 원핫인코딩된 값을 넣어야 하므로 pandas 패키지의 `get_dummies` 함수를 사용하여 원핫인코딩을 해준다."
   ]
  },
  {
   "cell_type": "code",
   "execution_count": 3,
   "metadata": {},
   "outputs": [
    {
     "data": {
      "text/plain": [
       "array([0, 1, 2, 3, 4, 5])"
      ]
     },
     "execution_count": 3,
     "metadata": {},
     "output_type": "execute_result"
    }
   ],
   "source": [
    "xx = np.arange(K)\n",
    "xx"
   ]
  },
  {
   "cell_type": "code",
   "execution_count": 4,
   "metadata": {},
   "outputs": [
    {
     "data": {
      "text/html": [
       "<div>\n",
       "<style scoped>\n",
       "    .dataframe tbody tr th:only-of-type {\n",
       "        vertical-align: middle;\n",
       "    }\n",
       "\n",
       "    .dataframe tbody tr th {\n",
       "        vertical-align: top;\n",
       "    }\n",
       "\n",
       "    .dataframe thead th {\n",
       "        text-align: right;\n",
       "    }\n",
       "</style>\n",
       "<table border=\"1\" class=\"dataframe\">\n",
       "  <thead>\n",
       "    <tr style=\"text-align: right;\">\n",
       "      <th></th>\n",
       "      <th>0</th>\n",
       "      <th>1</th>\n",
       "      <th>2</th>\n",
       "      <th>3</th>\n",
       "      <th>4</th>\n",
       "      <th>5</th>\n",
       "    </tr>\n",
       "  </thead>\n",
       "  <tbody>\n",
       "    <tr>\n",
       "      <th>0</th>\n",
       "      <td>1</td>\n",
       "      <td>0</td>\n",
       "      <td>0</td>\n",
       "      <td>0</td>\n",
       "      <td>0</td>\n",
       "      <td>0</td>\n",
       "    </tr>\n",
       "    <tr>\n",
       "      <th>1</th>\n",
       "      <td>0</td>\n",
       "      <td>1</td>\n",
       "      <td>0</td>\n",
       "      <td>0</td>\n",
       "      <td>0</td>\n",
       "      <td>0</td>\n",
       "    </tr>\n",
       "    <tr>\n",
       "      <th>2</th>\n",
       "      <td>0</td>\n",
       "      <td>0</td>\n",
       "      <td>1</td>\n",
       "      <td>0</td>\n",
       "      <td>0</td>\n",
       "      <td>0</td>\n",
       "    </tr>\n",
       "    <tr>\n",
       "      <th>3</th>\n",
       "      <td>0</td>\n",
       "      <td>0</td>\n",
       "      <td>0</td>\n",
       "      <td>1</td>\n",
       "      <td>0</td>\n",
       "      <td>0</td>\n",
       "    </tr>\n",
       "    <tr>\n",
       "      <th>4</th>\n",
       "      <td>0</td>\n",
       "      <td>0</td>\n",
       "      <td>0</td>\n",
       "      <td>0</td>\n",
       "      <td>1</td>\n",
       "      <td>0</td>\n",
       "    </tr>\n",
       "    <tr>\n",
       "      <th>5</th>\n",
       "      <td>0</td>\n",
       "      <td>0</td>\n",
       "      <td>0</td>\n",
       "      <td>0</td>\n",
       "      <td>0</td>\n",
       "      <td>1</td>\n",
       "    </tr>\n",
       "  </tbody>\n",
       "</table>\n",
       "</div>"
      ],
      "text/plain": [
       "   0  1  2  3  4  5\n",
       "0  1  0  0  0  0  0\n",
       "1  0  1  0  0  0  0\n",
       "2  0  0  1  0  0  0\n",
       "3  0  0  0  1  0  0\n",
       "4  0  0  0  0  1  0\n",
       "5  0  0  0  0  0  1"
      ]
     },
     "execution_count": 4,
     "metadata": {},
     "output_type": "execute_result"
    }
   ],
   "source": [
    "import pandas as pd\n",
    "\n",
    "xx_ohe = pd.get_dummies(xx)\n",
    "xx_ohe"
   ]
  },
  {
   "cell_type": "code",
   "execution_count": 5,
   "metadata": {},
   "outputs": [
    {
     "data": {
      "text/plain": [
       "array([0.16666667, 0.16666667, 0.16666667, 0.16666667, 0.16666667,\n",
       "       0.16666667])"
      ]
     },
     "execution_count": 5,
     "metadata": {},
     "output_type": "execute_result"
    }
   ],
   "source": [
    "pmf = x.pmf(xx_ohe.values)\n",
    "pmf"
   ]
  },
  {
   "cell_type": "code",
   "execution_count": 6,
   "metadata": {},
   "outputs": [
    {
     "data": {
      "image/png": "[encoded data removed]",
      "text/plain": [
       "<Figure size 432x288 with 1 Axes>"
      ]
     },
     "metadata": {
      "needs_background": "light"
     },
     "output_type": "display_data"
    }
   ],
   "source": [
    "plt.bar(xx, pmf)\n",
    "plt.title(\"$K=6$인 카테고리 분포의 확률질량함수의 예\")\n",
    "plt.show()"
   ]
  },
  {
   "cell_type": "markdown",
   "metadata": {},
   "source": [
    "`rvs` 메서드를 사용하면 시뮬레이션을 통해 표본을 측정할 수 있다. 결과는 원핫인코딩 형식으로 나온다."
   ]
  },
  {
   "cell_type": "code",
   "execution_count": 23,
   "metadata": {},
   "outputs": [
    {
     "data": {
      "text/plain": [
       "array([[0, 0, 0, 0, 0, 1],\n",
       "       [0, 0, 1, 0, 0, 0],\n",
       "       [1, 0, 0, 0, 0, 0],\n",
       "       [0, 0, 0, 0, 1, 0],\n",
       "       [0, 0, 0, 1, 0, 0]])"
      ]
     },
     "execution_count": 23,
     "metadata": {},
     "output_type": "execute_result"
    }
   ],
   "source": [
    "import numpy as np\n",
    "\n",
    "np.random.seed(0)\n",
    "\n",
    "samples_ohe = x.rvs(1000)\n",
    "samples_ohe[:5]"
   ]
  },
  {
   "cell_type": "markdown",
   "metadata": {},
   "source": [
    "원핫인코딩 형식의 값은 numpy의 `argmax` 함수를 이용하여 카테고리 번호로 바꿀 수 있다."
   ]
  },
  {
   "cell_type": "code",
   "execution_count": 24,
   "metadata": {},
   "outputs": [
    {
     "data": {
      "text/plain": [
       "array([5, 2, 0, 4, 3, 1, 0, 2, 3, 3])"
      ]
     },
     "execution_count": 24,
     "metadata": {},
     "output_type": "execute_result"
    }
   ],
   "source": [
    "samples = np.argmax(samples_ohe, axis=1)\n",
    "samples[:10]"
   ]
  },
  {
   "cell_type": "markdown",
   "metadata": {},
   "source": [
    "이 결과는 seaborn 패키지의 `countplot` 함수로 시각화할 수 있다. "
   ]
  },
  {
   "cell_type": "code",
   "execution_count": 25,
   "metadata": {},
   "outputs": [
    {
     "data": {
      "image/png": "[encoded data removed]",
      "text/plain": [
       "<Figure size 432x288 with 1 Axes>"
      ]
     },
     "metadata": {
      "needs_background": "light"
     },
     "output_type": "display_data"
    }
   ],
   "source": [
    "sns.countplot(samples)\n",
    "plt.show()"
   ]
  },
  {
   "cell_type": "markdown",
   "metadata": {},
   "source": [
    "### 카테고리분포의 예"
   ]
  },
  {
   "cell_type": "markdown",
   "metadata": {},
   "source": [
    "범주형 데이터에서 범주의 종류가 3개 이상인 것은 카테고리분포를 따른다. 예를 들어 팁 데이터에서 요일을 나타내는 day 필드는 'Thur', 'Fri', 'Sat', 'Sun' 이렇게 4가지 값을 가지는 범주형 데이터이므로 카테고리분포를 따른다. day 필드의 카테고리분포는 다음과 같이 시각화할 수 있다."
   ]
  },
  {
   "cell_type": "code",
   "execution_count": 7,
   "metadata": {},
   "outputs": [
    {
     "data": {
      "image/png": "[encoded data removed]",
      "text/plain": [
       "<Figure size 432x288 with 1 Axes>"
      ]
     },
     "metadata": {
      "needs_background": "light"
     },
     "output_type": "display_data"
    }
   ],
   "source": [
    "tips = sns.load_dataset(\"tips\")\n",
    "\n",
    "sns.countplot(x=\"day\", data=tips)\n",
    "plt.show()"
   ]
  },
  {
   "cell_type": "markdown",
   "metadata": {},
   "source": [
    "### 카테고리분포의 모수추정"
   ]
  },
  {
   "cell_type": "markdown",
   "metadata": {},
   "source": [
    "카테고리분포의 $K$개의 모수 $\\mu_1,\\mu_2,\\ldots,\\mu_K$의 값은 다음과 같이 추정한다.\n",
    "\n",
    "$$\n",
    "\\hat\\mu_1 = \\dfrac{N_1}{N}, \\,\n",
    "\\hat\\mu_2 = \\dfrac{N_2}{N}, \\,\n",
    "\\cdots, \\,\n",
    "\\hat\\mu_K = \\dfrac{N_K}{N},\n",
    "$$\n",
    "\n",
    "위 식에서 $N_1, N_2, \\ldots, N_K$는 각각 $1, 2, \\ldots, K$번째 범주값이 나온 횟수이고 $N$은 전체 표본 데이터의 개수다.\n",
    "\n",
    "$$ N = N_1 + N_2 + \\cdots + N_K $$\n",
    "\n",
    "팁데이터의 day 필드 데이터에 대해 이 방식으로 모수를 추정하면 다음과 같다. 이 데이터의 경우에는 `Series` 클래스 인스턴스이므로 `normalize` 인수를 `True` 값으로 한 `value_counts` 메서드를 사용하면 한번에 계산할 수 있다. "
   ]
  },
  {
   "cell_type": "code",
   "execution_count": 29,
   "metadata": {},
   "outputs": [
    {
     "data": {
      "text/plain": [
       "Sat     0.356557\n",
       "Sun     0.311475\n",
       "Thur    0.254098\n",
       "Fri     0.077869\n",
       "Name: day, dtype: float64"
      ]
     },
     "execution_count": 29,
     "metadata": {},
     "output_type": "execute_result"
    }
   ],
   "source": [
    "tips.day.value_counts(normalize=True)"
   ]
  },
  {
   "cell_type": "markdown",
   "metadata": {},
   "source": [
    "### 카테고리분포의 모수검정"
   ]
  },
  {
   "cell_type": "code",
   "execution_count": null,
   "metadata": {},
   "outputs": [],
   "source": []
  }
 ],
 "metadata": {
  "kernelspec": {
   "display_name": "Python 3 (ipykernel)",
   "language": "python",
   "name": "python3"
  },
  "language_info": {
   "codemirror_mode": {
    "name": "ipython",
    "version": 3
   },
   "file_extension": ".py",
   "mimetype": "text/x-python",
   "name": "python",
   "nbconvert_exporter": "python",
   "pygments_lexer": "ipython3",
   "version": "3.10.5"
  }
 },
 "nbformat": 4,
 "nbformat_minor": 4
}
