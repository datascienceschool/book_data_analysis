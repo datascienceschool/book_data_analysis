{
 "cells": [
  {
   "cell_type": "code",
   "execution_count": 1,
   "metadata": {
    "tags": [
     "remove-cell"
    ]
   },
   "outputs": [],
   "source": [
    "%load_ext tikzmagic\n",
    "%matplotlib inline"
   ]
  },
  {
   "cell_type": "markdown",
   "metadata": {},
   "source": [
    "# 베르누이분포"
   ]
  },
  {
   "cell_type": "markdown",
   "metadata": {},
   "source": [
    "베르누이분포는 값이 두가지로만 나오는 범주값 확률변수의 확률분포다. 예를 들어 앞 절에서 설명한 팁 데이터에서 성별을 나타내는 sex 필드나 흡연유무를 나타내는 smoker, 그리고 점심/저녁을 나타내는 time 필드는 모두 베르누이분포를 따른다고 할 수 있다. 베르누이분포의 값은 성별일 경우 \"Male/Female\", 흡연유무를 나타내는 경우 \"Yes/No\"같이 문자열이 되는 경우가 많지만 수학적 모형을 위해 이 값을 0과 1이라는 숫자로 바꾸어서 사용하는 경우가 보통이다. 어느 값을 0으로 하고 어느 값을 1로 할지는 분석하는 사람의 마음대로다."
   ]
  },
  {
   "cell_type": "markdown",
   "metadata": {},
   "source": [
    "## 베르누이분포의 확률분포함수"
   ]
  },
  {
   "cell_type": "markdown",
   "metadata": {},
   "source": [
    "확률변수 $x$가 베르누이분포를 따르는 경우 다음과 같이 표시한다.\n",
    "\n",
    "$$ x \\sim \\text{Bern}(x) $$\n",
    "\n",
    "위 식에서 $\\text{Bern}(x)$은 베르누이분포의 확률질량함수를 가리키는 기호다. \n",
    "\n",
    "베르누이분포의 확률질량함수 $\\text{Bern}(x)$의 수식은 다음과 같다.\n",
    "\n",
    "$$\n",
    "\\begin{split}\n",
    "\\begin{align}\n",
    "\\text{Bern}(x;\\mu) = \n",
    "\\begin{cases} \n",
    "\\mu   & \\text{if }x=1, \\\\\n",
    "1-\\mu & \\text{if }x=0\n",
    "\\end{cases}\n",
    "\\end{align}\n",
    "\\end{split}\n",
    "$$\n",
    "\n",
    "이 식에서 $x$의 값이 1이 될 확률을 $\\mu$라는 기호로 표시한다. $x$의 값이 0이 될 확률은 $1-\\mu$가 된다. 위 식에서 베르누이분포의 모수는 $\\mu$ 하나만 있다는 것을 알 수 있다. 모수는 위 식에서 표시하였듯이 확류변수의 값 기호 $x$ 오른쪽에 세미콜론(;) 기호를 붙이고 그 옆에 표시한다. 만약 1과 0이 나올 확률이 같다면 다음과 같이 쓸 수 있다. \n",
    "\n",
    "$$\n",
    "\\begin{split}\n",
    "\\begin{align}\n",
    "\\text{Bern}(x;\\mu) = \n",
    "\\begin{cases} \n",
    "0.5   & \\text{if }x=1, \\\\\n",
    "0.5 & \\text{if }x=0\n",
    "\\end{cases}\n",
    "\\end{align}\n",
    "\\end{split}\n",
    "$$\n",
    "\n",
    "확률질량함수 $\\text{Bern}(x)$을 다음과 같이 쓰기도 한다. 이 식과 위에서 쓴 식은 결과가 같다.\n",
    "\n",
    "$$ \\text{Bern}(x;\\mu) = \\mu^x(1-\\mu)^{(1-x)} $$\n",
    "\n",
    "만약 1과 0이 나올 확률이 같다면 다음과 같이 쓸 수 있다. \n",
    "\n",
    "$$ \\text{Bern}(x;\\mu) = 0.5^x0.5^{(1-x)} $$"
   ]
  },
  {
   "cell_type": "markdown",
   "metadata": {},
   "source": [
    "## 베르누이분포의 예"
   ]
  },
  {
   "cell_type": "markdown",
   "metadata": {},
   "source": [
    "위에서 이야기한대로 팁 데이터에서 성별을 나타내는 sex 데이터는 남성 또는 여성의 두 가지 값만 가지므로 베르누이분포를 따르는 확률변수다. 따라서 다음과 같이 표현할 수 있다. \n",
    "\n",
    "$$ \\text{sex} \\sim \\text{Bern}(x;\\mu_{\\text{sex}}) $$"
   ]
  },
  {
   "cell_type": "code",
   "execution_count": 5,
   "metadata": {},
   "outputs": [],
   "source": [
    "import seaborn as sns\n",
    "import matplotlib.pylab as plt\n",
    "\n",
    "tips = sns.load_dataset(\"tips\")"
   ]
  },
  {
   "cell_type": "code",
   "execution_count": 6,
   "metadata": {},
   "outputs": [
    {
     "data": {
      "image/png": "[encoded data removed]",
      "text/plain": [
       "<Figure size 432x288 with 1 Axes>"
      ]
     },
     "metadata": {
      "needs_background": "light"
     },
     "output_type": "display_data"
    }
   ],
   "source": [
    "sns.countplot(x=\"sex\", data=tips)\n",
    "plt.show()"
   ]
  },
  {
   "cell_type": "markdown",
   "metadata": {},
   "source": [
    "## 베르누이분포의 모수추정"
   ]
  },
  {
   "cell_type": "markdown",
   "metadata": {},
   "source": [
    "베르누이분포는 확률분포함수가 고정된 수식으로 표현된 확률분포모형이므로 모수값 $\\mu$만 알 수 있다면 확률분포함수를 완전히 알아내는 것이다. 그러면 베르누이분포의 모수는 어떤 방법으로 알아낼 수 있을까?"
   ]
  },
  {
   "cell_type": "code",
   "execution_count": null,
   "metadata": {},
   "outputs": [],
   "source": []
  }
 ],
 "metadata": {
  "kernelspec": {
   "display_name": "Python 3 (ipykernel)",
   "language": "python",
   "name": "python3"
  },
  "language_info": {
   "codemirror_mode": {
    "name": "ipython",
    "version": 3
   },
   "file_extension": ".py",
   "mimetype": "text/x-python",
   "name": "python",
   "nbconvert_exporter": "python",
   "pygments_lexer": "ipython3",
   "version": "3.9.12"
  }
 },
 "nbformat": 4,
 "nbformat_minor": 4
}
