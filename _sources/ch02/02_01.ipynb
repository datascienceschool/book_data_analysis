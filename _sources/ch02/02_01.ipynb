{
 "cells": [
  {
   "cell_type": "markdown",
   "metadata": {},
   "source": [
    "# 데이터의 신뢰도"
   ]
  },
  {
   "cell_type": "markdown",
   "metadata": {},
   "source": [
    "우리가 데이터를 얻는 과정은 크게 두 가지로 나누어진다. 하나가 현실세계에서 데이터를 얻는 <b>측정(measure)</b>이고 또 하나는 이미 얻어진 데이터를 기반으로 다른 데이터를 도출하는 <b>계산(computation)</b>이다. \n",
    "여기에서는 일단 측정에 의해 얻어진 데이터만 생각해보자. 측정에 의해 얻어지는 데이터의 대부분은 다음과 같은 특징을 가진다. \n",
    "\n",
    "* 측정할 때 마다 변한다.\n",
    "* 다음번에 다시 측정할 때 어떤 값이 나올지 정확히는 알 수 없다. \n",
    "\n",
    "이러한 특징을 가지는 데이터를 <b>확률적 데이터(probabilistic data, random data)</b>라고 한다. "
   ]
  },
  {
   "cell_type": "markdown",
   "metadata": {},
   "source": []
  }
 ],
 "metadata": {
  "language_info": {
   "name": "python"
  },
  "orig_nbformat": 4
 },
 "nbformat": 4,
 "nbformat_minor": 2
}
