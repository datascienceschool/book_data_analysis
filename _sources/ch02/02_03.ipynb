{
 "cells": [
  {
   "cell_type": "code",
   "execution_count": 1,
   "metadata": {
    "tags": [
     "remove-cell"
    ]
   },
   "outputs": [],
   "source": [
    "%load_ext tikzmagic\n",
    "%matplotlib inline"
   ]
  },
  {
   "cell_type": "markdown",
   "metadata": {},
   "source": [
    "# 확률분포모형을 사용한 확률분포추정"
   ]
  },
  {
   "cell_type": "markdown",
   "metadata": {},
   "source": [
    "앞서 시각적인 방법을 사용한 확률분포추정 방법을 알아보았다. 시각적인 방법을 사용하게되면 직관적이고 수학을 사용할 필요가 없다는 장점이 있지만 이렇게 구한 확률분포가 가장 그럴듯한 확률분포라는 근거를 댈 수 없다는 단점이 있다. 따라서 이제부터는 수학적인 기준에 따라 가장 올바르다고 생각되는 확률분포를 찾는 방법을 설명한다. "
   ]
  },
  {
   "cell_type": "markdown",
   "metadata": {},
   "source": [
    "## 모형"
   ]
  },
  {
   "cell_type": "markdown",
   "metadata": {},
   "source": [
    "<b>모형(model)</b>은 현실의 부정확한 존재를 가상의 이상적 존재라고 가정하는 것이다. 예를 들어 다음 그림을 보자.\n",
    "\n",
    "![도형의 모형](model01.png)\n",
    "\n",
    "이 그림을 보면 모든 사람이 원, 사각형, 삼각형이라고 할 것이다. 하지만 정확한 원, 사각형, 삼각형은 다음과 같은 이상적이고 완벽한 모양을 가져야 한다."
   ]
  },
  {
   "cell_type": "code",
   "execution_count": null,
   "metadata": {
    "tags": [
     "remove-input"
    ]
   },
   "outputs": [],
   "source": [
    "%%tikz -l shapes.symbols -s 1500,300\n",
    "\n",
    "\\draw[black,thick] (0,0) circle (1cm);\n",
    "\\draw[black,thick] (2.5,-1) rectangle (4.5,1);\n",
    "\\draw[black,thick] (5.8,-1)--(7,1)--(8.2,-1)--cycle;"
   ]
  },
  {
   "cell_type": "markdown",
   "metadata": {},
   "source": [
    "사실은 위 그림도 정확한 원, 사각형, 삼각형은 아니다. 수학적인 원, 사각형, 삼각형에서는 선의 두께가 존재하지 않고 0이기 때문이다. 이런 식으로 현실에서는 정확하게 표현되지 않는 현실의 존재를 이상적인 수학적 존재라고 가정하는 것을 모형이라고 한다. "
   ]
  },
  {
   "cell_type": "markdown",
   "metadata": {},
   "source": [
    "## 확률분포모형"
   ]
  },
  {
   "cell_type": "markdown",
   "metadata": {},
   "source": [
    "데이터 분석에서도 모형이 많이 사용된다. 수학적인 확률분포추정을 할 때는 우리가 찾고자 하는 확률변수의 확률분포가 미리 정해놓은 특정한 함수 중 하나라고 가정하는데 이렇게 확률분포의 모양을 미리 함수로 정해놓은 것을 <b>확률분포모형(probability distribution model)</b>이라고 한다."
   ]
  },
  {
   "cell_type": "markdown",
   "metadata": {},
   "source": [
    "수십가지의 다양한 확률분포모형이 존재하지만 그 중 가장 기본적인 확률분포는 다음과 같다.\n",
    "\n",
    "* 범주형 확률분포\n",
    "  * 베르누이분포 \n",
    "  * 카테고리분포\n",
    "  * 이항분포\n",
    "* 수치형 확률분포\n",
    "  * 정규분포\n",
    "  * 스튜던트t분포\n",
    "  * 로그정규분포\n",
    "\n",
    "다음 그림은 위 기본 확률분포모형의 대략적인 분포 모양을 그린 것이다. "
   ]
  },
  {
   "cell_type": "code",
   "execution_count": null,
   "metadata": {
    "tags": [
     "remove-input"
    ]
   },
   "outputs": [],
   "source": [
    "import numpy as np\n",
    "import scipy as sp\n",
    "import matplotlib.pyplot as plt\n",
    "\n",
    "plt.figure(figsize=(20, 3))\n",
    "\n",
    "plt.subplot(1,6,1)\n",
    "xx = [0, 1]\n",
    "plt.bar(xx, sp.stats.bernoulli(0.6).pmf(xx))\n",
    "plt.title(\"베르누이분포\")\n",
    "plt.axis('off')\n",
    "\n",
    "plt.subplot(1,6,2)\n",
    "xx = np.arange(1, 5)\n",
    "plt.bar(xx, sp.stats.multinomial(1, [0.2, 0.2, 0.3, 0.3]).pmf(np.eye(4)))\n",
    "plt.title(\"카테고리분포\")\n",
    "plt.axis('off')\n",
    "\n",
    "plt.subplot(1,6,3)\n",
    "xx = np.arange(0, 11)\n",
    "plt.bar(xx, sp.stats.binom(10, 0.6).pmf(xx))\n",
    "plt.title(\"이항분포\")\n",
    "plt.axis('off')\n",
    "\n",
    "plt.subplot(1,6,4)\n",
    "xx = np.linspace(-5, 5, 100)\n",
    "plt.plot(xx, sp.stats.norm().pdf(xx))\n",
    "plt.title(\"정규분포\")\n",
    "plt.axis('off')\n",
    "\n",
    "plt.subplot(1,6,5)\n",
    "xx = np.linspace(-5, 5, 100)\n",
    "plt.plot(xx, sp.stats.t(1).pdf(xx))\n",
    "plt.title(\"스튜던트t분포\")\n",
    "plt.axis('off')\n",
    "\n",
    "plt.subplot(1,6,6)\n",
    "xx = np.linspace(0.001, 5, 100)\n",
    "plt.plot(xx, sp.stats.lognorm(1).pdf(xx))\n",
    "plt.title(\"로그정규분포\")\n",
    "plt.axis('off')\n",
    "\n",
    "plt.show()"
   ]
  },
  {
   "cell_type": "markdown",
   "metadata": {},
   "source": [
    "## 확률분포모형과 실제 데이터 값 분포의 관계"
   ]
  },
  {
   "cell_type": "markdown",
   "metadata": {},
   "source": [
    "확률변수가 수학적인 확률분포모형을 가진다고 해도 실제 데이터 값의 분포는 이와 정확히 같지 않을 수 있다. "
   ]
  },
  {
   "cell_type": "code",
   "execution_count": null,
   "metadata": {
    "tags": [
     "remove-input"
    ]
   },
   "outputs": [],
   "source": [
    "%%tikz -l shapes.symbols -p pgfplots,kotex -e utf-8 -s 500,500\n",
    "\n",
    "\\node[draw] (v) at (0,6) {확률변수 $x$};\n",
    "\\node[draw, cloud, minimum height=5cm, minimum width=7cm] (d) at (0,0) {};\n",
    "\\draw[->] (v) -- (d);\n",
    "\\node () at (-1.5,3) {표본값};\n",
    "\n",
    "\\node[draw, minimum height=3cm, minimum width=5cm] (pd) at (6,6) {};\n",
    "\\node () at (6,8) {확률분포모형};\n",
    "\\draw (v) -- (pd);\n",
    "\n",
    "\\begin{axis}[hide axis,at={(435,1100)},width=200,height=100]\n",
    "\\addplot[domain=-3e-3:3e-3,samples=201,fill=lightgray]{exp(-x^2 / (2e-3^2)) / (1e-3 * sqrt(2*pi))};\n",
    "\\end{axis}\n",
    "\n",
    "\\draw[fill=lightgray] (-3,-0.7) rectangle (-2,0);\n",
    "\\draw[fill=lightgray] (-2,-0.7) rectangle (-1,1);\n",
    "\\draw[fill=lightgray] (-1,-0.7) rectangle (0,1.5);\n",
    "\\draw[fill=lightgray] (0,-0.7) rectangle (1,1.1);\n",
    "\\draw[fill=lightgray] (1,-0.7) rectangle (2,0.2);\n",
    "\\draw[fill=lightgray] (2,-0.7) rectangle (3,0.4);"
   ]
  },
  {
   "cell_type": "markdown",
   "metadata": {},
   "source": [
    "예를 들어 팁 데이터의 total_bill 확률변수가 로그정규분포라는 확률분포모형을 따른다고 가정하자.\n",
    "이 때 확률분포함수는 왼쪽 그림과 같은 모양을 가진다. 이 확률분포에서 측정한 실제 데이터의 분포는 이와 유사하지만 오른쪽 그림과 같이 원래의 확률분포함수와 유사하지만 정확하게는 같지 않다."
   ]
  },
  {
   "cell_type": "code",
   "execution_count": null,
   "metadata": {},
   "outputs": [],
   "source": [
    "import seaborn as sns\n",
    "\n",
    "tips = sns.load_dataset(\"tips\")\n",
    "\n",
    "plt.figure(figsize=(12,4))\n",
    "\n",
    "plt.subplot(1,2,1)\n",
    "xx = np.linspace(0, 60, 100)\n",
    "s, loc, scale = sp.stats.lognorm.fit(tips[\"total_bill\"])\n",
    "plt.plot(xx, sp.stats.lognorm.pdf(xx, s, loc, scale), lw=5)\n",
    "plt.title(\"확률분포모형\");\n",
    "\n",
    "plt.subplot(1,2,2)\n",
    "sns.histplot(x=\"total_bill\", data=tips, stat=\"density\")\n",
    "plt.xlim(0, 60)\n",
    "plt.title(\"표본분포\")\n",
    "\n",
    "plt.tight_layout()\n",
    "plt.show()"
   ]
  },
  {
   "cell_type": "markdown",
   "metadata": {},
   "source": [
    "## 확률분포모형의 수식과 모수"
   ]
  },
  {
   "cell_type": "markdown",
   "metadata": {},
   "source": [
    "확률분포모형의 공통점은 확률질량함수(pmf)나 확률밀도함수(pdf)가 정확한 수식으로 표현된다는 점이다. 이 수식에는 확률변수가 가질 수 있는 값을 나타내는 $x$라는 기호이외에 몇가지 상수기호가 있는데 이 상수기호들을 <b>모수(parameter)</b>라고 부른다. 확률분포모형의 가장 큰 특징은 이 모수의 값만 알고 있으면 정확히 같은 확률분포함수를 재현할 수 있다는 점이다. \n",
    "\n",
    "위에서 제시한 기본 확률분포모형의 수식과 모수를 다시 정리하면 다음과 같다. \n",
    "\n",
    "| 분포 | 수식 | 모수 |\n",
    "|-|-|-|\n",
    "| 베르누이분포 | $ \\text{Bern}(x;\\mu) = \\mu^x(1-\\mu)^{1-x} $ | $\\mu$ |\n",
    "| 카테고리분포 | $ \\text{Cat}(x;\\mu_1, \\ldots, \\mu_K) = \\prod_{k=1}^K \\mu_k^{x_k} $ | $\\mu_1,\\ldots,\\mu_K$ |\n",
    "| 이항분포 | $ \\text{Bin}(x;\\mu, N) = \\binom N x \\; \\mu^x(1-\\mu)^{N-x} $ | $\\mu$, $N$ |\n",
    "| 정규분포 | $ \\mathcal{N}(x; \\mu, \\sigma^2) = \\dfrac{1}{\\sqrt{2\\pi\\sigma^2}} \\exp \\left(-\\dfrac{(x-\\mu)^2}{2\\sigma^2}\\right) $ | $\\mu, \\sigma^2$ |\n",
    "| 스튜던트t분포 | $ t(x;\\mu, \\lambda, \\nu) = \\frac{\\sqrt{\\lambda}}{\\sqrt{\\nu\\pi}}\\frac{\\Gamma\\left(\\frac{\\nu+1}{2}\\right)} {\\Gamma\\left(\\frac{\\nu}{2}\\right)} \\left(1+\\lambda\\frac{(x-\\mu)^2}{\\nu} \\right)^{-\\frac{\\nu+1}{2}} $ | $\\mu, \\lambda, \\nu$ |\n"
   ]
  },
  {
   "cell_type": "markdown",
   "metadata": {},
   "source": [
    "## 모수추정을 통한 확률분포추정"
   ]
  },
  {
   "cell_type": "markdown",
   "metadata": {},
   "source": [
    "확률분포모형을 사용했을 때 가장 좋은 점은 확률분포함수의 수식이 이미 정해져 있기 때문에 한 두개의 모수값만 알 수 있으면 전체 확률분포를 모두 알 수 있다는 점이다. 따라서 확률분포모형을 사용하는 경우의 확률분포추정은 사실상 <b>모수추정(parameter estimation)</b>이라고 할 수 있다. 이러한 방법을 <b>모수적 확률분포추정(parametric probability distribution estimation)</b>이라고 한다. 모수를 사용하지 않고 확률분포의 모양을 수학적으로 추정하는 <b>비모수적 확률분포추정(non-parametric probability distribution estimation)</b> 방법도 물론 존재한다. 이 방법은 나중에 설명할 것이다. 우선 다음 절부터는 모수추정을 통한 확률분포추정 방법론을 설명한다.."
   ]
  },
  {
   "cell_type": "markdown",
   "metadata": {},
   "source": [
    "이제부터는 위에서 설명한 기본 확률분포모형 각각에 대해 자세히 설명하도록 한다."
   ]
  }
 ],
 "metadata": {
  "kernelspec": {
   "display_name": "Python 3 (ipykernel)",
   "language": "python",
   "name": "python3"
  },
  "language_info": {
   "codemirror_mode": {
    "name": "ipython",
    "version": 3
   },
   "file_extension": ".py",
   "mimetype": "text/x-python",
   "name": "python",
   "nbconvert_exporter": "python",
   "pygments_lexer": "ipython3",
   "version": "3.9.12"
  }
 },
 "nbformat": 4,
 "nbformat_minor": 4
}
