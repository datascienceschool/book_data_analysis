import pandas as pd


pd.read_csv("https://vincentarelbundock.github.io/Rdatasets/csv/AER/Affairs.csv")


import ssl

ssl._create_default_https_context = ssl._create_unverified_context


pd.read_csv("http://www.stern.nyu.edu/~wgreene/Text/Edition7/TableF1-1.csv")


import statsmodels.api as sm


df = sm.datasets.get_rdataset("ArgentinaCPI", "AER").data
df


import pandas_datareader.data as web

web.DataReader('005930', 'naver', start='2019-09-10', end='2019-10-09')
