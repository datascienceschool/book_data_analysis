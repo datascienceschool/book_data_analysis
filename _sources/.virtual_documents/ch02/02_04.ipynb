get_ipython().run_line_magic("load_ext", " tikzmagic")
get_ipython().run_line_magic("matplotlib", " inline")


import seaborn as sns
import matplotlib.pylab as plt

tips = sns.load_dataset("tips")


sns.countplot(x="sex", data=tips)
plt.show()



