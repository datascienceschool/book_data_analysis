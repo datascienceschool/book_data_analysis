get_ipython().run_line_magic("load_ext", " tikzmagic")
get_ipython().run_line_magic("matplotlib", " inline")


import seaborn as sns
import matplotlib.pylab as plt

tips = sns.load_dataset("tips")


sns.countplot(x="sex", data=tips)
plt.show()


vc = (tips["sex"] == "Male").value_counts()
N1, N0 = vc[True], vc[False]
N1, N0


mu_hat = N1 / (N1 + N0)
mu_hat


vc = (tips["sex"][:10] == "Male").value_counts()
N1, N0 = vc[True], vc[False]
N1 / (N1 + N0)


tips["sex"][1:4]



