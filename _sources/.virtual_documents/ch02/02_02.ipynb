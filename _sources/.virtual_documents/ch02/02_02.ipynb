get_ipython().run_line_magic("load_ext", " tikzmagic")
get_ipython().run_line_magic("matplotlib", " inline")


import seaborn as sns


tips = sns.load_dataset("tips")
tips


sns.countplot(x="sex", data=tips)
plt.show()


sns.countplot(x="day", data=tips)
plt.show()


sns.rugplot(x="total_bill", data=tips)
plt.show()


sns.rugplot(x="total_bill", y="tip", data=tips)
plt.show()


sns.histplot(x="total_bill", data=tips)
plt.show()


sns.histplot(x="total_bill", data=tips, bins=5)
plt.show()


import pandas as pd

d1 = pd.DataFrame({"x": [0, 10]}) 
d1


sns.kdeplot(x="x", data=d1, bw_method=0.1)
plt.xlim([-20, 20])
plt.show()


sns.kdeplot(x="x", data=d1, bw_method=0.3)
plt.xlim([-20, 20])
plt.show()


sns.kdeplot(x="x", data=d1, bw_method=0.6)
plt.xlim([-20, 20])
plt.show()


sns.kdeplot(x="x", data=d1, bw_method=1)
plt.xlim([-20, 20])
plt.show()


sns.kdeplot(x="total_bill", data=tips)
plt.show()


x = tips["total_bill"][:12]
x


xs = x.sort_values().reset_index(drop=True)
xs


np.quantile(x, [0.25, 0.5, 0.75])


sns.boxplot(x="total_bill", data=tips)
plt.show()
