get_ipython().run_line_magic("load_ext", " tikzmagic")
get_ipython().run_line_magic("matplotlib", " inline")


import statsmodels.api as sm

df = sm.datasets.get_rdataset("email50", "openintro").data
df = df[["spam", "to_multiple", "from", "re_subj", "exclaim_subj", "urgent_subj"]]
df



