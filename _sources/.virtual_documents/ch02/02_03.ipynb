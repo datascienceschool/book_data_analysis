get_ipython().run_line_magic("load_ext", " tikzmagic")
get_ipython().run_line_magic("matplotlib", " inline")


get_ipython().run_cell_magic("tikz", " -l shapes.symbols -s 1500,300", """
\draw[black,thick] (0,0) circle (1cm);
\draw[black,thick] (2.5,-1) rectangle (4.5,1);
\draw[black,thick] (5.8,-1)--(7,1)--(8.2,-1)--cycle;""")


import numpy as np
import scipy as sp

plt.figure(figsize=(20, 3))

plt.subplot(1,6,1)
xx = [0, 1]
plt.bar(xx, sp.stats.bernoulli(0.6).pmf(xx))
plt.title("베르누이분포")
plt.axis('off')

plt.subplot(1,6,2)
xx = np.arange(1, 5)
plt.bar(xx, sp.stats.multinomial(1, [0.2, 0.2, 0.3, 0.3]).pmf(np.eye(4)))
plt.title("카테고리분포")
plt.axis('off')

plt.subplot(1,6,3)
xx = np.arange(0, 11)
plt.bar(xx, sp.stats.binom(10, 0.6).pmf(xx))
plt.title("이항분포")
plt.axis('off')

plt.subplot(1,6,4)
xx = np.linspace(-5, 5, 100)
plt.plot(xx, sp.stats.norm().pdf(xx))
plt.title("정규분포")
plt.axis('off')

plt.subplot(1,6,5)
xx = np.linspace(-5, 5, 100)
plt.plot(xx, sp.stats.t(1).pdf(xx))
plt.title("스튜던트t분포")
plt.axis('off')

plt.subplot(1,6,6)
xx = np.linspace(0.001, 5, 100)
plt.plot(xx, sp.stats.lognorm(1).pdf(xx))
plt.title("로그정규분포")
plt.axis('off')

plt.show()


get_ipython().run_cell_magic("tikz", " -l shapes.symbols -p pgfplots,kotex -e utf-8 -s 500,500", """
\node[draw] (v) at (0,6) {확률변수 $x$};
\node[draw, cloud, minimum height=5cm, minimum width=7cm] (d) at (0,0) {};
\draw[->] (v) -- (d);
\node () at (-1.5,3) {표본값};

\node[draw, minimum height=3cm, minimum width=5cm] (pd) at (6,6) {};
\node () at (6,8) {확률분포모형};
\draw (v) -- (pd);

\begin{axis}[hide axis,at={(435,1100)},width=200,height=100]
\addplot[domain=-3e-3:3e-3,samples=201,fill=lightgray]{exp(-x^2 / (2e-3^2)) / (1e-3 * sqrt(2*pi))};
\end{axis}

\draw[fill=lightgray] (-3,-0.7) rectangle (-2,0);
\draw[fill=lightgray] (-2,-0.7) rectangle (-1,1);
\draw[fill=lightgray] (-1,-0.7) rectangle (0,1.5);
\draw[fill=lightgray] (0,-0.7) rectangle (1,1.1);
\draw[fill=lightgray] (1,-0.7) rectangle (2,0.2);
\draw[fill=lightgray] (2,-0.7) rectangle (3,0.4);""")


import seaborn as sns

tips = sns.load_dataset("tips")

plt.figure(figsize=(12,4))

plt.subplot(1,2,1)
xx = np.linspace(0, 60, 100)
s, loc, scale = sp.stats.lognorm.fit(tips["total_bill"])
plt.plot(xx, sp.stats.lognorm.pdf(xx, s, loc, scale), lw=5)
plt.title("확률분포모형");

plt.subplot(1,2,2)
sns.histplot(x="total_bill", data=tips, stat="density")
plt.xlim(0, 60)
plt.title("표본분포")

plt.tight_layout()
plt.show()



