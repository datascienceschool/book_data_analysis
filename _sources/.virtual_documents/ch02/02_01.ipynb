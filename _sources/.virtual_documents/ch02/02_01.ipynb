get_ipython().run_line_magic("load_ext", " tikzmagic")
get_ipython().run_line_magic("matplotlib", " inline")


get_ipython().run_cell_magic("tikz", " -l shapes.symbols -p kotex -e utf-8", """
\node[draw] (v) at (0,3) {변수 $x$};
\node[draw, cloud, minimum height=3cm, minimum width=5cm] (d) at (0,0) {};
\node[draw, circle] (d1) at (-1.3,0) {값 $x_1$};
\node[draw, circle] (d2) at (0,0) {값 $x_2$};
\node[draw, circle] (d3) at (1.3,0) {값 $x_3$};
\draw[->] (v) -- (d);""")


get_ipython().run_cell_magic("tikz", " -l shapes.symbols -p kotex -e utf-8", """
\node[draw] (v) at (0,3) {확률변수 $x$};
\node[draw, cloud, minimum height=3cm, minimum width=5cm] (d) at (0,0) {};
\node[draw, circle] (d1) at (-1.3,0) {값 $x_1$};
\node[draw, circle] (d2) at (0,0) {값 $x_2$};
\node[draw, circle] (d3) at (1.3,0) {값 $x_3$};
\draw[->] (v) -- (d);
\node () at (-1.5,1.5) {표본값};

\node[draw] (pd) at (3,3) {확률분포 $p$};
\draw (v) -- (pd);

\node (c1) at (5,-1) {눈으로 볼 수 있다.};
\draw[->, dotted] (c1) -- (d);
\node (c2) at (5,0) {눈으로 볼 수 없다.};
\draw[->, dotted] (c2) -- (pd);""")


get_ipython().run_cell_magic("tikz", " -l shapes.symbols -p kotex -e utf-8", """
\draw (0,0)--(3,0)--(2,1); 
\draw (5,1)--(4,0)--(10,0)--(10, -3)--(8,-3)--(9,-4);
\draw (6,-4)--(7,-3)--(0,-3)--(0,0);
\node (x) at (3.5,2) {\Large 값 $x$};
\node (f) at (5,-1.5) {\Large 확률분포함수 $p(x)$};
\node (y) at (7.5,-5) {\Large 가능성};
\draw[->] (3.5,1.5)--(3.5,-0.5);
\draw[->] (7.5,-2.5)--(7.5,-4.5);""")


get_ipython().run_cell_magic("tikz", " -l shapes.geometric -p kotex -e utf-8", """
\node (domain-title) at (0, 6.5) {일매출액 값};
\node[draw, ellipse, minimum height=6cm, minimum width=2cm] (domain) at (0,3) {};
\node (d1) at (0, 5) {10};
\node (d2) at (0, 4) {20};
\node (d3) at (0, 3) {30};
\node (d4) at (0, 2) {40};
\node (d5) at (0, 1) {50};
\node (range-title) at (3, 6.5) {확률};
\node[draw, ellipse, minimum height=6cm, minimum width=2cm] (range) at (3,3) {};
\node (p1) at (3, 4) {0.1};
\node (p2) at (3, 3) {0.2};
\node (p3) at (3, 2) {0.4};
\draw[->] (d1) -- (p1);
\draw[->] (d2) -- (p2);
\draw[->] (d3) -- (p3);
\draw[->] (d4) -- (p2);
\draw[->] (d5) -- (p1);""")


import pandas as pd

df_pmf = pd.DataFrame({
 "일매출액": [10, 20, 30, 40, 50],
 "확률": [0.1, 0.2, 0.4, 0.2, 0.1],   
})
df_pmf.plot(kind="bar", x="일매출액", y="확률")
plt.title("확률질량함수")
plt.xlabel("일매출액")
plt.ylabel("확률")
plt.show()


from scipy.stats import norm

rv = norm(loc=30, scale=8)
x = np.linspace(0, 60, 100)
plt.plot(x, rv.pdf(x), 'k-', lw=2)
plt.title("확률밀도함수")
plt.xlabel("일매출액")
plt.ylabel("확률밀도")
plt.show()


get_ipython().run_cell_magic("tikz", " -l shapes.symbols -p kotex -e utf-8", """
\node[draw] (v) at (0,3) {확률변수 $x$};
\node[draw, cloud, minimum height=3cm, minimum width=5cm] (d) at (0,0) {};
\node[draw, circle] (d1) at (-1.3,0) {값 $x_1$};
\node[draw, circle] (d2) at (0,0) {값 $x_2$};
\node[draw, circle] (d3) at (1.3,0) {값 $x_3$};
\draw[->] (v) -- (d);
\node () at (-1.5,1.5) {표본값};

\node[draw] (pd) at (3,3) {확률분포함수 $p(x)$};
\draw (v) -- (pd);

\node (c1) at (5,-1) {눈으로 볼 수 있다.};
\draw[->, dotted] (c1) -- (d);
\node (c2) at (5,0) {눈으로 볼 수 없다.};
\draw[->, dotted] (c2) -- (pd);

\draw[->, line width=1mm] (d) -- (pd);
\node () at (3,1.5) {확률분포추정};""")
