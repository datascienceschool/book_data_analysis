get_ipython().run_line_magic("load_ext", " tikzmagic")
get_ipython().run_line_magic("matplotlib", " inline")
