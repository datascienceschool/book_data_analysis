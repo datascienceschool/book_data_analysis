{
 "cells": [
  {
   "cell_type": "code",
   "execution_count": 1,
   "id": "f26b3f7c-c563-4b90-a1c4-3a8c150f1ede",
   "metadata": {
    "tags": [
     "remove-cell"
    ]
   },
   "outputs": [],
   "source": [
    "%load_ext tikzmagic\n",
    "%matplotlib inline"
   ]
  },
  {
   "cell_type": "markdown",
   "id": "42dc79a7-47f3-4ad7-be0d-161007c4e85f",
   "metadata": {},
   "source": [
    "# 회귀분석을 위한 준비"
   ]
  },
  {
   "cell_type": "markdown",
   "id": "494d8510-a5b7-44cb-82b2-5095bf05e4dc",
   "metadata": {},
   "source": [
    "제대로 된 회귀분석을 하기 위해서는 분석 이전 단계에서의 다음과 같은 준비작업이 필요하다. \n",
    "\n",
    "1. 변수의 결정\n",
    "2. 데이터의 수집\n",
    "3. 데이터의 변환\n",
    "4. 데이터 전처리\n",
    "\n",
    "이 절에서는 이러한 준비 과정에 대해 설명한다. "
   ]
  },
  {
   "cell_type": "markdown",
   "id": "2121a25f-b86c-4277-b159-1c23bf2509ba",
   "metadata": {},
   "source": [
    "## 변수의 결정"
   ]
  },
  {
   "cell_type": "markdown",
   "id": "47b151c7-d96e-4930-8f9a-25ce6174afcc",
   "metadata": {},
   "source": [
    "회귀분석을 하기 위한 가장 첫번째 단계는 종속변수와 독립변수를 결정하는 것이다. 즉, 어떤 데이터(종속변수)에 영향을 주는 요소가 무엇무엇(독립변수)이 있을지 찾아내야 한다. 보통 분석의 대상이 되는 종속변수는 결정되어 있는 경우가 많지만 영향을 비치는 독립변수는 분석을 수행하는 사람이 찾아야 한다. 당연하게도 목표가 되는 종속변수에 많은 영향을 끼지는 중요한 독립변수를 찾지 못하면 좋은 분석결과는 나올 수 없다. 이 부분은 컴퓨터나 수학이 대신해 줄 수 없는 부분으로 데이터가 속해있는 분야의 지식과 노하우 그리고 직관에 의해 결정된다. \n",
    "\n",
    "변수가 결정되면 결정된 종속변수를 $y$, 결정된 $K$개의 독립변수를 $x_1, x_2, \\ldots, x_K$라고 이름붙인다. "
   ]
  },
  {
   "cell_type": "markdown",
   "id": "876f7d42-1d33-4bb9-af22-653d51903152",
   "metadata": {},
   "source": [
    "## 데이터의 수집"
   ]
  },
  {
   "cell_type": "markdown",
   "id": "b6341db1-3955-480b-8e2a-320883312649",
   "metadata": {},
   "source": [
    "변수가 결정되면 해당 변수들의 표본값을 수집하는 과정이 필요하다. 사실 실제 데이터 분석 실무에서는 이 과정에 들어가는 시간과 노력이 대부분을 차지할 정도로 중요한 과정이나 여기에서는 이미 수집된 데이터가 존재한다고 가정한다.\n",
    "\n",
    "데이터는 보통 다음과 같은 형식으로 수집된다. 여기에서는 수집된 데이터의 갯수가 $N$개라고 가정한다. $i$번째 레코드의 종속변수 값을 $y_i$, $i$번째 레코드의 $j$번째 독립변수 값을 $x_{ij}$라고 표시한다. \n",
    "\n",
    "\n",
    "|  | 종속변수 $y$ 값 | 독립변수 $x_1$ 값 | 독립변수 $x_2$ 값 | ... | \n",
    "|-|-|-|-|-|\n",
    "| 표본 1 | 수치 $y_1$ | 수치 $x_{11}$ | 수치 $x_{12}$ | ... |\n",
    "| 표본 2 | 수치 $y_2$ | 수치 $x_{21}$ | 수치 $x_{22}$ | ... |\n",
    "| 표본 3 | 수치 $y_3$ | 수치 $x_{31}$ | 수치 $x_{32}$ | ... |\n",
    "| : | : | : | : | ... |\n",
    "| 표본 N | 수치 $y_N$ | 수치 $x_{N1}$ | 수치 $x_{N2}$ | ... |\n",
    "\n"
   ]
  },
  {
   "cell_type": "markdown",
   "id": "0b2545d4-04ea-4a15-875c-6d3bd4edb50a",
   "metadata": {},
   "source": [
    "## 데이터를 벡터와 행렬 형식으로 변환"
   ]
  },
  {
   "cell_type": "markdown",
   "id": "6952a495-c4d5-40a3-a78b-3f28f50a9ace",
   "metadata": {},
   "source": [
    "데이터가 준비되면 다음과 같이 \n",
    "\n",
    "* 종속변수는 벡터 $\\mathbf{y}$ 형식으로 \n",
    "* 독립변수는 행렬 $\\mathbf{X_0}$ 형식으로 \n",
    "\n",
    "변환한다. \n",
    "\n",
    "$$ \n",
    "\\mathbf{y}\n",
    "=\n",
    "\\begin{bmatrix}\n",
    "y_1 \\\\\n",
    "y_2 \\\\\n",
    "\\vdots \\\\\n",
    "y_N \\\\\n",
    "\\end{bmatrix}\n",
    "$$\n",
    "\n",
    "$$ \n",
    "\\mathbf{X_0}\n",
    "=\n",
    "\\begin{bmatrix}\n",
    "x_{11} & x_{12} & \\cdots & x_{1K} \\\\\n",
    "x_{21} & x_{22} & \\cdots & x_{2K} \\\\\n",
    "\\vdots & \\vdots & \\ddots & \\vdots \\\\\n",
    "x_{N1} & x_{N2} & \\cdots & x_{NK} \\\\\n",
    "\\end{bmatrix}\n",
    "$$"
   ]
  },
  {
   "cell_type": "markdown",
   "id": "22c9ff72-fd57-457d-a77b-d3cd4da14a76",
   "metadata": {},
   "source": [
    "## 데이터의 전처리"
   ]
  },
  {
   "cell_type": "markdown",
   "id": "89621809-d599-41f9-9a8d-355db3c39603",
   "metadata": {},
   "source": [
    "이렇게 수집 및 정리된 데이터 값에 대해 다음과 같은 전처리를 거치게 된다.\n",
    "\n",
    "* 잘못된 데이터가 있는지 검사하고 해당 레코드 삭제하거나 정상적인 데이터로 대체\n",
    "* 누락된 데이터가 있는지 검사하고 해당 레코드를 삭제하거나 가상의 데이터로 대체\n",
    "* 상수항 추가\n",
    "* 독립변수 중에 중복 혹은 종속적인 변수가 존재하는지 확인\n",
    "* 독립변수 단위 조정\n"
   ]
  },
  {
   "cell_type": "markdown",
   "id": "3f35a3c3-060f-4275-a3a1-7967318d5acf",
   "metadata": {},
   "source": [
    "### 잘못된 데이터 처리"
   ]
  },
  {
   "cell_type": "markdown",
   "id": "abb88abb-1de4-406a-a2ae-9f8487d1c910",
   "metadata": {},
   "source": [
    "### 누락된 데이터 처리"
   ]
  },
  {
   "cell_type": "markdown",
   "id": "2420f783-d9a9-46af-81f9-749452d8dac5",
   "metadata": {},
   "source": [
    "### 상수항 추가"
   ]
  },
  {
   "cell_type": "markdown",
   "id": "d6c65675-b708-488b-b481-e66d33176bc6",
   "metadata": {},
   "source": [
    "### 독립변수의 독립성 확인"
   ]
  },
  {
   "cell_type": "markdown",
   "id": "daed504c-d09f-48c8-bb7d-7ed0c57b6c5c",
   "metadata": {},
   "source": [
    " 행렬 $\\mathbf{X_0}$의 랭크 검사"
   ]
  },
  {
   "cell_type": "markdown",
   "id": "408e120b-f078-4fd2-8ddc-8d97704e50c0",
   "metadata": {},
   "source": [
    "### 독립변수 단위 조정"
   ]
  },
  {
   "cell_type": "markdown",
   "id": "a9f86183-130c-4f18-858b-4d9b09a528d3",
   "metadata": {},
   "source": [
    "스케일링"
   ]
  },
  {
   "cell_type": "code",
   "execution_count": null,
   "id": "18893c57-5101-4d4d-ad22-c88f1ba49cf4",
   "metadata": {},
   "outputs": [],
   "source": []
  }
 ],
 "metadata": {
  "kernelspec": {
   "display_name": "Python 3 (ipykernel)",
   "language": "python",
   "name": "python3"
  },
  "language_info": {
   "codemirror_mode": {
    "name": "ipython",
    "version": 3
   },
   "file_extension": ".py",
   "mimetype": "text/x-python",
   "name": "python",
   "nbconvert_exporter": "python",
   "pygments_lexer": "ipython3",
   "version": "3.10.5"
  }
 },
 "nbformat": 4,
 "nbformat_minor": 5
}
