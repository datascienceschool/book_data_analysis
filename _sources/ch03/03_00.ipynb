{
 "cells": [
  {
   "cell_type": "markdown",
   "id": "3dec1ad7-097d-455a-95a7-6133e27d0193",
   "metadata": {},
   "source": [
    "# 데이터간의 상관관계를 알아보는 회귀분석"
   ]
  },
  {
   "cell_type": "markdown",
   "id": "2771cbe3-9068-4499-99b0-e1849a0cfc37",
   "metadata": {},
   "source": [
    "```{tableofcontents}\n",
    "```"
   ]
  }
 ],
 "metadata": {
  "kernelspec": {
   "display_name": "Python 3",
   "language": "python",
   "name": "python3"
  },
  "language_info": {
   "codemirror_mode": {
    "name": "ipython",
    "version": 3
   },
   "file_extension": ".py",
   "mimetype": "text/x-python",
   "name": "python",
   "nbconvert_exporter": "python",
   "pygments_lexer": "ipython3",
   "version": "3.8.8"
  }
 },
 "nbformat": 4,
 "nbformat_minor": 5
}
