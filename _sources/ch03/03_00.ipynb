{
 "cells": [
  {
   "cell_type": "markdown",
   "id": "3dec1ad7-097d-455a-95a7-6133e27d0193",
   "metadata": {},
   "source": [
    "# 회귀분석 - 수치형 데이터를 예측한다."
   ]
  },
  {
   "cell_type": "markdown",
   "id": "2771cbe3-9068-4499-99b0-e1849a0cfc37",
   "metadata": {},
   "source": [
    "```{tableofcontents}\n",
    "```"
   ]
  }
 ],
 "metadata": {
  "kernelspec": {
   "display_name": "Python 3 (ipykernel)",
   "language": "python",
   "name": "python3"
  },
  "language_info": {
   "codemirror_mode": {
    "name": "ipython",
    "version": 3
   },
   "file_extension": ".py",
   "mimetype": "text/x-python",
   "name": "python",
   "nbconvert_exporter": "python",
   "pygments_lexer": "ipython3",
   "version": "3.10.5"
  }
 },
 "nbformat": 4,
 "nbformat_minor": 5
}
