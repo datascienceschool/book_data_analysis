{
 "cells": [
  {
   "cell_type": "code",
   "execution_count": 1,
   "id": "f26b3f7c-c563-4b90-a1c4-3a8c150f1ede",
   "metadata": {
    "tags": [
     "remove-cell"
    ]
   },
   "outputs": [],
   "source": [
    "%load_ext tikzmagic\n",
    "%matplotlib inline"
   ]
  },
  {
   "cell_type": "markdown",
   "id": "42dc79a7-47f3-4ad7-be0d-161007c4e85f",
   "metadata": {},
   "source": [
    "# 최소자승법"
   ]
  },
  {
   "cell_type": "markdown",
   "id": "849b6802-b403-4787-98f6-650cf7cbd6f7",
   "metadata": {},
   "source": [
    "이 절에서는 선형회귀분석을 실제로 수행하여 가중치와 예측치를 계산하는 방법의 하나인 <b>최소자승법(OLS: Ordinary Least Square)</b>에 대해 설명한다. 최소자승법은 최적화(optimization) 방법을 사용하여 잔차제곱합 RSS(residual sum of squares)를 최소화하는 가중치 벡터 $\\hat{w}$를 찾아내는 방법이다. \n",
    "\n",
    "이 방법에 의해 찾아낸 최적의 가중치 $\\hat{w}$는 다음 수식으로 계산한다.\n",
    "\n",
    "$$\n",
    "\\hat{w} = (X^TX)^{-1}X^T y \n",
    "$$\n",
    "\n",
    "이 식이 성립하려면 행렬 $X^TX$의 역행렬 $(X^TX)^{-1}$이 존재해야 한다. 이 역행렬은 항상 존재하는 것은 아니고 경우에 따라 존재하지 않을 수도 있다. 이 역행렬이 존재하기 위한 조건에 대해서는 추후 자세히 설명하기로 하고 일단은 역행렬이 존재하여 최적 가중치 $\\hat{w}$를 계산할 수 있다고 가정한다."
   ]
  },
  {
   "cell_type": "markdown",
   "id": "9a189996-9d65-4764-b5b9-e16ffb4895c6",
   "metadata": {},
   "source": [
    "## 최소자승법의 수학적 유도"
   ]
  },
  {
   "cell_type": "markdown",
   "id": "a513eaaf-ac1b-49e8-b547-d37163257dfc",
   "metadata": {},
   "source": [
    "최소자승법을 수학적으로 유도하려면 수학적 최적화(optimzation) 이론과 벡터 및 행렬의 미분을 알고 있어야 한다. 이에 대한 자세한 내용은 저자의 \"데이터사이언스스쿨: 수학편\"을 참조한다.  \n",
    "\n",
    "예측치 벡터 $\\hat{y}$는 다음 수식과 같이 독립변수행렬 $X$와 가중치 벡터 $w$의 곱으로 계산된다.\n",
    "\n",
    "$$\n",
    "\\hat{y} = Xw\n",
    "$$\n",
    "\n",
    "잔차 벡터 $e$는 다음과 같이 정의된다.\n",
    "\n",
    "$$\n",
    "e = y - \\hat{y} = y - Xw\n",
    "$$\n",
    "\n",
    "이 식을 사용하여 잔차제곱합(RSS:residual sum of squares)을 유도하면 다음과 같다.\n",
    "\n",
    "$$\n",
    "\\begin{aligned}\n",
    "\\text{RSS}\n",
    "&= e^Te \\\\\n",
    "&= (y - Xw)^T(y - Xw) \\\\\n",
    "&= y^Ty - 2y^T X w + w^TX^TXw  \n",
    "\\end{aligned}\n",
    "$$\n",
    "\n",
    "최적화의 기본 원리에서 잔차제곱합을 가장 작게하는 가중치는 잔차제곱합 계산식의 기울기 즉, 가중치에 대한 잔차제곱합의 그레디언트(gradient) 벡터를 0으로 하는 가중치를 구하는 것이다. \n",
    "\n",
    "$$\n",
    "\\dfrac{d}{dw}\\text{RSS} = 0\n",
    "$$\n",
    "\n",
    "행렬의 미분을 사용하면 가중치에 대한 잔차제곱합의 그레디언트 벡터는 다음과 같이 계산된다.\n",
    "\n",
    "$$\n",
    "\\;\\; \\dfrac{d}{dw}\\text{RSS} = -2 X^T y + 2 X^TX w \\;\\;\n",
    "$$\n",
    "\n",
    "따라서 최적가중치 $\\hat{w}$ 에서 다음과 같은 방정식이 성립한다.\n",
    "\n",
    "$$\n",
    "X^TX \\hat{w} - X^T y = 0\n",
    "$$\n",
    "\n",
    "또는\n",
    "\n",
    "$$\n",
    "X^TX \\hat{w} = X^T y \n",
    "$$\n",
    "\n",
    "만약 $𝑋^𝑇𝑋$ 행렬의 역행렬이 존재한다면 다음처럼 최적가중치 벡터 $\\hat{w}$를 구할 수 있다.\n",
    "\n",
    "$$\n",
    "\\hat{w} = (X^TX)^{-1}X^T y \n",
    "$$"
   ]
  },
  {
   "cell_type": "markdown",
   "id": "64049ed0-de5a-474a-a38b-c7b0313c1f4f",
   "metadata": {},
   "source": [
    "## numpy 패키지를 사용한 최소자승법 가중치 계산과 예측"
   ]
  },
  {
   "cell_type": "markdown",
   "id": "cc518ac3-321a-4edb-b7be-9b6378bdddc0",
   "metadata": {},
   "source": [
    "앞 절에서 설명한 바와 같이 $X$ 행렬과 $y$ 벡터가 준비되어 있다면 numpy 패키지를 사용하여 다음과 같이 최소자승법 가중치를 계산할 수 있다. \n",
    "\n",
    "여기에서는 팁 데이터에 대해 앞 절에서 준비한 데이터를 사용한다."
   ]
  },
  {
   "cell_type": "code",
   "execution_count": 2,
   "id": "984019e6-9131-46e3-a384-76fb0f4ae691",
   "metadata": {},
   "outputs": [],
   "source": [
    "import seaborn as sns\n",
    "from patsy import dmatrix\n",
    "import numpy as np\n",
    "\n",
    "tips = sns.load_dataset(\"tips\")\n",
    "X = np.asarray(dmatrix(\"scale(total_bill) + scale(size) + C(sex)\", tips))\n",
    "y = tips[\"tip\"].values.reshape(-1, 1)"
   ]
  },
  {
   "cell_type": "markdown",
   "id": "25af7597-c228-4d0f-95cb-556a2dc2eb61",
   "metadata": {},
   "source": [
    "이 때 독립변수행렬 `X`를 얻기 위해 `DesignMatrix` 인스턴스에 numpy `asarray` 함수를 적용하였고 `y`의 경우 1차원 벡터를 2차원 행렬 형태로 변형하기 위해 `reshape` 메서드를 사용하였다. \n",
    "\n",
    "이제 최적가중치 계산식\n",
    "\n",
    "$$\n",
    "\\hat{w} = (X^TX)^{-1}X^T y \n",
    "$$\n",
    "\n",
    "을 다음과 같이 적용한다. 이 코드에서 numpy 패캐지의 linalg 서브패키지가 제공하는 역행렬 계산함수 `inv`를 사용하였다."
   ]
  },
  {
   "cell_type": "code",
   "execution_count": 3,
   "id": "c28c90f9-1713-44f2-9259-4bb24aca5ed1",
   "metadata": {},
   "outputs": [
    {
     "data": {
      "text/plain": [
       "array([[2.98885891],\n",
       "       [0.02641868],\n",
       "       [0.82551828],\n",
       "       [0.18279436]])"
      ]
     },
     "execution_count": 3,
     "metadata": {},
     "output_type": "execute_result"
    }
   ],
   "source": [
    "from numpy.linalg import inv\n",
    "\n",
    "hat_w = inv(X.T @ X) @ X.T @ y\n",
    "hat_w"
   ]
  },
  {
   "cell_type": "markdown",
   "id": "1426f337-30e5-419e-ad5c-ce0fc310cc16",
   "metadata": {},
   "source": [
    "이 값을 사용하여 예측치 $\\hat{y}$를 다음과 같이 계산한다."
   ]
  },
  {
   "cell_type": "code",
   "execution_count": 4,
   "id": "f576fd82-f28c-46c6-ae35-7ec90d5c23c4",
   "metadata": {},
   "outputs": [],
   "source": [
    "hat_y = X @ hat_w"
   ]
  },
  {
   "cell_type": "markdown",
   "id": "4dece581-7ce3-442a-b686-f180eab59d0c",
   "metadata": {},
   "source": [
    "이 값을 원래의 데이터와 비교해하여 잔차를 구해보자"
   ]
  },
  {
   "cell_type": "code",
   "execution_count": 5,
   "id": "876b7652-c9e3-4feb-aeed-9e4558b4f68c",
   "metadata": {},
   "outputs": [
    {
     "data": {
      "text/html": [
       "<div>\n",
       "<style scoped>\n",
       "    .dataframe tbody tr th:only-of-type {\n",
       "        vertical-align: middle;\n",
       "    }\n",
       "\n",
       "    .dataframe tbody tr th {\n",
       "        vertical-align: top;\n",
       "    }\n",
       "\n",
       "    .dataframe thead th {\n",
       "        text-align: right;\n",
       "    }\n",
       "</style>\n",
       "<table border=\"1\" class=\"dataframe\">\n",
       "  <thead>\n",
       "    <tr style=\"text-align: right;\">\n",
       "      <th></th>\n",
       "      <th>y</th>\n",
       "      <th>hat_y</th>\n",
       "      <th>e</th>\n",
       "    </tr>\n",
       "  </thead>\n",
       "  <tbody>\n",
       "    <tr>\n",
       "      <th>0</th>\n",
       "      <td>1.01</td>\n",
       "      <td>2.645766</td>\n",
       "      <td>-1.635766</td>\n",
       "    </tr>\n",
       "    <tr>\n",
       "      <th>1</th>\n",
       "      <td>1.66</td>\n",
       "      <td>2.194015</td>\n",
       "      <td>-0.534015</td>\n",
       "    </tr>\n",
       "    <tr>\n",
       "      <th>2</th>\n",
       "      <td>3.50</td>\n",
       "      <td>3.185475</td>\n",
       "      <td>0.314525</td>\n",
       "    </tr>\n",
       "    <tr>\n",
       "      <th>3</th>\n",
       "      <td>3.31</td>\n",
       "      <td>3.240984</td>\n",
       "      <td>0.069016</td>\n",
       "    </tr>\n",
       "    <tr>\n",
       "      <th>4</th>\n",
       "      <td>3.61</td>\n",
       "      <td>3.737136</td>\n",
       "      <td>-0.127136</td>\n",
       "    </tr>\n",
       "    <tr>\n",
       "      <th>...</th>\n",
       "      <td>...</td>\n",
       "      <td>...</td>\n",
       "      <td>...</td>\n",
       "    </tr>\n",
       "    <tr>\n",
       "      <th>239</th>\n",
       "      <td>5.92</td>\n",
       "      <td>3.930696</td>\n",
       "      <td>1.989304</td>\n",
       "    </tr>\n",
       "    <tr>\n",
       "      <th>240</th>\n",
       "      <td>2.00</td>\n",
       "      <td>3.592624</td>\n",
       "      <td>-1.592624</td>\n",
       "    </tr>\n",
       "    <tr>\n",
       "      <th>241</th>\n",
       "      <td>2.00</td>\n",
       "      <td>3.147135</td>\n",
       "      <td>-1.147135</td>\n",
       "    </tr>\n",
       "    <tr>\n",
       "      <th>242</th>\n",
       "      <td>1.75</td>\n",
       "      <td>2.696471</td>\n",
       "      <td>-0.946471</td>\n",
       "    </tr>\n",
       "    <tr>\n",
       "      <th>243</th>\n",
       "      <td>3.00</td>\n",
       "      <td>2.812093</td>\n",
       "      <td>0.187907</td>\n",
       "    </tr>\n",
       "  </tbody>\n",
       "</table>\n",
       "<p>244 rows × 3 columns</p>\n",
       "</div>"
      ],
      "text/plain": [
       "        y     hat_y         e\n",
       "0    1.01  2.645766 -1.635766\n",
       "1    1.66  2.194015 -0.534015\n",
       "2    3.50  3.185475  0.314525\n",
       "3    3.31  3.240984  0.069016\n",
       "4    3.61  3.737136 -0.127136\n",
       "..    ...       ...       ...\n",
       "239  5.92  3.930696  1.989304\n",
       "240  2.00  3.592624 -1.592624\n",
       "241  2.00  3.147135 -1.147135\n",
       "242  1.75  2.696471 -0.946471\n",
       "243  3.00  2.812093  0.187907\n",
       "\n",
       "[244 rows x 3 columns]"
      ]
     },
     "execution_count": 5,
     "metadata": {},
     "output_type": "execute_result"
    }
   ],
   "source": [
    "import pandas as pd\n",
    "\n",
    "e = y - hat_y\n",
    "df_result = pd.DataFrame({\"y\": y.flatten(), \"hat_y\": hat_y.flatten(), \"e\": e.flatten()})\n",
    "df_result"
   ]
  },
  {
   "cell_type": "markdown",
   "id": "eb2a2384-d74f-45bf-b3b0-f89af301bd35",
   "metadata": {},
   "source": [
    "잔차에 대한 서술적 통계를 계산하면 평균오차는 0에 가깝지만 최대오차는 약 4달러인 것을 알 수 있다."
   ]
  },
  {
   "cell_type": "code",
   "execution_count": 6,
   "id": "e512a667-8006-4604-b2b3-6a4970d8c7bd",
   "metadata": {},
   "outputs": [
    {
     "data": {
      "text/plain": [
       "count    2.440000e+02\n",
       "mean    -2.256847e-16\n",
       "std      1.009249e+00\n",
       "min     -2.921205e+00\n",
       "25%     -5.603338e-01\n",
       "50%     -8.777778e-02\n",
       "75%      5.061815e-01\n",
       "max      4.045499e+00\n",
       "Name: e, dtype: float64"
      ]
     },
     "execution_count": 6,
     "metadata": {},
     "output_type": "execute_result"
    }
   ],
   "source": [
    "df_result.e.describe()"
   ]
  },
  {
   "cell_type": "markdown",
   "id": "ed03ab11-fd7d-481e-9da2-9adbedbad9c7",
   "metadata": {},
   "source": [
    "## statsmodels 패키지를 사용한 최소자승법 가중치 계산과 예측"
   ]
  },
  {
   "cell_type": "markdown",
   "id": "6d345e66-b124-40d1-8581-6ceaf80ea01c",
   "metadata": {},
   "source": [
    "statsmodels 패키지는 최소자승법을 포함한 각종 통계계산을 위한 전문 패키지다. statsmodels 패키지를 사용하면 위에서 수행했던 최소자승법 계산이나 예측을 편리하게 할 수 있는 것은 물론이고 이후에 설명할 가중치 검정을 포함한 각종 추가적인 분석도 자동으로 수행해 준다.\n",
    "\n",
    "statsmodels 패키지를 기반으로 최소자승법을 수행하는 방법은 다음과 같다.\n",
    "\n",
    "우선 `X`, `y` 데이터를 사용하여 `OLS` 클래스 객체를 만든다. 이 때 데이터의 순서에 주의하라."
   ]
  },
  {
   "cell_type": "code",
   "execution_count": 7,
   "id": "05cf343c-ad25-40a5-8bd1-17c1f722a884",
   "metadata": {},
   "outputs": [
    {
     "data": {
      "text/plain": [
       "<statsmodels.regression.linear_model.OLS at 0x134631300>"
      ]
     },
     "execution_count": 7,
     "metadata": {},
     "output_type": "execute_result"
    }
   ],
   "source": [
    "import statsmodels.api as sm\n",
    "\n",
    "model = sm.OLS(y, X)\n",
    "model"
   ]
  },
  {
   "cell_type": "markdown",
   "id": "6171edc8-6bb0-4df1-8f9a-c8f101f9838a",
   "metadata": {},
   "source": [
    "다음으로 `fit` 메서드를 실행하여 분석결과 객체를 만든다."
   ]
  },
  {
   "cell_type": "code",
   "execution_count": 8,
   "id": "97a4ae93-fede-4fd9-8943-3a840ad92762",
   "metadata": {},
   "outputs": [
    {
     "data": {
      "text/plain": [
       "<statsmodels.regression.linear_model.RegressionResultsWrapper at 0x1346318a0>"
      ]
     },
     "execution_count": 8,
     "metadata": {},
     "output_type": "execute_result"
    }
   ],
   "source": [
    "result = model.fit()\n",
    "result"
   ]
  },
  {
   "cell_type": "markdown",
   "id": "6b9a0eab-26ac-4c1c-8560-8d75489e2fda",
   "metadata": {},
   "source": [
    "이 객체의 `summary` 메서드를 사용하면 가중치를 포함한 분석결과를 출력할 수 있다."
   ]
  },
  {
   "cell_type": "code",
   "execution_count": 9,
   "id": "60054dab-2bca-4534-8c44-5e3987195cc6",
   "metadata": {},
   "outputs": [
    {
     "name": "stdout",
     "output_type": "stream",
     "text": [
      "                            OLS Regression Results                            \n",
      "==============================================================================\n",
      "Dep. Variable:                      y   R-squared:                       0.468\n",
      "Model:                            OLS   Adj. R-squared:                  0.461\n",
      "Method:                 Least Squares   F-statistic:                     70.36\n",
      "Date:                Sun, 24 Jul 2022   Prob (F-statistic):           1.11e-32\n",
      "Time:                        16:44:12   Log-Likelihood:                -347.97\n",
      "No. Observations:                 244   AIC:                             703.9\n",
      "Df Residuals:                     240   BIC:                             717.9\n",
      "Df Model:                           3                                         \n",
      "Covariance Type:            nonrobust                                         \n",
      "==============================================================================\n",
      "                 coef    std err          t      P>|t|      [0.025      0.975]\n",
      "------------------------------------------------------------------------------\n",
      "const          2.9889      0.081     36.737      0.000       2.829       3.149\n",
      "x1             0.0264      0.137      0.193      0.847      -0.244       0.297\n",
      "x2             0.8255      0.082     10.104      0.000       0.665       0.986\n",
      "x3             0.1828      0.081      2.253      0.025       0.023       0.343\n",
      "==============================================================================\n",
      "Omnibus:                       25.084   Durbin-Watson:                   2.098\n",
      "Prob(Omnibus):                  0.000   Jarque-Bera (JB):               47.089\n",
      "Skew:                           0.550   Prob(JB):                     5.95e-11\n",
      "Kurtosis:                       4.850   Cond. No.                         2.88\n",
      "==============================================================================\n",
      "\n",
      "Notes:\n",
      "[1] Standard Errors assume that the covariance matrix of the errors is correctly specified.\n"
     ]
    }
   ],
   "source": [
    "print(result.summary())"
   ]
  },
  {
   "cell_type": "markdown",
   "id": "84ff5203-f166-47b4-8977-6bf1d7a5b811",
   "metadata": {},
   "source": [
    "위 출력 결과에서 중앙의 다음 부분이 가중치를 표시하는 부분이다.\n",
    "\n",
    "```\n",
    "=======================\n",
    "                 coef  \n",
    "-----------------------\n",
    "const          2.9889   \n",
    "x1             0.0264   \n",
    "x2             0.8255   \n",
    "x3             0.1828   \n",
    "=======================\n",
    "```\n",
    "\n",
    "이 부분은 각 행이 $\\hat{w}_0, \\hat{w}_1, \\hat{w}_2, \\hat{w}_3$를 표시한다. 즉 다음과 같은 의미다.\n",
    "\n",
    "$$\n",
    "\\begin{aligned}\n",
    "\\hat{w}_0 &= 2.9889 \\\\\n",
    "\\hat{w}_1 &= 0.0264  \\\\\n",
    "\\hat{w}_2 &= 0.8255 \\\\\n",
    "\\hat{w}_3 &= 0.1828 \\\\\n",
    "\\end{aligned}\n",
    "$$"
   ]
  },
  {
   "cell_type": "code",
   "execution_count": null,
   "id": "ec729914-84d5-4f4d-b235-d08b367542a8",
   "metadata": {},
   "outputs": [],
   "source": []
  }
 ],
 "metadata": {
  "kernelspec": {
   "display_name": "Python 3 (ipykernel)",
   "language": "python",
   "name": "python3"
  },
  "language_info": {
   "codemirror_mode": {
    "name": "ipython",
    "version": 3
   },
   "file_extension": ".py",
   "mimetype": "text/x-python",
   "name": "python",
   "nbconvert_exporter": "python",
   "pygments_lexer": "ipython3",
   "version": "3.10.5"
  }
 },
 "nbformat": 4,
 "nbformat_minor": 5
}
