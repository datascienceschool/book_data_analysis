{
 "cells": [
  {
   "cell_type": "code",
   "execution_count": 1,
   "id": "f26b3f7c-c563-4b90-a1c4-3a8c150f1ede",
   "metadata": {
    "tags": [
     "remove-cell"
    ]
   },
   "outputs": [],
   "source": [
    "%load_ext tikzmagic\n",
    "%matplotlib inline"
   ]
  },
  {
   "cell_type": "markdown",
   "id": "42dc79a7-47f3-4ad7-be0d-161007c4e85f",
   "metadata": {},
   "source": [
    "# 스케일링과 다중공선성"
   ]
  },
  {
   "cell_type": "markdown",
   "id": "14d20905-44cc-4b5a-8adc-2dd46f70364d",
   "metadata": {},
   "source": [
    "지금까지 선형회귀분석을 할 때 항상 독립변수값의 평균을 0, 분산을 1로 만드는 스케일링(scaling)을 하도록 권장하였다. 이 절에서는 스케일링이 회귀분석에 어떤 영향을 미치고 왜 필요한 것인지를 설명한다. 또한 독립변수간의 상관관계의 영향도 같이 공부한다."
   ]
  },
  {
   "cell_type": "markdown",
   "id": "858a8ab9-99d9-4323-a18e-98fa8fb14c18",
   "metadata": {},
   "source": [
    "## 스케일링"
   ]
  },
  {
   "cell_type": "markdown",
   "id": "b47c956e-5b7c-447d-aae9-1297d289c135",
   "metadata": {},
   "source": [
    "독립변수의 값은 사용하는 단위에 따라 아주 작은 값이 될 수도 있고 아주 큰 값이 될 수도 있다. 이러한 단위를 재설정하여 독립변수의 평균을 0, 분산을 1로 만드는 작업을 스케일링이라고 한다고 설명하였다. 실제로 보스턴 집값 데이터를 사용하여 스케일링의 영향을 살펴보자.\n",
    "\n",
    "예제로 보스턴 집값 medv 를 두개의 독립변수 tax, nox 로 선형회귀분석을 해본다."
   ]
  },
  {
   "cell_type": "code",
   "execution_count": 2,
   "id": "a9ec5bf0-a4da-4ddb-ae91-40c6fc629432",
   "metadata": {},
   "outputs": [],
   "source": [
    "import statsmodels.api as sm\n",
    "\n",
    "boston = sm.datasets.get_rdataset(\"Boston\", \"MASS\").data"
   ]
  },
  {
   "cell_type": "markdown",
   "id": "2227c540-092f-408c-b7f2-5e66bbee7475",
   "metadata": {},
   "source": [
    "우선 스케일링을 한 회귀분석 결과는 다음과 같다."
   ]
  },
  {
   "cell_type": "code",
   "execution_count": 3,
   "id": "3757b07f-ac3a-4c99-b29d-589712a67982",
   "metadata": {},
   "outputs": [
    {
     "name": "stdout",
     "output_type": "stream",
     "text": [
      "                            OLS Regression Results                            \n",
      "==============================================================================\n",
      "Dep. Variable:                   medv   R-squared:                       0.243\n",
      "Model:                            OLS   Adj. R-squared:                  0.240\n",
      "Method:                 Least Squares   F-statistic:                     80.79\n",
      "Date:                Sat, 13 Aug 2022   Prob (F-statistic):           3.75e-31\n",
      "Time:                        16:26:20   Log-Likelihood:                -1769.8\n",
      "No. Observations:                 506   AIC:                             3546.\n",
      "Df Residuals:                     503   BIC:                             3558.\n",
      "Df Model:                           2                                         \n",
      "Covariance Type:            nonrobust                                         \n",
      "==============================================================================\n",
      "                 coef    std err          t      P>|t|      [0.025      0.975]\n",
      "------------------------------------------------------------------------------\n",
      "Intercept     22.5328      0.356     63.222      0.000      21.833      23.233\n",
      "scale(tax)    -3.0377      0.479     -6.342      0.000      -3.979      -2.097\n",
      "scale(nox)    -1.8970      0.479     -3.961      0.000      -2.838      -0.956\n",
      "==============================================================================\n",
      "Omnibus:                      187.216   Durbin-Watson:                   0.669\n",
      "Prob(Omnibus):                  0.000   Jarque-Bera (JB):              584.265\n",
      "Skew:                           1.773   Prob(JB):                    1.34e-127\n",
      "Kurtosis:                       6.891   Cond. No.                         2.24\n",
      "==============================================================================\n",
      "\n",
      "Notes:\n",
      "[1] Standard Errors assume that the covariance matrix of the errors is correctly specified.\n"
     ]
    }
   ],
   "source": [
    "formula_scaled = \"medv ~ scale(tax) + scale(nox)\"\n",
    "result_scaled = sm.OLS.from_formula(formula_scaled, boston).fit()\n",
    "print(result_scaled.summary())"
   ]
  },
  {
   "cell_type": "markdown",
   "id": "b5592987-9194-4c7a-be06-323127242b18",
   "metadata": {},
   "source": [
    "이번에는 스케일링을 하지 않는 결과를 살펴보자."
   ]
  },
  {
   "cell_type": "code",
   "execution_count": 4,
   "id": "a7ad4368-6383-45d9-8f26-75ee65a85731",
   "metadata": {},
   "outputs": [
    {
     "name": "stdout",
     "output_type": "stream",
     "text": [
      "                            OLS Regression Results                            \n",
      "==============================================================================\n",
      "Dep. Variable:                   medv   R-squared:                       0.243\n",
      "Model:                            OLS   Adj. R-squared:                  0.240\n",
      "Method:                 Least Squares   F-statistic:                     80.79\n",
      "Date:                Sat, 13 Aug 2022   Prob (F-statistic):           3.75e-31\n",
      "Time:                        16:26:20   Log-Likelihood:                -1769.8\n",
      "No. Observations:                 506   AIC:                             3546.\n",
      "Df Residuals:                     503   BIC:                             3558.\n",
      "Df Model:                           2                                         \n",
      "Covariance Type:            nonrobust                                         \n",
      "==============================================================================\n",
      "                 coef    std err          t      P>|t|      [0.025      0.975]\n",
      "------------------------------------------------------------------------------\n",
      "Intercept     38.9878      1.784     21.857      0.000      35.483      42.492\n",
      "tax           -0.0180      0.003     -6.342      0.000      -0.024      -0.012\n",
      "nox          -16.3868      4.137     -3.961      0.000     -24.515      -8.258\n",
      "==============================================================================\n",
      "Omnibus:                      187.216   Durbin-Watson:                   0.669\n",
      "Prob(Omnibus):                  0.000   Jarque-Bera (JB):              584.265\n",
      "Skew:                           1.773   Prob(JB):                    1.34e-127\n",
      "Kurtosis:                       6.891   Cond. No.                     5.48e+03\n",
      "==============================================================================\n",
      "\n",
      "Notes:\n",
      "[1] Standard Errors assume that the covariance matrix of the errors is correctly specified.\n",
      "[2] The condition number is large, 5.48e+03. This might indicate that there are\n",
      "strong multicollinearity or other numerical problems.\n"
     ]
    }
   ],
   "source": [
    "formula_notscaled = \"medv ~ tax + nox\"\n",
    "result_notscaled = sm.OLS.from_formula(formula_notscaled, boston).fit()\n",
    "print(result_notscaled.summary())"
   ]
  },
  {
   "cell_type": "markdown",
   "id": "1cfce587-df2e-4ec6-80b7-0a91b9f40bb6",
   "metadata": {},
   "source": [
    "두 회귀분석 결과 요약을 비교하면 결정계수를 포함한 모든 성능 값이나 가중치의 유의확률등이 동일한 것을 알 수 있다. 물론 독립변수의 값이 다르므로 가중치 자체의 값은 달라지지만 스케일링 시에 독립변수 값이 커진(혹은 작아진)만큼 가중치가 작아(커)지므로 실질적으로는 차이가 없다. 실제로 두가지 결과 객체로 예측을 해보아도 예측값은 같아진다. \n",
    "\n",
    "실질적인 차이가 있는 부분은 우측 하단에 표시된 `Cond. No.` 라는 값과 새롭게 나타난 두번째 주의사항이다. \n",
    "\n",
    "\n",
    "<span class=\"caption\">[스케일을 한 경우의 결과]</span>\n",
    "```\n",
    "                            OLS Regression Results                            \n",
    "==============================================================================\n",
    "\n",
    "\n",
    "\n",
    "\n",
    "                                        Cond. No.                         2.24\n",
    "==============================================================================\n",
    "```\n",
    "\n",
    "\n",
    "<span class=\"caption\">[스케일을 하지 않은 경우의 결과]</span>\n",
    "```\n",
    "                            OLS Regression Results                            \n",
    "==============================================================================\n",
    "\n",
    "\n",
    "\n",
    "\n",
    "                                        Cond. No.                     5.48e+03\n",
    "==============================================================================\n",
    "Notes:\n",
    "\n",
    "[2] The condition number is large, 5.48e+03. This might indicate that there are\n",
    "strong multicollinearity or other numerical problems.\n",
    "```\n",
    "\n",
    "`Cond. No.` 라는 값은 <b>조건수(condition number)</b>라는 값이다. 조건수는 가중치를 구할 때 사용하는 다음 수식\n",
    "\n",
    "$$\n",
    "\\hat{w} = (X^TX)^{-1}X^T y\n",
    "$$\n",
    "\n",
    "에서 $X^TX$ 행렬의 가장 작은 고유값(eigen-value) $\\lambda_{\\text{min}}$와 가장 큰 고유값 $\\lambda_{\\text{max}}$의 비율을 나타낸다.\n",
    "\n",
    "$$\n",
    "\\text{조건수(condition number)} = \\dfrac{\\lambda_{\\text{max}}}{\\lambda_{\\text{min}}}\n",
    "$$\n",
    "\n",
    "스케일링을 하지 않은 경우에 나타난 주의사항을 해석하면 다음과 같다.\n",
    "\n",
    "```\n",
    "[2] 조건수가 5,480으로 크다. 이는 강한 다중공선성이 있거나 수치적인 문제가 있다는 것을 의미할 수 있다. \n",
    "```\n",
    "\n",
    "\n",
    "선형회귀분석에서 조건수는 선형회귀분석 결과의 <b>수치적 안정성(numerical stability)</b>을 나타내는 값이다. 수치적 안정성이라는 것은 우리가 선형회귀분석에 사용한 독립변수값에 오류가 있었을 경우 이 오류에 얼마나 민감하게 반응하는가를 나타낸다.\n",
    "\n",
    "우리가 분석에 사용하는 독립변수의 값은 측정에 의한 것이므로 반올림 오차 등을 포함한 노이즈(noise) 오차를 항상 어느정도 가지게 된다. 조건수가 크면 수치적 안정성이 떨어져 오차에 대해 더 민감하게 반응한다.\n",
    "\n",
    "예시를 위해 우리가 가진 보스턴 집값 데이터에 일부러 어느정도 노이즈 오차를 추가해 보았다."
   ]
  },
  {
   "cell_type": "code",
   "execution_count": 5,
   "id": "7737c9af-a4b4-406f-a11f-6a588f2a3084",
   "metadata": {},
   "outputs": [
    {
     "data": {
      "text/html": [
       "<div>\n",
       "<style scoped>\n",
       "    .dataframe tbody tr th:only-of-type {\n",
       "        vertical-align: middle;\n",
       "    }\n",
       "\n",
       "    .dataframe tbody tr th {\n",
       "        vertical-align: top;\n",
       "    }\n",
       "\n",
       "    .dataframe thead tr th {\n",
       "        text-align: left;\n",
       "    }\n",
       "</style>\n",
       "<table border=\"1\" class=\"dataframe\">\n",
       "  <thead>\n",
       "    <tr>\n",
       "      <th></th>\n",
       "      <th colspan=\"3\" halign=\"left\">원본</th>\n",
       "      <th colspan=\"3\" halign=\"left\">노이즈 오차 추가</th>\n",
       "    </tr>\n",
       "    <tr>\n",
       "      <th></th>\n",
       "      <th>nox</th>\n",
       "      <th>tax</th>\n",
       "      <th>medv</th>\n",
       "      <th>nox</th>\n",
       "      <th>tax</th>\n",
       "      <th>medv</th>\n",
       "    </tr>\n",
       "  </thead>\n",
       "  <tbody>\n",
       "    <tr>\n",
       "      <th>0</th>\n",
       "      <td>0.538</td>\n",
       "      <td>296</td>\n",
       "      <td>24.0</td>\n",
       "      <td>0.542639</td>\n",
       "      <td>297.624488</td>\n",
       "      <td>24.0</td>\n",
       "    </tr>\n",
       "    <tr>\n",
       "      <th>1</th>\n",
       "      <td>0.469</td>\n",
       "      <td>242</td>\n",
       "      <td>21.6</td>\n",
       "      <td>0.469228</td>\n",
       "      <td>243.730758</td>\n",
       "      <td>21.6</td>\n",
       "    </tr>\n",
       "    <tr>\n",
       "      <th>2</th>\n",
       "      <td>0.469</td>\n",
       "      <td>242</td>\n",
       "      <td>34.7</td>\n",
       "      <td>0.470190</td>\n",
       "      <td>243.458687</td>\n",
       "      <td>34.7</td>\n",
       "    </tr>\n",
       "    <tr>\n",
       "      <th>3</th>\n",
       "      <td>0.458</td>\n",
       "      <td>222</td>\n",
       "      <td>33.4</td>\n",
       "      <td>0.460043</td>\n",
       "      <td>223.209641</td>\n",
       "      <td>33.4</td>\n",
       "    </tr>\n",
       "    <tr>\n",
       "      <th>4</th>\n",
       "      <td>0.458</td>\n",
       "      <td>222</td>\n",
       "      <td>36.2</td>\n",
       "      <td>0.458479</td>\n",
       "      <td>222.940514</td>\n",
       "      <td>36.2</td>\n",
       "    </tr>\n",
       "    <tr>\n",
       "      <th>...</th>\n",
       "      <td>...</td>\n",
       "      <td>...</td>\n",
       "      <td>...</td>\n",
       "      <td>...</td>\n",
       "      <td>...</td>\n",
       "      <td>...</td>\n",
       "    </tr>\n",
       "    <tr>\n",
       "      <th>501</th>\n",
       "      <td>0.573</td>\n",
       "      <td>273</td>\n",
       "      <td>22.4</td>\n",
       "      <td>0.573176</td>\n",
       "      <td>274.018385</td>\n",
       "      <td>22.4</td>\n",
       "    </tr>\n",
       "    <tr>\n",
       "      <th>502</th>\n",
       "      <td>0.573</td>\n",
       "      <td>273</td>\n",
       "      <td>20.6</td>\n",
       "      <td>0.574286</td>\n",
       "      <td>274.433169</td>\n",
       "      <td>20.6</td>\n",
       "    </tr>\n",
       "    <tr>\n",
       "      <th>503</th>\n",
       "      <td>0.573</td>\n",
       "      <td>273</td>\n",
       "      <td>23.9</td>\n",
       "      <td>0.578465</td>\n",
       "      <td>275.049124</td>\n",
       "      <td>23.9</td>\n",
       "    </tr>\n",
       "    <tr>\n",
       "      <th>504</th>\n",
       "      <td>0.573</td>\n",
       "      <td>273</td>\n",
       "      <td>22.0</td>\n",
       "      <td>0.576337</td>\n",
       "      <td>273.910475</td>\n",
       "      <td>22.0</td>\n",
       "    </tr>\n",
       "    <tr>\n",
       "      <th>505</th>\n",
       "      <td>0.573</td>\n",
       "      <td>273</td>\n",
       "      <td>11.9</td>\n",
       "      <td>0.573616</td>\n",
       "      <td>275.522953</td>\n",
       "      <td>11.9</td>\n",
       "    </tr>\n",
       "  </tbody>\n",
       "</table>\n",
       "<p>506 rows × 6 columns</p>\n",
       "</div>"
      ],
      "text/plain": [
       "        원본            노이즈 오차 추가                  \n",
       "       nox  tax  medv       nox         tax  medv\n",
       "0    0.538  296  24.0  0.542639  297.624488  24.0\n",
       "1    0.469  242  21.6  0.469228  243.730758  21.6\n",
       "2    0.469  242  34.7  0.470190  243.458687  34.7\n",
       "3    0.458  222  33.4  0.460043  223.209641  33.4\n",
       "4    0.458  222  36.2  0.458479  222.940514  36.2\n",
       "..     ...  ...   ...       ...         ...   ...\n",
       "501  0.573  273  22.4  0.573176  274.018385  22.4\n",
       "502  0.573  273  20.6  0.574286  274.433169  20.6\n",
       "503  0.573  273  23.9  0.578465  275.049124  23.9\n",
       "504  0.573  273  22.0  0.576337  273.910475  22.0\n",
       "505  0.573  273  11.9  0.573616  275.522953  11.9\n",
       "\n",
       "[506 rows x 6 columns]"
      ]
     },
     "execution_count": 5,
     "metadata": {},
     "output_type": "execute_result"
    }
   ],
   "source": [
    "from numpy.random import seed, rand\n",
    "\n",
    "boston_nox_tax = boston[[\"nox\", \"tax\", \"medv\"]]\n",
    "boston_noise = boston_nox_tax.copy()\n",
    "seed(0)\n",
    "boston_noise[\"tax\"] += boston_noise[\"tax\"] * np.random.rand(len(boston_nox_tax)) * 0.01\n",
    "boston_noise[\"nox\"] += boston_noise[\"nox\"] * np.random.rand(len(boston_nox_tax)) * 0.01\n",
    "\n",
    "pd.concat([boston_nox_tax, boston_noise], axis=1, keys=[\"원본\", \"노이즈 오차 추가\"])"
   ]
  },
  {
   "cell_type": "markdown",
   "id": "d98e9cb1-8376-450c-90bb-c03837ef22b6",
   "metadata": {},
   "source": [
    "이렇게 오차를 추가한 값으로 다시 선형회귀분석을 하여 가중치가 얼마나 달라지는지 살펴보자."
   ]
  },
  {
   "cell_type": "code",
   "execution_count": 6,
   "id": "84b982bd-850f-45c9-9b0f-e65d38b7b529",
   "metadata": {},
   "outputs": [],
   "source": [
    "result_scaled_noise = sm.OLS.from_formula(formula_scaled, boston_noise).fit()\n",
    "result_notscaled_noise = sm.OLS.from_formula(formula_notscaled, boston_noise).fit()"
   ]
  },
  {
   "cell_type": "markdown",
   "id": "e0944607-1bc0-475f-b1fd-c7bd5755e353",
   "metadata": {},
   "source": [
    "스케일링을 한 경우에는 tax, nox의 가중치가 각각 5%, -6% 정도 변화하였다."
   ]
  },
  {
   "cell_type": "code",
   "execution_count": 7,
   "id": "a272282d-8f78-4408-85f2-00308755c9b4",
   "metadata": {},
   "outputs": [
    {
     "data": {
      "text/html": [
       "<div>\n",
       "<style scoped>\n",
       "    .dataframe tbody tr th:only-of-type {\n",
       "        vertical-align: middle;\n",
       "    }\n",
       "\n",
       "    .dataframe tbody tr th {\n",
       "        vertical-align: top;\n",
       "    }\n",
       "\n",
       "    .dataframe thead th {\n",
       "        text-align: right;\n",
       "    }\n",
       "</style>\n",
       "<table border=\"1\" class=\"dataframe\">\n",
       "  <thead>\n",
       "    <tr style=\"text-align: right;\">\n",
       "      <th></th>\n",
       "      <th>원본 데이터를 사용한 경우</th>\n",
       "      <th>노이즈 오차가 있는 경우</th>\n",
       "      <th>가중치 오류(%)</th>\n",
       "    </tr>\n",
       "  </thead>\n",
       "  <tbody>\n",
       "    <tr>\n",
       "      <th>Intercept</th>\n",
       "      <td>22.532806</td>\n",
       "      <td>22.532806</td>\n",
       "      <td>0.000000</td>\n",
       "    </tr>\n",
       "    <tr>\n",
       "      <th>scale(tax)</th>\n",
       "      <td>-3.037683</td>\n",
       "      <td>-3.036102</td>\n",
       "      <td>0.052051</td>\n",
       "    </tr>\n",
       "    <tr>\n",
       "      <th>scale(nox)</th>\n",
       "      <td>-1.896985</td>\n",
       "      <td>-1.898227</td>\n",
       "      <td>-0.065452</td>\n",
       "    </tr>\n",
       "  </tbody>\n",
       "</table>\n",
       "</div>"
      ],
      "text/plain": [
       "            원본 데이터를 사용한 경우  노이즈 오차가 있는 경우  가중치 오류(%)\n",
       "Intercept        22.532806      22.532806   0.000000\n",
       "scale(tax)       -3.037683      -3.036102   0.052051\n",
       "scale(nox)       -1.896985      -1.898227  -0.065452"
      ]
     },
     "execution_count": 7,
     "metadata": {},
     "output_type": "execute_result"
    }
   ],
   "source": [
    "error_scaled = (result_scaled.params - result_scaled_noise.params) / result_scaled.params * 100\n",
    "pd.concat([result_scaled.params, result_scaled_noise.params, error_scaled], \n",
    "          axis=1, keys=[\"원본 데이터를 사용한 경우\", \"노이즈 오차가 있는 경우\", \"가중치 오류(%)\"])"
   ]
  },
  {
   "cell_type": "markdown",
   "id": "e22809a1-8a54-4c80-bdbf-d816946952a2",
   "metadata": {},
   "source": [
    "하지만 스케일링을 하지 않은 경우에는 tax, nox의 가중치가 각각 59%, 45% 정도 변화하였다."
   ]
  },
  {
   "cell_type": "code",
   "execution_count": 8,
   "id": "652f4d24-97f3-4925-b08e-b263d85dba75",
   "metadata": {},
   "outputs": [
    {
     "data": {
      "text/html": [
       "<div>\n",
       "<style scoped>\n",
       "    .dataframe tbody tr th:only-of-type {\n",
       "        vertical-align: middle;\n",
       "    }\n",
       "\n",
       "    .dataframe tbody tr th {\n",
       "        vertical-align: top;\n",
       "    }\n",
       "\n",
       "    .dataframe thead th {\n",
       "        text-align: right;\n",
       "    }\n",
       "</style>\n",
       "<table border=\"1\" class=\"dataframe\">\n",
       "  <thead>\n",
       "    <tr style=\"text-align: right;\">\n",
       "      <th></th>\n",
       "      <th>원본 데이터를 사용한 경우</th>\n",
       "      <th>노이즈 오차가 있는 경우</th>\n",
       "      <th>가중치 오류(%)</th>\n",
       "    </tr>\n",
       "  </thead>\n",
       "  <tbody>\n",
       "    <tr>\n",
       "      <th>Intercept</th>\n",
       "      <td>38.987751</td>\n",
       "      <td>38.984622</td>\n",
       "      <td>0.008025</td>\n",
       "    </tr>\n",
       "    <tr>\n",
       "      <th>tax</th>\n",
       "      <td>-0.018042</td>\n",
       "      <td>-0.017935</td>\n",
       "      <td>0.590006</td>\n",
       "    </tr>\n",
       "    <tr>\n",
       "      <th>nox</th>\n",
       "      <td>-16.386784</td>\n",
       "      <td>-16.312490</td>\n",
       "      <td>0.453375</td>\n",
       "    </tr>\n",
       "  </tbody>\n",
       "</table>\n",
       "</div>"
      ],
      "text/plain": [
       "           원본 데이터를 사용한 경우  노이즈 오차가 있는 경우  가중치 오류(%)\n",
       "Intercept       38.987751      38.984622   0.008025\n",
       "tax             -0.018042      -0.017935   0.590006\n",
       "nox            -16.386784     -16.312490   0.453375"
      ]
     },
     "execution_count": 8,
     "metadata": {},
     "output_type": "execute_result"
    }
   ],
   "source": [
    "error_notscaled = (result_notscaled.params - result_notscaled_noise.params) / result_notscaled.params * 100\n",
    "pd.concat([result_notscaled.params, result_notscaled_noise.params, error_notscaled], \n",
    "          axis=1, keys=[\"원본 데이터를 사용한 경우\", \"노이즈 오차가 있는 경우\", \"가중치 오류(%)\"])"
   ]
  },
  {
   "cell_type": "markdown",
   "id": "37ee7903-ba34-4f2c-8a2b-734f5d7df8bb",
   "metadata": {},
   "source": [
    "따라서 일반적인 경우에는 모든 독립변수에 대해 스케일링을 하는 것이 안전하고 권장된다."
   ]
  },
  {
   "cell_type": "markdown",
   "id": "247bcbea-3298-4556-8539-f5de23b8088b",
   "metadata": {},
   "source": [
    "## 다중공선성"
   ]
  },
  {
   "cell_type": "markdown",
   "id": "c84dc8f1-d6ce-4a64-9478-4825fb7beb69",
   "metadata": {},
   "source": [
    "다음으로 스케일링을 하지 않았을 때 나타난 주의사항에서 언급된 \"다중공선성\"이란 용어에 대해 설명한다. <b>다중공선성(multi-collinearity)</b>은 독립변수 사이에 강한 상관관계가 있음을 의미한다. 다중공선성은 회귀분석에 다음과 같은 나쁜 영향을 미친다.\n",
    "\n",
    "* 스케일링을 하지 않았을 때처럼 가중치 계산의 수치적 안정성을 악화시킨다.\n",
    "* 과최적화가 발생했을 때처럼 검증성능을 악화시킨다."
   ]
  },
  {
   "cell_type": "code",
   "execution_count": 9,
   "id": "f76c0399-dc62-4558-ac56-71daf277ea73",
   "metadata": {},
   "outputs": [],
   "source": [
    "boston_train = boston.iloc[:250]\n",
    "boston_test = boston.iloc[250:500]"
   ]
  },
  {
   "cell_type": "code",
   "execution_count": 10,
   "id": "7c474312-51ed-4755-9b6e-87b6c82e1407",
   "metadata": {},
   "outputs": [
    {
     "name": "stdout",
     "output_type": "stream",
     "text": [
      "                            OLS Regression Results                            \n",
      "==============================================================================\n",
      "Dep. Variable:                   medv   R-squared:                       0.844\n",
      "Model:                            OLS   Adj. R-squared:                  0.838\n",
      "Method:                 Least Squares   F-statistic:                     129.7\n",
      "Date:                Sat, 13 Aug 2022   Prob (F-statistic):           1.30e-90\n",
      "Time:                        16:26:20   Log-Likelihood:                -653.17\n",
      "No. Observations:                 250   AIC:                             1328.\n",
      "Df Residuals:                     239   BIC:                             1367.\n",
      "Df Model:                          10                                         \n",
      "Covariance Type:            nonrobust                                         \n",
      "==================================================================================\n",
      "                     coef    std err          t      P>|t|      [0.025      0.975]\n",
      "----------------------------------------------------------------------------------\n",
      "Intercept         24.2502      0.223    108.553      0.000      23.810      24.690\n",
      "C(chas)[T.1]       0.4225      0.825      0.512      0.609      -1.203       2.048\n",
      "scale(lstat)      -1.3636      0.339     -4.023      0.000      -2.031      -0.696\n",
      "scale(rm)          5.5519      0.318     17.451      0.000       4.925       6.179\n",
      "scale(ptratio)    -1.5624      0.274     -5.703      0.000      -2.102      -1.023\n",
      "scale(dis)        -1.6825      0.376     -4.479      0.000      -2.423      -0.942\n",
      "scale(tax)        -1.0417      0.255     -4.088      0.000      -1.544      -0.540\n",
      "scale(black)       0.7918      0.252      3.141      0.002       0.295       1.288\n",
      "scale(zn)          0.6537      0.317      2.060      0.040       0.029       1.279\n",
      "scale(crim)        0.8220      0.382      2.152      0.032       0.070       1.574\n",
      "scale(nox)        -1.2513      0.482     -2.595      0.010      -2.201      -0.301\n",
      "==============================================================================\n",
      "Omnibus:                       15.247   Durbin-Watson:                   1.367\n",
      "Prob(Omnibus):                  0.000   Jarque-Bera (JB):               17.144\n",
      "Skew:                           0.528   Prob(JB):                     0.000189\n",
      "Kurtosis:                       3.727   Cond. No.                         7.48\n",
      "==============================================================================\n",
      "\n",
      "Notes:\n",
      "[1] Standard Errors assume that the covariance matrix of the errors is correctly specified.\n"
     ]
    }
   ],
   "source": [
    "formula1 = \"medv ~ \" \\\n",
    "    \"scale(lstat) + scale(rm) + scale(ptratio) + scale(dis) + scale(tax)\" \\\n",
    "    \"+ C(chas) + scale(black) + scale(zn) + scale(crim) + scale(nox)\"\n",
    "\n",
    "result1 = sm.OLS.from_formula(formula1, boston_train).fit()\n",
    "print(result1.summary())"
   ]
  },
  {
   "cell_type": "code",
   "execution_count": 11,
   "id": "edf1640a-45af-4bf5-b21b-70059989d3c2",
   "metadata": {},
   "outputs": [
    {
     "data": {
      "image/png": "[encoded data removed]",
      "text/plain": [
       "<Figure size 432x432 with 1 Axes>"
      ]
     },
     "metadata": {
      "needs_background": "light"
     },
     "output_type": "display_data"
    }
   ],
   "source": [
    "y_train = boston_train.medv\n",
    "y_test = boston_test.medv\n",
    "\n",
    "y_train_pred1 = result1.get_prediction(boston_train).predicted_mean\n",
    "y_test_pred1 = result1.get_prediction(boston_test).predicted_mean\n",
    "\n",
    "rss_train1 = ((y_train - y_train_pred1) ** 2).sum()\n",
    "rss_test1 = ((y_test - y_test_pred1) ** 2).sum()\n",
    "\n",
    "plt.figure(figsize=(6, 6))\n",
    "plt.bar([\"학습 잔차제곱합 (모형1)\", \"검증 잔차제곱합 (모형1)\"], [rss_train1, rss_test1])\n",
    "plt.ylim(0, 60000)\n",
    "plt.show()"
   ]
  },
  {
   "cell_type": "code",
   "execution_count": null,
   "id": "0be697ac-4d07-49e3-9676-97672efa8229",
   "metadata": {},
   "outputs": [],
   "source": []
  },
  {
   "cell_type": "code",
   "execution_count": 12,
   "id": "a8c048c1-3ffb-4493-9e6c-f10673a4a0a0",
   "metadata": {},
   "outputs": [
    {
     "data": {
      "text/html": [
       "<div>\n",
       "<style scoped>\n",
       "    .dataframe tbody tr th:only-of-type {\n",
       "        vertical-align: middle;\n",
       "    }\n",
       "\n",
       "    .dataframe tbody tr th {\n",
       "        vertical-align: top;\n",
       "    }\n",
       "\n",
       "    .dataframe thead th {\n",
       "        text-align: right;\n",
       "    }\n",
       "</style>\n",
       "<table border=\"1\" class=\"dataframe\">\n",
       "  <thead>\n",
       "    <tr style=\"text-align: right;\">\n",
       "      <th></th>\n",
       "      <th>VIF Factor</th>\n",
       "      <th>features</th>\n",
       "    </tr>\n",
       "  </thead>\n",
       "  <tbody>\n",
       "    <tr>\n",
       "      <th>10</th>\n",
       "      <td>5.106064</td>\n",
       "      <td>scale(nox)</td>\n",
       "    </tr>\n",
       "    <tr>\n",
       "      <th>9</th>\n",
       "      <td>3.202863</td>\n",
       "      <td>scale(crim)</td>\n",
       "    </tr>\n",
       "    <tr>\n",
       "      <th>5</th>\n",
       "      <td>3.098666</td>\n",
       "      <td>scale(dis)</td>\n",
       "    </tr>\n",
       "    <tr>\n",
       "      <th>2</th>\n",
       "      <td>2.522302</td>\n",
       "      <td>scale(lstat)</td>\n",
       "    </tr>\n",
       "    <tr>\n",
       "      <th>3</th>\n",
       "      <td>2.222020</td>\n",
       "      <td>scale(rm)</td>\n",
       "    </tr>\n",
       "    <tr>\n",
       "      <th>8</th>\n",
       "      <td>2.209713</td>\n",
       "      <td>scale(zn)</td>\n",
       "    </tr>\n",
       "    <tr>\n",
       "      <th>4</th>\n",
       "      <td>1.647898</td>\n",
       "      <td>scale(ptratio)</td>\n",
       "    </tr>\n",
       "    <tr>\n",
       "      <th>6</th>\n",
       "      <td>1.425651</td>\n",
       "      <td>scale(tax)</td>\n",
       "    </tr>\n",
       "    <tr>\n",
       "      <th>7</th>\n",
       "      <td>1.395356</td>\n",
       "      <td>scale(black)</td>\n",
       "    </tr>\n",
       "    <tr>\n",
       "      <th>1</th>\n",
       "      <td>1.099592</td>\n",
       "      <td>C(chas)[T.1]</td>\n",
       "    </tr>\n",
       "    <tr>\n",
       "      <th>0</th>\n",
       "      <td>1.095617</td>\n",
       "      <td>Intercept</td>\n",
       "    </tr>\n",
       "  </tbody>\n",
       "</table>\n",
       "</div>"
      ],
      "text/plain": [
       "    VIF Factor        features\n",
       "10    5.106064      scale(nox)\n",
       "9     3.202863     scale(crim)\n",
       "5     3.098666      scale(dis)\n",
       "2     2.522302    scale(lstat)\n",
       "3     2.222020       scale(rm)\n",
       "8     2.209713       scale(zn)\n",
       "4     1.647898  scale(ptratio)\n",
       "6     1.425651      scale(tax)\n",
       "7     1.395356    scale(black)\n",
       "1     1.099592    C(chas)[T.1]\n",
       "0     1.095617       Intercept"
      ]
     },
     "execution_count": 12,
     "metadata": {},
     "output_type": "execute_result"
    }
   ],
   "source": [
    "from statsmodels.stats.outliers_influence import variance_inflation_factor\n",
    "\n",
    "X = result1.model.exog\n",
    "X_names = result1.model.exog_names\n",
    "\n",
    "vif = pd.DataFrame()\n",
    "vif[\"VIF Factor\"] = [variance_inflation_factor(X, i) for i in range(X.shape[1])]\n",
    "vif[\"features\"] = X_names\n",
    "vif.sort_values(\"VIF Factor\", ascending=False)"
   ]
  },
  {
   "cell_type": "code",
   "execution_count": 13,
   "id": "52aefd85-9bcd-46a3-9edd-66f72ec4e8f9",
   "metadata": {},
   "outputs": [
    {
     "name": "stdout",
     "output_type": "stream",
     "text": [
      "                            OLS Regression Results                            \n",
      "==============================================================================\n",
      "Dep. Variable:                   medv   R-squared:                       0.840\n",
      "Model:                            OLS   Adj. R-squared:                  0.834\n",
      "Method:                 Least Squares   F-statistic:                     140.0\n",
      "Date:                Sat, 13 Aug 2022   Prob (F-statistic):           2.89e-90\n",
      "Time:                        16:26:20   Log-Likelihood:                -656.65\n",
      "No. Observations:                 250   AIC:                             1333.\n",
      "Df Residuals:                     240   BIC:                             1369.\n",
      "Df Model:                           9                                         \n",
      "Covariance Type:            nonrobust                                         \n",
      "==================================================================================\n",
      "                     coef    std err          t      P>|t|      [0.025      0.975]\n",
      "----------------------------------------------------------------------------------\n",
      "Intercept         24.2515      0.226    107.286      0.000      23.806      24.697\n",
      "C(chas)[T.1]       0.4064      0.835      0.487      0.627      -1.238       2.051\n",
      "scale(lstat)      -1.5139      0.338     -4.480      0.000      -2.180      -0.848\n",
      "scale(rm)          5.6766      0.318     17.839      0.000       5.050       6.304\n",
      "scale(ptratio)    -1.3944      0.269     -5.176      0.000      -1.925      -0.864\n",
      "scale(dis)        -1.1828      0.326     -3.624      0.000      -1.826      -0.540\n",
      "scale(tax)        -1.1461      0.255     -4.501      0.000      -1.648      -0.644\n",
      "scale(black)       0.8424      0.254      3.312      0.001       0.341       1.343\n",
      "scale(zn)          0.6707      0.321      2.090      0.038       0.038       1.303\n",
      "scale(crim)        0.2849      0.325      0.877      0.381      -0.355       0.925\n",
      "==============================================================================\n",
      "Omnibus:                       19.113   Durbin-Watson:                   1.373\n",
      "Prob(Omnibus):                  0.000   Jarque-Bera (JB):               23.813\n",
      "Skew:                           0.573   Prob(JB):                     6.75e-06\n",
      "Kurtosis:                       3.986   Cond. No.                         6.68\n",
      "==============================================================================\n",
      "\n",
      "Notes:\n",
      "[1] Standard Errors assume that the covariance matrix of the errors is correctly specified.\n"
     ]
    }
   ],
   "source": [
    "formula2 = \"medv ~ \" \\\n",
    "    \"scale(lstat) + scale(rm) + scale(ptratio) + scale(dis) + scale(tax)\" \\\n",
    "    \"+ C(chas) + scale(black) + scale(zn) + scale(crim)\"\n",
    "\n",
    "result2 = sm.OLS.from_formula(formula2, boston_train).fit()\n",
    "print(result2.summary())"
   ]
  },
  {
   "cell_type": "code",
   "execution_count": 14,
   "id": "cdd023bf-bd19-4db0-952a-f55205735f40",
   "metadata": {},
   "outputs": [
    {
     "data": {
      "image/png": "[encoded data removed]",
      "text/plain": [
       "<Figure size 864x432 with 1 Axes>"
      ]
     },
     "metadata": {
      "needs_background": "light"
     },
     "output_type": "display_data"
    }
   ],
   "source": [
    "y_train_pred2 = result2.get_prediction(boston_train).predicted_mean\n",
    "y_test_pred2 = result2.get_prediction(boston_test).predicted_mean\n",
    "\n",
    "rss_train2 = ((y_train - y_train_pred2) ** 2).sum()\n",
    "rss_test2 = ((y_test - y_test_pred2) ** 2).sum()\n",
    "\n",
    "plt.figure(figsize=(12, 6))\n",
    "plt.bar([\"학습 잔차제곱합 (모형1)\", \"검증 잔차제곱합 (모형1)\", \"학습 잔차제곱합 (모형2)\", \"검증 잔차제곱합 (모형2)\"], \n",
    "        [rss_train1, rss_test1, rss_train2, rss_test2])\n",
    "plt.ylim(0, 60000)\n",
    "plt.show()"
   ]
  },
  {
   "cell_type": "markdown",
   "id": "97bc75b2-258e-4409-a465-556a09228123",
   "metadata": {},
   "source": [
    "## 선형종속"
   ]
  },
  {
   "cell_type": "markdown",
   "id": "eaa7a6f7-c6d6-4e90-85ef-8cbbed52f736",
   "metadata": {},
   "source": [
    "다중공선성의 가장 극단적인 경우는 독립변수간에 선형종속 관계가 있는 경우다. <b>선형종속(linearly-dependent)</b>이란 하나 이상의 독립변수를 선형조합(linear-combination)하면 다른 독립변수와 같아지는 것을 의미한다. 수식으로 나타내면 다음과 같다.\n",
    "\n",
    "$$\n",
    "c_1 x_1 + c_2 x_2 + c_3 x_3 + \\cdots + c_J x_J = 0\n",
    "$$\n",
    "\n",
    "이 수식에서 $c_j$는 스칼라 상수고 $x_j$는 독립변수 벡터다.\n",
    "\n",
    "다음은 실무에서 발생하기 쉬운 선형조합의 특수한 경우다.\n",
    "\n",
    "1) 두 독립변수 벡터가 단위만 다르고 실질적으로 같은 경우. 예를 들어 독립변수 데이터 집합 안에 같은 열이 있거나 같은 값인데 단위만 다른 데이터 열이 같이 있는 경우\n",
    "\n",
    "$$\n",
    "x_1 - c x_2 = 0 \\;\\; \\leftrightarrow \\;\\; x_1 = c x_2\n",
    "$$\n",
    "\n",
    "2) 몇개의 독립변수를 합하거나 평균하면 다른 독립변수가 되는 경우. 예를 들어 독립변수 데이터 집합 안에 각 과목의 점수와 모든 과목의 총점이 같이 있는 경우  \n",
    "\n",
    "$$\n",
    "x_1 + x_2 + x_3 - x_4 = 0 \\;\\; \\leftrightarrow \\;\\; x_4 = x_1 + x_2 + x_3\n",
    "$$\n",
    "\n",
    "이 경우에는 $X^TX$ 행렬의 역행렬이 존재하지 않으므로 수학적으로는 선형회귀분석의 가중치가 존재하지 않는다.\n",
    "\n",
    "실제로 보스턴 집값 데이터를 사용하여 위와 같은 경우를 실행해보자. 교차검증을 위해 전체 데이터를 학습 데이터와 검증 데이터로 나눈다."
   ]
  },
  {
   "cell_type": "code",
   "execution_count": null,
   "id": "2ae32aaf-a378-4db0-a371-77b6a2eaf30f",
   "metadata": {},
   "outputs": [],
   "source": []
  },
  {
   "cell_type": "code",
   "execution_count": null,
   "id": "ef84f030-7966-4c0a-aa75-6913963c352e",
   "metadata": {},
   "outputs": [],
   "source": []
  },
  {
   "cell_type": "code",
   "execution_count": null,
   "id": "b1c8b6d1-dbd8-45d5-bb08-dea19b60b376",
   "metadata": {},
   "outputs": [],
   "source": []
  }
 ],
 "metadata": {
  "kernelspec": {
   "display_name": "Python 3 (ipykernel)",
   "language": "python",
   "name": "python3"
  },
  "language_info": {
   "codemirror_mode": {
    "name": "ipython",
    "version": 3
   },
   "file_extension": ".py",
   "mimetype": "text/x-python",
   "name": "python",
   "nbconvert_exporter": "python",
   "pygments_lexer": "ipython3",
   "version": "3.10.5"
  }
 },
 "nbformat": 4,
 "nbformat_minor": 5
}
