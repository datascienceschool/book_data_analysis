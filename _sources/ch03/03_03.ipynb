{
 "cells": [
  {
   "cell_type": "code",
   "execution_count": 1,
   "id": "f26b3f7c-c563-4b90-a1c4-3a8c150f1ede",
   "metadata": {
    "tags": [
     "remove-cell"
    ]
   },
   "outputs": [],
   "source": [
    "%load_ext tikzmagic\n",
    "%matplotlib inline"
   ]
  },
  {
   "cell_type": "markdown",
   "id": "42dc79a7-47f3-4ad7-be0d-161007c4e85f",
   "metadata": {},
   "source": [
    "# 선형 회귀분석 모형"
   ]
  },
  {
   "cell_type": "markdown",
   "id": "079d0901-8974-46c0-bbd7-a15876b774c5",
   "metadata": {
    "tags": []
   },
   "source": [
    "## 회귀분석 모형"
   ]
  },
  {
   "cell_type": "markdown",
   "id": "c5e3676e-569f-4773-939c-b3ea784f428c",
   "metadata": {},
   "source": [
    "회귀분석은 복수의 독립변수 $x_1, x_2, \\ldots, x_K$와 하나의 종속변수 $y$간의 관계를 분석하는 것이다. 회귀분석을 하려면 독립변수와 종속변수의 관계를 수식으로 정해놓아야 한다. 이 수식을 <b>회귀분석 모형(regression model)</b>이라고 한다. 회귀분석 모형은 일반적으로 다음과 같은 수식으로 표현한다.\n",
    "\n",
    "$$ y = f(x_1, x_2, x_3, \\ldots, x_K) + \\varepsilon $$\n",
    "\n",
    "이 수식에서 $f$는 독립변수 $x_1, x_2, \\ldots, x_K$와 종속변수 $y$간의 결정론적 관계를 나타내는 함수이다. 우리가 회귀분석 문제를 푼다는 것은 이 함수 $f$를 찾아내는 것이라고 할 수 있다. \n",
    "\n",
    "그런데 현실의 데이터에서는 독립변수 $x_1, x_2, \\ldots, x_K$만으로 정확히 종속변수 $y$의 값을 결정할 수 있는 함수가 존재하는 경우는 없으며 항상 어느 정도의 오차가 존재한다. $\\varepsilon$ 항은 바로 이 오차를 나타내는 항으로 <b>교란항(disturbance)</b>이라고 한다. 교란항은 우리가 예측할 수 없는 랜덤 변수다. \n",
    "\n",
    "교란항이 발생하는 이유는 여러가지가 있으나 가장 쉬운 설명 중의 하나는 현실에서 종속변수 $y$에 영향을 미치는 변수가 우리가 정해놓은 $K$개의 독립변수 $x_1, x_2, \\ldots, x_K$이외에도 휠씬 더 많이 존재하기 때문이다. "
   ]
  },
  {
   "cell_type": "markdown",
   "id": "6083a2fd-e1f0-41cc-bab1-005414030c09",
   "metadata": {},
   "source": [
    "## 선형 회귀분석"
   ]
  },
  {
   "cell_type": "markdown",
   "id": "57f98ef0-d0a0-4975-a9c5-4c44d4ce5e38",
   "metadata": {},
   "source": [
    "가장 많이 사용되는 회귀분석 모형은 선형 회귀분석 모형(linear regression model)이다. 선형 회귀분석 모형은 다음과 같은 수식으로 표현한다. \n",
    "\n",
    "$$ y = w_0 + w_1 x_1 + w_2 x_2 + \\cdots + w_K x_K + \\epsilon $$"
   ]
  },
  {
   "cell_type": "code",
   "execution_count": null,
   "id": "46b26448-e3f0-4220-9a22-7f9654974fa1",
   "metadata": {},
   "outputs": [],
   "source": []
  }
 ],
 "metadata": {
  "kernelspec": {
   "display_name": "Python 3 (ipykernel)",
   "language": "python",
   "name": "python3"
  },
  "language_info": {
   "codemirror_mode": {
    "name": "ipython",
    "version": 3
   },
   "file_extension": ".py",
   "mimetype": "text/x-python",
   "name": "python",
   "nbconvert_exporter": "python",
   "pygments_lexer": "ipython3",
   "version": "3.10.5"
  }
 },
 "nbformat": 4,
 "nbformat_minor": 5
}
