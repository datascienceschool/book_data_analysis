{
 "cells": [
  {
   "cell_type": "code",
   "execution_count": 1,
   "id": "f26b3f7c-c563-4b90-a1c4-3a8c150f1ede",
   "metadata": {
    "tags": [
     "remove-cell"
    ]
   },
   "outputs": [],
   "source": [
    "%load_ext tikzmagic\n",
    "%matplotlib inline"
   ]
  },
  {
   "cell_type": "markdown",
   "id": "42dc79a7-47f3-4ad7-be0d-161007c4e85f",
   "metadata": {},
   "source": [
    "# 범주형 독립변수"
   ]
  },
  {
   "cell_type": "code",
   "execution_count": 2,
   "id": "32a72211-2935-4baa-8746-ea86ced94573",
   "metadata": {},
   "outputs": [
    {
     "data": {
      "text/html": [
       "<div>\n",
       "<style scoped>\n",
       "    .dataframe tbody tr th:only-of-type {\n",
       "        vertical-align: middle;\n",
       "    }\n",
       "\n",
       "    .dataframe tbody tr th {\n",
       "        vertical-align: top;\n",
       "    }\n",
       "\n",
       "    .dataframe thead th {\n",
       "        text-align: right;\n",
       "    }\n",
       "</style>\n",
       "<table border=\"1\" class=\"dataframe\">\n",
       "  <thead>\n",
       "    <tr style=\"text-align: right;\">\n",
       "      <th></th>\n",
       "      <th>total_bill</th>\n",
       "      <th>tip</th>\n",
       "      <th>sex</th>\n",
       "      <th>smoker</th>\n",
       "      <th>day</th>\n",
       "      <th>time</th>\n",
       "      <th>size</th>\n",
       "    </tr>\n",
       "  </thead>\n",
       "  <tbody>\n",
       "    <tr>\n",
       "      <th>0</th>\n",
       "      <td>17.59</td>\n",
       "      <td>2.64</td>\n",
       "      <td>Male</td>\n",
       "      <td>No</td>\n",
       "      <td>Sat</td>\n",
       "      <td>Dinner</td>\n",
       "      <td>3</td>\n",
       "    </tr>\n",
       "    <tr>\n",
       "      <th>1</th>\n",
       "      <td>18.29</td>\n",
       "      <td>3.76</td>\n",
       "      <td>Male</td>\n",
       "      <td>Yes</td>\n",
       "      <td>Sat</td>\n",
       "      <td>Dinner</td>\n",
       "      <td>4</td>\n",
       "    </tr>\n",
       "    <tr>\n",
       "      <th>2</th>\n",
       "      <td>19.49</td>\n",
       "      <td>3.51</td>\n",
       "      <td>Male</td>\n",
       "      <td>No</td>\n",
       "      <td>Sun</td>\n",
       "      <td>Dinner</td>\n",
       "      <td>2</td>\n",
       "    </tr>\n",
       "    <tr>\n",
       "      <th>3</th>\n",
       "      <td>7.25</td>\n",
       "      <td>1.00</td>\n",
       "      <td>Female</td>\n",
       "      <td>No</td>\n",
       "      <td>Sat</td>\n",
       "      <td>Dinner</td>\n",
       "      <td>1</td>\n",
       "    </tr>\n",
       "    <tr>\n",
       "      <th>4</th>\n",
       "      <td>16.27</td>\n",
       "      <td>2.50</td>\n",
       "      <td>Female</td>\n",
       "      <td>Yes</td>\n",
       "      <td>Fri</td>\n",
       "      <td>Lunch</td>\n",
       "      <td>2</td>\n",
       "    </tr>\n",
       "  </tbody>\n",
       "</table>\n",
       "</div>"
      ],
      "text/plain": [
       "   total_bill   tip     sex smoker  day    time  size\n",
       "0       17.59  2.64    Male     No  Sat  Dinner     3\n",
       "1       18.29  3.76    Male    Yes  Sat  Dinner     4\n",
       "2       19.49  3.51    Male     No  Sun  Dinner     2\n",
       "3        7.25  1.00  Female     No  Sat  Dinner     1\n",
       "4       16.27  2.50  Female    Yes  Fri   Lunch     2"
      ]
     },
     "execution_count": 2,
     "metadata": {},
     "output_type": "execute_result"
    }
   ],
   "source": [
    "import seaborn as sns\n",
    "\n",
    "tips = sns.load_dataset(\"tips\").sample(frac=1, random_state=0).reset_index(drop=True)\n",
    "tips.head()"
   ]
  },
  {
   "cell_type": "markdown",
   "id": "2d181296-5904-4041-a443-ed5f9a97bc74",
   "metadata": {},
   "source": [
    "## 레벨이 2개인 범주형 독립변수"
   ]
  },
  {
   "cell_type": "code",
   "execution_count": 3,
   "id": "c386e19e-dcd3-4451-8d98-65631db776c0",
   "metadata": {},
   "outputs": [
    {
     "data": {
      "image/png": "[encoded data removed]",
      "text/plain": [
       "<Figure size 432x288 with 1 Axes>"
      ]
     },
     "metadata": {
      "needs_background": "light"
     },
     "output_type": "display_data"
    }
   ],
   "source": [
    "sns.boxplot(x=\"sex\", y=\"tip\", data=tips)\n",
    "sns.stripplot(x=\"sex\", y=\"tip\", data=tips, color=\"0\")\n",
    "plt.show()"
   ]
  },
  {
   "cell_type": "code",
   "execution_count": 4,
   "id": "5a70c5e4-ed34-469e-b7d3-e30a99e46e2f",
   "metadata": {},
   "outputs": [
    {
     "data": {
      "text/html": [
       "<div>\n",
       "<style scoped>\n",
       "    .dataframe tbody tr th:only-of-type {\n",
       "        vertical-align: middle;\n",
       "    }\n",
       "\n",
       "    .dataframe tbody tr th {\n",
       "        vertical-align: top;\n",
       "    }\n",
       "\n",
       "    .dataframe thead tr th {\n",
       "        text-align: left;\n",
       "    }\n",
       "\n",
       "    .dataframe thead tr:last-of-type th {\n",
       "        text-align: right;\n",
       "    }\n",
       "</style>\n",
       "<table border=\"1\" class=\"dataframe\">\n",
       "  <thead>\n",
       "    <tr>\n",
       "      <th></th>\n",
       "      <th colspan=\"2\" halign=\"left\">tip</th>\n",
       "    </tr>\n",
       "    <tr>\n",
       "      <th></th>\n",
       "      <th>mean</th>\n",
       "      <th>std</th>\n",
       "    </tr>\n",
       "    <tr>\n",
       "      <th>sex</th>\n",
       "      <th></th>\n",
       "      <th></th>\n",
       "    </tr>\n",
       "  </thead>\n",
       "  <tbody>\n",
       "    <tr>\n",
       "      <th>Male</th>\n",
       "      <td>3.089618</td>\n",
       "      <td>1.489102</td>\n",
       "    </tr>\n",
       "    <tr>\n",
       "      <th>Female</th>\n",
       "      <td>2.833448</td>\n",
       "      <td>1.159495</td>\n",
       "    </tr>\n",
       "  </tbody>\n",
       "</table>\n",
       "</div>"
      ],
      "text/plain": [
       "             tip          \n",
       "            mean       std\n",
       "sex                       \n",
       "Male    3.089618  1.489102\n",
       "Female  2.833448  1.159495"
      ]
     },
     "execution_count": 4,
     "metadata": {},
     "output_type": "execute_result"
    }
   ],
   "source": [
    "import numpy as np\n",
    "\n",
    "tips.groupby(\"sex\").agg({\"tip\": [np.mean, np.std]})"
   ]
  },
  {
   "cell_type": "code",
   "execution_count": 5,
   "id": "231283f7-2a40-4eb1-bdaf-4a0f47e79a0b",
   "metadata": {},
   "outputs": [
    {
     "name": "stdout",
     "output_type": "stream",
     "text": [
      "                            OLS Regression Results                            \n",
      "==============================================================================\n",
      "Dep. Variable:                    tip   R-squared:                       0.008\n",
      "Model:                            OLS   Adj. R-squared:                  0.004\n",
      "Method:                 Least Squares   F-statistic:                     1.926\n",
      "Date:                Sun, 14 Aug 2022   Prob (F-statistic):              0.166\n",
      "Time:                        15:31:22   Log-Likelihood:                -423.98\n",
      "No. Observations:                 244   AIC:                             852.0\n",
      "Df Residuals:                     242   BIC:                             859.0\n",
      "Df Model:                           1                                         \n",
      "Covariance Type:            nonrobust                                         \n",
      "====================================================================================\n",
      "                       coef    std err          t      P>|t|      [0.025      0.975]\n",
      "------------------------------------------------------------------------------------\n",
      "Intercept            3.0896      0.110     28.032      0.000       2.873       3.307\n",
      "C(sex)[T.Female]    -0.2562      0.185     -1.388      0.166      -0.620       0.107\n",
      "==============================================================================\n",
      "Omnibus:                       75.995   Durbin-Watson:                   1.922\n",
      "Prob(Omnibus):                  0.000   Jarque-Bera (JB):              194.975\n",
      "Skew:                           1.415   Prob(JB):                     4.59e-43\n",
      "Kurtosis:                       6.342   Cond. No.                         2.42\n",
      "==============================================================================\n",
      "\n",
      "Notes:\n",
      "[1] Standard Errors assume that the covariance matrix of the errors is correctly specified.\n"
     ]
    }
   ],
   "source": [
    "import statsmodels.api as sm\n",
    "\n",
    "model1 = sm.OLS.from_formula(\"tip ~ C(sex)\", tips)\n",
    "result1 = model1.fit()\n",
    "print(result1.summary())"
   ]
  },
  {
   "cell_type": "code",
   "execution_count": 6,
   "id": "1f8485a6-6f36-4f19-8686-f460adbc3880",
   "metadata": {},
   "outputs": [],
   "source": [
    "import pandas as p"
   ]
  },
  {
   "cell_type": "code",
   "execution_count": 7,
   "id": "f89d1bdb-424e-446b-acd0-4b147a8b4f91",
   "metadata": {},
   "outputs": [
    {
     "data": {
      "text/html": [
       "<style type=\"text/css\">\n",
       "#T_b73d8_row0_col0, #T_b73d8_row1_col0, #T_b73d8_row2_col0, #T_b73d8_row3_col0, #T_b73d8_row3_col1, #T_b73d8_row4_col0, #T_b73d8_row4_col1, #T_b73d8_row5_col0, #T_b73d8_row5_col1, #T_b73d8_row6_col0, #T_b73d8_row7_col0, #T_b73d8_row8_col0, #T_b73d8_row8_col1, #T_b73d8_row9_col0 {\n",
       "  background-color: #023858;\n",
       "  color: #f1f1f1;\n",
       "}\n",
       "#T_b73d8_row0_col1, #T_b73d8_row1_col1, #T_b73d8_row2_col1, #T_b73d8_row6_col1, #T_b73d8_row7_col1, #T_b73d8_row9_col1 {\n",
       "  background-color: #fff7fb;\n",
       "  color: #000000;\n",
       "}\n",
       "</style>\n",
       "<table id=\"T_b73d8\">\n",
       "  <thead>\n",
       "    <tr>\n",
       "      <th class=\"blank level0\" >&nbsp;</th>\n",
       "      <th id=\"T_b73d8_level0_col0\" class=\"col_heading level0 col0\" >Intercept</th>\n",
       "      <th id=\"T_b73d8_level0_col1\" class=\"col_heading level0 col1\" >C(sex)[T.Female]</th>\n",
       "    </tr>\n",
       "  </thead>\n",
       "  <tbody>\n",
       "    <tr>\n",
       "      <th id=\"T_b73d8_level0_row0\" class=\"row_heading level0 row0\" >0</th>\n",
       "      <td id=\"T_b73d8_row0_col0\" class=\"data row0 col0\" >1</td>\n",
       "      <td id=\"T_b73d8_row0_col1\" class=\"data row0 col1\" >0</td>\n",
       "    </tr>\n",
       "    <tr>\n",
       "      <th id=\"T_b73d8_level0_row1\" class=\"row_heading level0 row1\" >1</th>\n",
       "      <td id=\"T_b73d8_row1_col0\" class=\"data row1 col0\" >1</td>\n",
       "      <td id=\"T_b73d8_row1_col1\" class=\"data row1 col1\" >0</td>\n",
       "    </tr>\n",
       "    <tr>\n",
       "      <th id=\"T_b73d8_level0_row2\" class=\"row_heading level0 row2\" >2</th>\n",
       "      <td id=\"T_b73d8_row2_col0\" class=\"data row2 col0\" >1</td>\n",
       "      <td id=\"T_b73d8_row2_col1\" class=\"data row2 col1\" >0</td>\n",
       "    </tr>\n",
       "    <tr>\n",
       "      <th id=\"T_b73d8_level0_row3\" class=\"row_heading level0 row3\" >3</th>\n",
       "      <td id=\"T_b73d8_row3_col0\" class=\"data row3 col0\" >1</td>\n",
       "      <td id=\"T_b73d8_row3_col1\" class=\"data row3 col1\" >1</td>\n",
       "    </tr>\n",
       "    <tr>\n",
       "      <th id=\"T_b73d8_level0_row4\" class=\"row_heading level0 row4\" >4</th>\n",
       "      <td id=\"T_b73d8_row4_col0\" class=\"data row4 col0\" >1</td>\n",
       "      <td id=\"T_b73d8_row4_col1\" class=\"data row4 col1\" >1</td>\n",
       "    </tr>\n",
       "    <tr>\n",
       "      <th id=\"T_b73d8_level0_row5\" class=\"row_heading level0 row5\" >5</th>\n",
       "      <td id=\"T_b73d8_row5_col0\" class=\"data row5 col0\" >1</td>\n",
       "      <td id=\"T_b73d8_row5_col1\" class=\"data row5 col1\" >1</td>\n",
       "    </tr>\n",
       "    <tr>\n",
       "      <th id=\"T_b73d8_level0_row6\" class=\"row_heading level0 row6\" >6</th>\n",
       "      <td id=\"T_b73d8_row6_col0\" class=\"data row6 col0\" >1</td>\n",
       "      <td id=\"T_b73d8_row6_col1\" class=\"data row6 col1\" >0</td>\n",
       "    </tr>\n",
       "    <tr>\n",
       "      <th id=\"T_b73d8_level0_row7\" class=\"row_heading level0 row7\" >7</th>\n",
       "      <td id=\"T_b73d8_row7_col0\" class=\"data row7 col0\" >1</td>\n",
       "      <td id=\"T_b73d8_row7_col1\" class=\"data row7 col1\" >0</td>\n",
       "    </tr>\n",
       "    <tr>\n",
       "      <th id=\"T_b73d8_level0_row8\" class=\"row_heading level0 row8\" >8</th>\n",
       "      <td id=\"T_b73d8_row8_col0\" class=\"data row8 col0\" >1</td>\n",
       "      <td id=\"T_b73d8_row8_col1\" class=\"data row8 col1\" >1</td>\n",
       "    </tr>\n",
       "    <tr>\n",
       "      <th id=\"T_b73d8_level0_row9\" class=\"row_heading level0 row9\" >9</th>\n",
       "      <td id=\"T_b73d8_row9_col0\" class=\"data row9 col0\" >1</td>\n",
       "      <td id=\"T_b73d8_row9_col1\" class=\"data row9 col1\" >0</td>\n",
       "    </tr>\n",
       "  </tbody>\n",
       "</table>\n"
      ],
      "text/plain": [
       "<pandas.io.formats.style.Styler at 0x138c4abf0>"
      ]
     },
     "execution_count": 7,
     "metadata": {},
     "output_type": "execute_result"
    }
   ],
   "source": [
    "X1 = pd.DataFrame(model1.exog, columns=model1.exog_names).head(10).astype(int)\n",
    "X1.style.background_gradient(vmin=0, vmax=1)"
   ]
  },
  {
   "cell_type": "code",
   "execution_count": 8,
   "id": "910e2142-893a-4978-bcdb-181f6e438211",
   "metadata": {},
   "outputs": [
    {
     "name": "stdout",
     "output_type": "stream",
     "text": [
      "                            OLS Regression Results                            \n",
      "==============================================================================\n",
      "Dep. Variable:                    tip   R-squared:                       0.008\n",
      "Model:                            OLS   Adj. R-squared:                  0.004\n",
      "Method:                 Least Squares   F-statistic:                     1.926\n",
      "Date:                Sun, 14 Aug 2022   Prob (F-statistic):              0.166\n",
      "Time:                        15:31:22   Log-Likelihood:                -423.98\n",
      "No. Observations:                 244   AIC:                             852.0\n",
      "Df Residuals:                     242   BIC:                             859.0\n",
      "Df Model:                           1                                         \n",
      "Covariance Type:            nonrobust                                         \n",
      "==================================================================================\n",
      "                     coef    std err          t      P>|t|      [0.025      0.975]\n",
      "----------------------------------------------------------------------------------\n",
      "C(sex)[Male]       3.0896      0.110     28.032      0.000       2.873       3.307\n",
      "C(sex)[Female]     2.8334      0.148     19.137      0.000       2.542       3.125\n",
      "==============================================================================\n",
      "Omnibus:                       75.995   Durbin-Watson:                   1.922\n",
      "Prob(Omnibus):                  0.000   Jarque-Bera (JB):              194.975\n",
      "Skew:                           1.415   Prob(JB):                     4.59e-43\n",
      "Kurtosis:                       6.342   Cond. No.                         1.34\n",
      "==============================================================================\n",
      "\n",
      "Notes:\n",
      "[1] Standard Errors assume that the covariance matrix of the errors is correctly specified.\n"
     ]
    }
   ],
   "source": [
    "model2 = sm.OLS.from_formula(\"tip ~ C(sex) + 0\", tips)\n",
    "result2 = model2.fit()\n",
    "print(result2.summary())"
   ]
  },
  {
   "cell_type": "code",
   "execution_count": 9,
   "id": "ded04a78-10d0-4591-a2c0-317b9d00136c",
   "metadata": {},
   "outputs": [
    {
     "data": {
      "text/html": [
       "<style type=\"text/css\">\n",
       "#T_ff8f7_row0_col0, #T_ff8f7_row1_col0, #T_ff8f7_row2_col0, #T_ff8f7_row3_col1, #T_ff8f7_row4_col1, #T_ff8f7_row5_col1, #T_ff8f7_row6_col0, #T_ff8f7_row7_col0, #T_ff8f7_row8_col1, #T_ff8f7_row9_col0 {\n",
       "  background-color: #023858;\n",
       "  color: #f1f1f1;\n",
       "}\n",
       "#T_ff8f7_row0_col1, #T_ff8f7_row1_col1, #T_ff8f7_row2_col1, #T_ff8f7_row3_col0, #T_ff8f7_row4_col0, #T_ff8f7_row5_col0, #T_ff8f7_row6_col1, #T_ff8f7_row7_col1, #T_ff8f7_row8_col0, #T_ff8f7_row9_col1 {\n",
       "  background-color: #fff7fb;\n",
       "  color: #000000;\n",
       "}\n",
       "</style>\n",
       "<table id=\"T_ff8f7\">\n",
       "  <thead>\n",
       "    <tr>\n",
       "      <th class=\"blank level0\" >&nbsp;</th>\n",
       "      <th id=\"T_ff8f7_level0_col0\" class=\"col_heading level0 col0\" >C(sex)[Male]</th>\n",
       "      <th id=\"T_ff8f7_level0_col1\" class=\"col_heading level0 col1\" >C(sex)[Female]</th>\n",
       "    </tr>\n",
       "  </thead>\n",
       "  <tbody>\n",
       "    <tr>\n",
       "      <th id=\"T_ff8f7_level0_row0\" class=\"row_heading level0 row0\" >0</th>\n",
       "      <td id=\"T_ff8f7_row0_col0\" class=\"data row0 col0\" >1</td>\n",
       "      <td id=\"T_ff8f7_row0_col1\" class=\"data row0 col1\" >0</td>\n",
       "    </tr>\n",
       "    <tr>\n",
       "      <th id=\"T_ff8f7_level0_row1\" class=\"row_heading level0 row1\" >1</th>\n",
       "      <td id=\"T_ff8f7_row1_col0\" class=\"data row1 col0\" >1</td>\n",
       "      <td id=\"T_ff8f7_row1_col1\" class=\"data row1 col1\" >0</td>\n",
       "    </tr>\n",
       "    <tr>\n",
       "      <th id=\"T_ff8f7_level0_row2\" class=\"row_heading level0 row2\" >2</th>\n",
       "      <td id=\"T_ff8f7_row2_col0\" class=\"data row2 col0\" >1</td>\n",
       "      <td id=\"T_ff8f7_row2_col1\" class=\"data row2 col1\" >0</td>\n",
       "    </tr>\n",
       "    <tr>\n",
       "      <th id=\"T_ff8f7_level0_row3\" class=\"row_heading level0 row3\" >3</th>\n",
       "      <td id=\"T_ff8f7_row3_col0\" class=\"data row3 col0\" >0</td>\n",
       "      <td id=\"T_ff8f7_row3_col1\" class=\"data row3 col1\" >1</td>\n",
       "    </tr>\n",
       "    <tr>\n",
       "      <th id=\"T_ff8f7_level0_row4\" class=\"row_heading level0 row4\" >4</th>\n",
       "      <td id=\"T_ff8f7_row4_col0\" class=\"data row4 col0\" >0</td>\n",
       "      <td id=\"T_ff8f7_row4_col1\" class=\"data row4 col1\" >1</td>\n",
       "    </tr>\n",
       "    <tr>\n",
       "      <th id=\"T_ff8f7_level0_row5\" class=\"row_heading level0 row5\" >5</th>\n",
       "      <td id=\"T_ff8f7_row5_col0\" class=\"data row5 col0\" >0</td>\n",
       "      <td id=\"T_ff8f7_row5_col1\" class=\"data row5 col1\" >1</td>\n",
       "    </tr>\n",
       "    <tr>\n",
       "      <th id=\"T_ff8f7_level0_row6\" class=\"row_heading level0 row6\" >6</th>\n",
       "      <td id=\"T_ff8f7_row6_col0\" class=\"data row6 col0\" >1</td>\n",
       "      <td id=\"T_ff8f7_row6_col1\" class=\"data row6 col1\" >0</td>\n",
       "    </tr>\n",
       "    <tr>\n",
       "      <th id=\"T_ff8f7_level0_row7\" class=\"row_heading level0 row7\" >7</th>\n",
       "      <td id=\"T_ff8f7_row7_col0\" class=\"data row7 col0\" >1</td>\n",
       "      <td id=\"T_ff8f7_row7_col1\" class=\"data row7 col1\" >0</td>\n",
       "    </tr>\n",
       "    <tr>\n",
       "      <th id=\"T_ff8f7_level0_row8\" class=\"row_heading level0 row8\" >8</th>\n",
       "      <td id=\"T_ff8f7_row8_col0\" class=\"data row8 col0\" >0</td>\n",
       "      <td id=\"T_ff8f7_row8_col1\" class=\"data row8 col1\" >1</td>\n",
       "    </tr>\n",
       "    <tr>\n",
       "      <th id=\"T_ff8f7_level0_row9\" class=\"row_heading level0 row9\" >9</th>\n",
       "      <td id=\"T_ff8f7_row9_col0\" class=\"data row9 col0\" >1</td>\n",
       "      <td id=\"T_ff8f7_row9_col1\" class=\"data row9 col1\" >0</td>\n",
       "    </tr>\n",
       "  </tbody>\n",
       "</table>\n"
      ],
      "text/plain": [
       "<pandas.io.formats.style.Styler at 0x138fca3e0>"
      ]
     },
     "execution_count": 9,
     "metadata": {},
     "output_type": "execute_result"
    }
   ],
   "source": [
    "X2 = pd.DataFrame(model2.exog, columns=model2.exog_names).head(10).astype(int)\n",
    "X2.style.background_gradient(vmin=0, vmax=1)"
   ]
  },
  {
   "cell_type": "markdown",
   "id": "0d8d9ab3-4ac6-4708-b948-a3c976bfc974",
   "metadata": {},
   "source": [
    "## 레벨이 3개 이상인 범주형 독립변수"
   ]
  },
  {
   "cell_type": "code",
   "execution_count": 10,
   "id": "047948fb-8c4a-48c5-9c95-ec9b7d370fd2",
   "metadata": {},
   "outputs": [
    {
     "data": {
      "image/png": "[encoded data removed]",
      "text/plain": [
       "<Figure size 432x288 with 1 Axes>"
      ]
     },
     "metadata": {
      "needs_background": "light"
     },
     "output_type": "display_data"
    }
   ],
   "source": [
    "sns.boxplot(x=\"day\", y=\"tip\", data=tips)\n",
    "sns.stripplot(x=\"day\", y=\"tip\", data=tips, color=\"0\")\n",
    "plt.show()"
   ]
  },
  {
   "cell_type": "code",
   "execution_count": 11,
   "id": "9db54754-1292-4ac8-b570-f4b8aff57f37",
   "metadata": {},
   "outputs": [
    {
     "data": {
      "text/html": [
       "<div>\n",
       "<style scoped>\n",
       "    .dataframe tbody tr th:only-of-type {\n",
       "        vertical-align: middle;\n",
       "    }\n",
       "\n",
       "    .dataframe tbody tr th {\n",
       "        vertical-align: top;\n",
       "    }\n",
       "\n",
       "    .dataframe thead tr th {\n",
       "        text-align: left;\n",
       "    }\n",
       "\n",
       "    .dataframe thead tr:last-of-type th {\n",
       "        text-align: right;\n",
       "    }\n",
       "</style>\n",
       "<table border=\"1\" class=\"dataframe\">\n",
       "  <thead>\n",
       "    <tr>\n",
       "      <th></th>\n",
       "      <th colspan=\"2\" halign=\"left\">tip</th>\n",
       "    </tr>\n",
       "    <tr>\n",
       "      <th></th>\n",
       "      <th>mean</th>\n",
       "      <th>std</th>\n",
       "    </tr>\n",
       "    <tr>\n",
       "      <th>day</th>\n",
       "      <th></th>\n",
       "      <th></th>\n",
       "    </tr>\n",
       "  </thead>\n",
       "  <tbody>\n",
       "    <tr>\n",
       "      <th>Thur</th>\n",
       "      <td>2.771452</td>\n",
       "      <td>1.240223</td>\n",
       "    </tr>\n",
       "    <tr>\n",
       "      <th>Fri</th>\n",
       "      <td>2.734737</td>\n",
       "      <td>1.019577</td>\n",
       "    </tr>\n",
       "    <tr>\n",
       "      <th>Sat</th>\n",
       "      <td>2.993103</td>\n",
       "      <td>1.631014</td>\n",
       "    </tr>\n",
       "    <tr>\n",
       "      <th>Sun</th>\n",
       "      <td>3.255132</td>\n",
       "      <td>1.234880</td>\n",
       "    </tr>\n",
       "  </tbody>\n",
       "</table>\n",
       "</div>"
      ],
      "text/plain": [
       "           tip          \n",
       "          mean       std\n",
       "day                     \n",
       "Thur  2.771452  1.240223\n",
       "Fri   2.734737  1.019577\n",
       "Sat   2.993103  1.631014\n",
       "Sun   3.255132  1.234880"
      ]
     },
     "execution_count": 11,
     "metadata": {},
     "output_type": "execute_result"
    }
   ],
   "source": [
    "tips.groupby(\"day\").agg({\"tip\": [np.mean, np.std]})"
   ]
  },
  {
   "cell_type": "code",
   "execution_count": 12,
   "id": "dab2e4f7-e724-490b-9c98-a86f5b68670b",
   "metadata": {},
   "outputs": [
    {
     "name": "stdout",
     "output_type": "stream",
     "text": [
      "                            OLS Regression Results                            \n",
      "==============================================================================\n",
      "Dep. Variable:                    tip   R-squared:                       0.020\n",
      "Model:                            OLS   Adj. R-squared:                  0.008\n",
      "Method:                 Least Squares   F-statistic:                     1.672\n",
      "Date:                Sun, 14 Aug 2022   Prob (F-statistic):              0.174\n",
      "Time:                        15:31:23   Log-Likelihood:                -422.43\n",
      "No. Observations:                 244   AIC:                             852.9\n",
      "Df Residuals:                     240   BIC:                             866.8\n",
      "Df Model:                           3                                         \n",
      "Covariance Type:            nonrobust                                         \n",
      "=================================================================================\n",
      "                    coef    std err          t      P>|t|      [0.025      0.975]\n",
      "---------------------------------------------------------------------------------\n",
      "Intercept         2.7715      0.175     15.837      0.000       2.427       3.116\n",
      "C(day)[T.Fri]    -0.0367      0.361     -0.102      0.919      -0.748       0.675\n",
      "C(day)[T.Sat]     0.2217      0.229      0.968      0.334      -0.229       0.673\n",
      "C(day)[T.Sun]     0.4837      0.236      2.051      0.041       0.019       0.948\n",
      "==============================================================================\n",
      "Omnibus:                       82.801   Durbin-Watson:                   1.932\n",
      "Prob(Omnibus):                  0.000   Jarque-Bera (JB):              238.276\n",
      "Skew:                           1.492   Prob(JB):                     1.82e-52\n",
      "Kurtosis:                       6.811   Cond. No.                         5.28\n",
      "==============================================================================\n",
      "\n",
      "Notes:\n",
      "[1] Standard Errors assume that the covariance matrix of the errors is correctly specified.\n"
     ]
    }
   ],
   "source": [
    "model3 = sm.OLS.from_formula(\"tip ~ C(day)\", tips)\n",
    "result3 = model3.fit()\n",
    "print(result3.summary())"
   ]
  },
  {
   "cell_type": "code",
   "execution_count": 13,
   "id": "063b9770-5223-44ca-afe5-cd0ad2752f7e",
   "metadata": {},
   "outputs": [
    {
     "data": {
      "text/html": [
       "<style type=\"text/css\">\n",
       "#T_14987_row0_col0, #T_14987_row0_col2, #T_14987_row1_col0, #T_14987_row1_col2, #T_14987_row2_col0, #T_14987_row2_col3, #T_14987_row3_col0, #T_14987_row3_col2, #T_14987_row4_col0, #T_14987_row4_col1, #T_14987_row5_col0, #T_14987_row5_col1, #T_14987_row6_col0, #T_14987_row6_col2, #T_14987_row7_col0, #T_14987_row7_col3, #T_14987_row8_col0, #T_14987_row8_col3, #T_14987_row9_col0, #T_14987_row9_col3 {\n",
       "  background-color: #023858;\n",
       "  color: #f1f1f1;\n",
       "}\n",
       "#T_14987_row0_col1, #T_14987_row0_col3, #T_14987_row1_col1, #T_14987_row1_col3, #T_14987_row2_col1, #T_14987_row2_col2, #T_14987_row3_col1, #T_14987_row3_col3, #T_14987_row4_col2, #T_14987_row4_col3, #T_14987_row5_col2, #T_14987_row5_col3, #T_14987_row6_col1, #T_14987_row6_col3, #T_14987_row7_col1, #T_14987_row7_col2, #T_14987_row8_col1, #T_14987_row8_col2, #T_14987_row9_col1, #T_14987_row9_col2 {\n",
       "  background-color: #fff7fb;\n",
       "  color: #000000;\n",
       "}\n",
       "</style>\n",
       "<table id=\"T_14987\">\n",
       "  <thead>\n",
       "    <tr>\n",
       "      <th class=\"blank level0\" >&nbsp;</th>\n",
       "      <th id=\"T_14987_level0_col0\" class=\"col_heading level0 col0\" >Intercept</th>\n",
       "      <th id=\"T_14987_level0_col1\" class=\"col_heading level0 col1\" >C(day)[T.Fri]</th>\n",
       "      <th id=\"T_14987_level0_col2\" class=\"col_heading level0 col2\" >C(day)[T.Sat]</th>\n",
       "      <th id=\"T_14987_level0_col3\" class=\"col_heading level0 col3\" >C(day)[T.Sun]</th>\n",
       "    </tr>\n",
       "  </thead>\n",
       "  <tbody>\n",
       "    <tr>\n",
       "      <th id=\"T_14987_level0_row0\" class=\"row_heading level0 row0\" >0</th>\n",
       "      <td id=\"T_14987_row0_col0\" class=\"data row0 col0\" >1</td>\n",
       "      <td id=\"T_14987_row0_col1\" class=\"data row0 col1\" >0</td>\n",
       "      <td id=\"T_14987_row0_col2\" class=\"data row0 col2\" >1</td>\n",
       "      <td id=\"T_14987_row0_col3\" class=\"data row0 col3\" >0</td>\n",
       "    </tr>\n",
       "    <tr>\n",
       "      <th id=\"T_14987_level0_row1\" class=\"row_heading level0 row1\" >1</th>\n",
       "      <td id=\"T_14987_row1_col0\" class=\"data row1 col0\" >1</td>\n",
       "      <td id=\"T_14987_row1_col1\" class=\"data row1 col1\" >0</td>\n",
       "      <td id=\"T_14987_row1_col2\" class=\"data row1 col2\" >1</td>\n",
       "      <td id=\"T_14987_row1_col3\" class=\"data row1 col3\" >0</td>\n",
       "    </tr>\n",
       "    <tr>\n",
       "      <th id=\"T_14987_level0_row2\" class=\"row_heading level0 row2\" >2</th>\n",
       "      <td id=\"T_14987_row2_col0\" class=\"data row2 col0\" >1</td>\n",
       "      <td id=\"T_14987_row2_col1\" class=\"data row2 col1\" >0</td>\n",
       "      <td id=\"T_14987_row2_col2\" class=\"data row2 col2\" >0</td>\n",
       "      <td id=\"T_14987_row2_col3\" class=\"data row2 col3\" >1</td>\n",
       "    </tr>\n",
       "    <tr>\n",
       "      <th id=\"T_14987_level0_row3\" class=\"row_heading level0 row3\" >3</th>\n",
       "      <td id=\"T_14987_row3_col0\" class=\"data row3 col0\" >1</td>\n",
       "      <td id=\"T_14987_row3_col1\" class=\"data row3 col1\" >0</td>\n",
       "      <td id=\"T_14987_row3_col2\" class=\"data row3 col2\" >1</td>\n",
       "      <td id=\"T_14987_row3_col3\" class=\"data row3 col3\" >0</td>\n",
       "    </tr>\n",
       "    <tr>\n",
       "      <th id=\"T_14987_level0_row4\" class=\"row_heading level0 row4\" >4</th>\n",
       "      <td id=\"T_14987_row4_col0\" class=\"data row4 col0\" >1</td>\n",
       "      <td id=\"T_14987_row4_col1\" class=\"data row4 col1\" >1</td>\n",
       "      <td id=\"T_14987_row4_col2\" class=\"data row4 col2\" >0</td>\n",
       "      <td id=\"T_14987_row4_col3\" class=\"data row4 col3\" >0</td>\n",
       "    </tr>\n",
       "    <tr>\n",
       "      <th id=\"T_14987_level0_row5\" class=\"row_heading level0 row5\" >5</th>\n",
       "      <td id=\"T_14987_row5_col0\" class=\"data row5 col0\" >1</td>\n",
       "      <td id=\"T_14987_row5_col1\" class=\"data row5 col1\" >1</td>\n",
       "      <td id=\"T_14987_row5_col2\" class=\"data row5 col2\" >0</td>\n",
       "      <td id=\"T_14987_row5_col3\" class=\"data row5 col3\" >0</td>\n",
       "    </tr>\n",
       "    <tr>\n",
       "      <th id=\"T_14987_level0_row6\" class=\"row_heading level0 row6\" >6</th>\n",
       "      <td id=\"T_14987_row6_col0\" class=\"data row6 col0\" >1</td>\n",
       "      <td id=\"T_14987_row6_col1\" class=\"data row6 col1\" >0</td>\n",
       "      <td id=\"T_14987_row6_col2\" class=\"data row6 col2\" >1</td>\n",
       "      <td id=\"T_14987_row6_col3\" class=\"data row6 col3\" >0</td>\n",
       "    </tr>\n",
       "    <tr>\n",
       "      <th id=\"T_14987_level0_row7\" class=\"row_heading level0 row7\" >7</th>\n",
       "      <td id=\"T_14987_row7_col0\" class=\"data row7 col0\" >1</td>\n",
       "      <td id=\"T_14987_row7_col1\" class=\"data row7 col1\" >0</td>\n",
       "      <td id=\"T_14987_row7_col2\" class=\"data row7 col2\" >0</td>\n",
       "      <td id=\"T_14987_row7_col3\" class=\"data row7 col3\" >1</td>\n",
       "    </tr>\n",
       "    <tr>\n",
       "      <th id=\"T_14987_level0_row8\" class=\"row_heading level0 row8\" >8</th>\n",
       "      <td id=\"T_14987_row8_col0\" class=\"data row8 col0\" >1</td>\n",
       "      <td id=\"T_14987_row8_col1\" class=\"data row8 col1\" >0</td>\n",
       "      <td id=\"T_14987_row8_col2\" class=\"data row8 col2\" >0</td>\n",
       "      <td id=\"T_14987_row8_col3\" class=\"data row8 col3\" >1</td>\n",
       "    </tr>\n",
       "    <tr>\n",
       "      <th id=\"T_14987_level0_row9\" class=\"row_heading level0 row9\" >9</th>\n",
       "      <td id=\"T_14987_row9_col0\" class=\"data row9 col0\" >1</td>\n",
       "      <td id=\"T_14987_row9_col1\" class=\"data row9 col1\" >0</td>\n",
       "      <td id=\"T_14987_row9_col2\" class=\"data row9 col2\" >0</td>\n",
       "      <td id=\"T_14987_row9_col3\" class=\"data row9 col3\" >1</td>\n",
       "    </tr>\n",
       "  </tbody>\n",
       "</table>\n"
      ],
      "text/plain": [
       "<pandas.io.formats.style.Styler at 0x138fca8c0>"
      ]
     },
     "execution_count": 13,
     "metadata": {},
     "output_type": "execute_result"
    }
   ],
   "source": [
    "X3 = pd.DataFrame(model3.exog, columns=model3.exog_names).head(10).astype(int)\n",
    "X3.style.background_gradient(vmin=0, vmax=1)"
   ]
  },
  {
   "cell_type": "code",
   "execution_count": 14,
   "id": "ace877bd-d223-4dab-8a06-6d9f1104b954",
   "metadata": {},
   "outputs": [
    {
     "name": "stdout",
     "output_type": "stream",
     "text": [
      "                            OLS Regression Results                            \n",
      "==============================================================================\n",
      "Dep. Variable:                    tip   R-squared:                       0.020\n",
      "Model:                            OLS   Adj. R-squared:                  0.008\n",
      "Method:                 Least Squares   F-statistic:                     1.672\n",
      "Date:                Sun, 14 Aug 2022   Prob (F-statistic):              0.174\n",
      "Time:                        15:31:23   Log-Likelihood:                -422.43\n",
      "No. Observations:                 244   AIC:                             852.9\n",
      "Df Residuals:                     240   BIC:                             866.8\n",
      "Df Model:                           3                                         \n",
      "Covariance Type:            nonrobust                                         \n",
      "====================================================================================================\n",
      "                                       coef    std err          t      P>|t|      [0.025      0.975]\n",
      "----------------------------------------------------------------------------------------------------\n",
      "Intercept                            3.2551      0.158     20.594      0.000       2.944       3.566\n",
      "C(day, Treatment('Sun'))[T.Thur]    -0.4837      0.236     -2.051      0.041      -0.948      -0.019\n",
      "C(day, Treatment('Sun'))[T.Fri]     -0.5204      0.353     -1.472      0.142      -1.217       0.176\n",
      "C(day, Treatment('Sun'))[T.Sat]     -0.2620      0.216     -1.211      0.227      -0.688       0.164\n",
      "==============================================================================\n",
      "Omnibus:                       82.801   Durbin-Watson:                   1.932\n",
      "Prob(Omnibus):                  0.000   Jarque-Bera (JB):              238.276\n",
      "Skew:                           1.492   Prob(JB):                     1.82e-52\n",
      "Kurtosis:                       6.811   Cond. No.                         4.93\n",
      "==============================================================================\n",
      "\n",
      "Notes:\n",
      "[1] Standard Errors assume that the covariance matrix of the errors is correctly specified.\n"
     ]
    }
   ],
   "source": [
    "model4 = sm.OLS.from_formula(\"tip ~ C(day, Treatment('Sun'))\", tips)\n",
    "result4 = model4.fit()\n",
    "print(result4.summary())"
   ]
  },
  {
   "cell_type": "code",
   "execution_count": 15,
   "id": "a7f44888-7926-41bf-b457-02c37f09a555",
   "metadata": {},
   "outputs": [
    {
     "data": {
      "text/html": [
       "<style type=\"text/css\">\n",
       "#T_5f71d_row0_col0, #T_5f71d_row0_col3, #T_5f71d_row1_col0, #T_5f71d_row1_col3, #T_5f71d_row2_col0, #T_5f71d_row3_col0, #T_5f71d_row3_col3, #T_5f71d_row4_col0, #T_5f71d_row4_col2, #T_5f71d_row5_col0, #T_5f71d_row5_col2, #T_5f71d_row6_col0, #T_5f71d_row6_col3, #T_5f71d_row7_col0, #T_5f71d_row8_col0, #T_5f71d_row9_col0 {\n",
       "  background-color: #023858;\n",
       "  color: #f1f1f1;\n",
       "}\n",
       "#T_5f71d_row0_col1, #T_5f71d_row0_col2, #T_5f71d_row1_col1, #T_5f71d_row1_col2, #T_5f71d_row2_col1, #T_5f71d_row2_col2, #T_5f71d_row2_col3, #T_5f71d_row3_col1, #T_5f71d_row3_col2, #T_5f71d_row4_col1, #T_5f71d_row4_col3, #T_5f71d_row5_col1, #T_5f71d_row5_col3, #T_5f71d_row6_col1, #T_5f71d_row6_col2, #T_5f71d_row7_col1, #T_5f71d_row7_col2, #T_5f71d_row7_col3, #T_5f71d_row8_col1, #T_5f71d_row8_col2, #T_5f71d_row8_col3, #T_5f71d_row9_col1, #T_5f71d_row9_col2, #T_5f71d_row9_col3 {\n",
       "  background-color: #fff7fb;\n",
       "  color: #000000;\n",
       "}\n",
       "</style>\n",
       "<table id=\"T_5f71d\">\n",
       "  <thead>\n",
       "    <tr>\n",
       "      <th class=\"blank level0\" >&nbsp;</th>\n",
       "      <th id=\"T_5f71d_level0_col0\" class=\"col_heading level0 col0\" >Intercept</th>\n",
       "      <th id=\"T_5f71d_level0_col1\" class=\"col_heading level0 col1\" >C(day, Treatment('Sun'))[T.Thur]</th>\n",
       "      <th id=\"T_5f71d_level0_col2\" class=\"col_heading level0 col2\" >C(day, Treatment('Sun'))[T.Fri]</th>\n",
       "      <th id=\"T_5f71d_level0_col3\" class=\"col_heading level0 col3\" >C(day, Treatment('Sun'))[T.Sat]</th>\n",
       "    </tr>\n",
       "  </thead>\n",
       "  <tbody>\n",
       "    <tr>\n",
       "      <th id=\"T_5f71d_level0_row0\" class=\"row_heading level0 row0\" >0</th>\n",
       "      <td id=\"T_5f71d_row0_col0\" class=\"data row0 col0\" >1</td>\n",
       "      <td id=\"T_5f71d_row0_col1\" class=\"data row0 col1\" >0</td>\n",
       "      <td id=\"T_5f71d_row0_col2\" class=\"data row0 col2\" >0</td>\n",
       "      <td id=\"T_5f71d_row0_col3\" class=\"data row0 col3\" >1</td>\n",
       "    </tr>\n",
       "    <tr>\n",
       "      <th id=\"T_5f71d_level0_row1\" class=\"row_heading level0 row1\" >1</th>\n",
       "      <td id=\"T_5f71d_row1_col0\" class=\"data row1 col0\" >1</td>\n",
       "      <td id=\"T_5f71d_row1_col1\" class=\"data row1 col1\" >0</td>\n",
       "      <td id=\"T_5f71d_row1_col2\" class=\"data row1 col2\" >0</td>\n",
       "      <td id=\"T_5f71d_row1_col3\" class=\"data row1 col3\" >1</td>\n",
       "    </tr>\n",
       "    <tr>\n",
       "      <th id=\"T_5f71d_level0_row2\" class=\"row_heading level0 row2\" >2</th>\n",
       "      <td id=\"T_5f71d_row2_col0\" class=\"data row2 col0\" >1</td>\n",
       "      <td id=\"T_5f71d_row2_col1\" class=\"data row2 col1\" >0</td>\n",
       "      <td id=\"T_5f71d_row2_col2\" class=\"data row2 col2\" >0</td>\n",
       "      <td id=\"T_5f71d_row2_col3\" class=\"data row2 col3\" >0</td>\n",
       "    </tr>\n",
       "    <tr>\n",
       "      <th id=\"T_5f71d_level0_row3\" class=\"row_heading level0 row3\" >3</th>\n",
       "      <td id=\"T_5f71d_row3_col0\" class=\"data row3 col0\" >1</td>\n",
       "      <td id=\"T_5f71d_row3_col1\" class=\"data row3 col1\" >0</td>\n",
       "      <td id=\"T_5f71d_row3_col2\" class=\"data row3 col2\" >0</td>\n",
       "      <td id=\"T_5f71d_row3_col3\" class=\"data row3 col3\" >1</td>\n",
       "    </tr>\n",
       "    <tr>\n",
       "      <th id=\"T_5f71d_level0_row4\" class=\"row_heading level0 row4\" >4</th>\n",
       "      <td id=\"T_5f71d_row4_col0\" class=\"data row4 col0\" >1</td>\n",
       "      <td id=\"T_5f71d_row4_col1\" class=\"data row4 col1\" >0</td>\n",
       "      <td id=\"T_5f71d_row4_col2\" class=\"data row4 col2\" >1</td>\n",
       "      <td id=\"T_5f71d_row4_col3\" class=\"data row4 col3\" >0</td>\n",
       "    </tr>\n",
       "    <tr>\n",
       "      <th id=\"T_5f71d_level0_row5\" class=\"row_heading level0 row5\" >5</th>\n",
       "      <td id=\"T_5f71d_row5_col0\" class=\"data row5 col0\" >1</td>\n",
       "      <td id=\"T_5f71d_row5_col1\" class=\"data row5 col1\" >0</td>\n",
       "      <td id=\"T_5f71d_row5_col2\" class=\"data row5 col2\" >1</td>\n",
       "      <td id=\"T_5f71d_row5_col3\" class=\"data row5 col3\" >0</td>\n",
       "    </tr>\n",
       "    <tr>\n",
       "      <th id=\"T_5f71d_level0_row6\" class=\"row_heading level0 row6\" >6</th>\n",
       "      <td id=\"T_5f71d_row6_col0\" class=\"data row6 col0\" >1</td>\n",
       "      <td id=\"T_5f71d_row6_col1\" class=\"data row6 col1\" >0</td>\n",
       "      <td id=\"T_5f71d_row6_col2\" class=\"data row6 col2\" >0</td>\n",
       "      <td id=\"T_5f71d_row6_col3\" class=\"data row6 col3\" >1</td>\n",
       "    </tr>\n",
       "    <tr>\n",
       "      <th id=\"T_5f71d_level0_row7\" class=\"row_heading level0 row7\" >7</th>\n",
       "      <td id=\"T_5f71d_row7_col0\" class=\"data row7 col0\" >1</td>\n",
       "      <td id=\"T_5f71d_row7_col1\" class=\"data row7 col1\" >0</td>\n",
       "      <td id=\"T_5f71d_row7_col2\" class=\"data row7 col2\" >0</td>\n",
       "      <td id=\"T_5f71d_row7_col3\" class=\"data row7 col3\" >0</td>\n",
       "    </tr>\n",
       "    <tr>\n",
       "      <th id=\"T_5f71d_level0_row8\" class=\"row_heading level0 row8\" >8</th>\n",
       "      <td id=\"T_5f71d_row8_col0\" class=\"data row8 col0\" >1</td>\n",
       "      <td id=\"T_5f71d_row8_col1\" class=\"data row8 col1\" >0</td>\n",
       "      <td id=\"T_5f71d_row8_col2\" class=\"data row8 col2\" >0</td>\n",
       "      <td id=\"T_5f71d_row8_col3\" class=\"data row8 col3\" >0</td>\n",
       "    </tr>\n",
       "    <tr>\n",
       "      <th id=\"T_5f71d_level0_row9\" class=\"row_heading level0 row9\" >9</th>\n",
       "      <td id=\"T_5f71d_row9_col0\" class=\"data row9 col0\" >1</td>\n",
       "      <td id=\"T_5f71d_row9_col1\" class=\"data row9 col1\" >0</td>\n",
       "      <td id=\"T_5f71d_row9_col2\" class=\"data row9 col2\" >0</td>\n",
       "      <td id=\"T_5f71d_row9_col3\" class=\"data row9 col3\" >0</td>\n",
       "    </tr>\n",
       "  </tbody>\n",
       "</table>\n"
      ],
      "text/plain": [
       "<pandas.io.formats.style.Styler at 0x138fcba00>"
      ]
     },
     "execution_count": 15,
     "metadata": {},
     "output_type": "execute_result"
    }
   ],
   "source": [
    "X4 = pd.DataFrame(model4.exog, columns=model4.exog_names).head(10).astype(int)\n",
    "X4.style.background_gradient(vmin=0, vmax=1)"
   ]
  },
  {
   "cell_type": "code",
   "execution_count": 16,
   "id": "dc659b45-ddf8-4785-92f1-4d7245ee9ff8",
   "metadata": {},
   "outputs": [
    {
     "name": "stdout",
     "output_type": "stream",
     "text": [
      "                            OLS Regression Results                            \n",
      "==============================================================================\n",
      "Dep. Variable:                    tip   R-squared:                       0.020\n",
      "Model:                            OLS   Adj. R-squared:                  0.008\n",
      "Method:                 Least Squares   F-statistic:                     1.672\n",
      "Date:                Sun, 14 Aug 2022   Prob (F-statistic):              0.174\n",
      "Time:                        15:31:23   Log-Likelihood:                -422.43\n",
      "No. Observations:                 244   AIC:                             852.9\n",
      "Df Residuals:                     240   BIC:                             866.8\n",
      "Df Model:                           3                                         \n",
      "Covariance Type:            nonrobust                                         \n",
      "================================================================================\n",
      "                   coef    std err          t      P>|t|      [0.025      0.975]\n",
      "--------------------------------------------------------------------------------\n",
      "C(day)[Thur]     2.7715      0.175     15.837      0.000       2.427       3.116\n",
      "C(day)[Fri]      2.7347      0.316      8.651      0.000       2.112       3.357\n",
      "C(day)[Sat]      2.9931      0.148     20.261      0.000       2.702       3.284\n",
      "C(day)[Sun]      3.2551      0.158     20.594      0.000       2.944       3.566\n",
      "==============================================================================\n",
      "Omnibus:                       82.801   Durbin-Watson:                   1.932\n",
      "Prob(Omnibus):                  0.000   Jarque-Bera (JB):              238.276\n",
      "Skew:                           1.492   Prob(JB):                     1.82e-52\n",
      "Kurtosis:                       6.811   Cond. No.                         2.14\n",
      "==============================================================================\n",
      "\n",
      "Notes:\n",
      "[1] Standard Errors assume that the covariance matrix of the errors is correctly specified.\n"
     ]
    }
   ],
   "source": [
    "model5 = sm.OLS.from_formula(\"tip ~ C(day) + 0\", tips)\n",
    "result5 = model5.fit()\n",
    "print(result5.summary())"
   ]
  },
  {
   "cell_type": "code",
   "execution_count": 17,
   "id": "88a81c49-91f3-49a0-ae59-2211dc62bcc0",
   "metadata": {},
   "outputs": [
    {
     "data": {
      "text/html": [
       "<style type=\"text/css\">\n",
       "#T_b3e65_row0_col0, #T_b3e65_row0_col1, #T_b3e65_row0_col3, #T_b3e65_row1_col0, #T_b3e65_row1_col1, #T_b3e65_row1_col3, #T_b3e65_row2_col0, #T_b3e65_row2_col1, #T_b3e65_row2_col2, #T_b3e65_row3_col0, #T_b3e65_row3_col1, #T_b3e65_row3_col3, #T_b3e65_row4_col0, #T_b3e65_row4_col2, #T_b3e65_row4_col3, #T_b3e65_row5_col0, #T_b3e65_row5_col2, #T_b3e65_row5_col3, #T_b3e65_row6_col0, #T_b3e65_row6_col1, #T_b3e65_row6_col3, #T_b3e65_row7_col0, #T_b3e65_row7_col1, #T_b3e65_row7_col2, #T_b3e65_row8_col0, #T_b3e65_row8_col1, #T_b3e65_row8_col2, #T_b3e65_row9_col0, #T_b3e65_row9_col1, #T_b3e65_row9_col2 {\n",
       "  background-color: #fff7fb;\n",
       "  color: #000000;\n",
       "}\n",
       "#T_b3e65_row0_col2, #T_b3e65_row1_col2, #T_b3e65_row2_col3, #T_b3e65_row3_col2, #T_b3e65_row4_col1, #T_b3e65_row5_col1, #T_b3e65_row6_col2, #T_b3e65_row7_col3, #T_b3e65_row8_col3, #T_b3e65_row9_col3 {\n",
       "  background-color: #023858;\n",
       "  color: #f1f1f1;\n",
       "}\n",
       "</style>\n",
       "<table id=\"T_b3e65\">\n",
       "  <thead>\n",
       "    <tr>\n",
       "      <th class=\"blank level0\" >&nbsp;</th>\n",
       "      <th id=\"T_b3e65_level0_col0\" class=\"col_heading level0 col0\" >C(day)[Thur]</th>\n",
       "      <th id=\"T_b3e65_level0_col1\" class=\"col_heading level0 col1\" >C(day)[Fri]</th>\n",
       "      <th id=\"T_b3e65_level0_col2\" class=\"col_heading level0 col2\" >C(day)[Sat]</th>\n",
       "      <th id=\"T_b3e65_level0_col3\" class=\"col_heading level0 col3\" >C(day)[Sun]</th>\n",
       "    </tr>\n",
       "  </thead>\n",
       "  <tbody>\n",
       "    <tr>\n",
       "      <th id=\"T_b3e65_level0_row0\" class=\"row_heading level0 row0\" >0</th>\n",
       "      <td id=\"T_b3e65_row0_col0\" class=\"data row0 col0\" >0</td>\n",
       "      <td id=\"T_b3e65_row0_col1\" class=\"data row0 col1\" >0</td>\n",
       "      <td id=\"T_b3e65_row0_col2\" class=\"data row0 col2\" >1</td>\n",
       "      <td id=\"T_b3e65_row0_col3\" class=\"data row0 col3\" >0</td>\n",
       "    </tr>\n",
       "    <tr>\n",
       "      <th id=\"T_b3e65_level0_row1\" class=\"row_heading level0 row1\" >1</th>\n",
       "      <td id=\"T_b3e65_row1_col0\" class=\"data row1 col0\" >0</td>\n",
       "      <td id=\"T_b3e65_row1_col1\" class=\"data row1 col1\" >0</td>\n",
       "      <td id=\"T_b3e65_row1_col2\" class=\"data row1 col2\" >1</td>\n",
       "      <td id=\"T_b3e65_row1_col3\" class=\"data row1 col3\" >0</td>\n",
       "    </tr>\n",
       "    <tr>\n",
       "      <th id=\"T_b3e65_level0_row2\" class=\"row_heading level0 row2\" >2</th>\n",
       "      <td id=\"T_b3e65_row2_col0\" class=\"data row2 col0\" >0</td>\n",
       "      <td id=\"T_b3e65_row2_col1\" class=\"data row2 col1\" >0</td>\n",
       "      <td id=\"T_b3e65_row2_col2\" class=\"data row2 col2\" >0</td>\n",
       "      <td id=\"T_b3e65_row2_col3\" class=\"data row2 col3\" >1</td>\n",
       "    </tr>\n",
       "    <tr>\n",
       "      <th id=\"T_b3e65_level0_row3\" class=\"row_heading level0 row3\" >3</th>\n",
       "      <td id=\"T_b3e65_row3_col0\" class=\"data row3 col0\" >0</td>\n",
       "      <td id=\"T_b3e65_row3_col1\" class=\"data row3 col1\" >0</td>\n",
       "      <td id=\"T_b3e65_row3_col2\" class=\"data row3 col2\" >1</td>\n",
       "      <td id=\"T_b3e65_row3_col3\" class=\"data row3 col3\" >0</td>\n",
       "    </tr>\n",
       "    <tr>\n",
       "      <th id=\"T_b3e65_level0_row4\" class=\"row_heading level0 row4\" >4</th>\n",
       "      <td id=\"T_b3e65_row4_col0\" class=\"data row4 col0\" >0</td>\n",
       "      <td id=\"T_b3e65_row4_col1\" class=\"data row4 col1\" >1</td>\n",
       "      <td id=\"T_b3e65_row4_col2\" class=\"data row4 col2\" >0</td>\n",
       "      <td id=\"T_b3e65_row4_col3\" class=\"data row4 col3\" >0</td>\n",
       "    </tr>\n",
       "    <tr>\n",
       "      <th id=\"T_b3e65_level0_row5\" class=\"row_heading level0 row5\" >5</th>\n",
       "      <td id=\"T_b3e65_row5_col0\" class=\"data row5 col0\" >0</td>\n",
       "      <td id=\"T_b3e65_row5_col1\" class=\"data row5 col1\" >1</td>\n",
       "      <td id=\"T_b3e65_row5_col2\" class=\"data row5 col2\" >0</td>\n",
       "      <td id=\"T_b3e65_row5_col3\" class=\"data row5 col3\" >0</td>\n",
       "    </tr>\n",
       "    <tr>\n",
       "      <th id=\"T_b3e65_level0_row6\" class=\"row_heading level0 row6\" >6</th>\n",
       "      <td id=\"T_b3e65_row6_col0\" class=\"data row6 col0\" >0</td>\n",
       "      <td id=\"T_b3e65_row6_col1\" class=\"data row6 col1\" >0</td>\n",
       "      <td id=\"T_b3e65_row6_col2\" class=\"data row6 col2\" >1</td>\n",
       "      <td id=\"T_b3e65_row6_col3\" class=\"data row6 col3\" >0</td>\n",
       "    </tr>\n",
       "    <tr>\n",
       "      <th id=\"T_b3e65_level0_row7\" class=\"row_heading level0 row7\" >7</th>\n",
       "      <td id=\"T_b3e65_row7_col0\" class=\"data row7 col0\" >0</td>\n",
       "      <td id=\"T_b3e65_row7_col1\" class=\"data row7 col1\" >0</td>\n",
       "      <td id=\"T_b3e65_row7_col2\" class=\"data row7 col2\" >0</td>\n",
       "      <td id=\"T_b3e65_row7_col3\" class=\"data row7 col3\" >1</td>\n",
       "    </tr>\n",
       "    <tr>\n",
       "      <th id=\"T_b3e65_level0_row8\" class=\"row_heading level0 row8\" >8</th>\n",
       "      <td id=\"T_b3e65_row8_col0\" class=\"data row8 col0\" >0</td>\n",
       "      <td id=\"T_b3e65_row8_col1\" class=\"data row8 col1\" >0</td>\n",
       "      <td id=\"T_b3e65_row8_col2\" class=\"data row8 col2\" >0</td>\n",
       "      <td id=\"T_b3e65_row8_col3\" class=\"data row8 col3\" >1</td>\n",
       "    </tr>\n",
       "    <tr>\n",
       "      <th id=\"T_b3e65_level0_row9\" class=\"row_heading level0 row9\" >9</th>\n",
       "      <td id=\"T_b3e65_row9_col0\" class=\"data row9 col0\" >0</td>\n",
       "      <td id=\"T_b3e65_row9_col1\" class=\"data row9 col1\" >0</td>\n",
       "      <td id=\"T_b3e65_row9_col2\" class=\"data row9 col2\" >0</td>\n",
       "      <td id=\"T_b3e65_row9_col3\" class=\"data row9 col3\" >1</td>\n",
       "    </tr>\n",
       "  </tbody>\n",
       "</table>\n"
      ],
      "text/plain": [
       "<pandas.io.formats.style.Styler at 0x1390cb5e0>"
      ]
     },
     "execution_count": 17,
     "metadata": {},
     "output_type": "execute_result"
    }
   ],
   "source": [
    "X5 = pd.DataFrame(model5.exog, columns=model5.exog_names).head(10).astype(int)\n",
    "X5.style.background_gradient(vmin=0, vmax=1)"
   ]
  },
  {
   "cell_type": "markdown",
   "id": "3e4c00e7-cdfb-4474-a1d1-15066c40dc57",
   "metadata": {},
   "source": [
    "## 복수의 범주형 독립변수"
   ]
  },
  {
   "cell_type": "code",
   "execution_count": 18,
   "id": "27e04e0d-7fee-4c32-987d-3afb5216bc88",
   "metadata": {},
   "outputs": [
    {
     "data": {
      "image/png": "[encoded data removed]",
      "text/plain": [
       "<Figure size 797.35x360 with 1 Axes>"
      ]
     },
     "metadata": {
      "needs_background": "light"
     },
     "output_type": "display_data"
    }
   ],
   "source": [
    "g = sns.catplot(x=\"day\", y=\"tip\", hue=\"sex\", data=tips, \n",
    "                kind=\"box\", width=0.4, aspect=2)\n",
    "plt.show()"
   ]
  },
  {
   "cell_type": "code",
   "execution_count": null,
   "id": "3034cf5f-60e6-49af-86cd-54cba8557186",
   "metadata": {},
   "outputs": [],
   "source": []
  },
  {
   "cell_type": "code",
   "execution_count": null,
   "id": "39cd2954-35e1-41de-9f80-69547166754d",
   "metadata": {},
   "outputs": [],
   "source": []
  },
  {
   "cell_type": "code",
   "execution_count": null,
   "id": "35935bfd-1e83-4489-a4f7-6445a6fcbc13",
   "metadata": {},
   "outputs": [],
   "source": []
  }
 ],
 "metadata": {
  "kernelspec": {
   "display_name": "Python 3 (ipykernel)",
   "language": "python",
   "name": "python3"
  },
  "language_info": {
   "codemirror_mode": {
    "name": "ipython",
    "version": 3
   },
   "file_extension": ".py",
   "mimetype": "text/x-python",
   "name": "python",
   "nbconvert_exporter": "python",
   "pygments_lexer": "ipython3",
   "version": "3.10.5"
  }
 },
 "nbformat": 4,
 "nbformat_minor": 5
}
