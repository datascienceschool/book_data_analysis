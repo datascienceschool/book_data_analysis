{
 "cells": [
  {
   "cell_type": "code",
   "execution_count": 1,
   "id": "f26b3f7c-c563-4b90-a1c4-3a8c150f1ede",
   "metadata": {
    "tags": [
     "remove-cell"
    ]
   },
   "outputs": [],
   "source": [
    "%load_ext tikzmagic\n",
    "%matplotlib inline"
   ]
  },
  {
   "cell_type": "markdown",
   "id": "42dc79a7-47f3-4ad7-be0d-161007c4e85f",
   "metadata": {},
   "source": [
    "# 범주형 독립변수"
   ]
  },
  {
   "cell_type": "markdown",
   "id": "afda1206-5a3a-4f01-ba2f-f68a78570b9e",
   "metadata": {},
   "source": [
    "이 절에서는 선형회귀분석에 있어서 범주형 독립변수(categorical independent variable)의 사용법을 공부한다.\n",
    "\n",
    "예제로는 팁 데이터를 사용한다."
   ]
  },
  {
   "cell_type": "code",
   "execution_count": 2,
   "id": "32a72211-2935-4baa-8746-ea86ced94573",
   "metadata": {},
   "outputs": [
    {
     "data": {
      "text/html": [
       "<div>\n",
       "<style scoped>\n",
       "    .dataframe tbody tr th:only-of-type {\n",
       "        vertical-align: middle;\n",
       "    }\n",
       "\n",
       "    .dataframe tbody tr th {\n",
       "        vertical-align: top;\n",
       "    }\n",
       "\n",
       "    .dataframe thead th {\n",
       "        text-align: right;\n",
       "    }\n",
       "</style>\n",
       "<table border=\"1\" class=\"dataframe\">\n",
       "  <thead>\n",
       "    <tr style=\"text-align: right;\">\n",
       "      <th></th>\n",
       "      <th>total_bill</th>\n",
       "      <th>tip</th>\n",
       "      <th>sex</th>\n",
       "      <th>smoker</th>\n",
       "      <th>day</th>\n",
       "      <th>time</th>\n",
       "      <th>size</th>\n",
       "    </tr>\n",
       "  </thead>\n",
       "  <tbody>\n",
       "    <tr>\n",
       "      <th>0</th>\n",
       "      <td>17.59</td>\n",
       "      <td>2.64</td>\n",
       "      <td>Male</td>\n",
       "      <td>No</td>\n",
       "      <td>Sat</td>\n",
       "      <td>Dinner</td>\n",
       "      <td>3</td>\n",
       "    </tr>\n",
       "    <tr>\n",
       "      <th>1</th>\n",
       "      <td>18.29</td>\n",
       "      <td>3.76</td>\n",
       "      <td>Male</td>\n",
       "      <td>Yes</td>\n",
       "      <td>Sat</td>\n",
       "      <td>Dinner</td>\n",
       "      <td>4</td>\n",
       "    </tr>\n",
       "    <tr>\n",
       "      <th>2</th>\n",
       "      <td>19.49</td>\n",
       "      <td>3.51</td>\n",
       "      <td>Male</td>\n",
       "      <td>No</td>\n",
       "      <td>Sun</td>\n",
       "      <td>Dinner</td>\n",
       "      <td>2</td>\n",
       "    </tr>\n",
       "    <tr>\n",
       "      <th>3</th>\n",
       "      <td>7.25</td>\n",
       "      <td>1.00</td>\n",
       "      <td>Female</td>\n",
       "      <td>No</td>\n",
       "      <td>Sat</td>\n",
       "      <td>Dinner</td>\n",
       "      <td>1</td>\n",
       "    </tr>\n",
       "    <tr>\n",
       "      <th>4</th>\n",
       "      <td>16.27</td>\n",
       "      <td>2.50</td>\n",
       "      <td>Female</td>\n",
       "      <td>Yes</td>\n",
       "      <td>Fri</td>\n",
       "      <td>Lunch</td>\n",
       "      <td>2</td>\n",
       "    </tr>\n",
       "  </tbody>\n",
       "</table>\n",
       "</div>"
      ],
      "text/plain": [
       "   total_bill   tip     sex smoker  day    time  size\n",
       "0       17.59  2.64    Male     No  Sat  Dinner     3\n",
       "1       18.29  3.76    Male    Yes  Sat  Dinner     4\n",
       "2       19.49  3.51    Male     No  Sun  Dinner     2\n",
       "3        7.25  1.00  Female     No  Sat  Dinner     1\n",
       "4       16.27  2.50  Female    Yes  Fri   Lunch     2"
      ]
     },
     "execution_count": 2,
     "metadata": {},
     "output_type": "execute_result"
    }
   ],
   "source": [
    "import seaborn as sns\n",
    "\n",
    "tips = sns.load_dataset(\"tips\").sample(frac=1, random_state=0).reset_index(drop=True)\n",
    "tips.head()"
   ]
  },
  {
   "cell_type": "markdown",
   "id": "2d181296-5904-4041-a443-ed5f9a97bc74",
   "metadata": {},
   "source": [
    "## 레벨이 2개인 범주형 독립변수"
   ]
  },
  {
   "cell_type": "markdown",
   "id": "f001ccda-f9c5-4d21-9ce9-e85792ba6e1f",
   "metadata": {},
   "source": [
    "범주형 독립변수가 가질 수 있는 값을 <b>레벨(level)</b>이라고 한다. 우선 가장 간단한 모형으로 레벨이 2개인 범주형 독립변수만을 가지는 선형회귀모형을 살펴보자. 예를 들어 팁 데이터에서 time 변수는 Lunch와 Dinner라는 두가지 레벨을 가지는 독립변수이고 sex 변수도 남성 Male과 Female이라는 두 가지 레벨을 가지는 독립변수다. 우선 time 변수로 팁 데이터를 예측하는 선형회귀모형을 만들어보자. \n",
    "\n",
    "단 하나의 범주형 독립변수를 사용할 경우 두 가지 선형회귀모형을 만들어 볼 수 있다. 각각의 모형 문자열은 다음과 같다.\n",
    "\n",
    "* 모형 1 : `tip ~ C(time) + 0`\n",
    "* 모형 2 : `tip ~ C(time)`"
   ]
  },
  {
   "cell_type": "code",
   "execution_count": 3,
   "id": "b64bad47-3a19-4278-9c1a-344b8bb54c90",
   "metadata": {},
   "outputs": [],
   "source": [
    "import statsmodels.api as sm\n",
    "\n",
    "model1 = sm.OLS.from_formula(\"tip ~ C(time) + 0\", tips)\n",
    "model2 = sm.OLS.from_formula(\"tip ~ C(time)\", tips)"
   ]
  },
  {
   "cell_type": "markdown",
   "id": "9c4731a7-29bf-4666-9e99-6e4ef365872b",
   "metadata": {},
   "source": [
    "이 두가지 모형이 각각 어떤 의미인지를 파악하기 위해 각각 범주형 변수의 값(레벨)이 어떤 숫자로 인코딩되는지를 살펴보자."
   ]
  },
  {
   "cell_type": "code",
   "execution_count": 4,
   "id": "ee263d15-d573-4e81-9e06-955e07708e5a",
   "metadata": {},
   "outputs": [
    {
     "data": {
      "text/html": [
       "<style type=\"text/css\">\n",
       "#T_7cfed_row0_col1, #T_7cfed_row1_col1, #T_7cfed_row2_col1, #T_7cfed_row3_col1, #T_7cfed_row4_col2, #T_7cfed_row4_col4, #T_7cfed_row5_col1, #T_7cfed_row6_col1, #T_7cfed_row7_col1, #T_7cfed_row8_col1, #T_7cfed_row9_col1 {\n",
       "  background-color: #fff7fb;\n",
       "  color: #000000;\n",
       "}\n",
       "#T_7cfed_row0_col2, #T_7cfed_row0_col3, #T_7cfed_row0_col4, #T_7cfed_row1_col2, #T_7cfed_row1_col3, #T_7cfed_row1_col4, #T_7cfed_row2_col2, #T_7cfed_row2_col3, #T_7cfed_row2_col4, #T_7cfed_row3_col2, #T_7cfed_row3_col3, #T_7cfed_row3_col4, #T_7cfed_row4_col1, #T_7cfed_row4_col3, #T_7cfed_row5_col2, #T_7cfed_row5_col3, #T_7cfed_row5_col4, #T_7cfed_row6_col2, #T_7cfed_row6_col3, #T_7cfed_row6_col4, #T_7cfed_row7_col2, #T_7cfed_row7_col3, #T_7cfed_row7_col4, #T_7cfed_row8_col2, #T_7cfed_row8_col3, #T_7cfed_row8_col4, #T_7cfed_row9_col2, #T_7cfed_row9_col3, #T_7cfed_row9_col4 {\n",
       "  background-color: #023858;\n",
       "  color: #f1f1f1;\n",
       "}\n",
       "</style>\n",
       "<table id=\"T_7cfed\">\n",
       "  <thead>\n",
       "    <tr>\n",
       "      <th class=\"blank level0\" >&nbsp;</th>\n",
       "      <th id=\"T_7cfed_level0_col0\" class=\"col_heading level0 col0\" >raw</th>\n",
       "      <th id=\"T_7cfed_level0_col1\" class=\"col_heading level0 col1\" colspan=\"2\">model1</th>\n",
       "      <th id=\"T_7cfed_level0_col3\" class=\"col_heading level0 col3\" colspan=\"2\">model2</th>\n",
       "    </tr>\n",
       "    <tr>\n",
       "      <th class=\"blank level1\" >&nbsp;</th>\n",
       "      <th id=\"T_7cfed_level1_col0\" class=\"col_heading level1 col0\" >time</th>\n",
       "      <th id=\"T_7cfed_level1_col1\" class=\"col_heading level1 col1\" >C(time)[Lunch]</th>\n",
       "      <th id=\"T_7cfed_level1_col2\" class=\"col_heading level1 col2\" >C(time)[Dinner]</th>\n",
       "      <th id=\"T_7cfed_level1_col3\" class=\"col_heading level1 col3\" >Intercept</th>\n",
       "      <th id=\"T_7cfed_level1_col4\" class=\"col_heading level1 col4\" >C(time)[T.Dinner]</th>\n",
       "    </tr>\n",
       "  </thead>\n",
       "  <tbody>\n",
       "    <tr>\n",
       "      <th id=\"T_7cfed_level0_row0\" class=\"row_heading level0 row0\" >0</th>\n",
       "      <td id=\"T_7cfed_row0_col0\" class=\"data row0 col0\" >Dinner</td>\n",
       "      <td id=\"T_7cfed_row0_col1\" class=\"data row0 col1\" >0.000000</td>\n",
       "      <td id=\"T_7cfed_row0_col2\" class=\"data row0 col2\" >1.000000</td>\n",
       "      <td id=\"T_7cfed_row0_col3\" class=\"data row0 col3\" >1.000000</td>\n",
       "      <td id=\"T_7cfed_row0_col4\" class=\"data row0 col4\" >1.000000</td>\n",
       "    </tr>\n",
       "    <tr>\n",
       "      <th id=\"T_7cfed_level0_row1\" class=\"row_heading level0 row1\" >1</th>\n",
       "      <td id=\"T_7cfed_row1_col0\" class=\"data row1 col0\" >Dinner</td>\n",
       "      <td id=\"T_7cfed_row1_col1\" class=\"data row1 col1\" >0.000000</td>\n",
       "      <td id=\"T_7cfed_row1_col2\" class=\"data row1 col2\" >1.000000</td>\n",
       "      <td id=\"T_7cfed_row1_col3\" class=\"data row1 col3\" >1.000000</td>\n",
       "      <td id=\"T_7cfed_row1_col4\" class=\"data row1 col4\" >1.000000</td>\n",
       "    </tr>\n",
       "    <tr>\n",
       "      <th id=\"T_7cfed_level0_row2\" class=\"row_heading level0 row2\" >2</th>\n",
       "      <td id=\"T_7cfed_row2_col0\" class=\"data row2 col0\" >Dinner</td>\n",
       "      <td id=\"T_7cfed_row2_col1\" class=\"data row2 col1\" >0.000000</td>\n",
       "      <td id=\"T_7cfed_row2_col2\" class=\"data row2 col2\" >1.000000</td>\n",
       "      <td id=\"T_7cfed_row2_col3\" class=\"data row2 col3\" >1.000000</td>\n",
       "      <td id=\"T_7cfed_row2_col4\" class=\"data row2 col4\" >1.000000</td>\n",
       "    </tr>\n",
       "    <tr>\n",
       "      <th id=\"T_7cfed_level0_row3\" class=\"row_heading level0 row3\" >3</th>\n",
       "      <td id=\"T_7cfed_row3_col0\" class=\"data row3 col0\" >Dinner</td>\n",
       "      <td id=\"T_7cfed_row3_col1\" class=\"data row3 col1\" >0.000000</td>\n",
       "      <td id=\"T_7cfed_row3_col2\" class=\"data row3 col2\" >1.000000</td>\n",
       "      <td id=\"T_7cfed_row3_col3\" class=\"data row3 col3\" >1.000000</td>\n",
       "      <td id=\"T_7cfed_row3_col4\" class=\"data row3 col4\" >1.000000</td>\n",
       "    </tr>\n",
       "    <tr>\n",
       "      <th id=\"T_7cfed_level0_row4\" class=\"row_heading level0 row4\" >4</th>\n",
       "      <td id=\"T_7cfed_row4_col0\" class=\"data row4 col0\" >Lunch</td>\n",
       "      <td id=\"T_7cfed_row4_col1\" class=\"data row4 col1\" >1.000000</td>\n",
       "      <td id=\"T_7cfed_row4_col2\" class=\"data row4 col2\" >0.000000</td>\n",
       "      <td id=\"T_7cfed_row4_col3\" class=\"data row4 col3\" >1.000000</td>\n",
       "      <td id=\"T_7cfed_row4_col4\" class=\"data row4 col4\" >0.000000</td>\n",
       "    </tr>\n",
       "    <tr>\n",
       "      <th id=\"T_7cfed_level0_row5\" class=\"row_heading level0 row5\" >5</th>\n",
       "      <td id=\"T_7cfed_row5_col0\" class=\"data row5 col0\" >Dinner</td>\n",
       "      <td id=\"T_7cfed_row5_col1\" class=\"data row5 col1\" >0.000000</td>\n",
       "      <td id=\"T_7cfed_row5_col2\" class=\"data row5 col2\" >1.000000</td>\n",
       "      <td id=\"T_7cfed_row5_col3\" class=\"data row5 col3\" >1.000000</td>\n",
       "      <td id=\"T_7cfed_row5_col4\" class=\"data row5 col4\" >1.000000</td>\n",
       "    </tr>\n",
       "    <tr>\n",
       "      <th id=\"T_7cfed_level0_row6\" class=\"row_heading level0 row6\" >6</th>\n",
       "      <td id=\"T_7cfed_row6_col0\" class=\"data row6 col0\" >Dinner</td>\n",
       "      <td id=\"T_7cfed_row6_col1\" class=\"data row6 col1\" >0.000000</td>\n",
       "      <td id=\"T_7cfed_row6_col2\" class=\"data row6 col2\" >1.000000</td>\n",
       "      <td id=\"T_7cfed_row6_col3\" class=\"data row6 col3\" >1.000000</td>\n",
       "      <td id=\"T_7cfed_row6_col4\" class=\"data row6 col4\" >1.000000</td>\n",
       "    </tr>\n",
       "    <tr>\n",
       "      <th id=\"T_7cfed_level0_row7\" class=\"row_heading level0 row7\" >7</th>\n",
       "      <td id=\"T_7cfed_row7_col0\" class=\"data row7 col0\" >Dinner</td>\n",
       "      <td id=\"T_7cfed_row7_col1\" class=\"data row7 col1\" >0.000000</td>\n",
       "      <td id=\"T_7cfed_row7_col2\" class=\"data row7 col2\" >1.000000</td>\n",
       "      <td id=\"T_7cfed_row7_col3\" class=\"data row7 col3\" >1.000000</td>\n",
       "      <td id=\"T_7cfed_row7_col4\" class=\"data row7 col4\" >1.000000</td>\n",
       "    </tr>\n",
       "    <tr>\n",
       "      <th id=\"T_7cfed_level0_row8\" class=\"row_heading level0 row8\" >8</th>\n",
       "      <td id=\"T_7cfed_row8_col0\" class=\"data row8 col0\" >Dinner</td>\n",
       "      <td id=\"T_7cfed_row8_col1\" class=\"data row8 col1\" >0.000000</td>\n",
       "      <td id=\"T_7cfed_row8_col2\" class=\"data row8 col2\" >1.000000</td>\n",
       "      <td id=\"T_7cfed_row8_col3\" class=\"data row8 col3\" >1.000000</td>\n",
       "      <td id=\"T_7cfed_row8_col4\" class=\"data row8 col4\" >1.000000</td>\n",
       "    </tr>\n",
       "    <tr>\n",
       "      <th id=\"T_7cfed_level0_row9\" class=\"row_heading level0 row9\" >9</th>\n",
       "      <td id=\"T_7cfed_row9_col0\" class=\"data row9 col0\" >Dinner</td>\n",
       "      <td id=\"T_7cfed_row9_col1\" class=\"data row9 col1\" >0.000000</td>\n",
       "      <td id=\"T_7cfed_row9_col2\" class=\"data row9 col2\" >1.000000</td>\n",
       "      <td id=\"T_7cfed_row9_col3\" class=\"data row9 col3\" >1.000000</td>\n",
       "      <td id=\"T_7cfed_row9_col4\" class=\"data row9 col4\" >1.000000</td>\n",
       "    </tr>\n",
       "  </tbody>\n",
       "</table>\n"
      ],
      "text/plain": [
       "<pandas.io.formats.style.Styler at 0x7f9921e65d50>"
      ]
     },
     "execution_count": 4,
     "metadata": {},
     "output_type": "execute_result"
    }
   ],
   "source": [
    "import pandas as pd\n",
    "\n",
    "X0 = tips[[\"time\"]]\n",
    "X1 = pd.DataFrame(model1.exog, columns=model1.exog_names).head(10).astype(int)\n",
    "X2 = pd.DataFrame(model2.exog, columns=model2.exog_names).head(10).astype(int)\n",
    "pd.concat([X0, X1, X2], axis=1, keys=[\"raw\", \"model1\", \"model2\"]).head(10).style.background_gradient(vmin=0, vmax=1)"
   ]
  },
  {
   "cell_type": "markdown",
   "id": "e07a6989-a369-46cd-9745-4c8b9eb6cedd",
   "metadata": {},
   "source": [
    "모형1에서는 C(time)[Lunch] 와 C(time)[Dinner] 라는 두 개의 변수가 만들어지고 이 값은 각각 다음과 같이 인코딩되었다. 모형2에서는 Intercept 와 C(time)[T.Dinner] 라는 두 개의 변수가 만들어지고 이 값은 각각 다음과 같이 인코딩되었다. \n",
    "\n",
    "이렇게 범주형 독립변수를 선형회귀분석에 사용하게 되면 레벨의 개수와 같은 개수의 변수가 만들어지는데 이를 <b>더미변수(dummy variable)</b>라고 한다. 더미변수의 값은 0 또는 1 값만을 가질 수 있다. 더미변수의 값을 정하는 규칙을 더미변수 인코딩(encoding) 규칙이라고 한다.\n",
    "\n",
    "모형1에서 더미변수의 값은 다음과 같이 정해진다.\n",
    "\n",
    "* Lunch -> C(time)[Lunch] = 1, C(time)[T.Dinner] = 0\n",
    "* Dinner -> C(time)[Lunch] = 0, C(time)[T.Dinner] = 1\n",
    "\n",
    "즉 C(time)[Lunch] 변수를 $d_0$, 그 가중치를 $w_0$, C(time)[T.Dinner] 변수를 $d_1$, 그 가중치를 $w_1$이라고 하면,\n",
    "\n",
    "x = Lunch인 경우\n",
    "\n",
    "$$ \\hat{y} = w_0 d_0 + w_1 d_1 = w_0 \\cdot 1 + w_1 \\cdot 0 = w_0 $$\n",
    "\n",
    "x = Dinner인 경우\n",
    "\n",
    "$$ \\hat{y} = w_0 d_0 + w_1 d_1 = w_0 \\cdot 0 + w_1 \\cdot 1 = w_1 $$\n",
    "\n",
    "가 된다.\n",
    "\n",
    "이 모형의 가중치가 의미하는 바는 다음과 같다.\n",
    "\n",
    "* $w_0$ : x 값이 Lunch인 경우의 팁의 평균값\n",
    "* $w_1$ : x 값이 Dinner인 경우의 팁의 평균값\n",
    "\n",
    "이러한 더미 인코딩 방식을 <b>전체랭크 인코딩(full-rank encoding)</b>이라고 한다.\n",
    "\n",
    "모형2에서는 Intercept 와 C(time)[T.Dinner] 라는 두 개의 변수가 만들어지고 이 값은 각각 다음과 같이 인코딩되었다. \n",
    "\n",
    "* Lunch -> Intercept = 1, C(time)[T.Dinner] = 0\n",
    "* Dinner -> Intercept = 1, C(time)[T.Dinner] = 1\n",
    "\n",
    "즉 Intercept 변수를 $d_0$, 그 가중치를 $w_0$, C(time)[T.Dinner] 변수를 $d_1$, 그 가중치를 $w_1$이라고 하면,\n",
    "\n",
    "x = Lunch인 경우\n",
    "\n",
    "$$ \\hat{y} = w_0 d_0 + w_1 d_1 = w_0 \\cdot 1 + w_1 \\cdot 0 = w_0 $$\n",
    "\n",
    "x = Dinner인 경우\n",
    "\n",
    "$$ \\hat{y} = w_0 d_0 + w_1 d_1 = w_0 \\cdot 1 + w_1 \\cdot 1 = w_0 + w_1 $$\n",
    "\n",
    "가 된다.\n",
    "\n",
    "이 모형의 가중치가 의미하는 바는 다음과 같다.\n",
    "\n",
    "* $w_0$ : x 값이 Lunch인 경우의 팁의 평균값\n",
    "* $w_1$ : x 값이 Dinner인 경우의 팁이 Lunch의 경우와 얼마나 달라지는지에 대한 평균값\n",
    "\n",
    "이러한 더미 인코딩 방식을 <b>축소랭크 인코딩(reduced-rank encoding)</b>이라고 한다.\n",
    "\n",
    "그러면 이제 실제로 이 두 가지 모형에 대해 선형회귀분석을 해보자."
   ]
  },
  {
   "cell_type": "code",
   "execution_count": 5,
   "id": "231283f7-2a40-4eb1-bdaf-4a0f47e79a0b",
   "metadata": {},
   "outputs": [
    {
     "name": "stdout",
     "output_type": "stream",
     "text": [
      "                            OLS Regression Results                            \n",
      "==============================================================================\n",
      "Dep. Variable:                    tip   R-squared:                       0.015\n",
      "Model:                            OLS   Adj. R-squared:                  0.011\n",
      "Method:                 Least Squares   F-statistic:                     3.634\n",
      "Date:                Wed, 12 Oct 2022   Prob (F-statistic):             0.0578\n",
      "Time:                        00:51:28   Log-Likelihood:                -423.13\n",
      "No. Observations:                 244   AIC:                             850.3\n",
      "Df Residuals:                     242   BIC:                             857.3\n",
      "Df Model:                           1                                         \n",
      "Covariance Type:            nonrobust                                         \n",
      "===================================================================================\n",
      "                      coef    std err          t      P>|t|      [0.025      0.975]\n",
      "-----------------------------------------------------------------------------------\n",
      "C(time)[Lunch]      2.7281      0.167     16.347      0.000       2.399       3.057\n",
      "C(time)[Dinner]     3.1027      0.104     29.910      0.000       2.898       3.307\n",
      "==============================================================================\n",
      "Omnibus:                       77.962   Durbin-Watson:                   1.934\n",
      "Prob(Omnibus):                  0.000   Jarque-Bera (JB):              206.982\n",
      "Skew:                           1.437   Prob(JB):                     1.13e-45\n",
      "Kurtosis:                       6.479   Cond. No.                         1.61\n",
      "==============================================================================\n",
      "\n",
      "Notes:\n",
      "[1] Standard Errors assume that the covariance matrix of the errors is correctly specified.\n"
     ]
    }
   ],
   "source": [
    "result1 = model1.fit()\n",
    "print(result1.summary())"
   ]
  },
  {
   "cell_type": "markdown",
   "id": "397e4761-6d4b-4f96-9e38-ae4554d277f9",
   "metadata": {},
   "source": [
    "모형1의 결과가 뜻하는 바는 x=Lunch인 경우 팁의 평균값은 약 2.73이고 x=Dinner인 경우 팁의 평균값은 약 3.10이라는 뜻이다. 두 변수에 대한 유의확율이 0에 가까우므로 각각의 경우에 대해 팁이 0일 확률은 거의 없다고 볼 수 있다. "
   ]
  },
  {
   "cell_type": "code",
   "execution_count": 6,
   "id": "910e2142-893a-4978-bcdb-181f6e438211",
   "metadata": {},
   "outputs": [
    {
     "name": "stdout",
     "output_type": "stream",
     "text": [
      "                            OLS Regression Results                            \n",
      "==============================================================================\n",
      "Dep. Variable:                    tip   R-squared:                       0.015\n",
      "Model:                            OLS   Adj. R-squared:                  0.011\n",
      "Method:                 Least Squares   F-statistic:                     3.634\n",
      "Date:                Wed, 12 Oct 2022   Prob (F-statistic):             0.0578\n",
      "Time:                        00:51:28   Log-Likelihood:                -423.13\n",
      "No. Observations:                 244   AIC:                             850.3\n",
      "Df Residuals:                     242   BIC:                             857.3\n",
      "Df Model:                           1                                         \n",
      "Covariance Type:            nonrobust                                         \n",
      "=====================================================================================\n",
      "                        coef    std err          t      P>|t|      [0.025      0.975]\n",
      "-------------------------------------------------------------------------------------\n",
      "Intercept             2.7281      0.167     16.347      0.000       2.399       3.057\n",
      "C(time)[T.Dinner]     0.3746      0.197      1.906      0.058      -0.012       0.762\n",
      "==============================================================================\n",
      "Omnibus:                       77.962   Durbin-Watson:                   1.934\n",
      "Prob(Omnibus):                  0.000   Jarque-Bera (JB):              206.982\n",
      "Skew:                           1.437   Prob(JB):                     1.13e-45\n",
      "Kurtosis:                       6.479   Cond. No.                         3.56\n",
      "==============================================================================\n",
      "\n",
      "Notes:\n",
      "[1] Standard Errors assume that the covariance matrix of the errors is correctly specified.\n"
     ]
    }
   ],
   "source": [
    "result2 = model2.fit()\n",
    "print(result2.summary())"
   ]
  },
  {
   "cell_type": "markdown",
   "id": "9ed83b6e-29c7-4a52-89d8-36138dfbfe50",
   "metadata": {},
   "source": [
    "모형2의 결과가 뜻하는 바는 x=Lunch인 경우 팁의 평균값은 약 2.73이고 x=Dinner인 경우 약 0.375정도 팁이 증가한다는 뜻이다. 이 때 유의확률이 5.8%이므로 만약 유의수준이 10%이면 이 차이는 유의하다고 할 수 있다. 즉, 점심이나 저녁이냐에 따라 팁이 달라진다는 것을 의미한다. 하지만 만약 유의수준이 5% 이하라면 이 변수는 유의하지 않다. 즉 점심이냐 저녁이냐에 따라 팁이 달라진다고 말할 수 없으므로 time 변수는 유의한 선형회귀 독립변수가 될 수 없다."
   ]
  },
  {
   "cell_type": "markdown",
   "id": "861ca3ea-8d87-41f2-be33-1e9943573e70",
   "metadata": {},
   "source": [
    "축소랭크 인코딩 방식에서 기준이 되는 값은 별도로 지정하지 않으면 레벨값을 알파벳 순서로 정렬하여 가장 마지막 값이 된다. 만약 기준이 되는 값을 이와 다르게 지정하고 싶다면 다음과 같이 모형 문자열을 만들어야 한다."
   ]
  },
  {
   "cell_type": "code",
   "execution_count": 7,
   "id": "3bdeba61-1036-4d10-b906-c0dc4410d045",
   "metadata": {},
   "outputs": [
    {
     "name": "stdout",
     "output_type": "stream",
     "text": [
      "                            OLS Regression Results                            \n",
      "==============================================================================\n",
      "Dep. Variable:                    tip   R-squared:                       0.015\n",
      "Model:                            OLS   Adj. R-squared:                  0.011\n",
      "Method:                 Least Squares   F-statistic:                     3.634\n",
      "Date:                Wed, 12 Oct 2022   Prob (F-statistic):             0.0578\n",
      "Time:                        00:51:28   Log-Likelihood:                -423.13\n",
      "No. Observations:                 244   AIC:                             850.3\n",
      "Df Residuals:                     242   BIC:                             857.3\n",
      "Df Model:                           1                                         \n",
      "Covariance Type:            nonrobust                                         \n",
      "===================================================================================================================\n",
      "                                                      coef    std err          t      P>|t|      [0.025      0.975]\n",
      "-------------------------------------------------------------------------------------------------------------------\n",
      "Intercept                                           3.1027      0.104     29.910      0.000       2.898       3.307\n",
      "C(time, Treatment(reference='Dinner'))[T.Lunch]    -0.3746      0.197     -1.906      0.058      -0.762       0.012\n",
      "==============================================================================\n",
      "Omnibus:                       77.962   Durbin-Watson:                   1.934\n",
      "Prob(Omnibus):                  0.000   Jarque-Bera (JB):              206.982\n",
      "Skew:                           1.437   Prob(JB):                     1.13e-45\n",
      "Kurtosis:                       6.479   Cond. No.                         2.44\n",
      "==============================================================================\n",
      "\n",
      "Notes:\n",
      "[1] Standard Errors assume that the covariance matrix of the errors is correctly specified.\n"
     ]
    }
   ],
   "source": [
    "model2_2 = sm.OLS.from_formula(\"tip ~ C(time, Treatment(reference='Dinner'))\", tips)\n",
    "result2_2 = model2_2.fit()\n",
    "print(result2_2.summary())"
   ]
  },
  {
   "cell_type": "markdown",
   "id": "6ebf162e-43fa-44c2-92ce-79c624ad8fc6",
   "metadata": {},
   "source": [
    "이번에는 sex라는 독립변수를 사용하여 같은 분석을 해보자."
   ]
  },
  {
   "cell_type": "code",
   "execution_count": 8,
   "id": "62ca0f7a-b9bf-48b0-b756-5d3a2021f9a1",
   "metadata": {},
   "outputs": [],
   "source": [
    "model3 = sm.OLS.from_formula(\"tip ~ C(sex) + 0\", tips)\n",
    "model4 = sm.OLS.from_formula(\"tip ~ C(sex)\", tips)"
   ]
  },
  {
   "cell_type": "markdown",
   "id": "dd0770af-5685-42f2-a51d-5ea8e289c668",
   "metadata": {},
   "source": [
    "분석 결과는 다음과 같다."
   ]
  },
  {
   "cell_type": "code",
   "execution_count": 9,
   "id": "b3115caf-fcf8-486a-8d2b-b9cab4548965",
   "metadata": {},
   "outputs": [
    {
     "name": "stdout",
     "output_type": "stream",
     "text": [
      "                            OLS Regression Results                            \n",
      "==============================================================================\n",
      "Dep. Variable:                    tip   R-squared:                       0.008\n",
      "Model:                            OLS   Adj. R-squared:                  0.004\n",
      "Method:                 Least Squares   F-statistic:                     1.926\n",
      "Date:                Wed, 12 Oct 2022   Prob (F-statistic):              0.166\n",
      "Time:                        00:51:28   Log-Likelihood:                -423.98\n",
      "No. Observations:                 244   AIC:                             852.0\n",
      "Df Residuals:                     242   BIC:                             859.0\n",
      "Df Model:                           1                                         \n",
      "Covariance Type:            nonrobust                                         \n",
      "==================================================================================\n",
      "                     coef    std err          t      P>|t|      [0.025      0.975]\n",
      "----------------------------------------------------------------------------------\n",
      "C(sex)[Male]       3.0896      0.110     28.032      0.000       2.873       3.307\n",
      "C(sex)[Female]     2.8334      0.148     19.137      0.000       2.542       3.125\n",
      "==============================================================================\n",
      "Omnibus:                       75.995   Durbin-Watson:                   1.922\n",
      "Prob(Omnibus):                  0.000   Jarque-Bera (JB):              194.975\n",
      "Skew:                           1.415   Prob(JB):                     4.59e-43\n",
      "Kurtosis:                       6.342   Cond. No.                         1.34\n",
      "==============================================================================\n",
      "\n",
      "Notes:\n",
      "[1] Standard Errors assume that the covariance matrix of the errors is correctly specified.\n"
     ]
    }
   ],
   "source": [
    "result3 = model3.fit()\n",
    "print(result3.summary())"
   ]
  },
  {
   "cell_type": "code",
   "execution_count": 10,
   "id": "3e94edd6-b264-4b24-9881-f9f0b787bd35",
   "metadata": {},
   "outputs": [
    {
     "name": "stdout",
     "output_type": "stream",
     "text": [
      "                            OLS Regression Results                            \n",
      "==============================================================================\n",
      "Dep. Variable:                    tip   R-squared:                       0.008\n",
      "Model:                            OLS   Adj. R-squared:                  0.004\n",
      "Method:                 Least Squares   F-statistic:                     1.926\n",
      "Date:                Wed, 12 Oct 2022   Prob (F-statistic):              0.166\n",
      "Time:                        00:51:28   Log-Likelihood:                -423.98\n",
      "No. Observations:                 244   AIC:                             852.0\n",
      "Df Residuals:                     242   BIC:                             859.0\n",
      "Df Model:                           1                                         \n",
      "Covariance Type:            nonrobust                                         \n",
      "====================================================================================\n",
      "                       coef    std err          t      P>|t|      [0.025      0.975]\n",
      "------------------------------------------------------------------------------------\n",
      "Intercept            3.0896      0.110     28.032      0.000       2.873       3.307\n",
      "C(sex)[T.Female]    -0.2562      0.185     -1.388      0.166      -0.620       0.107\n",
      "==============================================================================\n",
      "Omnibus:                       75.995   Durbin-Watson:                   1.922\n",
      "Prob(Omnibus):                  0.000   Jarque-Bera (JB):              194.975\n",
      "Skew:                           1.415   Prob(JB):                     4.59e-43\n",
      "Kurtosis:                       6.342   Cond. No.                         2.42\n",
      "==============================================================================\n",
      "\n",
      "Notes:\n",
      "[1] Standard Errors assume that the covariance matrix of the errors is correctly specified.\n"
     ]
    }
   ],
   "source": [
    "result4 = model4.fit()\n",
    "print(result4.summary())"
   ]
  },
  {
   "cell_type": "markdown",
   "id": "2f856f72-7ea4-4582-bd86-efead5d56bb8",
   "metadata": {},
   "source": [
    "모형3의 결과를 보면 남성인 경우 팁의 평균은 3.0896, 여성인 경우 2.8334로 나왔으며 이 값이 0일 가능성은 없다. \n",
    "\n",
    "모형4의 결과를 보면 여성인 경우 팁의 평균은 남성의 경우보다 0.2562 정도 감소하지만 유의확률이 16.6%라는 사실에서 이 차이는 유의하지 않다는 것을 알 수 있다. 즉, 성별에 따른 팁의 차이는 없다."
   ]
  },
  {
   "cell_type": "markdown",
   "id": "21410e86-a06e-4bda-a33b-c1c0ef553240",
   "metadata": {},
   "source": [
    "## 레벨이 2개인 범주형 독립변수와 수치형 독립변수를 동시에 사용하는 경우"
   ]
  },
  {
   "cell_type": "markdown",
   "id": "47fb83d4-a377-4cfd-aeb2-a6c032945433",
   "metadata": {},
   "source": [
    "## 변수간 상호작용"
   ]
  },
  {
   "cell_type": "markdown",
   "id": "14927e02-ec63-4f12-9c27-6a5fc55db324",
   "metadata": {},
   "source": [
    "## 레벨이 3개 이상인 범주형 독립변수의 인코딩"
   ]
  },
  {
   "cell_type": "markdown",
   "id": "c1f7577d-d4cf-46e3-bb89-e1b09dea17e3",
   "metadata": {},
   "source": [
    "## 복수의 범주형 독립변수가 있는 경우의 인코딩"
   ]
  }
 ],
 "metadata": {
  "kernelspec": {
   "display_name": "Python 3 (ipykernel)",
   "language": "python",
   "name": "python3"
  },
  "language_info": {
   "codemirror_mode": {
    "name": "ipython",
    "version": 3
   },
   "file_extension": ".py",
   "mimetype": "text/x-python",
   "name": "python",
   "nbconvert_exporter": "python",
   "pygments_lexer": "ipython3",
   "version": "3.10.6"
  }
 },
 "nbformat": 4,
 "nbformat_minor": 5
}
