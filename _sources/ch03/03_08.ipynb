{
 "cells": [
  {
   "cell_type": "code",
   "execution_count": 1,
   "id": "f26b3f7c-c563-4b90-a1c4-3a8c150f1ede",
   "metadata": {
    "tags": [
     "remove-cell"
    ]
   },
   "outputs": [],
   "source": [
    "%load_ext tikzmagic\n",
    "%matplotlib inline"
   ]
  },
  {
   "cell_type": "markdown",
   "id": "42dc79a7-47f3-4ad7-be0d-161007c4e85f",
   "metadata": {},
   "source": [
    "# 예측과 교차검증"
   ]
  },
  {
   "cell_type": "markdown",
   "id": "55c3174a-cf05-497c-b8f3-0129fecaaa0b",
   "metadata": {},
   "source": [
    "회귀분석의 첫번째 목적은 종속변수와 독립변수간의 관계, 즉 가중치를 알아내는 것이다. 회귀분석의 두번째 목적은 이 가중치를 사용하여 새로운 독립변수 값에 대한 종속변수를 예측하는 것이다. 이 절에서는 새로운 종속변수를 예측하는 방법에 대해 알아본다."
   ]
  },
  {
   "cell_type": "markdown",
   "id": "f53a6e31-4976-4d63-98bf-7c7f57ad6a60",
   "metadata": {},
   "source": [
    "## 예측"
   ]
  },
  {
   "cell_type": "markdown",
   "id": "5abfe819-5149-470b-930c-87a02c3950a6",
   "metadata": {},
   "source": [
    "예제 회귀분석모형으로 보스턴 집값 데이터를 lstat 독립변수로 예측하는 간단한 모형을 사용하여 설명한다."
   ]
  },
  {
   "cell_type": "code",
   "execution_count": 2,
   "id": "33f8e13e-9713-44ec-bd01-05e9b802a57f",
   "metadata": {},
   "outputs": [],
   "source": [
    "import statsmodels.api as sm\n",
    "\n",
    "boston = sm.datasets.get_rdataset(\"Boston\", \"MASS\").data\n",
    "\n",
    "formula = \"medv ~ scale(lstat)\"\n",
    "model = sm.OLS.from_formula(formula, boston)\n",
    "result = model.fit()"
   ]
  },
  {
   "cell_type": "markdown",
   "id": "413bfbb1-55f0-42a8-9c1f-035e941b55e9",
   "metadata": {},
   "source": [
    "선형회귀분석 결과 객체는 종속변수를 예측하는 `get_prediction` 메서드를 제공한다. `get_prediction` 메서드의 입력값으로는 독립변수 값이 있는 pands 데이터프레임을 넣어야 한다. lstat의 값이 각각 5, 6, 7인 경우의 집값을 예측해보자."
   ]
  },
  {
   "cell_type": "code",
   "execution_count": 3,
   "id": "5cb30d08-2097-4b29-a3bc-334ddf30aa32",
   "metadata": {},
   "outputs": [
    {
     "data": {
      "text/html": [
       "<div>\n",
       "<style scoped>\n",
       "    .dataframe tbody tr th:only-of-type {\n",
       "        vertical-align: middle;\n",
       "    }\n",
       "\n",
       "    .dataframe tbody tr th {\n",
       "        vertical-align: top;\n",
       "    }\n",
       "\n",
       "    .dataframe thead th {\n",
       "        text-align: right;\n",
       "    }\n",
       "</style>\n",
       "<table border=\"1\" class=\"dataframe\">\n",
       "  <thead>\n",
       "    <tr style=\"text-align: right;\">\n",
       "      <th></th>\n",
       "      <th>lstat</th>\n",
       "    </tr>\n",
       "  </thead>\n",
       "  <tbody>\n",
       "    <tr>\n",
       "      <th>0</th>\n",
       "      <td>5</td>\n",
       "    </tr>\n",
       "    <tr>\n",
       "      <th>1</th>\n",
       "      <td>6</td>\n",
       "    </tr>\n",
       "    <tr>\n",
       "      <th>2</th>\n",
       "      <td>7</td>\n",
       "    </tr>\n",
       "  </tbody>\n",
       "</table>\n",
       "</div>"
      ],
      "text/plain": [
       "   lstat\n",
       "0      5\n",
       "1      6\n",
       "2      7"
      ]
     },
     "execution_count": 3,
     "metadata": {},
     "output_type": "execute_result"
    }
   ],
   "source": [
    "import pandas as pd\n",
    "\n",
    "X_new = pd.DataFrame({\"lstat\": [5, 6, 7]})\n",
    "X_new"
   ]
  },
  {
   "cell_type": "markdown",
   "id": "d4c39a74-0fce-40f5-bed3-92998cbe21d2",
   "metadata": {},
   "source": [
    "이 독립변수 데이터를 넣어서 `get_prediction` 메서드를 호출하면 예측 객체가 나온다. 예측 객체는 `PredictionResults` 클래스 객체다."
   ]
  },
  {
   "cell_type": "code",
   "execution_count": 4,
   "id": "43d6ec7b-58e3-4caf-8e5e-72d5170bafd5",
   "metadata": {},
   "outputs": [
    {
     "data": {
      "text/plain": [
       "<statsmodels.regression._prediction.PredictionResults at 0x203ee22d970>"
      ]
     },
     "execution_count": 4,
     "metadata": {},
     "output_type": "execute_result"
    }
   ],
   "source": [
    "pred_result = result.get_prediction(X_new)\n",
    "pred_result"
   ]
  },
  {
   "cell_type": "markdown",
   "id": "38ff255a-c8ce-43ac-9b11-a6fff84cedb6",
   "metadata": {},
   "source": [
    "이 예측 객체의 `summary_frame` 메서드를 호출하면 예측 결과를 데이터프레임으로 출력한다."
   ]
  },
  {
   "cell_type": "code",
   "execution_count": 5,
   "id": "5bcabc20-c815-4ec2-ac96-5378720221f5",
   "metadata": {},
   "outputs": [
    {
     "data": {
      "text/html": [
       "<div>\n",
       "<style scoped>\n",
       "    .dataframe tbody tr th:only-of-type {\n",
       "        vertical-align: middle;\n",
       "    }\n",
       "\n",
       "    .dataframe tbody tr th {\n",
       "        vertical-align: top;\n",
       "    }\n",
       "\n",
       "    .dataframe thead th {\n",
       "        text-align: right;\n",
       "    }\n",
       "</style>\n",
       "<table border=\"1\" class=\"dataframe\">\n",
       "  <thead>\n",
       "    <tr style=\"text-align: right;\">\n",
       "      <th></th>\n",
       "      <th>mean</th>\n",
       "      <th>mean_se</th>\n",
       "      <th>mean_ci_lower</th>\n",
       "      <th>mean_ci_upper</th>\n",
       "      <th>obs_ci_lower</th>\n",
       "      <th>obs_ci_upper</th>\n",
       "    </tr>\n",
       "  </thead>\n",
       "  <tbody>\n",
       "    <tr>\n",
       "      <th>0</th>\n",
       "      <td>29.803594</td>\n",
       "      <td>0.405247</td>\n",
       "      <td>29.007412</td>\n",
       "      <td>30.599776</td>\n",
       "      <td>17.565675</td>\n",
       "      <td>42.041513</td>\n",
       "    </tr>\n",
       "    <tr>\n",
       "      <th>1</th>\n",
       "      <td>28.853545</td>\n",
       "      <td>0.377839</td>\n",
       "      <td>28.111211</td>\n",
       "      <td>29.595878</td>\n",
       "      <td>16.619011</td>\n",
       "      <td>41.088079</td>\n",
       "    </tr>\n",
       "    <tr>\n",
       "      <th>2</th>\n",
       "      <td>27.903495</td>\n",
       "      <td>0.352562</td>\n",
       "      <td>27.210824</td>\n",
       "      <td>28.596167</td>\n",
       "      <td>15.671874</td>\n",
       "      <td>40.135117</td>\n",
       "    </tr>\n",
       "  </tbody>\n",
       "</table>\n",
       "</div>"
      ],
      "text/plain": [
       "        mean   mean_se  mean_ci_lower  mean_ci_upper  obs_ci_lower  \\\n",
       "0  29.803594  0.405247      29.007412      30.599776     17.565675   \n",
       "1  28.853545  0.377839      28.111211      29.595878     16.619011   \n",
       "2  27.903495  0.352562      27.210824      28.596167     15.671874   \n",
       "\n",
       "   obs_ci_upper  \n",
       "0     42.041513  \n",
       "1     41.088079  \n",
       "2     40.135117  "
      ]
     },
     "execution_count": 5,
     "metadata": {},
     "output_type": "execute_result"
    }
   ],
   "source": [
    "df_pred = pred_result.summary_frame()\n",
    "df_pred"
   ]
  },
  {
   "cell_type": "markdown",
   "id": "aa5b1e6f-0830-4f37-9a07-ac8c1cda8d4b",
   "metadata": {},
   "source": [
    "예측 결과에서 `mean` 열이 예측된 종속변수 값이다. \n",
    "\n",
    "이와 같이 선형회귀분석에 사용되지 않은 새로운 독립변수 값을 넣어서 종속변수를 예측하는 것을 <b>표본 외 예측(out-of-sample prediction)</b>이라고 한다. 이와 다르게 이미 선형회귀분석에 사용되었던 데이터를 다시 모형에 넣어서 종속변수를 예측하는 것은 <b>표본 내 예측(in-sample prediction)</b>이라고 한다. \n",
    "\n",
    "다음은 표본 내 예측을 하는 코드다."
   ]
  },
  {
   "cell_type": "code",
   "execution_count": 6,
   "id": "b6314390-8d75-4c8d-94e2-c5715f4b6749",
   "metadata": {},
   "outputs": [
    {
     "data": {
      "text/html": [
       "<div>\n",
       "<style scoped>\n",
       "    .dataframe tbody tr th:only-of-type {\n",
       "        vertical-align: middle;\n",
       "    }\n",
       "\n",
       "    .dataframe tbody tr th {\n",
       "        vertical-align: top;\n",
       "    }\n",
       "\n",
       "    .dataframe thead th {\n",
       "        text-align: right;\n",
       "    }\n",
       "</style>\n",
       "<table border=\"1\" class=\"dataframe\">\n",
       "  <thead>\n",
       "    <tr style=\"text-align: right;\">\n",
       "      <th></th>\n",
       "      <th>mean</th>\n",
       "      <th>mean_se</th>\n",
       "      <th>mean_ci_lower</th>\n",
       "      <th>mean_ci_upper</th>\n",
       "      <th>obs_ci_lower</th>\n",
       "      <th>obs_ci_upper</th>\n",
       "    </tr>\n",
       "  </thead>\n",
       "  <tbody>\n",
       "    <tr>\n",
       "      <th>0</th>\n",
       "      <td>29.822595</td>\n",
       "      <td>0.405814</td>\n",
       "      <td>29.025299</td>\n",
       "      <td>30.619891</td>\n",
       "      <td>17.584603</td>\n",
       "      <td>42.060587</td>\n",
       "    </tr>\n",
       "    <tr>\n",
       "      <th>1</th>\n",
       "      <td>25.870390</td>\n",
       "      <td>0.308011</td>\n",
       "      <td>25.265246</td>\n",
       "      <td>26.475534</td>\n",
       "      <td>13.643413</td>\n",
       "      <td>38.097367</td>\n",
       "    </tr>\n",
       "    <tr>\n",
       "      <th>2</th>\n",
       "      <td>30.725142</td>\n",
       "      <td>0.433488</td>\n",
       "      <td>29.873477</td>\n",
       "      <td>31.576807</td>\n",
       "      <td>18.483488</td>\n",
       "      <td>42.966796</td>\n",
       "    </tr>\n",
       "    <tr>\n",
       "      <th>3</th>\n",
       "      <td>31.760696</td>\n",
       "      <td>0.466794</td>\n",
       "      <td>30.843594</td>\n",
       "      <td>32.677798</td>\n",
       "      <td>19.514315</td>\n",
       "      <td>44.007076</td>\n",
       "    </tr>\n",
       "    <tr>\n",
       "      <th>4</th>\n",
       "      <td>29.490078</td>\n",
       "      <td>0.395994</td>\n",
       "      <td>28.712077</td>\n",
       "      <td>30.268079</td>\n",
       "      <td>17.253328</td>\n",
       "      <td>41.726828</td>\n",
       "    </tr>\n",
       "    <tr>\n",
       "      <th>...</th>\n",
       "      <td>...</td>\n",
       "      <td>...</td>\n",
       "      <td>...</td>\n",
       "      <td>...</td>\n",
       "      <td>...</td>\n",
       "      <td>...</td>\n",
       "    </tr>\n",
       "    <tr>\n",
       "      <th>501</th>\n",
       "      <td>25.366864</td>\n",
       "      <td>0.299509</td>\n",
       "      <td>24.778424</td>\n",
       "      <td>25.955303</td>\n",
       "      <td>13.140702</td>\n",
       "      <td>37.593025</td>\n",
       "    </tr>\n",
       "    <tr>\n",
       "      <th>502</th>\n",
       "      <td>25.927393</td>\n",
       "      <td>0.309045</td>\n",
       "      <td>25.320218</td>\n",
       "      <td>26.534568</td>\n",
       "      <td>13.700315</td>\n",
       "      <td>38.154470</td>\n",
       "    </tr>\n",
       "    <tr>\n",
       "      <th>503</th>\n",
       "      <td>29.195563</td>\n",
       "      <td>0.387483</td>\n",
       "      <td>28.434281</td>\n",
       "      <td>29.956844</td>\n",
       "      <td>16.959864</td>\n",
       "      <td>41.431261</td>\n",
       "    </tr>\n",
       "    <tr>\n",
       "      <th>504</th>\n",
       "      <td>28.397521</td>\n",
       "      <td>0.365412</td>\n",
       "      <td>27.679603</td>\n",
       "      <td>29.115439</td>\n",
       "      <td>16.164444</td>\n",
       "      <td>40.630598</td>\n",
       "    </tr>\n",
       "    <tr>\n",
       "      <th>505</th>\n",
       "      <td>27.067452</td>\n",
       "      <td>0.332467</td>\n",
       "      <td>26.414259</td>\n",
       "      <td>27.720645</td>\n",
       "      <td>14.838003</td>\n",
       "      <td>39.296901</td>\n",
       "    </tr>\n",
       "  </tbody>\n",
       "</table>\n",
       "<p>506 rows × 6 columns</p>\n",
       "</div>"
      ],
      "text/plain": [
       "          mean   mean_se  mean_ci_lower  mean_ci_upper  obs_ci_lower  \\\n",
       "0    29.822595  0.405814      29.025299      30.619891     17.584603   \n",
       "1    25.870390  0.308011      25.265246      26.475534     13.643413   \n",
       "2    30.725142  0.433488      29.873477      31.576807     18.483488   \n",
       "3    31.760696  0.466794      30.843594      32.677798     19.514315   \n",
       "4    29.490078  0.395994      28.712077      30.268079     17.253328   \n",
       "..         ...       ...            ...            ...           ...   \n",
       "501  25.366864  0.299509      24.778424      25.955303     13.140702   \n",
       "502  25.927393  0.309045      25.320218      26.534568     13.700315   \n",
       "503  29.195563  0.387483      28.434281      29.956844     16.959864   \n",
       "504  28.397521  0.365412      27.679603      29.115439     16.164444   \n",
       "505  27.067452  0.332467      26.414259      27.720645     14.838003   \n",
       "\n",
       "     obs_ci_upper  \n",
       "0       42.060587  \n",
       "1       38.097367  \n",
       "2       42.966796  \n",
       "3       44.007076  \n",
       "4       41.726828  \n",
       "..            ...  \n",
       "501     37.593025  \n",
       "502     38.154470  \n",
       "503     41.431261  \n",
       "504     40.630598  \n",
       "505     39.296901  \n",
       "\n",
       "[506 rows x 6 columns]"
      ]
     },
     "execution_count": 6,
     "metadata": {},
     "output_type": "execute_result"
    }
   ],
   "source": [
    "pred_result_insample = result.get_prediction(boston)\n",
    "df_pred_insample = pred_result_insample.summary_frame()\n",
    "df_pred_insample"
   ]
  },
  {
   "cell_type": "markdown",
   "id": "9d215a94-7786-4232-89d3-0c296e492d1b",
   "metadata": {},
   "source": [
    "사실 표본 내 예측값은 분석결과 객체 내부에 `fittedvalues` 속성으로 이미 계산되어 있으므로 이렇게 계산할 필요는 없다."
   ]
  },
  {
   "cell_type": "code",
   "execution_count": 7,
   "id": "68702237-aa2f-4576-891c-6875f4e88bdf",
   "metadata": {},
   "outputs": [
    {
     "data": {
      "text/plain": [
       "0      29.822595\n",
       "1      25.870390\n",
       "2      30.725142\n",
       "3      31.760696\n",
       "4      29.490078\n",
       "         ...    \n",
       "501    25.366864\n",
       "502    25.927393\n",
       "503    29.195563\n",
       "504    28.397521\n",
       "505    27.067452\n",
       "Length: 506, dtype: float64"
      ]
     },
     "execution_count": 7,
     "metadata": {},
     "output_type": "execute_result"
    }
   ],
   "source": [
    "result.fittedvalues"
   ]
  },
  {
   "cell_type": "code",
   "execution_count": null,
   "id": "de4a40bd-b571-4211-b5fd-18e45d3e7692",
   "metadata": {},
   "outputs": [],
   "source": []
  }
 ],
 "metadata": {
  "kernelspec": {
   "display_name": "Python 3 (ipykernel)",
   "language": "python",
   "name": "python3"
  },
  "language_info": {
   "codemirror_mode": {
    "name": "ipython",
    "version": 3
   },
   "file_extension": ".py",
   "mimetype": "text/x-python",
   "name": "python",
   "nbconvert_exporter": "python",
   "pygments_lexer": "ipython3",
   "version": "3.9.12"
  }
 },
 "nbformat": 4,
 "nbformat_minor": 5
}
