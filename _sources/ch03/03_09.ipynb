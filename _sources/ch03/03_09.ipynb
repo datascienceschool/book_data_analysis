{
 "cells": [
  {
   "cell_type": "code",
   "execution_count": 1,
   "id": "f26b3f7c-c563-4b90-a1c4-3a8c150f1ede",
   "metadata": {
    "tags": [
     "remove-cell"
    ]
   },
   "outputs": [],
   "source": [
    "%load_ext tikzmagic\n",
    "%matplotlib inline"
   ]
  },
  {
   "cell_type": "markdown",
   "id": "42dc79a7-47f3-4ad7-be0d-161007c4e85f",
   "metadata": {},
   "source": [
    "# 레버리지와 아웃라이어"
   ]
  },
  {
   "cell_type": "markdown",
   "id": "d1830f52-e797-4ff6-8dc6-a5a72963c0c2",
   "metadata": {},
   "source": [
    "지금까지는 회귀분석의 성능을 향상시키기 위해 독립변수를 선택하는 방법을 공부했다. 이 절에서는 개별적인 데이터 레코드를 분석하는 방법을 학습힌다. 즉 지금까지 독립변수행렬 $X$의 열을 선택하거나 제거하는 방법을 공부했다면 이제는 독립변수행렬 $X$의 행을 조사하고 선택하는 방법을 알아본다. \n",
    "\n",
    "예제로는 보스턴 집값을 rm 독립변수를 사용하여 선형회귀분석한 결과를 사용한다. 다만 여기에서는 전체 데이터를 다 사용하는 것이 아니라 일부(20개) 데이터 레코드만을 사용하여 회귀분석을 한다. "
   ]
  },
  {
   "cell_type": "code",
   "execution_count": 2,
   "id": "18cf6b87-039a-4056-a60c-9bb948cd79a5",
   "metadata": {},
   "outputs": [],
   "source": [
    "import statsmodels.api as sm\n",
    "\n",
    "boston = sm.datasets.get_rdataset(\"Boston\", \"MASS\").data\n",
    "boston20 = boston.iloc[345:365]  # 일부 데이터만 사용"
   ]
  },
  {
   "cell_type": "markdown",
   "id": "46fd63fa-7413-4769-9657-93216cded4c4",
   "metadata": {},
   "source": [
    "다음은 이 데이터를 사용한 회귀분석 결과다. 결정계수 성능이 0.192로 낮고 rm 독립변수에 대한 가중치 유의확률도 5.4%로 높은 편이다. 즉, 회귀분석 결과가 좋지 않다."
   ]
  },
  {
   "cell_type": "code",
   "execution_count": 3,
   "id": "df9ba459-8f35-40bc-afef-a0512d72394d",
   "metadata": {},
   "outputs": [
    {
     "name": "stdout",
     "output_type": "stream",
     "text": [
      "                            OLS Regression Results                            \n",
      "==============================================================================\n",
      "Dep. Variable:                   medv   R-squared:                       0.192\n",
      "Model:                            OLS   Adj. R-squared:                  0.147\n",
      "Method:                 Least Squares   F-statistic:                     4.269\n",
      "Date:                Mon, 01 Aug 2022   Prob (F-statistic):             0.0535\n",
      "Time:                        20:49:17   Log-Likelihood:                -50.606\n",
      "No. Observations:                  20   AIC:                             105.2\n",
      "Df Residuals:                      18   BIC:                             107.2\n",
      "Df Model:                           1                                         \n",
      "Covariance Type:            nonrobust                                         \n",
      "==============================================================================\n",
      "                 coef    std err          t      P>|t|      [0.025      0.975]\n",
      "------------------------------------------------------------------------------\n",
      "Intercept     21.6300      0.716     30.202      0.000      20.125      23.135\n",
      "scale(rm)      1.4797      0.716      2.066      0.054      -0.025       2.984\n",
      "==============================================================================\n",
      "Omnibus:                        1.091   Durbin-Watson:                   1.752\n",
      "Prob(Omnibus):                  0.579   Jarque-Bera (JB):                0.545\n",
      "Skew:                           0.403   Prob(JB):                        0.761\n",
      "Kurtosis:                       2.947   Cond. No.                         1.00\n",
      "==============================================================================\n",
      "\n",
      "Notes:\n",
      "[1] Standard Errors assume that the covariance matrix of the errors is correctly specified.\n"
     ]
    }
   ],
   "source": [
    "model20 = sm.OLS.from_formula(\"medv ~ scale(rm)\", boston20)\n",
    "result20 = model20.fit()\n",
    "print(result20.summary())"
   ]
  },
  {
   "cell_type": "markdown",
   "id": "7cda12ee-71a7-4d5f-b037-3375f3282163",
   "metadata": {},
   "source": [
    "seaborn 패키지의 `regplot` 함수로 선형회귀분석 결과를 그림으로 그리면 다음 그림과 같다. 이 그림에서는 데이터 레코드 각각에 대해 데이터 번호를 붙어서 표시하였다."
   ]
  },
  {
   "cell_type": "code",
   "execution_count": 4,
   "id": "8e65b793-6c0e-4d54-96a9-bcae6516f421",
   "metadata": {},
   "outputs": [
    {
     "data": {
      "image/png": "[encoded data removed]",
      "text/plain": [
       "<Figure size 864x576 with 1 Axes>"
      ]
     },
     "metadata": {
      "needs_background": "light"
     },
     "output_type": "display_data"
    }
   ],
   "source": [
    "import seaborn as sns\n",
    "\n",
    "plt.figure(figsize=(12, 8))\n",
    "sns.regplot(x=\"rm\", y=\"medv\", data=boston20)\n",
    "for i, r in boston20.iterrows():\n",
    "    plt.annotate(i, (r.rm + 0.03, r.medv + 0.3))\n",
    "plt.title(\"아웃라이어 제거를 하기 전 회귀분석 결과\")\n",
    "plt.show()"
   ]
  },
  {
   "cell_type": "markdown",
   "id": "b913083f-434a-4b07-8dc7-eddf0daaba8e",
   "metadata": {},
   "source": [
    "## 레버리지"
   ]
  },
  {
   "cell_type": "markdown",
   "id": "1aeff01b-2b33-49ba-9a89-33e2f1bd32e5",
   "metadata": {},
   "source": [
    "선형회귀분석을 실시하고 나면 찾아낸 가중치에 따른 예측값 $\\hat{y}$을 다음 공식으로 계산할 수 있다. \n",
    "\n",
    "$$\n",
    "\\hat{y} = X \\hat{w} = X(X^TX)^{-1}X^T y\n",
    "$$\n",
    "\n",
    "위 식에서 $y$ 앞에 있는 $X(X^TX)^{-1}X^T$ 행렬을 <b>영향도행렬(influence matrix)</b> 혹은 <b>hat행렬(hat-matrix)</b>이라고 부르고 기호로 $H$라고 쓴다.\n",
    "\n",
    "$$\n",
    "H = X(X^TX)^{-1}X^T\n",
    "$$\n",
    "\n",
    "데이터의 개수가 $N$개일 때 영향도행렬은 $N\\times N$ 크기의 행렬이 된다.\n",
    "\n",
    "영향도행렬에서 가장 중요한 부분은 대각성분이다. 영향도행렬 $H$의 $i$번째 대각성분 $H_{ii}$을 <b>레버리지(leverage)</b> $h_i$라고 부른다.\n",
    "\n",
    "$$\n",
    "h_i = H_{ii}\n",
    "$$\n",
    "\n",
    "영향도행렬의 크기가 $N\\times N$이므로 레버리지의 개수는 데이터 개수와 같다. 즉, $i$번째 데이터에 대해 $i$번째 레버리지가 대응되는 구조로 각각의 데이터는 하나의 레버리지 값을 가진다. \n",
    "\n",
    "$$\n",
    "(x_i, y_i) \\;\\; \\leftrightarrow \\;\\; h_i\n",
    "$$\n",
    "\n",
    "레버리지는 다음과 같은 수학적 성질을 가진다.\n",
    "\n",
    "```{admonition} 레버리지의 성질\n",
    "1) 0 ~ 1 사이의 값을 가진다.  \n",
    "\n",
    "   $$ 0 \\leq h_i \\leq 1 $$\n",
    "\n",
    "2) 독립변수의 개수가 $K$일 때  레버리지의 합은 $K+1$이 된다.\n",
    "\n",
    "   $$ \\sum_{i=1}^N h_i = K + 1 $$\n",
    "```\n",
    "\n",
    "statsmodels 패키지의 선형회귀분석 결과 객체는 레버리지를 포함한 영향도 객체라는 객체를 출력하는 `get_influence` 메서드를 제공한다. "
   ]
  },
  {
   "cell_type": "markdown",
   "id": "b95f56b4-3eb7-4e11-b776-fb8457b66649",
   "metadata": {},
   "source": [
    "영향도 객체는 `OLSInfluence` 클래스 객체로 `hat_matrix_diag` 속성에 레버리지 값을 저장하고 있다."
   ]
  },
  {
   "cell_type": "code",
   "execution_count": 5,
   "id": "a2bce92e-50e7-4acf-adb1-2253ee8c1276",
   "metadata": {},
   "outputs": [
    {
     "data": {
      "text/html": [
       "<div>\n",
       "<style scoped>\n",
       "    .dataframe tbody tr th:only-of-type {\n",
       "        vertical-align: middle;\n",
       "    }\n",
       "\n",
       "    .dataframe tbody tr th {\n",
       "        vertical-align: top;\n",
       "    }\n",
       "\n",
       "    .dataframe thead th {\n",
       "        text-align: right;\n",
       "    }\n",
       "</style>\n",
       "<table border=\"1\" class=\"dataframe\">\n",
       "  <thead>\n",
       "    <tr style=\"text-align: right;\">\n",
       "      <th></th>\n",
       "      <th>leverage</th>\n",
       "    </tr>\n",
       "  </thead>\n",
       "  <tbody>\n",
       "    <tr>\n",
       "      <th>345</th>\n",
       "      <td>0.061321</td>\n",
       "    </tr>\n",
       "    <tr>\n",
       "      <th>346</th>\n",
       "      <td>0.070943</td>\n",
       "    </tr>\n",
       "    <tr>\n",
       "      <th>347</th>\n",
       "      <td>0.053532</td>\n",
       "    </tr>\n",
       "    <tr>\n",
       "      <th>348</th>\n",
       "      <td>0.059749</td>\n",
       "    </tr>\n",
       "    <tr>\n",
       "      <th>349</th>\n",
       "      <td>0.089664</td>\n",
       "    </tr>\n",
       "    <tr>\n",
       "      <th>350</th>\n",
       "      <td>0.052585</td>\n",
       "    </tr>\n",
       "    <tr>\n",
       "      <th>351</th>\n",
       "      <td>0.056438</td>\n",
       "    </tr>\n",
       "    <tr>\n",
       "      <th>352</th>\n",
       "      <td>0.072303</td>\n",
       "    </tr>\n",
       "    <tr>\n",
       "      <th>353</th>\n",
       "      <td>0.066759</td>\n",
       "    </tr>\n",
       "    <tr>\n",
       "      <th>354</th>\n",
       "      <td>0.099438</td>\n",
       "    </tr>\n",
       "    <tr>\n",
       "      <th>355</th>\n",
       "      <td>0.067468</td>\n",
       "    </tr>\n",
       "    <tr>\n",
       "      <th>356</th>\n",
       "      <td>0.051681</td>\n",
       "    </tr>\n",
       "    <tr>\n",
       "      <th>357</th>\n",
       "      <td>0.050379</td>\n",
       "    </tr>\n",
       "    <tr>\n",
       "      <th>358</th>\n",
       "      <td>0.054771</td>\n",
       "    </tr>\n",
       "    <tr>\n",
       "      <th>359</th>\n",
       "      <td>0.055480</td>\n",
       "    </tr>\n",
       "    <tr>\n",
       "      <th>360</th>\n",
       "      <td>0.050418</td>\n",
       "    </tr>\n",
       "    <tr>\n",
       "      <th>361</th>\n",
       "      <td>0.050790</td>\n",
       "    </tr>\n",
       "    <tr>\n",
       "      <th>362</th>\n",
       "      <td>0.153540</td>\n",
       "    </tr>\n",
       "    <tr>\n",
       "      <th>363</th>\n",
       "      <td>0.081011</td>\n",
       "    </tr>\n",
       "    <tr>\n",
       "      <th>364</th>\n",
       "      <td>0.701731</td>\n",
       "    </tr>\n",
       "  </tbody>\n",
       "</table>\n",
       "</div>"
      ],
      "text/plain": [
       "     leverage\n",
       "345  0.061321\n",
       "346  0.070943\n",
       "347  0.053532\n",
       "348  0.059749\n",
       "349  0.089664\n",
       "350  0.052585\n",
       "351  0.056438\n",
       "352  0.072303\n",
       "353  0.066759\n",
       "354  0.099438\n",
       "355  0.067468\n",
       "356  0.051681\n",
       "357  0.050379\n",
       "358  0.054771\n",
       "359  0.055480\n",
       "360  0.050418\n",
       "361  0.050790\n",
       "362  0.153540\n",
       "363  0.081011\n",
       "364  0.701731"
      ]
     },
     "execution_count": 5,
     "metadata": {},
     "output_type": "execute_result"
    }
   ],
   "source": [
    "import pandas as pd\n",
    "\n",
    "influence20 = result20.get_influence()\n",
    "leverage20 = pd.DataFrame(\n",
    "    {\"leverage\": influence20.hat_matrix_diag}, index=boston20.index)\n",
    "leverage20"
   ]
  },
  {
   "cell_type": "markdown",
   "id": "13e03db8-be33-4613-87fb-f077907cd601",
   "metadata": {},
   "source": [
    "모두 0 부터 1 사이의 값이라는 것을 알 수 있다. 전체 레버리지의 합을 구하면 2가 되는 것도 확인할 수 있다."
   ]
  },
  {
   "cell_type": "code",
   "execution_count": 6,
   "id": "9617fb0e-e390-47d4-8157-7ef902958acd",
   "metadata": {},
   "outputs": [
    {
     "data": {
      "text/plain": [
       "leverage    2.0\n",
       "dtype: float64"
      ]
     },
     "execution_count": 6,
     "metadata": {},
     "output_type": "execute_result"
    }
   ],
   "source": [
    "leverage20.sum()"
   ]
  },
  {
   "cell_type": "markdown",
   "id": "52bc4efb-3b0c-44fe-8653-65f353298523",
   "metadata": {},
   "source": [
    "위에서 예제로 사용한 선형회귀분석에서 개별 데이터의 레버리지 크기를 점의 크기로 표시하면 다음과 같아진다. "
   ]
  },
  {
   "cell_type": "code",
   "execution_count": 7,
   "id": "7d0d0830-20e8-4a05-8a64-62c61953c767",
   "metadata": {},
   "outputs": [
    {
     "data": {
      "image/png": "[encoded data removed]",
      "text/plain": [
       "<Figure size 864x576 with 1 Axes>"
      ]
     },
     "metadata": {
      "needs_background": "light"
     },
     "output_type": "display_data"
    }
   ],
   "source": [
    "plt.figure(figsize=(12, 8))\n",
    "sns.regplot(x=\"rm\", y=\"medv\", data=boston20)\n",
    "for rid, r in boston20.iterrows():\n",
    "    plt.scatter(r.rm, r.medv, marker=\"o\", alpha=0.5, c=\"g\",\n",
    "                s=np.round(leverage20.loc[rid] * 5000))\n",
    "    plt.annotate(rid, (r.rm + 0.03, r.medv + 0.3))\n",
    "plt.title(\"레버리지 표시\")\n",
    "plt.show()"
   ]
  },
  {
   "cell_type": "markdown",
   "id": "0f49e9c7-c88f-4560-85e2-d42a94776aef",
   "metadata": {},
   "source": [
    "레버리지가 중요한 이유는 레버리지 값이 1에 가까운 데이터 즉, <b>레버리지가 큰 데이터는 레버리지가 작은 데이터보다 회귀분석 결과에 영향을 크게 미치기 때문</b>이다.\n",
    "\n",
    "우리가 사용하는 예제에서 레버리지가 가장 작은 데이터는 357번 데이터이고 레버리지가 가장 큰 데이터는 364번 데이터다."
   ]
  },
  {
   "cell_type": "code",
   "execution_count": 8,
   "id": "6eb03481-d1bb-4e0c-a236-65f93acc3f7c",
   "metadata": {},
   "outputs": [
    {
     "data": {
      "text/plain": [
       "(357, 364)"
      ]
     },
     "execution_count": 8,
     "metadata": {},
     "output_type": "execute_result"
    }
   ],
   "source": [
    "idx_all = leverage20.index\n",
    "idx_min = idx_all[leverage20.leverage.argmin()]\n",
    "idx_max = idx_all[leverage20.leverage.argmax()]\n",
    "idx_min, idx_max"
   ]
  },
  {
   "cell_type": "markdown",
   "id": "3ec22a20-dd99-4a4f-9cb0-e0a0af22bcb5",
   "metadata": {},
   "source": [
    "이 두가지 데이터를 각각 제외하고 다시 선형회귀분석을 해보자."
   ]
  },
  {
   "cell_type": "code",
   "execution_count": 9,
   "id": "082e90a8-3c22-408f-ad61-088c01fbf608",
   "metadata": {},
   "outputs": [],
   "source": [
    "ids_min = list(boston20.index.copy())\n",
    "ids_max = list(boston20.index.copy())\n",
    "ids_min.remove(idx_min)\n",
    "ids_max.remove(idx_max)\n",
    "boston20min = boston20.loc[ids_min]\n",
    "boston20max = boston20.loc[ids_max]\n",
    "\n",
    "result20min = sm.OLS.from_formula(\"medv ~ scale(rm)\", boston20min).fit()\n",
    "result20max = sm.OLS.from_formula(\"medv ~ scale(rm)\", boston20max).fit()"
   ]
  },
  {
   "cell_type": "markdown",
   "id": "cc3b58c3-15b0-48f9-9ae0-25d9ad970c92",
   "metadata": {},
   "source": [
    "선형회귀분석 결과인 가중치를 비교하면 레버리지가 작은 6번 데이터를 제외하였을 경우에는 큰 차이가 없지만 레버리지가 큰 8번 데이터를 제외한 경우에는 가중치가 많이 달라지는 것을 알 수 있다."
   ]
  },
  {
   "cell_type": "code",
   "execution_count": 10,
   "id": "92ea5f15-dcac-4393-a0b8-695b99e53d30",
   "metadata": {},
   "outputs": [
    {
     "data": {
      "text/html": [
       "<div>\n",
       "<style scoped>\n",
       "    .dataframe tbody tr th:only-of-type {\n",
       "        vertical-align: middle;\n",
       "    }\n",
       "\n",
       "    .dataframe tbody tr th {\n",
       "        vertical-align: top;\n",
       "    }\n",
       "\n",
       "    .dataframe thead th {\n",
       "        text-align: right;\n",
       "    }\n",
       "</style>\n",
       "<table border=\"1\" class=\"dataframe\">\n",
       "  <thead>\n",
       "    <tr style=\"text-align: right;\">\n",
       "      <th></th>\n",
       "      <th>전체 데이터 사용</th>\n",
       "      <th>가장 레버러지가 작은 데이터 제외</th>\n",
       "      <th>가장 레버러지가 큰 데이터 제외</th>\n",
       "    </tr>\n",
       "  </thead>\n",
       "  <tbody>\n",
       "    <tr>\n",
       "      <th>Intercept</th>\n",
       "      <td>21.630000</td>\n",
       "      <td>21.626316</td>\n",
       "      <td>21.615789</td>\n",
       "    </tr>\n",
       "    <tr>\n",
       "      <th>scale(rm)</th>\n",
       "      <td>1.479701</td>\n",
       "      <td>1.518115</td>\n",
       "      <td>2.615438</td>\n",
       "    </tr>\n",
       "  </tbody>\n",
       "</table>\n",
       "</div>"
      ],
      "text/plain": [
       "           전체 데이터 사용  가장 레버러지가 작은 데이터 제외  가장 레버러지가 큰 데이터 제외\n",
       "Intercept  21.630000           21.626316          21.615789\n",
       "scale(rm)   1.479701            1.518115           2.615438"
      ]
     },
     "execution_count": 10,
     "metadata": {},
     "output_type": "execute_result"
    }
   ],
   "source": [
    "pd.concat(\n",
    "    [\n",
    "        result20.params.rename(\"전체 데이터 사용\"),\n",
    "        result20min.params.rename(\"가장 레버러지가 작은 데이터 제외\"),\n",
    "        result20max.params.rename(\"가장 레버러지가 큰 데이터 제외\"),\n",
    "    ], axis=1\n",
    ")"
   ]
  },
  {
   "cell_type": "markdown",
   "id": "9c3a3713-154a-4884-9edb-303568643326",
   "metadata": {},
   "source": [
    "예측 직선을 그림으로 표시하면 더 알기쉽다. 레버리지가 큰 데이터를 제외하였을 때 기울기가 크게 달라지는 것을 볼 수 있다."
   ]
  },
  {
   "cell_type": "code",
   "execution_count": 11,
   "id": "ae92c67a-5046-4fe3-bebd-8dd4e79783ce",
   "metadata": {},
   "outputs": [
    {
     "data": {
      "image/png": "[encoded data removed]",
      "text/plain": [
       "<Figure size 1008x288 with 2 Axes>"
      ]
     },
     "metadata": {
      "needs_background": "light"
     },
     "output_type": "display_data"
    }
   ],
   "source": [
    "plt.figure(figsize=(14, 4))\n",
    "plt.subplot(121)\n",
    "sns.regplot(x=\"rm\", y=\"medv\", ci=None, truncate=False, data=boston20, label=\"전체 데이터 사용\")\n",
    "sns.regplot(x=\"rm\", y=\"medv\", ci=None, truncate=False, data=boston20min, label=\"가장 레버러지가 작은 데이터 제외\")\n",
    "plt.xlim(5, 7.5)\n",
    "plt.ylim(12, 38)\n",
    "plt.legend()\n",
    "plt.subplot(122)\n",
    "sns.regplot(x=\"rm\", y=\"medv\", ci=None, truncate=False, data=boston20, label=\"전체 데이터 사용\")\n",
    "sns.regplot(x=\"rm\", y=\"medv\", ci=None, truncate=False, data=boston20max, label=\"가장 레버러지가 큰 데이터 제외\")\n",
    "plt.xlim(5, 7.5)\n",
    "plt.ylim(12, 38)\n",
    "plt.legend()\n",
    "plt.show()"
   ]
  },
  {
   "cell_type": "markdown",
   "id": "58d6ab4f-8bd6-4936-a598-db5adea2d552",
   "metadata": {},
   "source": [
    "## 잔차"
   ]
  },
  {
   "cell_type": "markdown",
   "id": "0bf4a2e2-90c8-4fc1-8d2c-d0dee0c767d3",
   "metadata": {},
   "source": [
    "앞에서 가중치 검정을 공부할 때 몇가지 확률론적 가정을 사용하였다. ({ref}`subsection:linear-regression-probabilistic-assumptions` 참조)\n",
    "\n",
    "그 중 가장 핵심적은 내용은 교란항의 정규성 가정이다.\n",
    "\n",
    "> 교란항 $\\varepsilon$은 기댓값이 0이고 분산이 $\\sigma^2$인 정규분포를 따른다. 이 때 교란항의 분산 $\\sigma^2$은 어떤 경우에도 변하지 않는다.  \n",
    "\n",
    "이를 수식으로 표현하면 다음과 같다.\n",
    "\n",
    "$$ \\varepsilon \\sim \\mathcal{N}(0, \\sigma^2) $$\n",
    "    \n",
    "교란항의 정규성 가정을 포함한 확률론적 가정을 사용하면 잔차에 대한 다음 두가지 사실을 수학적으로 증명할 수 있다."
   ]
  },
  {
   "cell_type": "markdown",
   "id": "c4eecb33-f44a-4459-ba30-6081461ec7c4",
   "metadata": {},
   "source": [
    "```{admonition} 전체 잔차의 정규성\n",
    "선형회귀분석으로 나온 $N$개의 전체 잔차 $e$는 기댓값이 0인 정규분포를 따른다. \n",
    "\n",
    "$$\n",
    "e \\sim \\mathcal{N}\\left(0, \\sigma_e^2 \\right)\n",
    "$$\n",
    "\n",
    "이 사실을 이용하면 잔차의 크기로부터 교란항의 분산 $\\sigma^2$을 다음과 같이 추정할 수 있다.\n",
    "\n",
    "$$\n",
    "\\hat{\\sigma}^2 = \\dfrac{e^Te}{N-K-1} = \\dfrac{RSS}{N-K-1}\n",
    "$$\n",
    "```"
   ]
  },
  {
   "cell_type": "markdown",
   "id": "1607669b-7e32-46f9-87e4-b727c7be8b62",
   "metadata": {},
   "source": [
    "```{admonition} 개별 잔차의 정규성\n",
    "$i$번째 개별 데이터에 대한 잔차 $e_i$도 기댓값이 0인 정규분포를 따른다.\n",
    "\n",
    "$$\n",
    "e_i \\sim \\mathcal{N}\\left(0, \\sigma_{e,i}^2 \\right)\n",
    "$$\n",
    "\n",
    "하지만 $i$번째 개별 데이터의 잔차 $e_i$의 분산 $\\sigma_{e,i}^2$은 $i$번째 데이터의 레버리지 $h_i$의 영향을 받아서 데이터마다 달라진다. \n",
    "\n",
    "$$\n",
    "\\sigma_{e,i}^2 = \\hat{\\sigma}^2 (1 - h_i)\n",
    "$$\n",
    "```"
   ]
  },
  {
   "cell_type": "markdown",
   "id": "c32f7db1-de71-4573-8630-51bd0e3cff1f",
   "metadata": {},
   "source": [
    "위에서 서술한 두번째 사실로 인해 개별 잔차의 크기를 비교할 때 다음과 같이 개별 데이터의 표준편차로 나누어 표준화를 해야지만 올바른 비교가 가능하다. \n",
    "\n",
    "$$ \n",
    "r_i = \\dfrac{e_i}{\\hat{\\sigma}\\sqrt{1 - h_i}}\n",
    "$$\n",
    "\n",
    "이렇게 개별 데이터의 표준편차로 나누어준 잔차 $r_i$를 <b>스튜던트화 잔차(studentized residual)</b>라고 한다. \n",
    "\n",
    "영향도 객체는 `resid_studentized` 또는 `resid_studentized_internal` 속성에 스튜던트화 잔차를 가지고 있다. "
   ]
  },
  {
   "cell_type": "code",
   "execution_count": 12,
   "id": "28fc4b09-55dd-4da7-8bd7-1306120bbc05",
   "metadata": {},
   "outputs": [
    {
     "data": {
      "text/plain": [
       "array([-1.10401894, -1.12476119,  0.34555775,  0.71372182,  1.19508941,\n",
       "        0.2994623 ,  0.62324626, -0.66184396,  2.46057847, -0.64440242,\n",
       "       -0.05024419, -1.14097612, -0.01882388,  0.4904032 ,  0.46899524,\n",
       "        1.0363967 , -0.49478783,  0.44093668, -1.19354705, -2.89971256])"
      ]
     },
     "execution_count": 12,
     "metadata": {},
     "output_type": "execute_result"
    }
   ],
   "source": [
    "resid_stu20 = influence20.resid_studentized\n",
    "resid_stu20"
   ]
  },
  {
   "cell_type": "code",
   "execution_count": 13,
   "id": "d8dd4fdb-2938-40e8-aa58-f8310989cd77",
   "metadata": {},
   "outputs": [
    {
     "data": {
      "image/png": "[encoded data removed]",
      "text/plain": [
       "<Figure size 864x216 with 1 Axes>"
      ]
     },
     "metadata": {
      "needs_background": "light"
     },
     "output_type": "display_data"
    }
   ],
   "source": [
    "f, ax = plt.subplots(figsize=(12, 3))\n",
    "ax.stem(idx_all, resid_stu20)\n",
    "ax.set_xticks(idx_all)\n",
    "plt.title(\"스튜던트화 잔차\")\n",
    "plt.show()"
   ]
  },
  {
   "cell_type": "markdown",
   "id": "4b589ea5-72fe-4acf-a74d-ac5652b1ddfe",
   "metadata": {},
   "source": [
    "이와 비슷한 것으로 <b>외부 스튜던트화 잔차(externally studentized residual)</b> 혹은 SDR(studentized deleted residual)라 부르는 것이 있다. 외부 스튜던트화 잔차는 $i$번째 데이터 레코드의 외부 스튜던트화 잔차는 해당 데이터 레코드($i$번째 데이터 레코드)를 제외한 나머지 데이터만 가지고 다시 선형회귀분석을 하여 계산한 잔차를 해당 잔차의 분산으로 나눈 값이다. 이러한 계산 방식을 <b>LOO(Leave-One-Out) 방식</b>이라고 한다. $i$번째 데이터 레코드의 외부 스튜던트화 잔차 $t_i$를 구하는 식은 다음과 같다.\n",
    "\n",
    "$$\n",
    "t_i = \\dfrac{y_i - \\hat{y}_{(i)}}{\\hat{\\sigma}_{(i)}}\n",
    "$$\n",
    "\n",
    "statsmodels 패키지에서 외부 스튜던트화 잔차를 계산할 때 LOO를 위해 실제로 데이터 개수만큼 선형회귀를 반복하지는 않고 수학적으로 유도된 수식을 이용하여 외부 스튜던트화 잔차를 계산한다. 외부 스튜던트화 잔차는 곧 설명할 아웃라이어 검출에 사용된다. 영향도 객체는 `resid_studentized_external` 속성에 외부 스튜던트화 잔차를 가지고 있다. "
   ]
  },
  {
   "cell_type": "code",
   "execution_count": 14,
   "id": "5d00ddb5-142f-4eba-97e7-8d6f01d3ee2d",
   "metadata": {},
   "outputs": [
    {
     "data": {
      "text/plain": [
       "array([-1.11119486, -1.13363453,  0.33694124,  0.70364089,  1.21043235,\n",
       "        0.29175272,  0.6123295 , -0.65116874,  2.93534086, -0.63359769,\n",
       "       -0.048832  , -1.15124175, -0.0182937 ,  0.47980231,  0.45859201,\n",
       "        1.03866341, -0.48415104,  0.43084662, -1.20873584, -3.8604005 ])"
      ]
     },
     "execution_count": 14,
     "metadata": {},
     "output_type": "execute_result"
    }
   ],
   "source": [
    "resid_stu_ext20 = influence20.resid_studentized_external\n",
    "resid_stu_ext20"
   ]
  },
  {
   "cell_type": "markdown",
   "id": "eef35f69-7432-4702-a636-53ee52773d55",
   "metadata": {},
   "source": [
    "## 아웃라이어"
   ]
  },
  {
   "cell_type": "markdown",
   "id": "5b68e60e-2d0b-44ec-9f86-0f5685e145bb",
   "metadata": {},
   "source": [
    "<b>아웃라이어(outlier)</b>는 회귀분석모형으로 예측한 값과 원 데이터 간의 오차 즉, 잔차가 큰 데이터를 말한다. 보통 데이터의 측정/입력 단계 혹은 처리/관리 단계에서 여러가지 실수로 인해 아웃라이어가 발생하는 경우가 많다. 예를 들어 수동으로 데이터를 입력하는 경우에 오타가 발생하던가 입력 데이터의 순서를 바꾸어 넣어서 이런 잘못된 데이터가 발생하는 경우가 흔하다. 따라서  아웃라이어를 검출하여 해당 데이터가 실수로 인해 잘못된 데이터인지 아닌지를 검토해야 한다.\n",
    "\n",
    "statsmodels 패키지로 선형회귀분석을 실시하여 얻은 분석결과 객체는 아웃라이어를 검출하기 위한 `outlier_test` 메서드를 제공한다. 이 메서드는 아웃라이어 검정(outlier test)을 하는 메서드로 외부 스튜던트화 잔차의 확률분포를 이용하여 주어진 유의수준(지정하지 않은 경우 디폴트 5%) 미만인 데이터를 찾아낸다. 이 때 일반 유의확률이 아닌 <b>본페로니 수정(Bonferroni correction)</b>을 거친 유의확률을 사용해야 한다. \n",
    "\n",
    "`outlier_test` 메서드를 호출하면 다음과 같은 데이터프레임을 출력한다. 결과 데이터프레임에서 `bonf(p)` 열이 본페로니 수정 유의확률이다. 아웃라이어 검정은 \"아웃라이어가 아니다\"라는 귀무가설을 사용하므로 유의확률이 작은 데이터가 아웃라이어가 된다. 364번 데이터의 유의확률이 5% 미만이므로 이 데이터가 아웃라이어가 된다."
   ]
  },
  {
   "cell_type": "code",
   "execution_count": 15,
   "id": "d39e710d-bd1c-4090-83c3-de1ed3dc8730",
   "metadata": {},
   "outputs": [
    {
     "data": {
      "text/html": [
       "<div>\n",
       "<style scoped>\n",
       "    .dataframe tbody tr th:only-of-type {\n",
       "        vertical-align: middle;\n",
       "    }\n",
       "\n",
       "    .dataframe tbody tr th {\n",
       "        vertical-align: top;\n",
       "    }\n",
       "\n",
       "    .dataframe thead th {\n",
       "        text-align: right;\n",
       "    }\n",
       "</style>\n",
       "<table border=\"1\" class=\"dataframe\">\n",
       "  <thead>\n",
       "    <tr style=\"text-align: right;\">\n",
       "      <th></th>\n",
       "      <th>student_resid</th>\n",
       "      <th>unadj_p</th>\n",
       "      <th>bonf(p)</th>\n",
       "    </tr>\n",
       "  </thead>\n",
       "  <tbody>\n",
       "    <tr>\n",
       "      <th>345</th>\n",
       "      <td>-1.111195</td>\n",
       "      <td>0.281954</td>\n",
       "      <td>1.000000</td>\n",
       "    </tr>\n",
       "    <tr>\n",
       "      <th>346</th>\n",
       "      <td>-1.133635</td>\n",
       "      <td>0.272682</td>\n",
       "      <td>1.000000</td>\n",
       "    </tr>\n",
       "    <tr>\n",
       "      <th>347</th>\n",
       "      <td>0.336941</td>\n",
       "      <td>0.740285</td>\n",
       "      <td>1.000000</td>\n",
       "    </tr>\n",
       "    <tr>\n",
       "      <th>348</th>\n",
       "      <td>0.703641</td>\n",
       "      <td>0.491182</td>\n",
       "      <td>1.000000</td>\n",
       "    </tr>\n",
       "    <tr>\n",
       "      <th>349</th>\n",
       "      <td>1.210432</td>\n",
       "      <td>0.242674</td>\n",
       "      <td>1.000000</td>\n",
       "    </tr>\n",
       "    <tr>\n",
       "      <th>350</th>\n",
       "      <td>0.291753</td>\n",
       "      <td>0.774006</td>\n",
       "      <td>1.000000</td>\n",
       "    </tr>\n",
       "    <tr>\n",
       "      <th>351</th>\n",
       "      <td>0.612329</td>\n",
       "      <td>0.548423</td>\n",
       "      <td>1.000000</td>\n",
       "    </tr>\n",
       "    <tr>\n",
       "      <th>352</th>\n",
       "      <td>-0.651169</td>\n",
       "      <td>0.523643</td>\n",
       "      <td>1.000000</td>\n",
       "    </tr>\n",
       "    <tr>\n",
       "      <th>353</th>\n",
       "      <td>2.935341</td>\n",
       "      <td>0.009243</td>\n",
       "      <td>0.184858</td>\n",
       "    </tr>\n",
       "    <tr>\n",
       "      <th>354</th>\n",
       "      <td>-0.633598</td>\n",
       "      <td>0.534776</td>\n",
       "      <td>1.000000</td>\n",
       "    </tr>\n",
       "    <tr>\n",
       "      <th>355</th>\n",
       "      <td>-0.048832</td>\n",
       "      <td>0.961622</td>\n",
       "      <td>1.000000</td>\n",
       "    </tr>\n",
       "    <tr>\n",
       "      <th>356</th>\n",
       "      <td>-1.151242</td>\n",
       "      <td>0.265568</td>\n",
       "      <td>1.000000</td>\n",
       "    </tr>\n",
       "    <tr>\n",
       "      <th>357</th>\n",
       "      <td>-0.018294</td>\n",
       "      <td>0.985618</td>\n",
       "      <td>1.000000</td>\n",
       "    </tr>\n",
       "    <tr>\n",
       "      <th>358</th>\n",
       "      <td>0.479802</td>\n",
       "      <td>0.637483</td>\n",
       "      <td>1.000000</td>\n",
       "    </tr>\n",
       "    <tr>\n",
       "      <th>359</th>\n",
       "      <td>0.458592</td>\n",
       "      <td>0.652336</td>\n",
       "      <td>1.000000</td>\n",
       "    </tr>\n",
       "    <tr>\n",
       "      <th>360</th>\n",
       "      <td>1.038663</td>\n",
       "      <td>0.313510</td>\n",
       "      <td>1.000000</td>\n",
       "    </tr>\n",
       "    <tr>\n",
       "      <th>361</th>\n",
       "      <td>-0.484151</td>\n",
       "      <td>0.634457</td>\n",
       "      <td>1.000000</td>\n",
       "    </tr>\n",
       "    <tr>\n",
       "      <th>362</th>\n",
       "      <td>0.430847</td>\n",
       "      <td>0.671993</td>\n",
       "      <td>1.000000</td>\n",
       "    </tr>\n",
       "    <tr>\n",
       "      <th>363</th>\n",
       "      <td>-1.208736</td>\n",
       "      <td>0.243309</td>\n",
       "      <td>1.000000</td>\n",
       "    </tr>\n",
       "    <tr>\n",
       "      <th>364</th>\n",
       "      <td>-3.860400</td>\n",
       "      <td>0.001255</td>\n",
       "      <td>0.025101</td>\n",
       "    </tr>\n",
       "  </tbody>\n",
       "</table>\n",
       "</div>"
      ],
      "text/plain": [
       "     student_resid   unadj_p   bonf(p)\n",
       "345      -1.111195  0.281954  1.000000\n",
       "346      -1.133635  0.272682  1.000000\n",
       "347       0.336941  0.740285  1.000000\n",
       "348       0.703641  0.491182  1.000000\n",
       "349       1.210432  0.242674  1.000000\n",
       "350       0.291753  0.774006  1.000000\n",
       "351       0.612329  0.548423  1.000000\n",
       "352      -0.651169  0.523643  1.000000\n",
       "353       2.935341  0.009243  0.184858\n",
       "354      -0.633598  0.534776  1.000000\n",
       "355      -0.048832  0.961622  1.000000\n",
       "356      -1.151242  0.265568  1.000000\n",
       "357      -0.018294  0.985618  1.000000\n",
       "358       0.479802  0.637483  1.000000\n",
       "359       0.458592  0.652336  1.000000\n",
       "360       1.038663  0.313510  1.000000\n",
       "361      -0.484151  0.634457  1.000000\n",
       "362       0.430847  0.671993  1.000000\n",
       "363      -1.208736  0.243309  1.000000\n",
       "364      -3.860400  0.001255  0.025101"
      ]
     },
     "execution_count": 15,
     "metadata": {},
     "output_type": "execute_result"
    }
   ],
   "source": [
    "result20.outlier_test()"
   ]
  },
  {
   "cell_type": "markdown",
   "id": "dff7cc37-56c8-4cda-b670-2ee04cc40454",
   "metadata": {},
   "source": [
    "아웃라이어를 제외한 회귀분석 결과는 다음과같다."
   ]
  },
  {
   "cell_type": "code",
   "execution_count": 16,
   "id": "77ac35e4-880e-42be-9fa6-ff5c4daed912",
   "metadata": {},
   "outputs": [
    {
     "data": {
      "image/png": "[encoded data removed]",
      "text/plain": [
       "<Figure size 864x576 with 1 Axes>"
      ]
     },
     "metadata": {
      "needs_background": "light"
     },
     "output_type": "display_data"
    }
   ],
   "source": [
    "plt.figure(figsize=(12, 8))\n",
    "sns.regplot(x=\"rm\", y=\"medv\", data=boston20max)\n",
    "for i, r in boston20max.iterrows():\n",
    "    plt.annotate(i, (r.rm + 0.03, r.medv + 0.3))\n",
    "plt.title(\"아웃라이어 제거한 후 회귀분석 결과\")\n",
    "plt.show()"
   ]
  },
  {
   "cell_type": "code",
   "execution_count": 17,
   "id": "9b081c50-2b7a-42cf-a320-7015165aa49e",
   "metadata": {},
   "outputs": [
    {
     "name": "stdout",
     "output_type": "stream",
     "text": [
      "                            OLS Regression Results                            \n",
      "==============================================================================\n",
      "Dep. Variable:                   medv   R-squared:                       0.569\n",
      "Model:                            OLS   Adj. R-squared:                  0.544\n",
      "Method:                 Least Squares   F-statistic:                     22.46\n",
      "Date:                Mon, 01 Aug 2022   Prob (F-statistic):           0.000190\n",
      "Time:                        20:49:20   Log-Likelihood:                -42.583\n",
      "No. Observations:                  19   AIC:                             89.17\n",
      "Df Residuals:                      17   BIC:                             91.06\n",
      "Df Model:                           1                                         \n",
      "Covariance Type:            nonrobust                                         \n",
      "==============================================================================\n",
      "                 coef    std err          t      P>|t|      [0.025      0.975]\n",
      "------------------------------------------------------------------------------\n",
      "Intercept     21.6158      0.552     39.164      0.000      20.451      22.780\n",
      "scale(rm)      2.6154      0.552      4.739      0.000       1.451       3.780\n",
      "==============================================================================\n",
      "Omnibus:                        2.400   Durbin-Watson:                   2.149\n",
      "Prob(Omnibus):                  0.301   Jarque-Bera (JB):                1.344\n",
      "Skew:                           0.651   Prob(JB):                        0.511\n",
      "Kurtosis:                       3.066   Cond. No.                         1.00\n",
      "==============================================================================\n",
      "\n",
      "Notes:\n",
      "[1] Standard Errors assume that the covariance matrix of the errors is correctly specified.\n"
     ]
    }
   ],
   "source": [
    "print(result20max.summary())"
   ]
  },
  {
   "cell_type": "markdown",
   "id": "d227718d-7003-4dd7-8dc2-df8443a7b704",
   "metadata": {},
   "source": [
    "아웃라이어를 제거함으로써 가중치의 유의성이나 결정계수 성능이 크게 증가한 것을 알 수 있다."
   ]
  },
  {
   "cell_type": "markdown",
   "id": "6b501610-521a-4e15-a729-d6a54ded82d5",
   "metadata": {},
   "source": [
    "## 영향점 검출"
   ]
  },
  {
   "cell_type": "markdown",
   "id": "06fad479-f5be-4174-9cff-09db2ad6fdcc",
   "metadata": {},
   "source": [
    "그런데 아웃라이어 중에서도 레버리지로 대표되는 영향력이 작은 데이터는 사실 제외하든 제외하지 않든 회귀분석 결과에 큰 영향이 없기 때문에 데이터의 개수가 많을 경우 아웃라이어 중에서도 영향력이 큰 데이터만 고려할 수도 있다. 이러한 데이터를 <b>영향점(influential point)</b>이라고 한다. 영향점을 찾을 때는 스튜던트화 잔차 $r_i$와 레버리지 $h_i$를 동시에 고려하는 <b>쿡 거리(cook's distance)</b>라는 값을 기준으로 사용한다.\n",
    "    \n",
    "$$\n",
    "\\text{쿡 거리(cook's distance)} = \\dfrac{1}{K + 1}\\cdot r_i^2\\cdot \\dfrac{h_i}{1-h_i}\n",
    "$$\n",
    "\n",
    "영향도 객체는 쿡 거리를 `cooks_distance` 속성에 저장한다. 이 때 쿡 거리와 함께 아웃라이어 검정(outlier test)을 위한 유의확률도 같이 저장한다."
   ]
  },
  {
   "cell_type": "code",
   "execution_count": 18,
   "id": "93763ec3-28f3-41b7-8265-6ff70aab2532",
   "metadata": {},
   "outputs": [
    {
     "data": {
      "text/plain": [
       "array([3.98120745e-02, 4.83015121e-02, 3.37687385e-03, 1.61850341e-02,\n",
       "       7.03371904e-02, 2.48869514e-03, 1.16169258e-02, 1.70700103e-02,\n",
       "       2.16551653e-01, 2.29257190e-02, 9.13217935e-05, 3.54727914e-02,\n",
       "       9.39903866e-06, 6.96771288e-03, 6.46000187e-03, 2.85151803e-02,\n",
       "       6.54977100e-03, 1.76334738e-02, 6.27890695e-02, 9.89104790e+00])"
      ]
     },
     "execution_count": 18,
     "metadata": {},
     "output_type": "execute_result"
    }
   ],
   "source": [
    "cook, pvalues = influence20.cooks_distance\n",
    "cook"
   ]
  },
  {
   "cell_type": "markdown",
   "id": "3c667fe6-4510-4c6f-b8a5-fe2ab10e8e30",
   "metadata": {},
   "source": [
    "쿡 거리를 플롯으로 표시하면 364번 데이터의 잔차가 다른 데이터에 비해 훨씬 크다는 것을 알 수 있다."
   ]
  },
  {
   "cell_type": "code",
   "execution_count": 19,
   "id": "146d1251-ffb0-424e-bede-fe140732e032",
   "metadata": {},
   "outputs": [
    {
     "data": {
      "image/png": "[encoded data removed]",
      "text/plain": [
       "<Figure size 864x216 with 1 Axes>"
      ]
     },
     "metadata": {
      "needs_background": "light"
     },
     "output_type": "display_data"
    }
   ],
   "source": [
    "f, ax = plt.subplots(figsize=(12, 3))\n",
    "ax.stem(idx_all, cook)\n",
    "ax.set_xticks(idx_all)\n",
    "plt.title(\"쿡 거리\")\n",
    "plt.show()"
   ]
  },
  {
   "cell_type": "markdown",
   "id": "b88ec6f9-8d45-43e7-a14c-b8b0daa2097e",
   "metadata": {},
   "source": [
    "statsmodels 패키지는 각 데이터의 외부 스튜던트 잔차와 레버리지, 쿡 거리를 동시에 시각화하는 `influence_plot` 함수도 제공한다. 이 함수는 각 데이터 레코드의 외부 스튜던트 잔차를 y축에, 레버리지를 x축에 표시한다. 쿡 거리는 데이터 포인트의 원형 크기로 표시한다."
   ]
  },
  {
   "cell_type": "code",
   "execution_count": 20,
   "id": "55ab86fc-d272-42f9-9c61-a49fc804eec0",
   "metadata": {},
   "outputs": [
    {
     "data": {
      "image/png": "[encoded data removed]",
      "text/plain": [
       "<Figure size 864x576 with 1 Axes>"
      ]
     },
     "metadata": {
      "needs_background": "light"
     },
     "output_type": "display_data"
    }
   ],
   "source": [
    "f, ax = plt.subplots(figsize=(12, 8))\n",
    "sm.graphics.influence_plot(result20, ax=ax)\n",
    "plt.show()"
   ]
  },
  {
   "cell_type": "markdown",
   "id": "2ce22385-763f-487b-b1e5-f8486fcb18b6",
   "metadata": {},
   "source": [
    "외부 스튜던트화 잔차를 사용한 <b>DFFITS(DiFference in FITS)</b>라는 값을 사용할 수도 있다. DFFITS는 다음과 같이 정의한다.\n",
    "\n",
    "$$\n",
    "\\text{DFFITS} = t_i \\sqrt{\\dfrac{h_i}{1 - h_i}}\n",
    "$$\n",
    "\n",
    "dffits 값은 영향도 객체의 `dffits` 속성에 저장되어 있다."
   ]
  },
  {
   "cell_type": "code",
   "execution_count": 21,
   "id": "151f9bca-491f-491f-a8f5-f1eb96df2e4a",
   "metadata": {},
   "outputs": [
    {
     "data": {
      "text/plain": [
       "array([-2.84011617e-01, -3.13262278e-01,  8.01319952e-02,  1.77375609e-01,\n",
       "        3.79881052e-01,  6.87343148e-02,  1.49756645e-01, -1.81789932e-01,\n",
       "        7.85085705e-01, -2.10539165e-01, -1.31347218e-02, -2.68752589e-01,\n",
       "       -4.21356016e-03,  1.15496589e-01,  1.11144857e-01,  2.39332604e-01,\n",
       "       -1.11992752e-01,  1.83497604e-01, -3.58879687e-01, -5.92125226e+00])"
      ]
     },
     "execution_count": 21,
     "metadata": {},
     "output_type": "execute_result"
    }
   ],
   "source": [
    "dffits, pvalues = influence20.dffits\n",
    "dffits"
   ]
  },
  {
   "cell_type": "code",
   "execution_count": 22,
   "id": "5a6d4a80-7b35-4545-aa2a-c65370082f62",
   "metadata": {},
   "outputs": [
    {
     "data": {
      "image/png": "[encoded data removed]",
      "text/plain": [
       "<Figure size 864x216 with 1 Axes>"
      ]
     },
     "metadata": {
      "needs_background": "light"
     },
     "output_type": "display_data"
    }
   ],
   "source": [
    "f, ax = plt.subplots(figsize=(12, 3))\n",
    "ax.stem(idx_all, dffits)\n",
    "ax.set_xticks(idx_all)\n",
    "plt.title(\"dffits\")\n",
    "plt.show()"
   ]
  },
  {
   "cell_type": "markdown",
   "id": "16fdab20-dee2-4cc1-9eab-589de88878f4",
   "metadata": {},
   "source": [
    "우리가 사용한 예제에서는 364번 데이터가 아웃라이어면서 동시에 영향점임을 알 수 있다."
   ]
  },
  {
   "cell_type": "code",
   "execution_count": null,
   "id": "557cd2b5-eaf9-4dbf-8d58-65d8470d8377",
   "metadata": {},
   "outputs": [],
   "source": []
  }
 ],
 "metadata": {
  "kernelspec": {
   "display_name": "Python 3 (ipykernel)",
   "language": "python",
   "name": "python3"
  },
  "language_info": {
   "codemirror_mode": {
    "name": "ipython",
    "version": 3
   },
   "file_extension": ".py",
   "mimetype": "text/x-python",
   "name": "python",
   "nbconvert_exporter": "python",
   "pygments_lexer": "ipython3",
   "version": "3.9.12"
  }
 },
 "nbformat": 4,
 "nbformat_minor": 5
}
