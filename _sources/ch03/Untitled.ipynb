{
 "cells": [
  {
   "cell_type": "code",
   "execution_count": 4,
   "id": "7e1543c1-e9da-43a7-9cbb-d1413cfcea1a",
   "metadata": {},
   "outputs": [],
   "source": [
    "eq = \"add(add(add(add(div(sub(X1, X0), -0.252), mul(div(X1, 0.819), div(-0.925, X1))), mul(mul(X2, X0), mul(X2, X0))), add(mul(-0.252, sub(X1, X0)), sub(mul(X2, X0), sub(X2, X2)))), mul(add(0.208, X0), add(mul(mul(mul(X0, add(div(0.638, 0.105), X0)), add(X0, X0)), X0), sub(mul(mul(add(0.366, X0), sub(X0, X1)), div(sub(mul(X2, X0), sub(X2, X2)), X0)), X1))))\""
   ]
  },
  {
   "cell_type": "code",
   "execution_count": 5,
   "id": "d181d356-2a5e-480b-8ed1-b25eb719c5fd",
   "metadata": {},
   "outputs": [
    {
     "data": {
      "text/latex": [
       "$\\displaystyle X_{0}^{2} X_{2}^{2} + X_{0} X_{2} + 4.22025396825397 X_{0} - 4.22025396825397 X_{1} + \\left(X_{0} + 0.208\\right) \\left(X_{0}^{3} \\cdot \\left(2 X_{0} + 12.152380952381\\right) - X_{1} + X_{2} \\left(X_{0} + 0.366\\right) \\left(X_{0} - X_{1}\\right)\\right) - 1.12942612942613$"
      ],
      "text/plain": [
       "X0**2*X2**2 + X0*X2 + 4.22025396825397*X0 - 4.22025396825397*X1 + (X0 + 0.208)*(X0**3*(2*X0 + 12.152380952381) - X1 + X2*(X0 + 0.366)*(X0 - X1)) - 1.12942612942613"
      ]
     },
     "execution_count": 5,
     "metadata": {},
     "output_type": "execute_result"
    }
   ],
   "source": [
    "import sympy\n",
    "from sympy import sympify, simplify\n",
    "\n",
    "locals = {\n",
    "    'sub': lambda x, y : x - y,\n",
    "    'div': lambda x, y : x/y,\n",
    "    'mul': lambda x, y : x*y,\n",
    "    'add': lambda x, y : x + y,\n",
    "    'neg': lambda x    : -x,\n",
    "    'pow': lambda x, y : x**y,\n",
    "    'cos': lambda x    : sympy.cos(x)\n",
    "}\n",
    "simplify(sympify(eq, locals=locals))"
   ]
  },
  {
   "cell_type": "code",
   "execution_count": null,
   "id": "36c00016-6585-41c9-8355-8943606a90d3",
   "metadata": {},
   "outputs": [],
   "source": []
  }
 ],
 "metadata": {
  "kernelspec": {
   "display_name": "Python 3 (ipykernel)",
   "language": "python",
   "name": "python3"
  },
  "language_info": {
   "codemirror_mode": {
    "name": "ipython",
    "version": 3
   },
   "file_extension": ".py",
   "mimetype": "text/x-python",
   "name": "python",
   "nbconvert_exporter": "python",
   "pygments_lexer": "ipython3",
   "version": "3.9.12"
  }
 },
 "nbformat": 4,
 "nbformat_minor": 5
}
