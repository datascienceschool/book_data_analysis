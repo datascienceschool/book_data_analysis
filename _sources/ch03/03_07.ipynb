{
 "cells": [
  {
   "cell_type": "code",
   "execution_count": 1,
   "id": "f26b3f7c-c563-4b90-a1c4-3a8c150f1ede",
   "metadata": {
    "tags": [
     "remove-cell"
    ]
   },
   "outputs": [],
   "source": [
    "%load_ext tikzmagic\n",
    "%matplotlib inline"
   ]
  },
  {
   "cell_type": "markdown",
   "id": "42dc79a7-47f3-4ad7-be0d-161007c4e85f",
   "metadata": {},
   "source": [
    "# 모형 선택"
   ]
  },
  {
   "cell_type": "markdown",
   "id": "29b08e0b-44e8-4ab0-a794-362026396486",
   "metadata": {},
   "source": [
    "이제 모형의 성능을 비교할 수 있으므로 남은 문제는 여러가지 선형회귀모형을 분석하여 가장 좋은 모형을 찾는 일이다. 이를 <b>모형 선택(model selection)</b>이라고 한다. 선형회귀분석에서는 어떤 독립변수를 사용하는가에 따라 회귀모형이 달라지므로 이를 <b>변수 선택(variable selection)</b>이고 하기도 한다.\n",
    "\n",
    "선형회귀분석에서 변수 선택을 하는 방법은 여러가지가 있다. 모든 변수의 선택 조합에 대해 성능을 살펴보는 것은 독립변수의 개수가 많을 경우 현실적으로 어렵기 때문에 보통은 다음 두 가지 접근방식을 많이 사용한다. \n",
    "\n",
    "* 전진선택(forward selection) : 독립변수가 적은 간단한 모형부터 시작하여 차츰 유의한 독립변수를 추가하는 방식\n",
    "* 후진제거(backward elimination) : 모든 독립변수를 사용한 가장 복잡한 모형부터 시작하여 차츰 유의하지 않은 독립변수를 제거하는 방식\n",
    "\n",
    "이 절에서는 전진선택 방법에 대해서만 설명한다.\n",
    "\n",
    "독립변수 선택히 가장 유의한 독립변수를 고르는 기준도 두 가지가 있다.\n",
    "\n",
    "* 유의확률이 가장 작은 독립변수\n",
    "* 가장 회귀분석 성능을 높이는 독립변수\n",
    "\n",
    "여기에서는 가장 회귀분석 성능을 높이는 독립변수를 선택하되 해당 독립변수의 유의확률이 우리가 정한 유의수준보다 큰 경우에는 제외하는 방법을 사용하기로 한다.\n",
    "\n",
    "이 절에서는 보스턴 집값 데이터를 예제 데이터로 사용한다"
   ]
  },
  {
   "cell_type": "code",
   "execution_count": 2,
   "id": "e347b5b9-3c82-4adb-a880-0c60b8361e20",
   "metadata": {},
   "outputs": [
    {
     "data": {
      "text/html": [
       "<div>\n",
       "<style scoped>\n",
       "    .dataframe tbody tr th:only-of-type {\n",
       "        vertical-align: middle;\n",
       "    }\n",
       "\n",
       "    .dataframe tbody tr th {\n",
       "        vertical-align: top;\n",
       "    }\n",
       "\n",
       "    .dataframe thead th {\n",
       "        text-align: right;\n",
       "    }\n",
       "</style>\n",
       "<table border=\"1\" class=\"dataframe\">\n",
       "  <thead>\n",
       "    <tr style=\"text-align: right;\">\n",
       "      <th></th>\n",
       "      <th>crim</th>\n",
       "      <th>zn</th>\n",
       "      <th>indus</th>\n",
       "      <th>chas</th>\n",
       "      <th>nox</th>\n",
       "      <th>rm</th>\n",
       "      <th>age</th>\n",
       "      <th>dis</th>\n",
       "      <th>rad</th>\n",
       "      <th>tax</th>\n",
       "      <th>ptratio</th>\n",
       "      <th>black</th>\n",
       "      <th>lstat</th>\n",
       "      <th>medv</th>\n",
       "    </tr>\n",
       "  </thead>\n",
       "  <tbody>\n",
       "    <tr>\n",
       "      <th>0</th>\n",
       "      <td>0.00632</td>\n",
       "      <td>18.0</td>\n",
       "      <td>2.31</td>\n",
       "      <td>0</td>\n",
       "      <td>0.538</td>\n",
       "      <td>6.575</td>\n",
       "      <td>65.2</td>\n",
       "      <td>4.0900</td>\n",
       "      <td>1</td>\n",
       "      <td>296</td>\n",
       "      <td>15.3</td>\n",
       "      <td>396.90</td>\n",
       "      <td>4.98</td>\n",
       "      <td>24.0</td>\n",
       "    </tr>\n",
       "    <tr>\n",
       "      <th>1</th>\n",
       "      <td>0.02731</td>\n",
       "      <td>0.0</td>\n",
       "      <td>7.07</td>\n",
       "      <td>0</td>\n",
       "      <td>0.469</td>\n",
       "      <td>6.421</td>\n",
       "      <td>78.9</td>\n",
       "      <td>4.9671</td>\n",
       "      <td>2</td>\n",
       "      <td>242</td>\n",
       "      <td>17.8</td>\n",
       "      <td>396.90</td>\n",
       "      <td>9.14</td>\n",
       "      <td>21.6</td>\n",
       "    </tr>\n",
       "    <tr>\n",
       "      <th>2</th>\n",
       "      <td>0.02729</td>\n",
       "      <td>0.0</td>\n",
       "      <td>7.07</td>\n",
       "      <td>0</td>\n",
       "      <td>0.469</td>\n",
       "      <td>7.185</td>\n",
       "      <td>61.1</td>\n",
       "      <td>4.9671</td>\n",
       "      <td>2</td>\n",
       "      <td>242</td>\n",
       "      <td>17.8</td>\n",
       "      <td>392.83</td>\n",
       "      <td>4.03</td>\n",
       "      <td>34.7</td>\n",
       "    </tr>\n",
       "    <tr>\n",
       "      <th>3</th>\n",
       "      <td>0.03237</td>\n",
       "      <td>0.0</td>\n",
       "      <td>2.18</td>\n",
       "      <td>0</td>\n",
       "      <td>0.458</td>\n",
       "      <td>6.998</td>\n",
       "      <td>45.8</td>\n",
       "      <td>6.0622</td>\n",
       "      <td>3</td>\n",
       "      <td>222</td>\n",
       "      <td>18.7</td>\n",
       "      <td>394.63</td>\n",
       "      <td>2.94</td>\n",
       "      <td>33.4</td>\n",
       "    </tr>\n",
       "    <tr>\n",
       "      <th>4</th>\n",
       "      <td>0.06905</td>\n",
       "      <td>0.0</td>\n",
       "      <td>2.18</td>\n",
       "      <td>0</td>\n",
       "      <td>0.458</td>\n",
       "      <td>7.147</td>\n",
       "      <td>54.2</td>\n",
       "      <td>6.0622</td>\n",
       "      <td>3</td>\n",
       "      <td>222</td>\n",
       "      <td>18.7</td>\n",
       "      <td>396.90</td>\n",
       "      <td>5.33</td>\n",
       "      <td>36.2</td>\n",
       "    </tr>\n",
       "    <tr>\n",
       "      <th>...</th>\n",
       "      <td>...</td>\n",
       "      <td>...</td>\n",
       "      <td>...</td>\n",
       "      <td>...</td>\n",
       "      <td>...</td>\n",
       "      <td>...</td>\n",
       "      <td>...</td>\n",
       "      <td>...</td>\n",
       "      <td>...</td>\n",
       "      <td>...</td>\n",
       "      <td>...</td>\n",
       "      <td>...</td>\n",
       "      <td>...</td>\n",
       "      <td>...</td>\n",
       "    </tr>\n",
       "    <tr>\n",
       "      <th>501</th>\n",
       "      <td>0.06263</td>\n",
       "      <td>0.0</td>\n",
       "      <td>11.93</td>\n",
       "      <td>0</td>\n",
       "      <td>0.573</td>\n",
       "      <td>6.593</td>\n",
       "      <td>69.1</td>\n",
       "      <td>2.4786</td>\n",
       "      <td>1</td>\n",
       "      <td>273</td>\n",
       "      <td>21.0</td>\n",
       "      <td>391.99</td>\n",
       "      <td>9.67</td>\n",
       "      <td>22.4</td>\n",
       "    </tr>\n",
       "    <tr>\n",
       "      <th>502</th>\n",
       "      <td>0.04527</td>\n",
       "      <td>0.0</td>\n",
       "      <td>11.93</td>\n",
       "      <td>0</td>\n",
       "      <td>0.573</td>\n",
       "      <td>6.120</td>\n",
       "      <td>76.7</td>\n",
       "      <td>2.2875</td>\n",
       "      <td>1</td>\n",
       "      <td>273</td>\n",
       "      <td>21.0</td>\n",
       "      <td>396.90</td>\n",
       "      <td>9.08</td>\n",
       "      <td>20.6</td>\n",
       "    </tr>\n",
       "    <tr>\n",
       "      <th>503</th>\n",
       "      <td>0.06076</td>\n",
       "      <td>0.0</td>\n",
       "      <td>11.93</td>\n",
       "      <td>0</td>\n",
       "      <td>0.573</td>\n",
       "      <td>6.976</td>\n",
       "      <td>91.0</td>\n",
       "      <td>2.1675</td>\n",
       "      <td>1</td>\n",
       "      <td>273</td>\n",
       "      <td>21.0</td>\n",
       "      <td>396.90</td>\n",
       "      <td>5.64</td>\n",
       "      <td>23.9</td>\n",
       "    </tr>\n",
       "    <tr>\n",
       "      <th>504</th>\n",
       "      <td>0.10959</td>\n",
       "      <td>0.0</td>\n",
       "      <td>11.93</td>\n",
       "      <td>0</td>\n",
       "      <td>0.573</td>\n",
       "      <td>6.794</td>\n",
       "      <td>89.3</td>\n",
       "      <td>2.3889</td>\n",
       "      <td>1</td>\n",
       "      <td>273</td>\n",
       "      <td>21.0</td>\n",
       "      <td>393.45</td>\n",
       "      <td>6.48</td>\n",
       "      <td>22.0</td>\n",
       "    </tr>\n",
       "    <tr>\n",
       "      <th>505</th>\n",
       "      <td>0.04741</td>\n",
       "      <td>0.0</td>\n",
       "      <td>11.93</td>\n",
       "      <td>0</td>\n",
       "      <td>0.573</td>\n",
       "      <td>6.030</td>\n",
       "      <td>80.8</td>\n",
       "      <td>2.5050</td>\n",
       "      <td>1</td>\n",
       "      <td>273</td>\n",
       "      <td>21.0</td>\n",
       "      <td>396.90</td>\n",
       "      <td>7.88</td>\n",
       "      <td>11.9</td>\n",
       "    </tr>\n",
       "  </tbody>\n",
       "</table>\n",
       "<p>506 rows × 14 columns</p>\n",
       "</div>"
      ],
      "text/plain": [
       "        crim    zn  indus  chas    nox     rm   age     dis  rad  tax  \\\n",
       "0    0.00632  18.0   2.31     0  0.538  6.575  65.2  4.0900    1  296   \n",
       "1    0.02731   0.0   7.07     0  0.469  6.421  78.9  4.9671    2  242   \n",
       "2    0.02729   0.0   7.07     0  0.469  7.185  61.1  4.9671    2  242   \n",
       "3    0.03237   0.0   2.18     0  0.458  6.998  45.8  6.0622    3  222   \n",
       "4    0.06905   0.0   2.18     0  0.458  7.147  54.2  6.0622    3  222   \n",
       "..       ...   ...    ...   ...    ...    ...   ...     ...  ...  ...   \n",
       "501  0.06263   0.0  11.93     0  0.573  6.593  69.1  2.4786    1  273   \n",
       "502  0.04527   0.0  11.93     0  0.573  6.120  76.7  2.2875    1  273   \n",
       "503  0.06076   0.0  11.93     0  0.573  6.976  91.0  2.1675    1  273   \n",
       "504  0.10959   0.0  11.93     0  0.573  6.794  89.3  2.3889    1  273   \n",
       "505  0.04741   0.0  11.93     0  0.573  6.030  80.8  2.5050    1  273   \n",
       "\n",
       "     ptratio   black  lstat  medv  \n",
       "0       15.3  396.90   4.98  24.0  \n",
       "1       17.8  396.90   9.14  21.6  \n",
       "2       17.8  392.83   4.03  34.7  \n",
       "3       18.7  394.63   2.94  33.4  \n",
       "4       18.7  396.90   5.33  36.2  \n",
       "..       ...     ...    ...   ...  \n",
       "501     21.0  391.99   9.67  22.4  \n",
       "502     21.0  396.90   9.08  20.6  \n",
       "503     21.0  396.90   5.64  23.9  \n",
       "504     21.0  393.45   6.48  22.0  \n",
       "505     21.0  396.90   7.88  11.9  \n",
       "\n",
       "[506 rows x 14 columns]"
      ]
     },
     "execution_count": 2,
     "metadata": {},
     "output_type": "execute_result"
    }
   ],
   "source": [
    "import statsmodels.api as sm\n",
    "\n",
    "boston = sm.datasets.get_rdataset(\"Boston\", \"MASS\").data\n",
    "boston"
   ]
  },
  {
   "cell_type": "markdown",
   "id": "e1c2464b-a812-41c7-a87f-3946bc48d8ff",
   "metadata": {},
   "source": [
    "일단 하나의 독립변수만 사용한 모형을 비교해보자. 보스턴 집값 데이터에는 13개의 독립변수가 있으므로 13개의 모형이 만들어진다."
   ]
  },
  {
   "cell_type": "code",
   "execution_count": 3,
   "id": "9effd746-d869-44b2-93e4-a07528be2e81",
   "metadata": {},
   "outputs": [],
   "source": [
    "import statsmodels.api as sm\n",
    "\n",
    "var_names = list(filter(lambda n: n != \"medv\", boston.columns))  # 종속변수 medv를 제외한 독립변수 리스트\n",
    "models_1 = {}\n",
    "for n in var_names:\n",
    "    name_n = f\"model_1_{n}\"\n",
    "    formula_n = \"medv ~ C(chas) \" if n == \"chas\" else f\"medv ~ scale({n}) \"\n",
    "    models_1[name_n] = sm.OLS.from_formula(formula_n, boston)"
   ]
  },
  {
   "cell_type": "markdown",
   "id": "9ceef0bb-3e0c-4d84-8bbd-de53b0891740",
   "metadata": {},
   "source": [
    "이 모형들에 대해 회귀분석을 실시하여 결과 객체를 얻는다."
   ]
  },
  {
   "cell_type": "code",
   "execution_count": 4,
   "id": "98f37b70-1e2a-4a94-8b20-aa5a32572c38",
   "metadata": {},
   "outputs": [],
   "source": [
    "results_1 = {}\n",
    "for model_name, model in models_1.items():\n",
    "    results_1[model_name] = model.fit()"
   ]
  },
  {
   "cell_type": "markdown",
   "id": "be2880dc-092c-45ad-a6fc-3ec4c9f77016",
   "metadata": {},
   "source": [
    "회귀분석 성능은 결정계수 $R^2$로 대표되는 예측성능만 고려하기로 한다. 위에서 구한 13가지 모형의 결정계수와 유의확률을 구하면 다음과 같다."
   ]
  },
  {
   "cell_type": "code",
   "execution_count": 5,
   "id": "3af266e7-a64e-4e5a-a37a-49a6a8fd789b",
   "metadata": {},
   "outputs": [
    {
     "data": {
      "text/html": [
       "<div>\n",
       "<style scoped>\n",
       "    .dataframe tbody tr th:only-of-type {\n",
       "        vertical-align: middle;\n",
       "    }\n",
       "\n",
       "    .dataframe tbody tr th {\n",
       "        vertical-align: top;\n",
       "    }\n",
       "\n",
       "    .dataframe thead th {\n",
       "        text-align: right;\n",
       "    }\n",
       "</style>\n",
       "<table border=\"1\" class=\"dataframe\">\n",
       "  <thead>\n",
       "    <tr style=\"text-align: right;\">\n",
       "      <th></th>\n",
       "      <th>r2</th>\n",
       "      <th>pv</th>\n",
       "    </tr>\n",
       "  </thead>\n",
       "  <tbody>\n",
       "    <tr>\n",
       "      <th>model_1_lstat</th>\n",
       "      <td>0.544146</td>\n",
       "      <td>5.081103e-88</td>\n",
       "    </tr>\n",
       "    <tr>\n",
       "      <th>model_1_rm</th>\n",
       "      <td>0.483525</td>\n",
       "      <td>2.487229e-74</td>\n",
       "    </tr>\n",
       "    <tr>\n",
       "      <th>model_1_ptratio</th>\n",
       "      <td>0.257847</td>\n",
       "      <td>1.609509e-34</td>\n",
       "    </tr>\n",
       "    <tr>\n",
       "      <th>model_1_indus</th>\n",
       "      <td>0.233990</td>\n",
       "      <td>4.900260e-31</td>\n",
       "    </tr>\n",
       "    <tr>\n",
       "      <th>model_1_tax</th>\n",
       "      <td>0.219526</td>\n",
       "      <td>5.637734e-29</td>\n",
       "    </tr>\n",
       "    <tr>\n",
       "      <th>model_1_nox</th>\n",
       "      <td>0.182603</td>\n",
       "      <td>7.065042e-24</td>\n",
       "    </tr>\n",
       "    <tr>\n",
       "      <th>model_1_crim</th>\n",
       "      <td>0.150780</td>\n",
       "      <td>1.173987e-19</td>\n",
       "    </tr>\n",
       "    <tr>\n",
       "      <th>model_1_rad</th>\n",
       "      <td>0.145639</td>\n",
       "      <td>5.465933e-19</td>\n",
       "    </tr>\n",
       "    <tr>\n",
       "      <th>model_1_age</th>\n",
       "      <td>0.142095</td>\n",
       "      <td>1.569982e-18</td>\n",
       "    </tr>\n",
       "    <tr>\n",
       "      <th>model_1_zn</th>\n",
       "      <td>0.129921</td>\n",
       "      <td>5.713584e-17</td>\n",
       "    </tr>\n",
       "    <tr>\n",
       "      <th>model_1_black</th>\n",
       "      <td>0.111196</td>\n",
       "      <td>1.318113e-14</td>\n",
       "    </tr>\n",
       "    <tr>\n",
       "      <th>model_1_dis</th>\n",
       "      <td>0.062464</td>\n",
       "      <td>1.206612e-08</td>\n",
       "    </tr>\n",
       "    <tr>\n",
       "      <th>model_1_chas</th>\n",
       "      <td>0.030716</td>\n",
       "      <td>7.390623e-05</td>\n",
       "    </tr>\n",
       "  </tbody>\n",
       "</table>\n",
       "</div>"
      ],
      "text/plain": [
       "                       r2            pv\n",
       "model_1_lstat    0.544146  5.081103e-88\n",
       "model_1_rm       0.483525  2.487229e-74\n",
       "model_1_ptratio  0.257847  1.609509e-34\n",
       "model_1_indus    0.233990  4.900260e-31\n",
       "model_1_tax      0.219526  5.637734e-29\n",
       "model_1_nox      0.182603  7.065042e-24\n",
       "model_1_crim     0.150780  1.173987e-19\n",
       "model_1_rad      0.145639  5.465933e-19\n",
       "model_1_age      0.142095  1.569982e-18\n",
       "model_1_zn       0.129921  5.713584e-17\n",
       "model_1_black    0.111196  1.318113e-14\n",
       "model_1_dis      0.062464  1.206612e-08\n",
       "model_1_chas     0.030716  7.390623e-05"
      ]
     },
     "execution_count": 5,
     "metadata": {},
     "output_type": "execute_result"
    }
   ],
   "source": [
    "import pandas as pd\n",
    "\n",
    "df_1 = pd.DataFrame({\n",
    "  \"r2\": {n: r.rsquared for n, r in results_1.items()},\n",
    "  \"pv\": {n: r.pvalues[r.model.exog_names[-1]] for n, r in results_1.items()},\n",
    "})\n",
    "df_1.sort_values(\"r2\", ascending=False)"
   ]
  },
  {
   "cell_type": "markdown",
   "id": "4c59340e-725d-4d2b-a5ee-4fa1b06af700",
   "metadata": {},
   "source": [
    "13가지 모형 중 lstat을 독립변수로 사용한 모형의 결정계수값이 0.54로 가장 결정계수가 높으므로 이를 첫번째 독립변수로 선택한다. 유의확률들이 모두 아주 작기 때문에 제외할 독립변수는 없다.\n",
    "\n",
    "다음으로는 여기에 12가지 독립변수를 차례대로 추가하여 성능을 살펴본다."
   ]
  },
  {
   "cell_type": "code",
   "execution_count": 6,
   "id": "9356c3f1-2de7-4a9e-aca6-f53f2359ff06",
   "metadata": {},
   "outputs": [
    {
     "data": {
      "text/html": [
       "<div>\n",
       "<style scoped>\n",
       "    .dataframe tbody tr th:only-of-type {\n",
       "        vertical-align: middle;\n",
       "    }\n",
       "\n",
       "    .dataframe tbody tr th {\n",
       "        vertical-align: top;\n",
       "    }\n",
       "\n",
       "    .dataframe thead th {\n",
       "        text-align: right;\n",
       "    }\n",
       "</style>\n",
       "<table border=\"1\" class=\"dataframe\">\n",
       "  <thead>\n",
       "    <tr style=\"text-align: right;\">\n",
       "      <th></th>\n",
       "      <th>r2</th>\n",
       "      <th>pv</th>\n",
       "    </tr>\n",
       "  </thead>\n",
       "  <tbody>\n",
       "    <tr>\n",
       "      <th>model_2_rm</th>\n",
       "      <td>0.638562</td>\n",
       "      <td>3.472258e-27</td>\n",
       "    </tr>\n",
       "    <tr>\n",
       "      <th>model_2_ptratio</th>\n",
       "      <td>0.606655</td>\n",
       "      <td>7.382385e-18</td>\n",
       "    </tr>\n",
       "    <tr>\n",
       "      <th>model_2_chas</th>\n",
       "      <td>0.562554</td>\n",
       "      <td>6.033649e-89</td>\n",
       "    </tr>\n",
       "    <tr>\n",
       "      <th>model_2_dis</th>\n",
       "      <td>0.562228</td>\n",
       "      <td>6.487838e-06</td>\n",
       "    </tr>\n",
       "    <tr>\n",
       "      <th>model_2_age</th>\n",
       "      <td>0.551269</td>\n",
       "      <td>4.906776e-03</td>\n",
       "    </tr>\n",
       "    <tr>\n",
       "      <th>model_2_tax</th>\n",
       "      <td>0.550570</td>\n",
       "      <td>7.573724e-03</td>\n",
       "    </tr>\n",
       "    <tr>\n",
       "      <th>model_2_black</th>\n",
       "      <td>0.548790</td>\n",
       "      <td>2.331593e-02</td>\n",
       "    </tr>\n",
       "    <tr>\n",
       "      <th>model_2_zn</th>\n",
       "      <td>0.547900</td>\n",
       "      <td>4.152669e-02</td>\n",
       "    </tr>\n",
       "    <tr>\n",
       "      <th>model_2_crim</th>\n",
       "      <td>0.547586</td>\n",
       "      <td>5.105917e-02</td>\n",
       "    </tr>\n",
       "    <tr>\n",
       "      <th>model_2_indus</th>\n",
       "      <td>0.546458</td>\n",
       "      <td>1.099809e-01</td>\n",
       "    </tr>\n",
       "    <tr>\n",
       "      <th>model_2_rad</th>\n",
       "      <td>0.544734</td>\n",
       "      <td>4.207994e-01</td>\n",
       "    </tr>\n",
       "    <tr>\n",
       "      <th>model_2_nox</th>\n",
       "      <td>0.544259</td>\n",
       "      <td>7.249664e-01</td>\n",
       "    </tr>\n",
       "  </tbody>\n",
       "</table>\n",
       "</div>"
      ],
      "text/plain": [
       "                       r2            pv\n",
       "model_2_rm       0.638562  3.472258e-27\n",
       "model_2_ptratio  0.606655  7.382385e-18\n",
       "model_2_chas     0.562554  6.033649e-89\n",
       "model_2_dis      0.562228  6.487838e-06\n",
       "model_2_age      0.551269  4.906776e-03\n",
       "model_2_tax      0.550570  7.573724e-03\n",
       "model_2_black    0.548790  2.331593e-02\n",
       "model_2_zn       0.547900  4.152669e-02\n",
       "model_2_crim     0.547586  5.105917e-02\n",
       "model_2_indus    0.546458  1.099809e-01\n",
       "model_2_rad      0.544734  4.207994e-01\n",
       "model_2_nox      0.544259  7.249664e-01"
      ]
     },
     "execution_count": 6,
     "metadata": {},
     "output_type": "execute_result"
    }
   ],
   "source": [
    "var_names.remove(\"lstat\")  # 선택된 독립변수 lstat 제외\n",
    "formula_1 = \"medv ~ scale(lstat) \"  # 선택된 모형 문자열\n",
    "models_2 = {}\n",
    "for n in var_names:\n",
    "    name_n = f\"model_2_{n}\"\n",
    "    formula_n = formula_1 + \" + C(chas) \" if n == \"chas\" else formula_1 + f\" + scale({n}) \"\n",
    "    models_2[name_n] = sm.OLS.from_formula(formula_n, boston)\n",
    "\n",
    "results_2 = {}\n",
    "for model_name, model in models_2.items():\n",
    "    results_2[model_name] = model.fit()\n",
    "\n",
    "df_2 = pd.DataFrame({\n",
    "    \"r2\": {n: r.rsquared for n, r in results_2.items()},\n",
    "    \"pv\": {n: r.pvalues[r.model.exog_names[-1]] for n, r in results_2.items()},\n",
    "})\n",
    "df_2.sort_values(\"r2\", ascending=False)"
   ]
  },
  {
   "cell_type": "markdown",
   "id": "be7acc86-2bb9-4c2a-bdf7-f129d28f3b85",
   "metadata": {},
   "source": [
    "lstat과 rm 이렇게 2개의 독립변수를 사용하는 경우가 결정계수는 0.64로 가장 높다. 이 경우에도 rm 변수에 대한 유의확률이 아주 작으므로 선택 가능하다.\n",
    "\n",
    "이 결과에서 주의할 부분은 1개의 독립변수만 넣었을 때 lstat 다음으로 성능이 좋았던 독립변수의 순서는 rm, ptratio, indus, tax 순이었지만 2개의 독립변수를 넣었을 때는 이 순서가 아니라 rm, ptratio, chas, dis의 순서가 되었다는 점이다. 즉, 개별적인 성능순서가 좋은 순으로 결합한다고 반드시 더 성능이 낫다는 보장이 없기 때문에 2개의 독립변수를 사용하는 경우는 따로 계산을 해야 한다.\n",
    "\n",
    "다음 코드는 13개까지 이러한 전체 과정을 반복하는 작업을 자동화하는 파이썬 코드다."
   ]
  },
  {
   "cell_type": "code",
   "execution_count": 7,
   "id": "a42346e0-22f6-494e-8bce-922b44e0505f",
   "metadata": {},
   "outputs": [
    {
     "name": "stdout",
     "output_type": "stream",
     "text": [
      "CPU times: total: 3.09 s\n",
      "Wall time: 3.12 s\n"
     ]
    }
   ],
   "source": [
    "%%time\n",
    "\n",
    "var_names_all = list(filter(lambda n: n != \"medv\", boston.columns))\n",
    "var_names = var_names_all.copy()\n",
    "sel_ns = []\n",
    "formulas = []\n",
    "r2s = []\n",
    "pvs = []\n",
    "for k in range(len(var_names_all)):\n",
    "    results_k = {}\n",
    "    for n in var_names:\n",
    "        if k == 0:\n",
    "            formula_k_n = \"medv ~ C(chas) \" if n == \"chas\" else f\"medv ~ scale({n}) \"\n",
    "        else:\n",
    "            formula_k_n = formula_k + \" + C(chas) \" if n == \"chas\" else formula_k + f\" + scale({n}) \"\n",
    "        results_k[n] = sm.OLS.from_formula(formula_k_n, boston).fit()\n",
    "    df = pd.DataFrame({\n",
    "        \"r2\": {n: r.rsquared_adj for n, r in results_k.items()},\n",
    "        \"pv\": {n: r.pvalues[r.model.exog_names[-1]] for n, r in results_k.items()},\n",
    "    }).sort_values(\"r2\", ascending=False)\n",
    "    sel_n = df.index[0]\n",
    "    op = \"C\" if sel_n == \"chas\" else \"scale\"\n",
    "    formula_k = f\"medv ~ scale({sel_n})\" if k == 0 else formula_k + f\" + {op}({sel_n})\"\n",
    "    sel_ns.append(sel_n)\n",
    "    formulas.append(formula_k)\n",
    "    r2s.append(df[\"r2\"].iloc[0])\n",
    "    pvs.append(df[\"pv\"].iloc[0])\n",
    "    var_names.remove(sel_n)\n",
    "last_result = results_k[sel_n]"
   ]
  },
  {
   "cell_type": "markdown",
   "id": "f210f953-f46e-4a26-8b8f-9dbc61421351",
   "metadata": {},
   "source": [
    "최종적으로 선택된 모형은 다음과 같다."
   ]
  },
  {
   "cell_type": "code",
   "execution_count": 8,
   "id": "5fba27ae-ca36-43ba-a410-e3b8e34c75a6",
   "metadata": {},
   "outputs": [
    {
     "data": {
      "text/plain": [
       "'medv ~ scale(lstat) + scale(rm) + scale(ptratio) + scale(dis) + scale(nox) + C(chas) + scale(black) + scale(zn) + scale(crim) + scale(rad) + scale(tax) + scale(indus) + scale(age) '"
      ]
     },
     "execution_count": 8,
     "metadata": {},
     "output_type": "execute_result"
    }
   ],
   "source": [
    "last_result.model.formula"
   ]
  },
  {
   "cell_type": "markdown",
   "id": "be8dadce-7193-4ae5-bca1-93f459feb6f1",
   "metadata": {},
   "source": [
    "독립변수가 추가되면서 결정계수가 어떻게 변하였는지를 정리하면 다음과 같다."
   ]
  },
  {
   "cell_type": "code",
   "execution_count": 9,
   "id": "561e5334-b0ca-4f26-af90-a83dac470b30",
   "metadata": {},
   "outputs": [
    {
     "data": {
      "text/plain": [
       "lstat      0.543242\n",
       "rm         0.637124\n",
       "ptratio    0.676704\n",
       "dis        0.687835\n",
       "nox        0.705170\n",
       "chas       0.712357\n",
       "black      0.718256\n",
       "zn         0.722207\n",
       "crim       0.723905\n",
       "rad        0.728807\n",
       "tax        0.734806\n",
       "indus      0.734328\n",
       "age        0.733790\n",
       "dtype: float64"
      ]
     },
     "execution_count": 9,
     "metadata": {},
     "output_type": "execute_result"
    }
   ],
   "source": [
    "s_r2 = pd.Series(r2s, index=sel_ns)\n",
    "s_r2"
   ]
  },
  {
   "cell_type": "markdown",
   "id": "52312d9c-9331-46df-9faa-5421388fcd0f",
   "metadata": {},
   "source": [
    "이를 플롯으로 표시하면 다음과 같다. x축은 추가된 변수의 순서를 나타내고 y축은 결정계수 값이다."
   ]
  },
  {
   "cell_type": "code",
   "execution_count": 10,
   "id": "61f6ebe5-db6f-43af-aca7-8282e4c69bc2",
   "metadata": {},
   "outputs": [
    {
     "data": {
      "image/png": "[encoded data removed]",
      "text/plain": [
       "<Figure size 720x288 with 1 Axes>"
      ]
     },
     "metadata": {
      "needs_background": "light"
     },
     "output_type": "display_data"
    }
   ],
   "source": [
    "ax = s_r2.plot(marker=\"o\", title=\"추가변수에 따른 결정계수의 변화\", figsize=(10, 4))\n",
    "ax.set_xticks(range(len(s_r2))) # 모든 x 라벨을 표시하기 위한 코드\n",
    "ax.set_xticklabels(s_r2.index)\n",
    "plt.show()"
   ]
  },
  {
   "cell_type": "markdown",
   "id": "3148f498-0eba-4330-8dc1-597ca409434d",
   "metadata": {},
   "source": [
    "이제 선택된 독립변수들의 유의확률을 살펴본다."
   ]
  },
  {
   "cell_type": "code",
   "execution_count": 11,
   "id": "d547ba50-544e-4b2c-a074-5eb2e85c7175",
   "metadata": {},
   "outputs": [
    {
     "data": {
      "text/plain": [
       "lstat      5.081103e-88\n",
       "rm         3.472258e-27\n",
       "ptratio    1.644660e-14\n",
       "dis        1.668467e-05\n",
       "nox        5.488148e-08\n",
       "chas       1.134454e-08\n",
       "black      7.719459e-04\n",
       "zn         4.651616e-03\n",
       "crim       4.456745e-02\n",
       "rad        1.692182e-03\n",
       "tax        5.214237e-04\n",
       "indus      7.379887e-01\n",
       "age        9.582293e-01\n",
       "dtype: float64"
      ]
     },
     "execution_count": 11,
     "metadata": {},
     "output_type": "execute_result"
    }
   ],
   "source": [
    "s_pv = pd.Series(pvs, index=sel_ns)\n",
    "s_pv"
   ]
  },
  {
   "cell_type": "markdown",
   "id": "8cdc8e98-f8bb-48a9-a93e-d540dee879bb",
   "metadata": {},
   "source": [
    "유의수준을 1%라고 정하였을 때 indus와 age는 유의확률이 유의수준보다 크기 때문에 이 두 변수는 추가하면 안된다. 따라서 최종적으로 우리가 선택할 모형은 다음과 같다."
   ]
  },
  {
   "cell_type": "code",
   "execution_count": 12,
   "id": "c019cd7f-4389-4077-9868-7e465f37f91a",
   "metadata": {},
   "outputs": [],
   "source": [
    "formula = \"medv ~ \" \\\n",
    "    \"scale(lstat) + scale(rm) + scale(ptratio) + scale(dis) + scale(nox)\" \\\n",
    "    \"+ C(chas) + scale(black) + scale(zn) + scale(crim) + scale(rad) + scale(tax)\""
   ]
  },
  {
   "cell_type": "markdown",
   "id": "02188655-5ccc-46e7-85de-e7bef2c26948",
   "metadata": {},
   "source": [
    "이 모형의 회귀분석 결과는 다음과 같다."
   ]
  },
  {
   "cell_type": "code",
   "execution_count": 13,
   "id": "78dc3301-b501-421e-a3c7-ec218fb22ff4",
   "metadata": {},
   "outputs": [
    {
     "name": "stdout",
     "output_type": "stream",
     "text": [
      "                            OLS Regression Results                            \n",
      "==============================================================================\n",
      "Dep. Variable:                   medv   R-squared:                       0.741\n",
      "Model:                            OLS   Adj. R-squared:                  0.735\n",
      "Method:                 Least Squares   F-statistic:                     128.2\n",
      "Date:                Fri, 29 Jul 2022   Prob (F-statistic):          5.54e-137\n",
      "Time:                        08:52:12   Log-Likelihood:                -1498.9\n",
      "No. Observations:                 506   AIC:                             3022.\n",
      "Df Residuals:                     494   BIC:                             3072.\n",
      "Df Model:                          11                                         \n",
      "Covariance Type:            nonrobust                                         \n",
      "==================================================================================\n",
      "                     coef    std err          t      P>|t|      [0.025      0.975]\n",
      "----------------------------------------------------------------------------------\n",
      "Intercept         22.3448      0.219    102.178      0.000      21.915      22.774\n",
      "C(chas)[T.1]       2.7187      0.854      3.183      0.002       1.040       4.397\n",
      "scale(lstat)      -3.7279      0.338    -11.019      0.000      -4.393      -3.063\n",
      "scale(rm)          2.6684      0.285      9.356      0.000       2.108       3.229\n",
      "scale(ptratio)    -2.0471      0.279     -7.334      0.000      -2.596      -1.499\n",
      "scale(dis)        -3.1401      0.391     -8.037      0.000      -3.908      -2.372\n",
      "scale(nox)        -2.0115      0.409     -4.915      0.000      -2.816      -1.207\n",
      "scale(black)       0.8474      0.244      3.475      0.001       0.368       1.327\n",
      "scale(zn)          1.0682      0.315      3.390      0.001       0.449       1.687\n",
      "scale(crim)       -0.9316      0.282     -3.307      0.001      -1.485      -0.378\n",
      "scale(rad)         2.6062      0.552      4.726      0.000       1.523       3.690\n",
      "scale(tax)        -1.9831      0.568     -3.493      0.001      -3.099      -0.867\n",
      "==============================================================================\n",
      "Omnibus:                      178.430   Durbin-Watson:                   1.078\n",
      "Prob(Omnibus):                  0.000   Jarque-Bera (JB):              787.785\n",
      "Skew:                           1.523   Prob(JB):                    8.60e-172\n",
      "Kurtosis:                       8.300   Cond. No.                         9.11\n",
      "==============================================================================\n",
      "\n",
      "Notes:\n",
      "[1] Standard Errors assume that the covariance matrix of the errors is correctly specified.\n"
     ]
    }
   ],
   "source": [
    "result = sm.OLS.from_formula(formula, boston).fit()\n",
    "print(result.summary())"
   ]
  }
 ],
 "metadata": {
  "kernelspec": {
   "display_name": "Python 3 (ipykernel)",
   "language": "python",
   "name": "python3"
  },
  "language_info": {
   "codemirror_mode": {
    "name": "ipython",
    "version": 3
   },
   "file_extension": ".py",
   "mimetype": "text/x-python",
   "name": "python",
   "nbconvert_exporter": "python",
   "pygments_lexer": "ipython3",
   "version": "3.9.12"
  }
 },
 "nbformat": 4,
 "nbformat_minor": 5
}
