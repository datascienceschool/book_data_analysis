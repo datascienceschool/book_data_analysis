{
 "cells": [
  {
   "cell_type": "code",
   "execution_count": 1,
   "id": "f26b3f7c-c563-4b90-a1c4-3a8c150f1ede",
   "metadata": {
    "tags": [
     "remove-cell"
    ]
   },
   "outputs": [],
   "source": [
    "%load_ext tikzmagic\n",
    "%matplotlib inline"
   ]
  },
  {
   "cell_type": "markdown",
   "id": "42dc79a7-47f3-4ad7-be0d-161007c4e85f",
   "metadata": {},
   "source": [
    "# 가중치 검정"
   ]
  },
  {
   "cell_type": "markdown",
   "id": "51e67f44-8d7c-4e48-bd63-b0f5deac523b",
   "metadata": {},
   "source": [
    "앞 절에서 선형회귀분석을 사용하여 계산한 가중치의 추정값 $\\hat{w}$은 자연법칙에서 정해진 정확한 가중치 $w$와 다를 수 있다고 하였다. 팁 데이터를 사용하여 이 사실을 좀 더 자세히 설명한다.\n",
    "\n",
    "우리는 현재 다음과 같은 244개 레코드의 팁 데이터를 가지고 있다."
   ]
  },
  {
   "cell_type": "code",
   "execution_count": 3,
   "id": "bb419547-1414-481a-9eda-d0b9abe9b84d",
   "metadata": {},
   "outputs": [
    {
     "data": {
      "text/html": [
       "<div>\n",
       "<style scoped>\n",
       "    .dataframe tbody tr th:only-of-type {\n",
       "        vertical-align: middle;\n",
       "    }\n",
       "\n",
       "    .dataframe tbody tr th {\n",
       "        vertical-align: top;\n",
       "    }\n",
       "\n",
       "    .dataframe thead th {\n",
       "        text-align: right;\n",
       "    }\n",
       "</style>\n",
       "<table border=\"1\" class=\"dataframe\">\n",
       "  <thead>\n",
       "    <tr style=\"text-align: right;\">\n",
       "      <th></th>\n",
       "      <th>total_bill</th>\n",
       "      <th>tip</th>\n",
       "      <th>sex</th>\n",
       "      <th>smoker</th>\n",
       "      <th>day</th>\n",
       "      <th>time</th>\n",
       "      <th>size</th>\n",
       "    </tr>\n",
       "  </thead>\n",
       "  <tbody>\n",
       "    <tr>\n",
       "      <th>0</th>\n",
       "      <td>16.99</td>\n",
       "      <td>1.01</td>\n",
       "      <td>Female</td>\n",
       "      <td>No</td>\n",
       "      <td>Sun</td>\n",
       "      <td>Dinner</td>\n",
       "      <td>2</td>\n",
       "    </tr>\n",
       "    <tr>\n",
       "      <th>1</th>\n",
       "      <td>10.34</td>\n",
       "      <td>1.66</td>\n",
       "      <td>Male</td>\n",
       "      <td>No</td>\n",
       "      <td>Sun</td>\n",
       "      <td>Dinner</td>\n",
       "      <td>3</td>\n",
       "    </tr>\n",
       "    <tr>\n",
       "      <th>2</th>\n",
       "      <td>21.01</td>\n",
       "      <td>3.50</td>\n",
       "      <td>Male</td>\n",
       "      <td>No</td>\n",
       "      <td>Sun</td>\n",
       "      <td>Dinner</td>\n",
       "      <td>3</td>\n",
       "    </tr>\n",
       "    <tr>\n",
       "      <th>3</th>\n",
       "      <td>23.68</td>\n",
       "      <td>3.31</td>\n",
       "      <td>Male</td>\n",
       "      <td>No</td>\n",
       "      <td>Sun</td>\n",
       "      <td>Dinner</td>\n",
       "      <td>2</td>\n",
       "    </tr>\n",
       "    <tr>\n",
       "      <th>4</th>\n",
       "      <td>24.59</td>\n",
       "      <td>3.61</td>\n",
       "      <td>Female</td>\n",
       "      <td>No</td>\n",
       "      <td>Sun</td>\n",
       "      <td>Dinner</td>\n",
       "      <td>4</td>\n",
       "    </tr>\n",
       "    <tr>\n",
       "      <th>...</th>\n",
       "      <td>...</td>\n",
       "      <td>...</td>\n",
       "      <td>...</td>\n",
       "      <td>...</td>\n",
       "      <td>...</td>\n",
       "      <td>...</td>\n",
       "      <td>...</td>\n",
       "    </tr>\n",
       "    <tr>\n",
       "      <th>239</th>\n",
       "      <td>29.03</td>\n",
       "      <td>5.92</td>\n",
       "      <td>Male</td>\n",
       "      <td>No</td>\n",
       "      <td>Sat</td>\n",
       "      <td>Dinner</td>\n",
       "      <td>3</td>\n",
       "    </tr>\n",
       "    <tr>\n",
       "      <th>240</th>\n",
       "      <td>27.18</td>\n",
       "      <td>2.00</td>\n",
       "      <td>Female</td>\n",
       "      <td>Yes</td>\n",
       "      <td>Sat</td>\n",
       "      <td>Dinner</td>\n",
       "      <td>2</td>\n",
       "    </tr>\n",
       "    <tr>\n",
       "      <th>241</th>\n",
       "      <td>22.67</td>\n",
       "      <td>2.00</td>\n",
       "      <td>Male</td>\n",
       "      <td>Yes</td>\n",
       "      <td>Sat</td>\n",
       "      <td>Dinner</td>\n",
       "      <td>2</td>\n",
       "    </tr>\n",
       "    <tr>\n",
       "      <th>242</th>\n",
       "      <td>17.82</td>\n",
       "      <td>1.75</td>\n",
       "      <td>Male</td>\n",
       "      <td>No</td>\n",
       "      <td>Sat</td>\n",
       "      <td>Dinner</td>\n",
       "      <td>2</td>\n",
       "    </tr>\n",
       "    <tr>\n",
       "      <th>243</th>\n",
       "      <td>18.78</td>\n",
       "      <td>3.00</td>\n",
       "      <td>Female</td>\n",
       "      <td>No</td>\n",
       "      <td>Thur</td>\n",
       "      <td>Dinner</td>\n",
       "      <td>2</td>\n",
       "    </tr>\n",
       "  </tbody>\n",
       "</table>\n",
       "<p>244 rows × 7 columns</p>\n",
       "</div>"
      ],
      "text/plain": [
       "     total_bill   tip     sex smoker   day    time  size\n",
       "0         16.99  1.01  Female     No   Sun  Dinner     2\n",
       "1         10.34  1.66    Male     No   Sun  Dinner     3\n",
       "2         21.01  3.50    Male     No   Sun  Dinner     3\n",
       "3         23.68  3.31    Male     No   Sun  Dinner     2\n",
       "4         24.59  3.61  Female     No   Sun  Dinner     4\n",
       "..          ...   ...     ...    ...   ...     ...   ...\n",
       "239       29.03  5.92    Male     No   Sat  Dinner     3\n",
       "240       27.18  2.00  Female    Yes   Sat  Dinner     2\n",
       "241       22.67  2.00    Male    Yes   Sat  Dinner     2\n",
       "242       17.82  1.75    Male     No   Sat  Dinner     2\n",
       "243       18.78  3.00  Female     No  Thur  Dinner     2\n",
       "\n",
       "[244 rows x 7 columns]"
      ]
     },
     "execution_count": 3,
     "metadata": {},
     "output_type": "execute_result"
    }
   ],
   "source": [
    "import seaborn as sns\n",
    "\n",
    "tips = sns.load_dataset(\"tips\")\n",
    "tips"
   ]
  },
  {
   "cell_type": "markdown",
   "id": "db316625-8231-468e-89ff-82d59058b9c8",
   "metadata": {},
   "source": [
    "하지만 이 팁 데이터는 특정한 기간동안 식당에서 수집한 데이터일 것이다. 이 데이터를 수집하기 전에도 데이터는 계속 나오고 있었고 수집과정이 끝난 이후에도 데이터는 계속 생성되어 나올 것이다.\n",
    "만약 우리가 선형회귀분석으로 구한 가중치가 자연법칙에 의해 정해진 정확한 값이라면 이 데이터 뿐 아니라 다른 시점에 나온 데이터를 쓴다고 하더라고 같은 가중치가 나와야 할 것이다. \n",
    "같은 논리로 우리가 가진 244개의 데이터 중 일부만 사용하여 가중치를 계산한다고 하더라고 항상 같은 값이 나와야 한다. 이 사실을 검증하기 위해 244개의 데이터를 122개씩 2개의 데이터셋으로 나누어 각각 가중치를 구해보자"
   ]
  },
  {
   "cell_type": "code",
   "execution_count": 4,
   "id": "29753a4c-a1b3-4de3-8e96-85c710ae6e1a",
   "metadata": {},
   "outputs": [],
   "source": [
    "tips1 = tips.iloc[:122]\n",
    "tips2 = tips.iloc[122:]"
   ]
  },
  {
   "cell_type": "markdown",
   "id": "0168d9a1-bb70-40c7-81cc-2ae2417cc74e",
   "metadata": {},
   "source": [
    "앞부분 절반의 데이터만 사용하여 가중치를 구해보자. 일단 모형 문자열은 앞에서 사용한 것과 같다."
   ]
  },
  {
   "cell_type": "code",
   "execution_count": 13,
   "id": "40b8caf5-98a1-41d9-a387-b2545499f018",
   "metadata": {},
   "outputs": [],
   "source": [
    "import statsmodels.api as sm\n",
    "\n",
    "formula = \"tip ~ scale(total_bill) + scale(size) + C(sex)\""
   ]
  },
  {
   "cell_type": "code",
   "execution_count": 14,
   "id": "ba907aae-fefd-4592-8f97-a48f288ef043",
   "metadata": {},
   "outputs": [
    {
     "data": {
      "text/plain": [
       "Intercept            3.090691\n",
       "C(sex)[T.Female]    -0.116007\n",
       "scale(total_bill)    0.877198\n",
       "scale(size)          0.061576\n",
       "dtype: float64"
      ]
     },
     "execution_count": 14,
     "metadata": {},
     "output_type": "execute_result"
    }
   ],
   "source": [
    "result1 = sm.OLS.from_formula(formula, tips1).fit()\n",
    "result1.params"
   ]
  },
  {
   "cell_type": "markdown",
   "id": "eaaa299f-1f95-43f1-84f6-840d0de32a20",
   "metadata": {},
   "source": [
    "이번에는 뒷부분 절반의 데이터만 사용하여 가중치를 구한 결과이다."
   ]
  },
  {
   "cell_type": "code",
   "execution_count": 15,
   "id": "f8822969-9575-4cc2-b187-7a2ec6cbfc2a",
   "metadata": {},
   "outputs": [
    {
     "data": {
      "text/plain": [
       "Intercept            2.878103\n",
       "C(sex)[T.Female]     0.164822\n",
       "scale(total_bill)    0.788890\n",
       "scale(size)          0.300813\n",
       "dtype: float64"
      ]
     },
     "execution_count": 15,
     "metadata": {},
     "output_type": "execute_result"
    }
   ],
   "source": [
    "result2 = sm.OLS.from_formula(formula, tips2).fit()\n",
    "result2.params"
   ]
  },
  {
   "cell_type": "markdown",
   "id": "6db52535-b30f-4017-a29d-57ee1a816edf",
   "metadata": {},
   "source": [
    "두 선형회귀분석 결과가 서로 다르다는 것을 알 수 있다. 심지어 sex 데이터의 가중치는 부호조차 서로 다르다. 이 결과를 따르자면 만약 데이터 수집을 더 진행하여 추가적인 데이터를 얻으면 선형회귀분석의 결과가 달라질 수도 있다는 뜻이다. \n",
    "\n",
    "두 데이터셋이 수집되는 동안 자연법칙이 변하지 않았다면 결론은 우리가 구한 가중치의 추정값 $\\hat{w}$이 자연법칙이 내장하고 있는 정확한 가중치 $w$가 아니라는 뜻이다. 즉 가중치의 추정값은 오차를 가지고 있다. 이러한 오차가 발생하는 근본적인 원인은 우리가 가진 데이터가 제한적이기 때문이다. "
   ]
  },
  {
   "cell_type": "markdown",
   "id": "5a9f125c-cd0c-4a0e-9516-fd5cd87d2493",
   "metadata": {},
   "source": [
    "## 부트스트래핑을 사용한 가중치 추정값의 오차범위 계산"
   ]
  },
  {
   "cell_type": "markdown",
   "id": "94e40180-d77a-4cee-bd59-74ac77b975a8",
   "metadata": {},
   "source": [
    "그러면 가중치 추정값이 가지는 오차의 크기가 어느 정도인지 알 수 있는 방법은 없을까? 정확한 오차를 계산하기 위해서는 뒤에서 설명할 몇가지 가정이 필요하지만 일단 부트스프래핑(boot-straping)이라는 간단한 방법으로 오차의 크기를 짐작해 볼 수 있다.  \n",
    "\n",
    "<b>부트스프래핑(boot-straping)</b>은 전체 데이터에서 일부 데이터만 무작위로 골라서 선형회귀분석을 하는 것을 반복하는 것이다. 한번 무작위 선택 후 선형회귀분석을 실시하면 하나의 가중치 추정값 세트가 나온다. 또 한번 다시 데이터를 무작위 선택하여 선형회귀분석을 실시하면 또다른 가중치 추정값 세트가 나온다. 이 과정을 1000번 반복하면 1000개의 가중치 추정값 세트가 나오게 된다. 이렇게 나온 1000개의 가중치 추정값의 분포를 살펴보면 대략적으로 가중치 추정값이 어떤 범위에 있는지 살펴볼 수 있다.\n",
    "\n",
    "다음 코드는 1000번의 반복 부트스트래핑을 통해 1000개의 가중치 추정값 세트를 구하는 코드다. 1000번의 선형회귀분석을 반복해야해서 실행시간이 길다. 코드 앞부분의 `%%time`은 코드의 실행시간을 출력하는 주피터 노트북 매직명령이다. 저자의 컴퓨터에서는 10초 이상의 시간이 걸렸다."
   ]
  },
  {
   "cell_type": "code",
   "execution_count": 64,
   "id": "30a30f68-d182-4ed8-810f-6e67f422d94f",
   "metadata": {},
   "outputs": [
    {
     "name": "stdout",
     "output_type": "stream",
     "text": [
      "CPU times: total: 15.8 s\n",
      "Wall time: 15.9 s\n"
     ]
    },
    {
     "data": {
      "text/html": [
       "<div>\n",
       "<style scoped>\n",
       "    .dataframe tbody tr th:only-of-type {\n",
       "        vertical-align: middle;\n",
       "    }\n",
       "\n",
       "    .dataframe tbody tr th {\n",
       "        vertical-align: top;\n",
       "    }\n",
       "\n",
       "    .dataframe thead th {\n",
       "        text-align: right;\n",
       "    }\n",
       "</style>\n",
       "<table border=\"1\" class=\"dataframe\">\n",
       "  <thead>\n",
       "    <tr style=\"text-align: right;\">\n",
       "      <th></th>\n",
       "      <th>w_0</th>\n",
       "      <th>w_sex</th>\n",
       "      <th>w_total_bill</th>\n",
       "      <th>w_size</th>\n",
       "    </tr>\n",
       "  </thead>\n",
       "  <tbody>\n",
       "    <tr>\n",
       "      <th>0</th>\n",
       "      <td>2.932750</td>\n",
       "      <td>0.005990</td>\n",
       "      <td>0.718988</td>\n",
       "      <td>0.227791</td>\n",
       "    </tr>\n",
       "    <tr>\n",
       "      <th>1</th>\n",
       "      <td>3.084244</td>\n",
       "      <td>0.087494</td>\n",
       "      <td>0.995008</td>\n",
       "      <td>0.049014</td>\n",
       "    </tr>\n",
       "    <tr>\n",
       "      <th>2</th>\n",
       "      <td>2.839063</td>\n",
       "      <td>0.034984</td>\n",
       "      <td>0.634239</td>\n",
       "      <td>0.285801</td>\n",
       "    </tr>\n",
       "    <tr>\n",
       "      <th>3</th>\n",
       "      <td>2.978962</td>\n",
       "      <td>0.032246</td>\n",
       "      <td>0.655065</td>\n",
       "      <td>0.034758</td>\n",
       "    </tr>\n",
       "    <tr>\n",
       "      <th>4</th>\n",
       "      <td>2.888683</td>\n",
       "      <td>0.075727</td>\n",
       "      <td>0.799001</td>\n",
       "      <td>0.162599</td>\n",
       "    </tr>\n",
       "    <tr>\n",
       "      <th>...</th>\n",
       "      <td>...</td>\n",
       "      <td>...</td>\n",
       "      <td>...</td>\n",
       "      <td>...</td>\n",
       "    </tr>\n",
       "    <tr>\n",
       "      <th>995</th>\n",
       "      <td>2.863593</td>\n",
       "      <td>0.023681</td>\n",
       "      <td>0.767523</td>\n",
       "      <td>0.253856</td>\n",
       "    </tr>\n",
       "    <tr>\n",
       "      <th>996</th>\n",
       "      <td>2.826096</td>\n",
       "      <td>0.268302</td>\n",
       "      <td>0.683563</td>\n",
       "      <td>0.227148</td>\n",
       "    </tr>\n",
       "    <tr>\n",
       "      <th>997</th>\n",
       "      <td>2.945665</td>\n",
       "      <td>0.049849</td>\n",
       "      <td>1.045534</td>\n",
       "      <td>0.047011</td>\n",
       "    </tr>\n",
       "    <tr>\n",
       "      <th>998</th>\n",
       "      <td>2.992950</td>\n",
       "      <td>0.013680</td>\n",
       "      <td>0.751426</td>\n",
       "      <td>0.206695</td>\n",
       "    </tr>\n",
       "    <tr>\n",
       "      <th>999</th>\n",
       "      <td>3.013054</td>\n",
       "      <td>-0.069818</td>\n",
       "      <td>0.800282</td>\n",
       "      <td>0.101308</td>\n",
       "    </tr>\n",
       "  </tbody>\n",
       "</table>\n",
       "<p>1000 rows × 4 columns</p>\n",
       "</div>"
      ],
      "text/plain": [
       "          w_0     w_sex  w_total_bill    w_size\n",
       "0    2.932750  0.005990      0.718988  0.227791\n",
       "1    3.084244  0.087494      0.995008  0.049014\n",
       "2    2.839063  0.034984      0.634239  0.285801\n",
       "3    2.978962  0.032246      0.655065  0.034758\n",
       "4    2.888683  0.075727      0.799001  0.162599\n",
       "..        ...       ...           ...       ...\n",
       "995  2.863593  0.023681      0.767523  0.253856\n",
       "996  2.826096  0.268302      0.683563  0.227148\n",
       "997  2.945665  0.049849      1.045534  0.047011\n",
       "998  2.992950  0.013680      0.751426  0.206695\n",
       "999  3.013054 -0.069818      0.800282  0.101308\n",
       "\n",
       "[1000 rows x 4 columns]"
      ]
     },
     "execution_count": 64,
     "metadata": {},
     "output_type": "execute_result"
    }
   ],
   "source": [
    "%%time\n",
    "\n",
    "import numpy as np\n",
    "import pandas as pd\n",
    "\n",
    "np.random.seed(0)\n",
    "N = 1000\n",
    "params_w0 = np.zeros(N)\n",
    "params_w1 = np.zeros(N)\n",
    "params_w2 = np.zeros(N)\n",
    "params_w3 = np.zeros(N)\n",
    "for i in range(N):\n",
    "    idx = np.random.choice(len(tips), len(tips), replace=True)\n",
    "    tips_i = tips.iloc[idx]\n",
    "    result = sm.OLS.from_formula(formula, tips_i).fit()\n",
    "    params_w0[i] = result.params.iloc[0]\n",
    "    params_w1[i] = result.params.iloc[1]\n",
    "    params_w2[i] = result.params.iloc[2]\n",
    "    params_w3[i] = result.params.iloc[3]\n",
    "\n",
    "weights = pd.DataFrame({\n",
    "    \"w_0\": params_w0,\n",
    "    \"w_sex\": params_w1,\n",
    "    \"w_total_bill\": params_w2,\n",
    "    \"w_size\": params_w3,\n",
    "})\n",
    "weights"
   ]
  },
  {
   "cell_type": "markdown",
   "id": "1671be48-dfbc-42d4-8eb3-bf4793ca520a",
   "metadata": {},
   "source": [
    "이 결과를 히스토그램으로 나타내면 다음과 같다."
   ]
  },
  {
   "cell_type": "code",
   "execution_count": 65,
   "id": "8d5a3c24-512f-4e12-b956-d988f591ac1c",
   "metadata": {},
   "outputs": [
    {
     "data": {
      "image/png": "[encoded data removed]",
      "text/plain": [
       "<Figure size 3000x600 with 4 Axes>"
      ]
     },
     "metadata": {
      "needs_background": "light"
     },
     "output_type": "display_data"
    }
   ],
   "source": [
    "weights.hist(figsize=(10, 2), layout=(1, 4))\n",
    "plt.tight_layout()\n",
    "plt.show()"
   ]
  },
  {
   "cell_type": "markdown",
   "id": "3c246b87-dbbb-42af-9b76-bd754bffd1cd",
   "metadata": {},
   "source": [
    "이 가중치 추정값들의 간단한 통계는 다음과 같다."
   ]
  },
  {
   "cell_type": "code",
   "execution_count": 66,
   "id": "823cfa55-8ee3-4c18-a5c5-71bd71c24c34",
   "metadata": {},
   "outputs": [
    {
     "data": {
      "text/html": [
       "<div>\n",
       "<style scoped>\n",
       "    .dataframe tbody tr th:only-of-type {\n",
       "        vertical-align: middle;\n",
       "    }\n",
       "\n",
       "    .dataframe tbody tr th {\n",
       "        vertical-align: top;\n",
       "    }\n",
       "\n",
       "    .dataframe thead th {\n",
       "        text-align: right;\n",
       "    }\n",
       "</style>\n",
       "<table border=\"1\" class=\"dataframe\">\n",
       "  <thead>\n",
       "    <tr style=\"text-align: right;\">\n",
       "      <th></th>\n",
       "      <th>w_0</th>\n",
       "      <th>w_sex</th>\n",
       "      <th>w_total_bill</th>\n",
       "      <th>w_size</th>\n",
       "    </tr>\n",
       "  </thead>\n",
       "  <tbody>\n",
       "    <tr>\n",
       "      <th>count</th>\n",
       "      <td>1000.000000</td>\n",
       "      <td>1000.000000</td>\n",
       "      <td>1000.000000</td>\n",
       "      <td>1000.000000</td>\n",
       "    </tr>\n",
       "    <tr>\n",
       "      <th>mean</th>\n",
       "      <td>2.982061</td>\n",
       "      <td>0.032277</td>\n",
       "      <td>0.824139</td>\n",
       "      <td>0.178676</td>\n",
       "    </tr>\n",
       "    <tr>\n",
       "      <th>std</th>\n",
       "      <td>0.099503</td>\n",
       "      <td>0.124839</td>\n",
       "      <td>0.151586</td>\n",
       "      <td>0.104542</td>\n",
       "    </tr>\n",
       "    <tr>\n",
       "      <th>min</th>\n",
       "      <td>2.714403</td>\n",
       "      <td>-0.342809</td>\n",
       "      <td>0.391266</td>\n",
       "      <td>-0.127939</td>\n",
       "    </tr>\n",
       "    <tr>\n",
       "      <th>25%</th>\n",
       "      <td>2.912348</td>\n",
       "      <td>-0.052066</td>\n",
       "      <td>0.711447</td>\n",
       "      <td>0.103797</td>\n",
       "    </tr>\n",
       "    <tr>\n",
       "      <th>50%</th>\n",
       "      <td>2.979314</td>\n",
       "      <td>0.033755</td>\n",
       "      <td>0.821183</td>\n",
       "      <td>0.179384</td>\n",
       "    </tr>\n",
       "    <tr>\n",
       "      <th>75%</th>\n",
       "      <td>3.048256</td>\n",
       "      <td>0.113475</td>\n",
       "      <td>0.924565</td>\n",
       "      <td>0.252902</td>\n",
       "    </tr>\n",
       "    <tr>\n",
       "      <th>max</th>\n",
       "      <td>3.372273</td>\n",
       "      <td>0.395771</td>\n",
       "      <td>1.461748</td>\n",
       "      <td>0.523164</td>\n",
       "    </tr>\n",
       "  </tbody>\n",
       "</table>\n",
       "</div>"
      ],
      "text/plain": [
       "               w_0        w_sex  w_total_bill       w_size\n",
       "count  1000.000000  1000.000000   1000.000000  1000.000000\n",
       "mean      2.982061     0.032277      0.824139     0.178676\n",
       "std       0.099503     0.124839      0.151586     0.104542\n",
       "min       2.714403    -0.342809      0.391266    -0.127939\n",
       "25%       2.912348    -0.052066      0.711447     0.103797\n",
       "50%       2.979314     0.033755      0.821183     0.179384\n",
       "75%       3.048256     0.113475      0.924565     0.252902\n",
       "max       3.372273     0.395771      1.461748     0.523164"
      ]
     },
     "execution_count": 66,
     "metadata": {},
     "output_type": "execute_result"
    }
   ],
   "source": [
    "weights.describe()"
   ]
  },
  {
   "cell_type": "markdown",
   "id": "76d2f7d9-d13c-41e7-9dad-a492c2be0ac0",
   "metadata": {},
   "source": [
    "total_bill 변수의 가중치는 평균적으로 0.8정도이고 0.4~1.5 정도의 범위에 있는 것을 알 수 있다. 어떤 경우든 음수가 나오는 경우는 없다. 즉 total_bill 값이 커질수록 팁이 증가하는 결과는 변함없다. 하지만 sex 변수의 가중치는 -0.3 ~ 0.3 범위의 값이 나온다. 즉 음수인 경우도 나오고 양수인 경우도 나온다. 이는 sex 변수가 팁에 미치는 영향을 정확히 분석할 수 없다는 뜻이다."
   ]
  },
  {
   "cell_type": "code",
   "execution_count": null,
   "id": "faecd28f-c372-4704-abfa-6dc7d45aae69",
   "metadata": {},
   "outputs": [],
   "source": []
  }
 ],
 "metadata": {
  "kernelspec": {
   "display_name": "Python 3 (ipykernel)",
   "language": "python",
   "name": "python3"
  },
  "language_info": {
   "codemirror_mode": {
    "name": "ipython",
    "version": 3
   },
   "file_extension": ".py",
   "mimetype": "text/x-python",
   "name": "python",
   "nbconvert_exporter": "python",
   "pygments_lexer": "ipython3",
   "version": "3.9.12"
  }
 },
 "nbformat": 4,
 "nbformat_minor": 5
}
