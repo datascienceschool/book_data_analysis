{
 "cells": [
  {
   "cell_type": "code",
   "execution_count": 1,
   "id": "f26b3f7c-c563-4b90-a1c4-3a8c150f1ede",
   "metadata": {
    "tags": [
     "remove-cell"
    ]
   },
   "outputs": [],
   "source": [
    "%load_ext tikzmagic"
   ]
  },
  {
   "cell_type": "markdown",
   "id": "42dc79a7-47f3-4ad7-be0d-161007c4e85f",
   "metadata": {},
   "source": [
    "# 회귀분석"
   ]
  },
  {
   "cell_type": "markdown",
   "id": "761ebd6e-65bf-4987-a3d1-4163383a8241",
   "metadata": {},
   "source": [
    "어떤 수치형 변수의 값이 다른 변수의 값에 의해 어떻게 영향을 받는지를 분석하는 방법을 <b>회귀분석(regression analysis)</b>이라고 한다. 이 때 분석이 목적이자 대상이 되는 수치형 변수를 <b>종속변수(independent variable)</b>라 하고 그 종속변수에 영향을 주는 다른 변수들을 <b>독립변수(dependent variable)</b>라 한다. 보통 종속변수는 $y$ 기호로 나타내고 독립변수는 $x$ 기호로 나타낸다. 독립변수가 여러개 있을 때는 $x_1, x_2, \\ldots, x_K$ 등으로 아랫첨자를 이용하여 표시한다.\n",
    "\n",
    "\n",
    "종속변수와 독립변수의 관계는 다음과 같은 다이어그램으로 표현할 수 있다. \n"
   ]
  },
  {
   "cell_type": "code",
   "execution_count": 12,
   "id": "e04416a4-bccf-4afd-9514-ac1c69ddd4ee",
   "metadata": {
    "tags": [
     "remove-input"
    ]
   },
   "outputs": [
    {
     "data": {
      "image/png": "[encoded data removed]"
     },
     "metadata": {},
     "output_type": "display_data"
    }
   ],
   "source": [
    "%%tikz\n",
    "\\node[draw,circle] (x1) at (0,2) {$x_1$};\n",
    "\\node[draw,circle] (x2) at (0,1) {$x_2$};\n",
    "\\node[draw,circle] (x3) at (0,0) {$x_3$};\n",
    "\\node[draw,circle] (y) at (2,1) {$y$};\n",
    "\\draw[->] (x1)--(y);\n",
    "\\draw[->] (x2)--(y);\n",
    "\\draw[->] (x3)--(y);"
   ]
  },
  {
   "cell_type": "code",
   "execution_count": null,
   "id": "47c95c3d-ca8f-4448-bfb0-21ad9c666bfe",
   "metadata": {},
   "outputs": [],
   "source": []
  },
  {
   "cell_type": "code",
   "execution_count": null,
   "id": "a183cb44-93ad-4f03-8b40-56f5d3c9814c",
   "metadata": {},
   "outputs": [],
   "source": []
  },
  {
   "cell_type": "code",
   "execution_count": null,
   "id": "6dcd6720-dcf7-4ef7-9dde-be9d2bdb7679",
   "metadata": {},
   "outputs": [],
   "source": []
  },
  {
   "cell_type": "markdown",
   "id": "6db92aa2-2983-49ef-b179-92761754207d",
   "metadata": {},
   "source": [
    "회귀분석은 복수의 독립변수 $x_1, x_2, \\ldots, x_K$와 하나의 종속변수 $y$간의 관계를 분석하는 것이다. 회귀분석을 하려면 독립변수와 종속변수의 관계를 수식으로 정해놓아야 한다. 이 수식을 회귀분석 모형(regression model)이라고 한다. 가장 많이 사용되는 회귀분석 모형은 선형 회귀분석 모형(linear regression model)이다. 선형 회귀분석 모형은 다음과 같은 수식으로 표현한다. \n",
    "\n",
    "$$ y = w_0 + w_1 x_1 + w_2 x_2 + \\cdots + w_K x_K + \\epsilon $$"
   ]
  },
  {
   "cell_type": "code",
   "execution_count": null,
   "id": "f3dd9d66-b4f5-4acc-a994-7de6e0c93714",
   "metadata": {},
   "outputs": [],
   "source": []
  }
 ],
 "metadata": {
  "kernelspec": {
   "display_name": "Python 3",
   "language": "python",
   "name": "python3"
  },
  "language_info": {
   "codemirror_mode": {
    "name": "ipython",
    "version": 3
   },
   "file_extension": ".py",
   "mimetype": "text/x-python",
   "name": "python",
   "nbconvert_exporter": "python",
   "pygments_lexer": "ipython3",
   "version": "3.8.8"
  }
 },
 "nbformat": 4,
 "nbformat_minor": 5
}
