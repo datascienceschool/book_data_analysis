{
 "cells": [
  {
   "cell_type": "code",
   "execution_count": 18,
   "id": "f26b3f7c-c563-4b90-a1c4-3a8c150f1ede",
   "metadata": {
    "tags": [
     "remove-cell"
    ]
   },
   "outputs": [
    {
     "name": "stdout",
     "output_type": "stream",
     "text": [
      "The tikzmagic extension is already loaded. To reload it, use:\n",
      "  %reload_ext tikzmagic\n"
     ]
    }
   ],
   "source": [
    "%load_ext tikzmagic\n",
    "%matplotlib inline"
   ]
  },
  {
   "cell_type": "markdown",
   "id": "42dc79a7-47f3-4ad7-be0d-161007c4e85f",
   "metadata": {},
   "source": [
    "# 회귀분석"
   ]
  },
  {
   "cell_type": "markdown",
   "id": "761ebd6e-65bf-4987-a3d1-4163383a8241",
   "metadata": {},
   "source": [
    "어떤 수치형 변수의 값이 다른 변수의 값에 의해 어떻게 영향을 받는지를 분석하는 방법을 <b>회귀분석(regression analysis)</b>이라고 한다. \n",
    "\n",
    "\n",
    "예를 들어 다음 데이터는 1940년부터 1950년까지의 미국 전체의 소득(income)과 지출(expenditure) 데이터이다. 테이블에서 하나의 레코드는 하나의 연도(year)를 나타낸다. "
   ]
  },
  {
   "cell_type": "code",
   "execution_count": 19,
   "id": "90bae647-80ef-4674-8e01-2105192c3d62",
   "metadata": {},
   "outputs": [
    {
     "data": {
      "text/html": [
       "<div>\n",
       "<style scoped>\n",
       "    .dataframe tbody tr th:only-of-type {\n",
       "        vertical-align: middle;\n",
       "    }\n",
       "\n",
       "    .dataframe tbody tr th {\n",
       "        vertical-align: top;\n",
       "    }\n",
       "\n",
       "    .dataframe thead th {\n",
       "        text-align: right;\n",
       "    }\n",
       "</style>\n",
       "<table border=\"1\" class=\"dataframe\">\n",
       "  <thead>\n",
       "    <tr style=\"text-align: right;\">\n",
       "      <th></th>\n",
       "      <th>income</th>\n",
       "      <th>expenditure</th>\n",
       "      <th>war</th>\n",
       "    </tr>\n",
       "  </thead>\n",
       "  <tbody>\n",
       "    <tr>\n",
       "      <th>0</th>\n",
       "      <td>241</td>\n",
       "      <td>226</td>\n",
       "      <td>0</td>\n",
       "    </tr>\n",
       "    <tr>\n",
       "      <th>1</th>\n",
       "      <td>280</td>\n",
       "      <td>240</td>\n",
       "      <td>0</td>\n",
       "    </tr>\n",
       "    <tr>\n",
       "      <th>2</th>\n",
       "      <td>319</td>\n",
       "      <td>235</td>\n",
       "      <td>1</td>\n",
       "    </tr>\n",
       "    <tr>\n",
       "      <th>3</th>\n",
       "      <td>331</td>\n",
       "      <td>245</td>\n",
       "      <td>1</td>\n",
       "    </tr>\n",
       "    <tr>\n",
       "      <th>4</th>\n",
       "      <td>345</td>\n",
       "      <td>255</td>\n",
       "      <td>1</td>\n",
       "    </tr>\n",
       "    <tr>\n",
       "      <th>5</th>\n",
       "      <td>340</td>\n",
       "      <td>265</td>\n",
       "      <td>1</td>\n",
       "    </tr>\n",
       "    <tr>\n",
       "      <th>6</th>\n",
       "      <td>332</td>\n",
       "      <td>295</td>\n",
       "      <td>0</td>\n",
       "    </tr>\n",
       "    <tr>\n",
       "      <th>7</th>\n",
       "      <td>320</td>\n",
       "      <td>300</td>\n",
       "      <td>0</td>\n",
       "    </tr>\n",
       "    <tr>\n",
       "      <th>8</th>\n",
       "      <td>339</td>\n",
       "      <td>305</td>\n",
       "      <td>0</td>\n",
       "    </tr>\n",
       "    <tr>\n",
       "      <th>9</th>\n",
       "      <td>338</td>\n",
       "      <td>315</td>\n",
       "      <td>0</td>\n",
       "    </tr>\n",
       "    <tr>\n",
       "      <th>10</th>\n",
       "      <td>371</td>\n",
       "      <td>325</td>\n",
       "      <td>0</td>\n",
       "    </tr>\n",
       "  </tbody>\n",
       "</table>\n",
       "</div>"
      ],
      "text/plain": [
       "    income  expenditure  war\n",
       "0      241          226    0\n",
       "1      280          240    0\n",
       "2      319          235    1\n",
       "3      331          245    1\n",
       "4      345          255    1\n",
       "5      340          265    1\n",
       "6      332          295    0\n",
       "7      320          300    0\n",
       "8      339          305    0\n",
       "9      338          315    0\n",
       "10     371          325    0"
      ]
     },
     "execution_count": 19,
     "metadata": {},
     "output_type": "execute_result"
    }
   ],
   "source": [
    "import statsmodels.api as sm\n",
    "\n",
    "df = sm.datasets.get_rdataset(\"USConsump1950\", \"AER\").data\n",
    "df"
   ]
  },
  {
   "cell_type": "markdown",
   "id": "e9adc291-0976-49d3-97c2-6a3475c681ab",
   "metadata": {},
   "source": [
    "이 데이터를 다음과 같이 소득을 가로축으로 지출을 세로축으로 한 스캐터플롯(scatter plot)으로 표시한다. 이 그래프에서는 하나의 점이 하나의 연도 즉, 하나의 레코드를 표시한다. "
   ]
  },
  {
   "cell_type": "code",
   "execution_count": 25,
   "id": "a4ae4113-2ab1-4ff2-87b4-9419b43e4d9f",
   "metadata": {},
   "outputs": [
    {
     "data": {
      "image/png": "[encoded data removed]",
      "text/plain": [
       "<Figure size 432x288 with 1 Axes>"
      ]
     },
     "metadata": {
      "needs_background": "light"
     },
     "output_type": "display_data"
    }
   ],
   "source": [
    "import seaborn as sns\n",
    "\n",
    "sns.scatterplot(data=df, x=\"income\", y=\"expenditure\")\n",
    "plt.show()"
   ]
  },
  {
   "cell_type": "markdown",
   "id": "15e842d8-5cf9-4686-ade2-12d5b1838a77",
   "metadata": {},
   "source": [
    "이 그래프를 보면 소득이 증가한 경우에는 지출도 같이 증가하는 것처럼 보인다. "
   ]
  },
  {
   "cell_type": "markdown",
   "id": "df395dda-4bc0-4c4d-9f79-a8d70e62107f",
   "metadata": {},
   "source": [
    "회귀분석에서 분석의 대상이 되는 수치형 변수를 <b>종속변수(independent variable)</b>라 하고 그 종속변수에 영향을 주는 다른 변수들을 <b>독립변수(dependent variable)</b>라 한다. 보통 종속변수는 $y$ 기호로 나타내고 독립변수는 $x$ 기호로 나타낸다. 독립변수가 여러개 있을 때는 $x_1, x_2, \\ldots, x_K$ 등으로 아랫첨자를 이용하여 표시한다.\n",
    "\n",
    "\n",
    "회귀분석에서 종속변수와 독립변수의 관계는 다음과 같은 다이어그램으로 표현할 수 있다. 화살표는 변수간의 관계를 나타내는 것으로 독립변수에서 종속변수를 향하는 방향으로 그린다. \n"
   ]
  },
  {
   "cell_type": "code",
   "execution_count": 12,
   "id": "e04416a4-bccf-4afd-9514-ac1c69ddd4ee",
   "metadata": {
    "tags": [
     "remove-input"
    ]
   },
   "outputs": [
    {
     "data": {
      "image/png": "[encoded data removed]"
     },
     "metadata": {},
     "output_type": "display_data"
    }
   ],
   "source": [
    "%%tikz\n",
    "\\node[draw,circle] (x1) at (0,2) {$x_1$};\n",
    "\\node[draw,circle] (x2) at (0,1) {$x_2$};\n",
    "\\node[draw,circle] (x3) at (0,0) {$x_3$};\n",
    "\\node[draw,circle] (y) at (2,1) {$y$};\n",
    "\\draw[->] (x1)--(y);\n",
    "\\draw[->] (x2)--(y);\n",
    "\\draw[->] (x3)--(y);"
   ]
  },
  {
   "cell_type": "code",
   "execution_count": null,
   "id": "47c95c3d-ca8f-4448-bfb0-21ad9c666bfe",
   "metadata": {},
   "outputs": [],
   "source": []
  },
  {
   "cell_type": "code",
   "execution_count": null,
   "id": "a183cb44-93ad-4f03-8b40-56f5d3c9814c",
   "metadata": {},
   "outputs": [],
   "source": []
  },
  {
   "cell_type": "code",
   "execution_count": null,
   "id": "6dcd6720-dcf7-4ef7-9dde-be9d2bdb7679",
   "metadata": {},
   "outputs": [],
   "source": []
  },
  {
   "cell_type": "markdown",
   "id": "6db92aa2-2983-49ef-b179-92761754207d",
   "metadata": {},
   "source": [
    "회귀분석은 복수의 독립변수 $x_1, x_2, \\ldots, x_K$와 하나의 종속변수 $y$간의 관계를 분석하는 것이다. 회귀분석을 하려면 독립변수와 종속변수의 관계를 수식으로 정해놓아야 한다. 이 수식을 회귀분석 모형(regression model)이라고 한다. 가장 많이 사용되는 회귀분석 모형은 선형 회귀분석 모형(linear regression model)이다. 선형 회귀분석 모형은 다음과 같은 수식으로 표현한다. \n",
    "\n",
    "$$ y = w_0 + w_1 x_1 + w_2 x_2 + \\cdots + w_K x_K + \\epsilon $$"
   ]
  },
  {
   "cell_type": "code",
   "execution_count": null,
   "id": "f3dd9d66-b4f5-4acc-a994-7de6e0c93714",
   "metadata": {},
   "outputs": [],
   "source": []
  }
 ],
 "metadata": {
  "kernelspec": {
   "display_name": "Python 3",
   "language": "python",
   "name": "python3"
  },
  "language_info": {
   "codemirror_mode": {
    "name": "ipython",
    "version": 3
   },
   "file_extension": ".py",
   "mimetype": "text/x-python",
   "name": "python",
   "nbconvert_exporter": "python",
   "pygments_lexer": "ipython3",
   "version": "3.8.8"
  }
 },
 "nbformat": 4,
 "nbformat_minor": 5
}
