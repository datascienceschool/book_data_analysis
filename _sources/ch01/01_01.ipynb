{
 "cells": [
  {
   "cell_type": "markdown",
   "metadata": {
    "tags": []
   },
   "source": [
    "# 데이터 분석을 위한 도구의 소개와 설치"
   ]
  },
  {
   "cell_type": "markdown",
   "metadata": {},
   "source": [
    "## 데이터 분석을 위한 도구의 소개"
   ]
  },
  {
   "cell_type": "markdown",
   "metadata": {},
   "source": [
    "데이터 분석을 하자면 일단 데이터 분석을 하기 위한 도구를 갖추어야 한다."
   ]
  },
  {
   "cell_type": "markdown",
   "metadata": {},
   "source": [
    "1. 파이썬 언어 환경\n",
    "1. 관계형 데이터베이스\n",
    "1. 데이터 파이프라인 도구\n",
    "1. BI 시각화 도구"
   ]
  },
  {
   "cell_type": "markdown",
   "metadata": {},
   "source": [
    "### 파이썬 언어 환경"
   ]
  },
  {
   "cell_type": "markdown",
   "metadata": {},
   "source": [
    "소규모의 데이터 분석을 하거나 머신러닝을 하기위한 가장 좋은 언어 도구가 파이썬이다. 또한 이후에 설명할 데이터 파이프라인 도구나 BI 시각화 도구도 파이썬으로 구현된 것들이 많으므로 파이썬의 설치는 필수적이다."
   ]
  },
  {
   "cell_type": "markdown",
   "metadata": {},
   "source": [
    "### 관계형 데이터베이스"
   ]
  },
  {
   "cell_type": "markdown",
   "metadata": {},
   "source": [
    "컴퓨터 한 대의 메모리 크기를 넘는 크기의 데이터는 파이썬으로 다루기 어렵다. 이 경우에는 파일 기반의 관계형 데이터베이스(Relational Database Management System; RDBMS)가 필요하다. "
   ]
  },
  {
   "cell_type": "markdown",
   "metadata": {},
   "source": [
    "### 데이터 파이프라인 도구"
   ]
  },
  {
   "cell_type": "markdown",
   "metadata": {},
   "source": [
    "데이터 분석이 1회성으로 끝나는 경우가 아니라 일정간격으로 혹은 연속적으로 데이터 분석을 실시해야 하는 경우라면 여러가지 데이터 처리 작업을 일정과 순서에 맞게 실시할 수 있도록 도와주는 데이터 파이프라인 도구가 필요하다. "
   ]
  },
  {
   "cell_type": "markdown",
   "metadata": {},
   "source": [
    "### BI 시각화 도구 "
   ]
  },
  {
   "cell_type": "markdown",
   "metadata": {},
   "source": [
    "데이터를 분석한 결과를 사용자에게 직관적으로 이해시킬 수 있도록 하는 시각화는 데이터 분석의 마지막 단계다. BI(Business Intelligence) 시각화 도구는 분석 결과를 시각화하기 위한 도구이다. "
   ]
  },
  {
   "cell_type": "code",
   "execution_count": null,
   "metadata": {},
   "outputs": [],
   "source": []
  }
 ],
 "metadata": {
  "kernelspec": {
   "display_name": "Python 3",
   "language": "python",
   "name": "python3"
  },
  "language_info": {
   "codemirror_mode": {
    "name": "ipython",
    "version": 3
   },
   "file_extension": ".py",
   "mimetype": "text/x-python",
   "name": "python",
   "nbconvert_exporter": "python",
   "pygments_lexer": "ipython3",
   "version": "3.8.5"
  }
 },
 "nbformat": 4,
 "nbformat_minor": 4
}
