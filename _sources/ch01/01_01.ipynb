{
 "cells": [
  {
   "cell_type": "markdown",
   "metadata": {
    "tags": []
   },
   "source": [
    "# 데이터 분석을 위한 도구의 소개와 설치"
   ]
  },
  {
   "cell_type": "markdown",
   "metadata": {},
   "source": [
    "## 데이터 분석을 위한 도구의 소개"
   ]
  },
  {
   "cell_type": "markdown",
   "metadata": {},
   "source": [
    "데이터 분석을 하자면 일단 데이터 분석을 하기 위한 도구를 갖추어야 한다."
   ]
  },
  {
   "cell_type": "markdown",
   "metadata": {},
   "source": [
    "1. 파이썬 언어 환경\n",
    "1. 데이터 분석용 파이썬 패키지\n",
    "1. 관계형 데이터베이스\n",
    "1. 데이터 파이프라인 도구\n",
    "1. BI 시각화 도구"
   ]
  },
  {
   "cell_type": "markdown",
   "metadata": {},
   "source": [
    "### 파이썬 언어 환경"
   ]
  },
  {
   "cell_type": "markdown",
   "metadata": {},
   "source": [
    "소규모의 데이터 분석을 하거나 머신러닝을 하기위한 가장 좋은 언어 도구가 파이썬(Python)이다. 또한 이후에 설명할 데이터 분석이나 데이터 파이프라인 도구, BI 시각화 도구 등도 파이썬으로 구현된 것들이 많으므로 파이썬의 설치는 데이터 분석에 필수적이다. 특히 주피터랩(Jupyter-Lab)은 웹 기반의 파이썬 개발 환경으로 코드와 시각화 결과를 한 번에 볼 수 있을 뿐 아니라 마크다운(markdown) 언어를 사용하여 문서화도 같이 할 수 있기 때문에 데이터 분석시 가장 많이 사용되는 파이썬 언어 개발 환경이다. \n"
   ]
  },
  {
   "cell_type": "markdown",
   "metadata": {},
   "source": [
    "### 데이터 분석용 파이썬 패키지\n",
    "\n",
    "데이터 분석을 하는데는 파이썬 언어를 그대로 이용하지 않고 각각의 목적에 알맞은 여러가지 패키지를 사용하게 된다. 이 책에서 주로 사용할 데이터 분석 패키지들은 다음과 같다. \n",
    "\n",
    "* 판다스(Pandas) : 파이썬 기반의 데이터 분석 패키지\n",
    "* 사이킷런(Scikit-Learn): 머신러닝 데이터 분석 패키지\n",
    "* 프로핏(Prophet): 시계열 예측 분석 패키지"
   ]
  },
  {
   "cell_type": "markdown",
   "metadata": {},
   "source": [
    "### 관계형 데이터베이스"
   ]
  },
  {
   "cell_type": "markdown",
   "metadata": {},
   "source": [
    "컴퓨터 한 대의 메모리 크기를 넘는 크기의 데이터는 파이썬으로 다루기 어렵다. 이 경우에는 파일 기반의 데이터베이스(Database Management System; DBMS)가 필요하다. 데이터베이스는 수 기가바이트에서 테라바이트 정도에 이루는 중규모의 데이터 분석을 하기위한 전용의 시스템이다. 데이터베이스 중 가장 기본이 되는 것은 관계형 데이터베이스(Relational DBMS; RDBMS)로 다음과 같은 다양한 관계형 데이터베이스 시스템이 존재한다. \n",
    "\n",
    "* 오라클(Oracle)\n",
    "* 마이에스큐엘(MySQL), 마리아(Maria)\n",
    "* 포스트그레스(Postgresql) \n",
    "\n",
    "이 중 이 책에서는 무료 오픈소스 데이터베이스 중 가장 역사가 깊고 많이 사용되는 포스트그레스 데이터베이스를 사용하는 법을 설명한다. 한 종류의 데이터베이스 시스템 사용법을 제대로 익히면 다른 데이터베이스 시스템도 어렵지 않게 사용할 수 있다.\n",
    "\n",
    "파이썬에서는 SQL문을 직접 사용하여 데이터베이스를 사용할 수도 있지만 ORM(Object-Relation Model) 패키지라는 것을 사용하여 하나의 테이블을 하나의 클래스로 대응하여 객체지향적으로 프로그래밍할 수도 있다. 이 책에서는 여러가지 ORM 도구 중에서 에스큐엘알케미(SqlAlchemy)를 사용하는 법도 설명한다. "
   ]
  },
  {
   "cell_type": "markdown",
   "metadata": {},
   "source": [
    "### 데이터 파이프라인 도구"
   ]
  },
  {
   "cell_type": "markdown",
   "metadata": {},
   "source": [
    "데이터 분석이 1회성으로 끝나는 경우가 아니라 일정간격(예: 매일)으로 혹은 연속적으로 데이터 분석을 실시해야 하는 경우라면 여러가지 데이터 처리 작업을 일정과 순서에 맞게 실시할 수 있도록 도와주는 데이터 파이프라인(data pipeline) 도구가 필요하다. 다양한 파이썬 기반의 데이터 파이프라인 도구들이 있다. 일부만 예를 들면 다음과 같다.\n",
    "\n",
    "* 에어플로우(Airflow)\n",
    "* 댁스터(Dagster)\n",
    "* 루이지(Luigi)\n",
    "\n",
    "이 책에서는 가장 최근에 나왔지만 개발이 활발하고 범용성 및 다른 도구와의 결합이 용이한 댁스터(Dagster)라는 파이썬 기반의 데이터 파이프라인 도구에 대해 설명한다. "
   ]
  },
  {
   "cell_type": "markdown",
   "metadata": {},
   "source": [
    "### BI 시각화 도구 "
   ]
  },
  {
   "cell_type": "markdown",
   "metadata": {},
   "source": [
    "데이터를 분석한 결과를 사용자에게 직관적으로 이해시킬 수 있도록 하는 시각화는 데이터 분석의 마지막 단계다. BI(Business Intelligence) 시각화 도구는 분석 결과를 시각화하기 위한 도구이다. 많이 사용되는 BI 도구로는 다음과 같은 것들이 있다.\n",
    "\n",
    "* 파워BI(Power BI)\n",
    "* 마이크로스트레터지(MicroStrategy)\n",
    "* 수퍼셋(Superset)\n",
    "\n",
    "이 책에서는 파이썬 기반의 무료 오픈소스 BI 도구인 수퍼셋 사용법을 설명한다. "
   ]
  },
  {
   "cell_type": "markdown",
   "metadata": {},
   "source": [
    "## 파이썬 언어 환경의 설치"
   ]
  },
  {
   "cell_type": "markdown",
   "metadata": {},
   "source": [
    "파이썬 언어 환경은 다양한 방법으로 설치할 수 있지만 이 책에서는 가장 손쉬운 방법인 아나콘다(Anaconda) 패키지를 사용하는 방법을 추천한다. 아나콘다를 설치하기 위해서는 우선 다음 웹사이트에 접속한다. \n",
    "\n",
    "* https://www.anaconda.com/\n",
    "\n",
    "페이지의 상단 메뉴에서 \"Products > Individual Edition\"을 클릭하면 다양한 운영환경에 대한 아나콘다 설치 프로그램 목록이 나온다. 이 중 자신이 사용하는 운영환경 및 파이썬 버전을 선택하여 아나콘다 설치 프로그램을 다운받고 설치하면 된다. 이 책에서는 64비트 아나콘다 파이썬 3.8 버전을 기준으로 설명한다. \n",
    "\n",
    "파이썬을 설치한 후에는 파이썬 개발 환경을 설치해야 한다. 가장 많이 사용되는 파이썬 개발환경은 주피터랩(Jupyter-Lab)과 파이참(PyCharm)이다. "
   ]
  },
  {
   "cell_type": "markdown",
   "metadata": {},
   "source": [
    "### 주피터 랩의 설치와 실행"
   ]
  },
  {
   "cell_type": "markdown",
   "metadata": {},
   "source": [
    "주피터랩은 노트북과 같은 형식으로 파이썬 코드의 작성 및 실행과 문서화를 동시에 할 수 있어서 간단한 데이터 분석에 많이 사용된다. 만일 아나콘다를 설치했다면 이미 주피터 랩이 설치되어 있다. 만약 주피터 랩이 설치되어 있지 않는 환경이라면 커맨드라인 윈도우에서 pip 명령으로 주피터 랩을 설치할 수 있다. \n",
    "\n",
    "```\n",
    "pip install jupyterlab\n",
    "```\n",
    "\n",
    "설치가 완료되었으면 커맨드라인 윈도우에서 다음 명령어로 주피터랩을 실행시킨다. \n",
    "\n",
    "```\n",
    "jupyter-lab\n",
    "```\n",
    "\n",
    "정상적으로 실행되었다면 주피터랩 서버 프로그램이 실행되면서 웹 브라우저에 다음 주소를 가진 웹페이지가 나타날 것이다. \n",
    "\n",
    "```\n",
    "http://localhost:8888/\n",
    "```\n",
    "\n",
    "이 웹페이지의 상단 메뉴에서 \"File > New > Notebook\"을 실행하면 새로운 노트북이 나타나면서 코드를 실행하거나 문서를 작성할 수 있다.  \n",
    "\n",
    "주피터랩의 보다 자세한 설치 및 사용법에 대해서는 다음 웹페이지를 참조한다.\n",
    "\n",
    "* https://jupyterlab.readthedocs.io/en/latest/\n"
   ]
  },
  {
   "cell_type": "markdown",
   "metadata": {},
   "source": [
    "### 파이참 통합개발환경"
   ]
  },
  {
   "cell_type": "markdown",
   "metadata": {},
   "source": [
    "파이참 통합개발환경은 파이썬 패키지를 개발하거나 복수의 파이썬 코드 파일을 다루어야 할 때 유용하다. 다음 홈페이지에서 무료 커뮤니티 버전을 다운로드 받아 사용할 수 있다.\n",
    "\n",
    "https://www.jetbrains.com/ko-kr/pycharm/"
   ]
  },
  {
   "cell_type": "markdown",
   "metadata": {},
   "source": [
    "## 데이터 분석용 파이썬 패키지 설치"
   ]
  },
  {
   "cell_type": "markdown",
   "metadata": {},
   "source": [
    "파이썬 언어 환경을 설치한 후에는 데이터 분석에 자주 사용되는 파이썬 패키지를 설치한다. 이 책에서 주로 사용할 데이터 분석 패키지의 목록은 다음과 같다. 만약 아나콘다를 사용하여 파이썬 언어 환경을 설치한 경우에는 대부분 아나콘다 설치시 같이 설치된다. 만약 해당 패키지가 설치되지 않은 경우에는 다음과 같이 pip 명령을 사용하여 패키지를 설치한다. "
   ]
  },
  {
   "cell_type": "markdown",
   "metadata": {},
   "source": [
    "## 관계형 데이터베이스 시스템의 설치"
   ]
  },
  {
   "cell_type": "markdown",
   "metadata": {},
   "source": [
    "이 책에서는 관계형 데이터베이스 시스템으로 무료 오픈소스인 포스트그레스를 사용한다. 설치를 위해서 다음 웹사이트를 방문한다.\n",
    "\n",
    "* https://www.postgresql.org/download/\n",
    "\n",
    "해당 웹사이트로 가면 운영체제별로 자세한 설치 방법이 나온다. 윈도우즈나 맥의 경우는 인스톨러를 지원하므로 해당 인스톨러를 다운로드 받아서 실행하기만 하면 된다. "
   ]
  },
  {
   "cell_type": "markdown",
   "metadata": {},
   "source": [
    "포스트그레스가 정상적으로 설치되었다면 커맨드라인 윈도우에서 다음과 같이 실행하여 포스트그레스 클라이언트를 사용할 수 있다. \n",
    "\n",
    "```\n",
    "psql -U postgres\n",
    "```\n",
    "\n",
    "클라이언트가 정상적으로 실행된다면 다음과 같은 화면이 나올 것이다. \n",
    "\n",
    "```\n",
    "psql (13.4)\n",
    "Type \"help\" for help.\n",
    "\n",
    "postgres=# \n",
    "```\n",
    "\n",
    "이 화면에서 데이터베이스 시스템의 제어 및 SQL문의 사용이 가능하다. `\\q` 명령으로 나갈 수 있다. "
   ]
  },
  {
   "cell_type": "markdown",
   "metadata": {},
   "source": [
    "## 데이터 파이프라인 도구의 설치"
   ]
  },
  {
   "cell_type": "markdown",
   "metadata": {},
   "source": [
    "## BI 시각화 도구의 설치"
   ]
  }
 ],
 "metadata": {
  "kernelspec": {
   "display_name": "Python 3",
   "language": "python",
   "name": "python3"
  },
  "language_info": {
   "codemirror_mode": {
    "name": "ipython",
    "version": 3
   },
   "file_extension": ".py",
   "mimetype": "text/x-python",
   "name": "python",
   "nbconvert_exporter": "python",
   "pygments_lexer": "ipython3",
   "version": "3.8.8"
  }
 },
 "nbformat": 4,
 "nbformat_minor": 4
}
