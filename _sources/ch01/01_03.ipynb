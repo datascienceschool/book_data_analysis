{
 "cells": [
  {
   "cell_type": "markdown",
   "id": "563acbe1-b2ba-4791-a7ea-09715b827796",
   "metadata": {},
   "source": [
    "# 예제 데이터"
   ]
  },
  {
   "cell_type": "markdown",
   "id": "0bd14a2d-13f9-4882-9235-99554255ac68",
   "metadata": {},
   "source": [
    "데이터 분석의 실습을 위해서는 예제 데이터가 필요하다. 이 책에서는 설명에 필요할 때마다 예제 데이터를 다운로드 받는 방법을 알려줄 것이다. 일부 데이터는 pandas, statsmodels 등의 분석용 패키지에 포함되어 있는 예제 데이터를 사용하기도 한다. 하지만 이 책에서 쓰는 대부분의 데이터는 다음 파이썬 패키지들을 이용하여 얻는다. \n",
    "\n",
    "* rdatasets\n",
    "* pandas-datareader\n",
    "\n",
    "이 절에서는 이러한 패키지들을 설치하고 사용하는 법을 설명한다."
   ]
  },
  {
   "cell_type": "markdown",
   "id": "8cfeaccd-8098-4c4b-bd1a-4d8a79828aca",
   "metadata": {},
   "source": [
    "## rdatasets 패키지"
   ]
  },
  {
   "cell_type": "markdown",
   "id": "a4f067c7-b297-455a-88b3-6c2b77e99d62",
   "metadata": {},
   "source": [
    " `rdatasets` 패키지는 이름에서 볼 수 있듯이 원래는 다양한 R 언어용 패키지들에서 제공하는 데이터를 모아놓은 것이다. 다음 웹사이트에서 이 패키지가 제공하는 데이터의 목록과 설명은 확인할 수 있다.\n",
    " \n",
    " * https://vincentarelbundock.github.io/Rdatasets/articles/data.html\n",
    " \n",
    " 다음 그림은 위 웹사이트의 화면을 보인 것이다. 이 화면에서 \n",
    " \n",
    " ![rdatasets](fig_rdatasets.png)\n",
    " \n",
    " rdatasets 패키지는 아나콘다 배포판을 깔아도 자동으로 설치되지 않기 때문에 다음 명령을 사용하여 수동으로 설치해야한다. \n",
    "\n",
    "```\n",
    "$ pip install rdatasets\n",
    "```"
   ]
  },
  {
   "cell_type": "code",
   "execution_count": 1,
   "id": "d9eddcca-24a5-4430-97ef-297f1dfd32f0",
   "metadata": {},
   "outputs": [],
   "source": [
    "from rdatasets import data"
   ]
  },
  {
   "cell_type": "code",
   "execution_count": null,
   "id": "436c1490-7ae9-496b-bf54-7456f5ee8cf1",
   "metadata": {},
   "outputs": [],
   "source": []
  }
 ],
 "metadata": {
  "kernelspec": {
   "display_name": "Python 3",
   "language": "python",
   "name": "python3"
  },
  "language_info": {
   "codemirror_mode": {
    "name": "ipython",
    "version": 3
   },
   "file_extension": ".py",
   "mimetype": "text/x-python",
   "name": "python",
   "nbconvert_exporter": "python",
   "pygments_lexer": "ipython3",
   "version": "3.8.8"
  }
 },
 "nbformat": 4,
 "nbformat_minor": 5
}
