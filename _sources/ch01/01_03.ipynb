{
 "cells": [
  {
   "cell_type": "markdown",
   "id": "563acbe1-b2ba-4791-a7ea-09715b827796",
   "metadata": {},
   "source": [
    "# 예제 데이터"
   ]
  },
  {
   "cell_type": "markdown",
   "id": "0bd14a2d-13f9-4882-9235-99554255ac68",
   "metadata": {},
   "source": [
    "데이터 분석의 실습을 위해서는 예제 데이터가 필요하다. 이 책에서는 설명에 필요할 때마다 예제 데이터를 다운로드 받는 방법을 알려줄 것이다. 하지만 대부분의 데이터는 `rdataset` 파이썬 패키지를 이용하여 얻는다. "
   ]
  },
  {
   "cell_type": "code",
   "execution_count": null,
   "id": "8a7bbc4b-59f4-4772-985a-824cc1a15f5b",
   "metadata": {},
   "outputs": [],
   "source": []
  }
 ],
 "metadata": {
  "kernelspec": {
   "display_name": "Python 3",
   "language": "python",
   "name": "python3"
  },
  "language_info": {
   "codemirror_mode": {
    "name": "ipython",
    "version": 3
   },
   "file_extension": ".py",
   "mimetype": "text/x-python",
   "name": "python",
   "nbconvert_exporter": "python",
   "pygments_lexer": "ipython3",
   "version": "3.8.8"
  }
 },
 "nbformat": 4,
 "nbformat_minor": 5
}
