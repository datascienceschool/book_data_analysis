{
 "cells": [
  {
   "cell_type": "markdown",
   "id": "563acbe1-b2ba-4791-a7ea-09715b827796",
   "metadata": {},
   "source": [
    "# 예제 데이터"
   ]
  },
  {
   "cell_type": "markdown",
   "id": "0bd14a2d-13f9-4882-9235-99554255ac68",
   "metadata": {},
   "source": [
    "데이터 분석의 실습을 위해서는 예제 데이터가 필요하다. 이 책에서는 설명에 필요할 때마다 예제 데이터를 다운로드 받는 방법을 알려줄 것이다. 일부 데이터는 분석용 패키지에 미리 내장되어 있는 예제 데이터를 사용하기도 한다. 하지만 이 책에서 쓰는 대부분의 데이터는 다음 파이썬 패키지들을 이용하여 얻는다. \n",
    "\n",
    "* statsmodels\n",
    "* pandas-datareader\n",
    "\n",
    "이 절에서는 이러한 패키지들을 설치하고 사용하는 법을 설명한다."
   ]
  },
  {
   "cell_type": "markdown",
   "id": "8cfeaccd-8098-4c4b-bd1a-4d8a79828aca",
   "metadata": {},
   "source": [
    "## statsmodels 패키지"
   ]
  },
  {
   "cell_type": "markdown",
   "id": "a4f067c7-b297-455a-88b3-6c2b77e99d62",
   "metadata": {},
   "source": [
    "statsmodels에는 인터넷에서 rdatasets 데이터셋을 가져올 수 있는 명령어를 제공한다. rdatasets 데이터셋은 이름에서 볼 수 있듯이 원래는 다양한 R 언어용 패키지들에서 제공하는 데이터를 모아놓은 것이다. 다음 웹사이트에 데이터의 상세한 목록과 설명은 확인할 수 있다.\n",
    " \n",
    " * https://vincentarelbundock.github.io/Rdatasets/articles/data.html\n",
    " \n",
    " 다음 그림은 위 웹사이트의 화면을 보인 것이다. \n",
    " \n",
    " ![rdatasets](fig_rdatasets.png)\n",
    " \n",
    "이 화면의 표에서 가장 왼쪽의 \"Package\" 열과 \"Item\" 열에 주목해야 한다. \"Package\"는 해당 데이터를 포함하는 R 패키지 이름이고 \"Item\"은 그 패키지 내에서 해당 데이터를 가리키는 이름이다. 우리가 rdatasets 패키지에서 데이터를 선택할 때는 이 두가지 값을 이용하여 데이터를 지정한다. 예를 들어 두번째 데이터인 아르헨티나의 소비자 가격지수(Consumer Price Index in Argentina) 데이터를 지정할 때는 `\"AER\"`, `\"ArgentinaCPI\"` 문자열 쌍을 이용해야 한다. \n",
    "\n",
    "실제로 데이터를 가져오는 명령은 다음과 같다. 일단 `sm`이라는 별칭으로 statsmodels 패키지의 api 서브패키지를 임포트한다. "
   ]
  },
  {
   "cell_type": "code",
   "execution_count": 16,
   "id": "c2f6dda4-d9b8-46f0-b158-fd3366a246b8",
   "metadata": {},
   "outputs": [],
   "source": [
    "import statsmodels.api as sm"
   ]
  },
  {
   "cell_type": "markdown",
   "id": "a9f20a8e-197d-4671-a731-48bbbdc8fd18",
   "metadata": {},
   "source": [
    "다음으로 sm.datasets 서브패키지에 있는 `get_rdataset` 명령을 수행한다. 이 때 데이터 \"Item\" 이름과 \"Package\" 이름을 인수로 넣어준다. \"Item\"이 \"Package\"보다 앞에 온다는 점에 주의하라. 예를 들어 위에서 말한 \"AER\" 패키지의 \"ArgentinalCPI\" 데이터를 가져오려면 다음과 같이 주피터랩에 입력하면 된다. 데이터는 Pandas의 데이터프레임 형식으로 출력된다. 이 명령은 인터넷에서 데이터를 가져오는 명령이므로 컴퓨터가 인터넷에 연결되어 있어야 한다. "
   ]
  },
  {
   "cell_type": "code",
   "execution_count": 18,
   "id": "d9eddcca-24a5-4430-97ef-297f1dfd32f0",
   "metadata": {},
   "outputs": [
    {
     "data": {
      "text/html": [
       "<div>\n",
       "<style scoped>\n",
       "    .dataframe tbody tr th:only-of-type {\n",
       "        vertical-align: middle;\n",
       "    }\n",
       "\n",
       "    .dataframe tbody tr th {\n",
       "        vertical-align: top;\n",
       "    }\n",
       "\n",
       "    .dataframe thead th {\n",
       "        text-align: right;\n",
       "    }\n",
       "</style>\n",
       "<table border=\"1\" class=\"dataframe\">\n",
       "  <thead>\n",
       "    <tr style=\"text-align: right;\">\n",
       "      <th></th>\n",
       "      <th>time</th>\n",
       "      <th>value</th>\n",
       "    </tr>\n",
       "  </thead>\n",
       "  <tbody>\n",
       "    <tr>\n",
       "      <th>0</th>\n",
       "      <td>1970.00</td>\n",
       "      <td>1.010000e+00</td>\n",
       "    </tr>\n",
       "    <tr>\n",
       "      <th>1</th>\n",
       "      <td>1970.25</td>\n",
       "      <td>1.060000e+00</td>\n",
       "    </tr>\n",
       "    <tr>\n",
       "      <th>2</th>\n",
       "      <td>1970.50</td>\n",
       "      <td>1.130000e+00</td>\n",
       "    </tr>\n",
       "    <tr>\n",
       "      <th>3</th>\n",
       "      <td>1970.75</td>\n",
       "      <td>1.240000e+00</td>\n",
       "    </tr>\n",
       "    <tr>\n",
       "      <th>4</th>\n",
       "      <td>1971.00</td>\n",
       "      <td>1.330000e+00</td>\n",
       "    </tr>\n",
       "    <tr>\n",
       "      <th>...</th>\n",
       "      <td>...</td>\n",
       "      <td>...</td>\n",
       "    </tr>\n",
       "    <tr>\n",
       "      <th>75</th>\n",
       "      <td>1988.75</td>\n",
       "      <td>1.557700e+08</td>\n",
       "    </tr>\n",
       "    <tr>\n",
       "      <th>76</th>\n",
       "      <td>1989.00</td>\n",
       "      <td>2.031300e+08</td>\n",
       "    </tr>\n",
       "    <tr>\n",
       "      <th>77</th>\n",
       "      <td>1989.25</td>\n",
       "      <td>6.799600e+08</td>\n",
       "    </tr>\n",
       "    <tr>\n",
       "      <th>78</th>\n",
       "      <td>1989.50</td>\n",
       "      <td>4.537300e+09</td>\n",
       "    </tr>\n",
       "    <tr>\n",
       "      <th>79</th>\n",
       "      <td>1989.75</td>\n",
       "      <td>6.611700e+09</td>\n",
       "    </tr>\n",
       "  </tbody>\n",
       "</table>\n",
       "<p>80 rows × 2 columns</p>\n",
       "</div>"
      ],
      "text/plain": [
       "       time         value\n",
       "0   1970.00  1.010000e+00\n",
       "1   1970.25  1.060000e+00\n",
       "2   1970.50  1.130000e+00\n",
       "3   1970.75  1.240000e+00\n",
       "4   1971.00  1.330000e+00\n",
       "..      ...           ...\n",
       "75  1988.75  1.557700e+08\n",
       "76  1989.00  2.031300e+08\n",
       "77  1989.25  6.799600e+08\n",
       "78  1989.50  4.537300e+09\n",
       "79  1989.75  6.611700e+09\n",
       "\n",
       "[80 rows x 2 columns]"
      ]
     },
     "execution_count": 18,
     "metadata": {},
     "output_type": "execute_result"
    }
   ],
   "source": [
    "df = sm.datasets.get_rdataset(\"ArgentinaCPI\", \"AER\").data\n",
    "df"
   ]
  },
  {
   "cell_type": "code",
   "execution_count": null,
   "id": "b1b206b8-2049-4fea-be52-88486f3d3f0c",
   "metadata": {},
   "outputs": [],
   "source": []
  }
 ],
 "metadata": {
  "kernelspec": {
   "display_name": "Python 3",
   "language": "python",
   "name": "python3"
  },
  "language_info": {
   "codemirror_mode": {
    "name": "ipython",
    "version": 3
   },
   "file_extension": ".py",
   "mimetype": "text/x-python",
   "name": "python",
   "nbconvert_exporter": "python",
   "pygments_lexer": "ipython3",
   "version": "3.8.8"
  }
 },
 "nbformat": 4,
 "nbformat_minor": 5
}
