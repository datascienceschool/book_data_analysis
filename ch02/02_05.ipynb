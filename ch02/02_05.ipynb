{
 "cells": [
  {
   "cell_type": "code",
   "execution_count": 1,
   "id": "a490cc9a-c9e9-4baf-a427-a50fc7c7c434",
   "metadata": {
    "tags": [
     "remove-cell"
    ]
   },
   "outputs": [],
   "source": [
    "%load_ext tikzmagic\n",
    "%matplotlib inline"
   ]
  },
  {
   "cell_type": "markdown",
   "id": "8c639cf3-5411-4b28-9315-374666ce3de8",
   "metadata": {},
   "source": [
    "# 최대사후확률 모수추정법"
   ]
  },
  {
   "cell_type": "markdown",
   "id": "7a7540c0-5b3d-4f62-a104-498b2fd84965",
   "metadata": {},
   "source": [
    "MAP(Maximum A Posteria)"
   ]
  },
  {
   "cell_type": "code",
   "execution_count": null,
   "id": "fe24d15b-1a7f-4801-89fa-555715cd8443",
   "metadata": {},
   "outputs": [],
   "source": []
  }
 ],
 "metadata": {
  "kernelspec": {
   "display_name": "Python 3 (ipykernel)",
   "language": "python",
   "name": "python3"
  },
  "language_info": {
   "codemirror_mode": {
    "name": "ipython",
    "version": 3
   },
   "file_extension": ".py",
   "mimetype": "text/x-python",
   "name": "python",
   "nbconvert_exporter": "python",
   "pygments_lexer": "ipython3",
   "version": "3.10.5"
  }
 },
 "nbformat": 4,
 "nbformat_minor": 5
}
