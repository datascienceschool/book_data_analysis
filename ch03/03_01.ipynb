{
 "cells": [
  {
   "cell_type": "code",
   "execution_count": 1,
   "id": "f26b3f7c-c563-4b90-a1c4-3a8c150f1ede",
   "metadata": {
    "tags": [
     "remove-cell"
    ]
   },
   "outputs": [],
   "source": [
    "%load_ext tikzmagic\n",
    "%matplotlib inline"
   ]
  },
  {
   "cell_type": "markdown",
   "id": "42dc79a7-47f3-4ad7-be0d-161007c4e85f",
   "metadata": {},
   "source": [
    "# 회귀분석이란"
   ]
  },
  {
   "cell_type": "markdown",
   "id": "d937bda3-4f46-4c27-972f-3ed6367667d5",
   "metadata": {},
   "source": [
    "어떤 수치형 변수의 값이 다른 변수의 값에 의해 어떻게 영향을 받는지를 분석하는 방법을 <b>회귀분석(regression analysis)</b>이라고 한다. \n",
    "\n",
    "회귀분석을 하려면 영향을 주는 변수들과 영향을 받는 변수가 무엇인지를 결정해야 한다. 회귀분석에서 분석의 대상이 되는 수치형 변수를 <b>종속변수(independent variable)</b>라 하고 그 종속변수에 영향을 주는 다른 변수들을 <b>독립변수(dependent variable)</b>라 한다. 보통 종속변수는 $y$ 기호로 나타내고 독립변수는 $x$ 기호로 나타낸다. 독립변수가 여러개 있을 때는 $x_1, x_2, \\ldots, x_K$ 등으로 아랫첨자를 이용하여 표시한다.\n",
    "\n",
    "회귀분석에서 종속변수와 독립변수의 관계는 다음과 같은 다이어그램으로 표현할 수 있다. 화살표는 변수간의 관계를 나타내는 것으로 독립변수에서 종속변수를 향하는 방향으로 그린다. "
   ]
  },
  {
   "cell_type": "code",
   "execution_count": 2,
   "id": "ba8e296a-c8c2-43af-8e5f-7d43a66e474d",
   "metadata": {
    "tags": [
     "remove-input"
    ]
   },
   "outputs": [
    {
     "data": {
      "image/png": "[encoded data removed]"
     },
     "metadata": {},
     "output_type": "display_data"
    }
   ],
   "source": [
    "%%tikz\n",
    "\\node[draw,circle] (x1) at (0,2) {$x_1$};\n",
    "\\node[draw,circle] (x2) at (0,1) {$x_2$};\n",
    "\\node[draw,circle] (x3) at (0,0) {$x_3$};\n",
    "\\node[draw,circle] (y) at (2,1) {$y$};\n",
    "\\draw[->] (x1)--(y);\n",
    "\\draw[->] (x2)--(y);\n",
    "\\draw[->] (x3)--(y);"
   ]
  },
  {
   "cell_type": "markdown",
   "id": "3a95c7f4-9a6e-42a3-a6fe-c06031cd6f30",
   "metadata": {},
   "source": [
    "## 회귀분석 문제의 예"
   ]
  },
  {
   "cell_type": "markdown",
   "id": "761ebd6e-65bf-4987-a3d1-4163383a8241",
   "metadata": {},
   "source": [
    "다음 데이터는 1940년부터 1950년까지의 미국 전체의 소득(income)과 지출(expenditure) 데이터다. 테이블에서 하나의 레코드는 하나의 연도(year)를 나타낸다. war 열은 전쟁이 있던 연도에는 1, 그렇지 않은 연도에는 0인 값이다."
   ]
  },
  {
   "cell_type": "code",
   "execution_count": 3,
   "id": "90bae647-80ef-4674-8e01-2105192c3d62",
   "metadata": {},
   "outputs": [
    {
     "data": {
      "text/html": [
       "<div>\n",
       "<style scoped>\n",
       "    .dataframe tbody tr th:only-of-type {\n",
       "        vertical-align: middle;\n",
       "    }\n",
       "\n",
       "    .dataframe tbody tr th {\n",
       "        vertical-align: top;\n",
       "    }\n",
       "\n",
       "    .dataframe thead th {\n",
       "        text-align: right;\n",
       "    }\n",
       "</style>\n",
       "<table border=\"1\" class=\"dataframe\">\n",
       "  <thead>\n",
       "    <tr style=\"text-align: right;\">\n",
       "      <th></th>\n",
       "      <th>income</th>\n",
       "      <th>expenditure</th>\n",
       "      <th>war</th>\n",
       "    </tr>\n",
       "  </thead>\n",
       "  <tbody>\n",
       "    <tr>\n",
       "      <th>0</th>\n",
       "      <td>241</td>\n",
       "      <td>226</td>\n",
       "      <td>0</td>\n",
       "    </tr>\n",
       "    <tr>\n",
       "      <th>1</th>\n",
       "      <td>280</td>\n",
       "      <td>240</td>\n",
       "      <td>0</td>\n",
       "    </tr>\n",
       "    <tr>\n",
       "      <th>2</th>\n",
       "      <td>319</td>\n",
       "      <td>235</td>\n",
       "      <td>1</td>\n",
       "    </tr>\n",
       "    <tr>\n",
       "      <th>3</th>\n",
       "      <td>331</td>\n",
       "      <td>245</td>\n",
       "      <td>1</td>\n",
       "    </tr>\n",
       "    <tr>\n",
       "      <th>4</th>\n",
       "      <td>345</td>\n",
       "      <td>255</td>\n",
       "      <td>1</td>\n",
       "    </tr>\n",
       "    <tr>\n",
       "      <th>5</th>\n",
       "      <td>340</td>\n",
       "      <td>265</td>\n",
       "      <td>1</td>\n",
       "    </tr>\n",
       "    <tr>\n",
       "      <th>6</th>\n",
       "      <td>332</td>\n",
       "      <td>295</td>\n",
       "      <td>0</td>\n",
       "    </tr>\n",
       "    <tr>\n",
       "      <th>7</th>\n",
       "      <td>320</td>\n",
       "      <td>300</td>\n",
       "      <td>0</td>\n",
       "    </tr>\n",
       "    <tr>\n",
       "      <th>8</th>\n",
       "      <td>339</td>\n",
       "      <td>305</td>\n",
       "      <td>0</td>\n",
       "    </tr>\n",
       "    <tr>\n",
       "      <th>9</th>\n",
       "      <td>338</td>\n",
       "      <td>315</td>\n",
       "      <td>0</td>\n",
       "    </tr>\n",
       "    <tr>\n",
       "      <th>10</th>\n",
       "      <td>371</td>\n",
       "      <td>325</td>\n",
       "      <td>0</td>\n",
       "    </tr>\n",
       "  </tbody>\n",
       "</table>\n",
       "</div>"
      ],
      "text/plain": [
       "    income  expenditure  war\n",
       "0      241          226    0\n",
       "1      280          240    0\n",
       "2      319          235    1\n",
       "3      331          245    1\n",
       "4      345          255    1\n",
       "5      340          265    1\n",
       "6      332          295    0\n",
       "7      320          300    0\n",
       "8      339          305    0\n",
       "9      338          315    0\n",
       "10     371          325    0"
      ]
     },
     "execution_count": 3,
     "metadata": {},
     "output_type": "execute_result"
    }
   ],
   "source": [
    "import statsmodels.api as sm\n",
    "\n",
    "df = sm.datasets.get_rdataset(\"USConsump1950\", \"AER\").data\n",
    "df"
   ]
  },
  {
   "cell_type": "markdown",
   "id": "e9adc291-0976-49d3-97c2-6a3475c681ab",
   "metadata": {},
   "source": [
    "이 데이터를 다음과 같이 소득을 가로축으로 하고 지출을 세로축으로 한 스캐터플롯(scatter plot)으로 표시하자. 이 그래프에서는 하나의 점이 하나의 연도 즉, 하나의 레코드를 표시한다. "
   ]
  },
  {
   "cell_type": "code",
   "execution_count": 4,
   "id": "a4ae4113-2ab1-4ff2-87b4-9419b43e4d9f",
   "metadata": {},
   "outputs": [
    {
     "data": {
      "image/png": "[encoded data removed]",
      "text/plain": [
       "<Figure size 432x288 with 1 Axes>"
      ]
     },
     "metadata": {
      "needs_background": "light"
     },
     "output_type": "display_data"
    }
   ],
   "source": [
    "import seaborn as sns\n",
    "\n",
    "sns.scatterplot(data=df, x=\"income\", y=\"expenditure\", style=\"war\")\n",
    "plt.show()"
   ]
  },
  {
   "cell_type": "markdown",
   "id": "15e842d8-5cf9-4686-ade2-12d5b1838a77",
   "metadata": {},
   "source": [
    "이 그래프를 보면 소득이 증가한 경우에는 지출도 같이 증가하는 것처럼 보인다. 또한 우측 하단의 데이터로부터 전쟁이 있는 경우에는 지출이 하락하는 것을 볼 수 있다. 따라서 다음과 같은 회귀분석 문제를 생각할 수 있다. \n",
    "\n",
    "* 독립변수 : 소득, 전쟁여부\n",
    "* 종속변수 : 지출\n",
    "\n",
    "우리는 소득과 전쟁여부가 지출에 주는 영향을 분석하는 회귀분석을 통해 다음과 같은 질문에 대한 답을 얻을 수 있다. \n",
    "\n",
    "* 소득이 증가할 때 정말 지출이 증가하는가?\n",
    "* 소득이 단위소득(1)만큼 증가할 때 지출은 어느정도 증가하는가?\n",
    "* 전쟁이 있을 경우와 없을 경우 지출이 달라지는가?\n",
    "* 전쟁이 있을 경우와 없을 경우 어느정도 지출이 달라지는가?\n",
    "\n"
   ]
  },
  {
   "cell_type": "markdown",
   "id": "89b84ed2-e3ec-45ae-80da-79ad4694e10b",
   "metadata": {},
   "source": [
    "## 회귀분석의 예"
   ]
  },
  {
   "cell_type": "markdown",
   "id": "f443c491-715a-46cf-8437-f88bda0e1093",
   "metadata": {},
   "source": [
    "위와 같은 회귀분석 문제는 여러가지 방법으로 풀 수 있다. 다음은 선형회귀분석이라는 방법으로 위 문제를 푸는 코드를 보여주고 있다. \n",
    "문제를 풀면 코드의 출력과 같은 형식의 정보가 표시된다. 회귀분석 문제를 푼다는 것은 이 정보를 제대로 읽고 해석하는 과정을 포함한다."
   ]
  },
  {
   "cell_type": "code",
   "execution_count": 5,
   "id": "68bd5907-20b3-4b6a-87a3-e46a97baf2b7",
   "metadata": {},
   "outputs": [
    {
     "name": "stdout",
     "output_type": "stream",
     "text": [
      "                            OLS Regression Results                            \n",
      "==============================================================================\n",
      "Dep. Variable:            expenditure   R-squared:                       0.946\n",
      "Model:                            OLS   Adj. R-squared:                  0.933\n",
      "Method:                 Least Squares   F-statistic:                     70.61\n",
      "Date:                Sun, 12 Jun 2022   Prob (F-statistic):           8.26e-06\n",
      "Time:                        15:08:05   Log-Likelihood:                -38.263\n",
      "No. Observations:                  11   AIC:                             82.53\n",
      "Df Residuals:                       8   BIC:                             83.72\n",
      "Df Model:                           2                                         \n",
      "Covariance Type:            nonrobust                                         \n",
      "===============================================================================\n",
      "                  coef    std err          t      P>|t|      [0.025      0.975]\n",
      "-------------------------------------------------------------------------------\n",
      "Intercept      14.4954     27.299      0.531      0.610     -48.457      77.448\n",
      "C(war)[T.1]   -50.6897      5.932     -8.545      0.000     -64.370     -37.010\n",
      "income          0.8575      0.085     10.048      0.000       0.661       1.054\n",
      "==============================================================================\n",
      "Omnibus:                        0.196   Durbin-Watson:                   2.574\n",
      "Prob(Omnibus):                  0.907   Jarque-Bera (JB):                0.381\n",
      "Skew:                          -0.032   Prob(JB):                        0.827\n",
      "Kurtosis:                       2.091   Cond. No.                     3.20e+03\n",
      "==============================================================================\n",
      "\n",
      "Notes:\n",
      "[1] Standard Errors assume that the covariance matrix of the errors is correctly specified.\n",
      "[2] The condition number is large, 3.2e+03. This might indicate that there are\n",
      "strong multicollinearity or other numerical problems.\n"
     ]
    }
   ],
   "source": [
    "import statsmodels.formula.api as smf\n",
    "\n",
    "m = smf.ols('expenditure ~ income + C(war)', data=df)\n",
    "r = m.fit()\n",
    "print(r.summary())"
   ]
  },
  {
   "cell_type": "markdown",
   "id": "aba8839f-e8f4-40ae-8404-f0f1486c0f8f",
   "metadata": {},
   "source": [
    "위 회귀분석 결과를 해석하면 다음과 같은 결론을 얻을 수 있다. \n",
    "\n",
    "* 소득이 증가할 때 정말 지출도 증가한다.\n",
    "* 소득이 단위소득(1)만큼 증가할 때 지출은 약 0.9 정도 증가한다.\n",
    "* 전쟁이 있을 경우 지출은 감소한다.\n",
    "* 전쟁이 있을 경우 지출은 약 51 정도 감소한다.\n",
    "\n",
    "위 결과에서 이 정보를 읽고 해석하는 방법은 다음 절부터 차근차근 설명하도록 한다. \n",
    "\n",
    "또한 이 분석이 제대로 된 분석인지 아닌지, 그리고 더 좋은 분석을 수행하려면 어떻게 해야 하는지도 같이 설명한다."
   ]
  }
 ],
 "metadata": {
  "kernelspec": {
   "display_name": "Python 3 (ipykernel)",
   "language": "python",
   "name": "python3"
  },
  "language_info": {
   "codemirror_mode": {
    "name": "ipython",
    "version": 3
   },
   "file_extension": ".py",
   "mimetype": "text/x-python",
   "name": "python",
   "nbconvert_exporter": "python",
   "pygments_lexer": "ipython3",
   "version": "3.10.5"
  }
 },
 "nbformat": 4,
 "nbformat_minor": 5
}
