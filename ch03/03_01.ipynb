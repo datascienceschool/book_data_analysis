{
 "cells": [
  {
   "cell_type": "markdown",
   "id": "081a8aab-68e9-4a35-aa1a-9413bbf2dbbb",
   "metadata": {},
   "source": [
    "# 데이터베이스 시스템 및 도구의 설치"
   ]
  },
  {
   "cell_type": "markdown",
   "id": "a67874cd-59db-4d46-bbda-e9f6ade49988",
   "metadata": {},
   "source": [
    "## 포스트그레스 설치 및 사용"
   ]
  },
  {
   "cell_type": "markdown",
   "id": "0ee0be73-27ca-470c-a0c8-6cfa70ebb029",
   "metadata": {},
   "source": [
    "이 책에서는 관계형 데이터베이스 시스템으로 무료 오픈소스인 포스트그레스를 사용한다. 설치를 위해서 다음 웹사이트를 방문한다.\n",
    "\n",
    "* https://www.postgresql.org/download/\n",
    "\n",
    "해당 웹사이트로 가면 운영체제별로 자세한 설치 방법이 나온다. 윈도우즈나 맥의 경우는 인스톨러를 지원하므로 해당 인스톨러를 다운로드 받아서 실행하기만 하면 된다. "
   ]
  },
  {
   "cell_type": "markdown",
   "id": "6f9e0690-dcd9-4977-ae2d-64d2b0832d81",
   "metadata": {},
   "source": [
    "포스트그레스가 정상적으로 설치되었다면 커맨드라인 윈도우에서 다음과 같이 실행하여 `psql` 포스트그레스 콘솔 클라이언트를 사용할 수 있다. \n",
    "\n",
    "```\n",
    "psql -U postgres\n",
    "```\n",
    "\n",
    "클라이언트가 정상적으로 실행된다면 다음과 같은 화면이 나올 것이다. \n",
    "\n",
    "```\n",
    "psql (13.4)\n",
    "Type \"help\" for help.\n",
    "\n",
    "postgres=# \n",
    "```\n",
    "\n",
    "이 화면에서 데이터베이스 시스템의 제어 및 SQL문의 사용이 가능하다. `\\q` 명령으로 나갈 수 있다. "
   ]
  },
  {
   "cell_type": "markdown",
   "id": "738832a4-5ab2-42ce-9d7a-b9ca88a0dc0d",
   "metadata": {},
   "source": [
    "## 디비버 설치"
   ]
  },
  {
   "cell_type": "markdown",
   "id": "8bfeda15-122d-4d01-b0db-748210a0f8e3",
   "metadata": {},
   "source": [
    "`psql` 콘솔 클라이언트로도 데이터베이스를 다루는 것이 가능하지만 디비버(DBeaver)와 같은 통합 데이터베이스 클라이언트를 사용하면 좀 더 편리하게 데이터베이스를 다룰 수 있다. \n",
    "디비버를 설치하려면 다음 웹사이트를 방문하여 원하는 운영체제의 인스톨러를 다운로드 받아서 실행한다.\n",
    "\n",
    "* https://dbeaver.io/download/\n",
    "\n"
   ]
  }
 ],
 "metadata": {
  "kernelspec": {
   "display_name": "Python 3",
   "language": "python",
   "name": "python3"
  },
  "language_info": {
   "codemirror_mode": {
    "name": "ipython",
    "version": 3
   },
   "file_extension": ".py",
   "mimetype": "text/x-python",
   "name": "python",
   "nbconvert_exporter": "python",
   "pygments_lexer": "ipython3",
   "version": "3.8.8"
  }
 },
 "nbformat": 4,
 "nbformat_minor": 5
}
